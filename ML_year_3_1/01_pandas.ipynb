{
 "cells": [
  {
   "cell_type": "markdown",
   "metadata": {
    "id": "HcF9My_FhLuk"
   },
   "source": [
    "## Машинное обучение 1, ПМИ ФКН ВШЭ\n",
    "\n",
    "## Практическое домашнее задание 1\n",
    "\n",
    "### Общая информация\n",
    "\n",
    "Дата выдачи: 11.09.2021\n",
    "\n",
    "Мягкий дедлайн: 23:59MSK 25.09.2021\n",
    "\n",
    "Жесткий дедлайн: 23:59MSK 28.09.2021"
   ]
  },
  {
   "cell_type": "markdown",
   "metadata": {
    "id": "G64TptyJhLuo"
   },
   "source": [
    "### О задании\n",
    "\n",
    "Задание состоит из двух разделов, посвященных работе с табличными данными с помощью библиотеки pandas и визуализации с помощью matplotlib. В первом разделе вам предстоит выполнить базовые задания с помощью вышеуказанных библиотек, а во втором распределить студентов по курсам. Баллы даются за выполнение отдельных пунктов. Задачи в рамках одного раздела рекомендуется решать в том порядке, в котором они даны в задании.\n",
    "\n",
    "Задание направлено на освоение jupyter notebook (будет использоваться в дальнейших заданиях), библиотек pandas и matplotlib.\n",
    "\n",
    "### Оценивание и штрафы\n",
    "Каждая из задач имеет определенную «стоимость» (указана в скобках около задачи). Максимально допустимая оценка за работу — 10 баллов.\n",
    "\n",
    "Сдавать задание после жёсткого дедлайна нельзя. При выставлении неполного балла за задание в связи с наличием ошибок на усмотрение проверяющего предусмотрена возможность исправить работу на указанных в ответном письме условиях.\n",
    "\n",
    "Задание выполняется самостоятельно. «Похожие» решения считаются плагиатом и все задействованные студенты (в том числе те, у кого списали) не могут получить за него больше 0 баллов (подробнее о плагиате см. на странице курса). Если вы нашли решение какого-то из заданий (или его часть) в открытом источнике, необходимо указать ссылку на этот источник (скорее всего вы будете не единственным, кто это нашел, поэтому чтобы исключить подозрение в плагиате, необходима ссылка на источник).\n",
    "\n",
    "### Формат сдачи\n",
    "Задания сдаются через систему Anytask. Инвайт можно получить у семинариста или ассистента. Присылать необходимо ноутбук с выполненным заданием. Сам ноутбук называйте в формате homework-practice-01-pandas-Username.ipynb, где Username — ваша фамилия.\n",
    "\n",
    "Для удобства проверки самостоятельно посчитайте свою максимальную оценку (исходя из набора решенных задач) и укажите ниже.\n",
    "\n",
    "Оценка: 10."
   ]
  },
  {
   "cell_type": "markdown",
   "metadata": {
    "id": "BaXlfHE_hLup"
   },
   "source": [
    "## 0. Введение"
   ]
  },
  {
   "cell_type": "markdown",
   "metadata": {
    "id": "wirAvJNxhLup"
   },
   "source": [
    "Сейчас мы находимся в jupyter-ноутбуке (или ipython-ноутбуке). Это удобная среда для написания кода, проведения экспериментов, изучения данных, построения визуализаций и других нужд, не связанных с написанием production-кода. \n",
    "\n",
    "Ноутбук состоит из ячеек, каждая из которых может быть либо ячейкой с кодом, либо ячейкой с текстом размеченным и неразмеченным. Текст поддерживает markdown-разметку и формулы в Latex.\n",
    "\n",
    "Для работы с содержимым ячейки используется *режим редактирования* (*Edit mode*, включается нажатием клавиши **Enter** после выбора ячейки), а для навигации между ячейками искользуется *командный режим* (*Command mode*, включается нажатием клавиши **Esc**). Тип ячейки можно задать в командном режиме либо с помощью горячих клавиш (**y** to code, **m** to markdown, **r** to edit raw text), либо в меню *Cell -> Cell type*. \n",
    "\n",
    "После заполнения ячейки нужно нажать *Shift + Enter*, эта команда обработает содержимое ячейки: проинтерпретирует код или сверстает размеченный текст."
   ]
  },
  {
   "cell_type": "code",
   "execution_count": 55,
   "metadata": {
    "id": "aQ2_j3nkhLuq"
   },
   "outputs": [
    {
     "data": {
      "text/plain": [
       "4"
      ]
     },
     "execution_count": 55,
     "metadata": {},
     "output_type": "execute_result"
    }
   ],
   "source": [
    "# ячейка с кодом, при выполнении которой появится output\n",
    "2 + 2"
   ]
  },
  {
   "cell_type": "markdown",
   "metadata": {
    "id": "ZlulCwVKhLur"
   },
   "source": [
    "Ячейка с неразмеченыным текстом."
   ]
  },
  {
   "cell_type": "markdown",
   "metadata": {
    "id": "A4wkVlIehLur"
   },
   "source": [
    "Попробуйте создать свои ячейки, написать какой-нибудь код и текст какой-нибудь формулой."
   ]
  },
  {
   "cell_type": "code",
   "execution_count": 56,
   "metadata": {
    "id": "BIuaYSvqhLus"
   },
   "outputs": [
    {
     "name": "stdout",
     "output_type": "stream",
     "text": [
      "some code here: 7 apples\n"
     ]
    }
   ],
   "source": [
    "print(f'some code here: {4 + 5 - 2} apples')"
   ]
  },
  {
   "cell_type": "markdown",
   "metadata": {
    "id": "iWs6ljrIhLus"
   },
   "source": [
    "[Здесь](https://athena.brynmawr.edu/jupyter/hub/dblank/public/Jupyter%20Notebook%20Users%20Manual.ipynb) находится <s>не</s>большая заметка о используемом языке разметки Markdown. Он позволяет:\n",
    "\n",
    "0. Составлять упорядоченные списки\n",
    "1. Выделять *текст* <s>при</s> **необходимости**\n",
    "2. Добавлять [ссылки](http://imgs.xkcd.com/comics/the_universal_label.png)\n",
    "\n",
    "\n",
    "* Составлять неупорядоченные списки\n",
    "\n",
    "Делать вставки с помощью LaTex:\n",
    "    \n",
    "$\n",
    "\\left\\{\n",
    "\\begin{array}{ll}\n",
    "x = 16 \\sin^3 (t) \\\\ \n",
    "y = 13 \\cos (t) - 5 \\cos (2t) - 2 \\cos (3t) - \\cos (4t) \\\\\n",
    "t \\in [0, 2 \\pi]\n",
    "\\end{array}\n",
    "\\right.$"
   ]
  },
  {
   "cell_type": "markdown",
   "metadata": {
    "id": "6fmTGcXOhLus"
   },
   "source": [
    "А ещё можно вставлять картинки, или гифки, или что захотите:\n",
    "\n",
    "<img src=\"https://media1.tenor.com/images/9b8fbe9214504bcf6c60fe4e4f7e114e/tenor.gif?itemid=5416416\" style=\"width: 400px\">"
   ]
  },
  {
   "cell_type": "markdown",
   "metadata": {
    "id": "J_toGw7DhLut"
   },
   "source": [
    "### Google Colab"
   ]
  },
  {
   "cell_type": "markdown",
   "metadata": {
    "id": "jpkbCVjGhLut"
   },
   "source": [
    "Что за колаб? \n",
    "\n",
    "**Google Colab (Colaboratory)** это **Jupyter Notebook + Cloud + Google Drive.**\n",
    "\n",
    "Компания Google предоставляет возможность бесплатно запускать ноутбуки (предварительно загрузив их на свой гугл-диск) прямо в облаке. При этом вам не требуется установка никаких пакетов на свою машину, а работать можно прямиком из браузера. Вот ссылка:"
   ]
  },
  {
   "cell_type": "markdown",
   "metadata": {
    "id": "06MQog3yhLut"
   },
   "source": [
    "https://colab.research.google.com"
   ]
  },
  {
   "cell_type": "markdown",
   "metadata": {
    "id": "5_hfWXKPhLut"
   },
   "source": [
    "При использовании вы увидете много сходств с jupyter ноутбуком. Одним из преимуществ является доступность GPU, соответствующую опцию можно активировать в настройках сервиса. При желании вы сможете найти в интернете много туториалов по использованию или разобраться самостоятельно =)"
   ]
  },
  {
   "cell_type": "markdown",
   "metadata": {
    "id": "sUe2vnFGhLuu"
   },
   "source": [
    "## 1. Табличные данные и Pandas"
   ]
  },
  {
   "cell_type": "markdown",
   "metadata": {
    "id": "DJQzjjqJhLuu"
   },
   "source": [
    "Pandas — удобная библиотека для работы с табличными данными в Python, если данных не слишком много и они помещаются в оперативную память вашего компьютера. Несмотря на неэффективность реализации и некоторые проблемы, библиотека стала стандартом в анализе данных.\n",
    "\n",
    "Основной объект в pandas — это DataFrame, представляющий собой таблицу с именованными колонками различных типов, индексом (может быть многоуровневым). DataFrame можно создавать, считывая таблицу из файла или задавая вручную из других объектов.\n",
    "\n",
    "В этой части потребуется выполнить несколько небольших заданий. Можно пойти двумя путями: сначала изучить материалы, а потом приступить к заданиям, или же разбираться \"по ходу\". Выбирайте сами.\n",
    "\n",
    "Материалы:\n",
    "1. [Pandas за 10 минут из официального руководства](http://pandas.pydata.org/pandas-docs/stable/10min.html)\n",
    "2. [Документация](http://pandas.pydata.org/pandas-docs/stable/index.html) (стоит обращаться, если не понятно, как вызывать конкретный метод)\n",
    "3. [Примеры использования функционала](http://nbviewer.jupyter.org/github/justmarkham/pandas-videos/blob/master/pandas.ipynb)\n",
    "\n",
    "Многие из заданий можно выполнить несколькими способами. Не существуют единственно верного, но попробуйте максимально задействовать арсенал pandas и ориентируйтесь на простоту и понятность вашего кода. Мы не будем подсказывать, что нужно использовать для решения конкретной задачи, попробуйте находить необходимый функционал сами (название метода чаще всего очевидно). В помощь вам документация, поиск и stackoverflow."
   ]
  },
  {
   "cell_type": "code",
   "execution_count": 57,
   "metadata": {
    "id": "26zbFY25hLuv",
    "outputId": "404c22c6-2696-48ab-c71e-7a3ffbc36b18"
   },
   "outputs": [
    {
     "name": "stdout",
     "output_type": "stream",
     "text": [
      "Populating the interactive namespace from numpy and matplotlib\n"
     ]
    }
   ],
   "source": [
    "%pylab inline\n",
    "import pandas as pd"
   ]
  },
  {
   "cell_type": "markdown",
   "metadata": {
    "id": "dneJl9TyhLuv"
   },
   "source": [
    "Скачаем данные:"
   ]
  },
  {
   "cell_type": "code",
   "execution_count": 58,
   "metadata": {
    "id": "rj_I0RslhLuw"
   },
   "outputs": [],
   "source": [
    "!wget  -O 'end_seminar.xlsx' -q 'https://www.dropbox.com/s/f4rm8sjc3v99p0m/_end_seminar.xlsx?dl=0'"
   ]
  },
  {
   "cell_type": "markdown",
   "metadata": {
    "id": "5hp7bn_ThLuw"
   },
   "source": [
    "Для пользователей Windows: скачайте файл самостоятельно и поместите его в папку с тетрадкой. Или попробуйте один из следующих вариантов:"
   ]
  },
  {
   "cell_type": "code",
   "execution_count": 59,
   "metadata": {
    "id": "4h4_BaX8hLuw"
   },
   "outputs": [],
   "source": [
    "# !powershell iwr -outf somefile https://somesite/somefile"
   ]
  },
  {
   "cell_type": "code",
   "execution_count": 60,
   "metadata": {
    "id": "7bHroLGChLuw"
   },
   "outputs": [],
   "source": [
    "# !pip install wget\n",
    "# import wget \n",
    "# wget.download('https://dropbox.com/s/f4rm8sjc3v99p0m/_end_seminar.xlsx?dl=1', 'end_seminar.xlsx')"
   ]
  },
  {
   "cell_type": "markdown",
   "metadata": {
    "id": "VFs_6IythLux"
   },
   "source": [
    "##### В первой части задания (до раздела \"Распределение студентов по курсам\") использование циклов запрещается и повлечет за собой снижение оценки. Использование <code>vectorize</code> и  <code>apply</code>, <code>apply_along_axis</code> крайне нежелательно."
   ]
  },
  {
   "cell_type": "markdown",
   "metadata": {
    "id": "shFkfJkohLux"
   },
   "source": [
    "Для каждой задачи из этого раздела вы должны написать код для получения ответа, а также дать текстовый ответ, если он предполагается.\n",
    "\n",
    "На некоторые вопросы вы можете получить путём пристального взгляда на таблицу, но это не будет засчитываться. Вы в любом случае должны получить ответ с помощью кода."
   ]
  },
  {
   "cell_type": "markdown",
   "metadata": {
    "id": "gDD85M7bhLux"
   },
   "source": [
    "#### 1. [0 баллов] Откройте файл с таблицей (не забудьте про её формат). Выведите последние 10 строк.\n",
    "\n",
    "Посмотрите на данные и скажите, что они из себя представляют, сколько в таблице строк, какие столбцы? (на это не надо отвечать, просто подумайте об этом)"
   ]
  },
  {
   "cell_type": "code",
   "execution_count": 62,
   "metadata": {
    "id": "PKulur3LhLuy"
   },
   "outputs": [
    {
     "data": {
      "text/html": [
       "<div>\n",
       "<style scoped>\n",
       "    .dataframe tbody tr th:only-of-type {\n",
       "        vertical-align: middle;\n",
       "    }\n",
       "\n",
       "    .dataframe tbody tr th {\n",
       "        vertical-align: top;\n",
       "    }\n",
       "\n",
       "    .dataframe thead th {\n",
       "        text-align: right;\n",
       "    }\n",
       "</style>\n",
       "<table border=\"1\" class=\"dataframe\">\n",
       "  <thead>\n",
       "    <tr style=\"text-align: right;\">\n",
       "      <th></th>\n",
       "      <th>timestamp</th>\n",
       "      <th>rating</th>\n",
       "      <th>18_group</th>\n",
       "      <th>is_mi</th>\n",
       "      <th>fall_1</th>\n",
       "      <th>fall_2</th>\n",
       "      <th>fall_3</th>\n",
       "      <th>spring_1</th>\n",
       "      <th>spring_2</th>\n",
       "      <th>spring_3</th>\n",
       "      <th>is_first_time</th>\n",
       "      <th>percentile</th>\n",
       "      <th>17_group</th>\n",
       "      <th>blended</th>\n",
       "      <th>is_ml_student</th>\n",
       "    </tr>\n",
       "    <tr>\n",
       "      <th>id</th>\n",
       "      <th></th>\n",
       "      <th></th>\n",
       "      <th></th>\n",
       "      <th></th>\n",
       "      <th></th>\n",
       "      <th></th>\n",
       "      <th></th>\n",
       "      <th></th>\n",
       "      <th></th>\n",
       "      <th></th>\n",
       "      <th></th>\n",
       "      <th></th>\n",
       "      <th></th>\n",
       "      <th></th>\n",
       "      <th></th>\n",
       "    </tr>\n",
       "  </thead>\n",
       "  <tbody>\n",
       "    <tr>\n",
       "      <th>8fe79f84f36e3a5d2d6745621321302c</th>\n",
       "      <td>2020-05-18 23:58:33.903</td>\n",
       "      <td>1016</td>\n",
       "      <td>NaN</td>\n",
       "      <td>NaN</td>\n",
       "      <td>Безопасность компьютерных систем</td>\n",
       "      <td>Высокопроизводительные вычисления</td>\n",
       "      <td>Сбор и обработка данных с помощью краудсорсинга</td>\n",
       "      <td>Конфликты и кооперация</td>\n",
       "      <td>Проектирование и разработка высоконагруженных ...</td>\n",
       "      <td>Символьные вычисления</td>\n",
       "      <td>Да</td>\n",
       "      <td>0.942029</td>\n",
       "      <td>174.0</td>\n",
       "      <td>DevOps</td>\n",
       "      <td>NaN</td>\n",
       "    </tr>\n",
       "    <tr>\n",
       "      <th>f93afd8e92c336b471aa3bbbc579aefe</th>\n",
       "      <td>2020-05-18 23:59:20.831</td>\n",
       "      <td>1298</td>\n",
       "      <td>NaN</td>\n",
       "      <td>NaN</td>\n",
       "      <td>Высокопроизводительные вычисления</td>\n",
       "      <td>Сбор и обработка данных с помощью краудсорсинга</td>\n",
       "      <td>Statistical Learning Theory</td>\n",
       "      <td>Методы сжатия и передачи медиаданных</td>\n",
       "      <td>Проектирование и разработка высоконагруженных ...</td>\n",
       "      <td>Конфликты и кооперация</td>\n",
       "      <td>Да</td>\n",
       "      <td>0.057971</td>\n",
       "      <td>175.0</td>\n",
       "      <td>DevOps</td>\n",
       "      <td>NaN</td>\n",
       "    </tr>\n",
       "    <tr>\n",
       "      <th>9963fc00d9405a35b894cc04a7e19855</th>\n",
       "      <td>2020-05-18 23:59:28.998</td>\n",
       "      <td>1135</td>\n",
       "      <td>NaN</td>\n",
       "      <td>NaN</td>\n",
       "      <td>Безопасность компьютерных систем</td>\n",
       "      <td>Высокопроизводительные вычисления</td>\n",
       "      <td>Безопасность компьютерных систем</td>\n",
       "      <td>Проектирование и разработка высоконагруженных ...</td>\n",
       "      <td>Методы сжатия и передачи медиаданных</td>\n",
       "      <td>Символьные вычисления</td>\n",
       "      <td>Да</td>\n",
       "      <td>0.572464</td>\n",
       "      <td>175.0</td>\n",
       "      <td>DevOps</td>\n",
       "      <td>NaN</td>\n",
       "    </tr>\n",
       "    <tr>\n",
       "      <th>98c5a2548d93f26bd4195466e93178b3</th>\n",
       "      <td>2020-05-19 08:55:39.509</td>\n",
       "      <td>1035</td>\n",
       "      <td>NaN</td>\n",
       "      <td>NaN</td>\n",
       "      <td>Байесовские методы машинного обучения</td>\n",
       "      <td>Глубинное обучение в обработке звука</td>\n",
       "      <td>Statistical Learning Theory</td>\n",
       "      <td>Обучение с подкреплением</td>\n",
       "      <td>Генеративные модели в машинном обучении</td>\n",
       "      <td>Методы сжатия и передачи медиаданных</td>\n",
       "      <td>Нет</td>\n",
       "      <td>0.905797</td>\n",
       "      <td>171.0</td>\n",
       "      <td>DevOps</td>\n",
       "      <td>NaN</td>\n",
       "    </tr>\n",
       "    <tr>\n",
       "      <th>ba298cbd9be59b84bab33325e956f27e</th>\n",
       "      <td>2020-05-19 18:58:06.283</td>\n",
       "      <td>1155</td>\n",
       "      <td>NaN</td>\n",
       "      <td>NaN</td>\n",
       "      <td>Сбор и обработка данных с помощью краудсорсинга</td>\n",
       "      <td>Байесовские методы машинного обучения</td>\n",
       "      <td>Анализ неструктурированных данных</td>\n",
       "      <td>Конфликты и кооперация</td>\n",
       "      <td>Обучение с подкреплением</td>\n",
       "      <td>Компьютерное зрение</td>\n",
       "      <td>Да</td>\n",
       "      <td>0.507246</td>\n",
       "      <td>171.0</td>\n",
       "      <td>Соревновательный анализ данных</td>\n",
       "      <td>NaN</td>\n",
       "    </tr>\n",
       "    <tr>\n",
       "      <th>c5870b37ee3f672e4259dfb2fc02ed8f</th>\n",
       "      <td>2020-05-19 19:04:17.873</td>\n",
       "      <td>1029</td>\n",
       "      <td>NaN</td>\n",
       "      <td>NaN</td>\n",
       "      <td>Statistical Learning Theory</td>\n",
       "      <td>Анализ неструктурированных данных</td>\n",
       "      <td>Сбор и обработка данных с помощью краудсорсинга</td>\n",
       "      <td>Обучение с подкреплением</td>\n",
       "      <td>Конфликты и кооперация</td>\n",
       "      <td>Компьютерное зрение</td>\n",
       "      <td>Да</td>\n",
       "      <td>0.920290</td>\n",
       "      <td>174.0</td>\n",
       "      <td>DevOps</td>\n",
       "      <td>NaN</td>\n",
       "    </tr>\n",
       "    <tr>\n",
       "      <th>f44aea1095f9f5b8e2f5f0ed2b17891b</th>\n",
       "      <td>2020-05-19 20:19:25.815</td>\n",
       "      <td>1060</td>\n",
       "      <td>NaN</td>\n",
       "      <td>NaN</td>\n",
       "      <td>Анализ неструктурированных данных</td>\n",
       "      <td>Высокопроизводительные вычисления</td>\n",
       "      <td>Моделирование временных рядов</td>\n",
       "      <td>Конфликты и кооперация</td>\n",
       "      <td>Обучение с подкреплением</td>\n",
       "      <td>Численные методы</td>\n",
       "      <td>Да</td>\n",
       "      <td>0.840580</td>\n",
       "      <td>174.0</td>\n",
       "      <td>DevOps</td>\n",
       "      <td>NaN</td>\n",
       "    </tr>\n",
       "    <tr>\n",
       "      <th>d7118b44c7e8fdbbaaca226d2da6fef1</th>\n",
       "      <td>2020-05-20 11:54:38.318</td>\n",
       "      <td>1111</td>\n",
       "      <td>NaN</td>\n",
       "      <td>NaN</td>\n",
       "      <td>Сбор и обработка данных с помощью краудсорсинга</td>\n",
       "      <td>Statistical Learning Theory</td>\n",
       "      <td>Анализ неструктурированных данных</td>\n",
       "      <td>Проектирование и разработка высоконагруженных ...</td>\n",
       "      <td>Методы сжатия и передачи медиаданных</td>\n",
       "      <td>Численные методы</td>\n",
       "      <td>Да</td>\n",
       "      <td>0.652174</td>\n",
       "      <td>173.0</td>\n",
       "      <td>Соревновательный анализ данных</td>\n",
       "      <td>NaN</td>\n",
       "    </tr>\n",
       "    <tr>\n",
       "      <th>79d14db48e4737af731960ae212d5134</th>\n",
       "      <td>2020-05-23 21:16:40.916</td>\n",
       "      <td>966</td>\n",
       "      <td>NaN</td>\n",
       "      <td>NaN</td>\n",
       "      <td>Безопасность компьютерных систем</td>\n",
       "      <td>Принятие решений в условиях риска и неопределё...</td>\n",
       "      <td>Анализ неструктурированных данных</td>\n",
       "      <td>Проектирование и разработка высоконагруженных ...</td>\n",
       "      <td>Методы сжатия и передачи медиаданных</td>\n",
       "      <td>Компьютерное зрение</td>\n",
       "      <td>Да</td>\n",
       "      <td>0.985507</td>\n",
       "      <td>172.0</td>\n",
       "      <td>DevOps</td>\n",
       "      <td>NaN</td>\n",
       "    </tr>\n",
       "    <tr>\n",
       "      <th>f2d210ace25a841e1e58036b257d5d47</th>\n",
       "      <td>2020-05-23 21:16:40.916</td>\n",
       "      <td>1195</td>\n",
       "      <td>NaN</td>\n",
       "      <td>NaN</td>\n",
       "      <td>Анализ неструктурированных данных</td>\n",
       "      <td>Моделирование временных рядов</td>\n",
       "      <td>Высокопроизводительные вычисления</td>\n",
       "      <td>Обучение с подкреплением</td>\n",
       "      <td>Компьютерное зрение</td>\n",
       "      <td>Методы сжатия и передачи медиаданных</td>\n",
       "      <td>NaN</td>\n",
       "      <td>0.369565</td>\n",
       "      <td>176.0</td>\n",
       "      <td>Соревновательный анализ данных</td>\n",
       "      <td>NaN</td>\n",
       "    </tr>\n",
       "  </tbody>\n",
       "</table>\n",
       "</div>"
      ],
      "text/plain": [
       "                                               timestamp  rating  18_group  \\\n",
       "id                                                                           \n",
       "8fe79f84f36e3a5d2d6745621321302c 2020-05-18 23:58:33.903    1016       NaN   \n",
       "f93afd8e92c336b471aa3bbbc579aefe 2020-05-18 23:59:20.831    1298       NaN   \n",
       "9963fc00d9405a35b894cc04a7e19855 2020-05-18 23:59:28.998    1135       NaN   \n",
       "98c5a2548d93f26bd4195466e93178b3 2020-05-19 08:55:39.509    1035       NaN   \n",
       "ba298cbd9be59b84bab33325e956f27e 2020-05-19 18:58:06.283    1155       NaN   \n",
       "c5870b37ee3f672e4259dfb2fc02ed8f 2020-05-19 19:04:17.873    1029       NaN   \n",
       "f44aea1095f9f5b8e2f5f0ed2b17891b 2020-05-19 20:19:25.815    1060       NaN   \n",
       "d7118b44c7e8fdbbaaca226d2da6fef1 2020-05-20 11:54:38.318    1111       NaN   \n",
       "79d14db48e4737af731960ae212d5134 2020-05-23 21:16:40.916     966       NaN   \n",
       "f2d210ace25a841e1e58036b257d5d47 2020-05-23 21:16:40.916    1195       NaN   \n",
       "\n",
       "                                  is_mi  \\\n",
       "id                                        \n",
       "8fe79f84f36e3a5d2d6745621321302c    NaN   \n",
       "f93afd8e92c336b471aa3bbbc579aefe    NaN   \n",
       "9963fc00d9405a35b894cc04a7e19855    NaN   \n",
       "98c5a2548d93f26bd4195466e93178b3    NaN   \n",
       "ba298cbd9be59b84bab33325e956f27e    NaN   \n",
       "c5870b37ee3f672e4259dfb2fc02ed8f    NaN   \n",
       "f44aea1095f9f5b8e2f5f0ed2b17891b    NaN   \n",
       "d7118b44c7e8fdbbaaca226d2da6fef1    NaN   \n",
       "79d14db48e4737af731960ae212d5134    NaN   \n",
       "f2d210ace25a841e1e58036b257d5d47    NaN   \n",
       "\n",
       "                                                                           fall_1  \\\n",
       "id                                                                                  \n",
       "8fe79f84f36e3a5d2d6745621321302c                 Безопасность компьютерных систем   \n",
       "f93afd8e92c336b471aa3bbbc579aefe                Высокопроизводительные вычисления   \n",
       "9963fc00d9405a35b894cc04a7e19855                 Безопасность компьютерных систем   \n",
       "98c5a2548d93f26bd4195466e93178b3            Байесовские методы машинного обучения   \n",
       "ba298cbd9be59b84bab33325e956f27e  Сбор и обработка данных с помощью краудсорсинга   \n",
       "c5870b37ee3f672e4259dfb2fc02ed8f                      Statistical Learning Theory   \n",
       "f44aea1095f9f5b8e2f5f0ed2b17891b                Анализ неструктурированных данных   \n",
       "d7118b44c7e8fdbbaaca226d2da6fef1  Сбор и обработка данных с помощью краудсорсинга   \n",
       "79d14db48e4737af731960ae212d5134                 Безопасность компьютерных систем   \n",
       "f2d210ace25a841e1e58036b257d5d47                Анализ неструктурированных данных   \n",
       "\n",
       "                                                                             fall_2  \\\n",
       "id                                                                                    \n",
       "8fe79f84f36e3a5d2d6745621321302c                  Высокопроизводительные вычисления   \n",
       "f93afd8e92c336b471aa3bbbc579aefe    Сбор и обработка данных с помощью краудсорсинга   \n",
       "9963fc00d9405a35b894cc04a7e19855                  Высокопроизводительные вычисления   \n",
       "98c5a2548d93f26bd4195466e93178b3               Глубинное обучение в обработке звука   \n",
       "ba298cbd9be59b84bab33325e956f27e              Байесовские методы машинного обучения   \n",
       "c5870b37ee3f672e4259dfb2fc02ed8f                  Анализ неструктурированных данных   \n",
       "f44aea1095f9f5b8e2f5f0ed2b17891b                  Высокопроизводительные вычисления   \n",
       "d7118b44c7e8fdbbaaca226d2da6fef1                        Statistical Learning Theory   \n",
       "79d14db48e4737af731960ae212d5134  Принятие решений в условиях риска и неопределё...   \n",
       "f2d210ace25a841e1e58036b257d5d47                      Моделирование временных рядов   \n",
       "\n",
       "                                                                           fall_3  \\\n",
       "id                                                                                  \n",
       "8fe79f84f36e3a5d2d6745621321302c  Сбор и обработка данных с помощью краудсорсинга   \n",
       "f93afd8e92c336b471aa3bbbc579aefe                      Statistical Learning Theory   \n",
       "9963fc00d9405a35b894cc04a7e19855                 Безопасность компьютерных систем   \n",
       "98c5a2548d93f26bd4195466e93178b3                      Statistical Learning Theory   \n",
       "ba298cbd9be59b84bab33325e956f27e                Анализ неструктурированных данных   \n",
       "c5870b37ee3f672e4259dfb2fc02ed8f  Сбор и обработка данных с помощью краудсорсинга   \n",
       "f44aea1095f9f5b8e2f5f0ed2b17891b                    Моделирование временных рядов   \n",
       "d7118b44c7e8fdbbaaca226d2da6fef1                Анализ неструктурированных данных   \n",
       "79d14db48e4737af731960ae212d5134                Анализ неструктурированных данных   \n",
       "f2d210ace25a841e1e58036b257d5d47                Высокопроизводительные вычисления   \n",
       "\n",
       "                                                                           spring_1  \\\n",
       "id                                                                                    \n",
       "8fe79f84f36e3a5d2d6745621321302c                             Конфликты и кооперация   \n",
       "f93afd8e92c336b471aa3bbbc579aefe               Методы сжатия и передачи медиаданных   \n",
       "9963fc00d9405a35b894cc04a7e19855  Проектирование и разработка высоконагруженных ...   \n",
       "98c5a2548d93f26bd4195466e93178b3                           Обучение с подкреплением   \n",
       "ba298cbd9be59b84bab33325e956f27e                             Конфликты и кооперация   \n",
       "c5870b37ee3f672e4259dfb2fc02ed8f                           Обучение с подкреплением   \n",
       "f44aea1095f9f5b8e2f5f0ed2b17891b                             Конфликты и кооперация   \n",
       "d7118b44c7e8fdbbaaca226d2da6fef1  Проектирование и разработка высоконагруженных ...   \n",
       "79d14db48e4737af731960ae212d5134  Проектирование и разработка высоконагруженных ...   \n",
       "f2d210ace25a841e1e58036b257d5d47                           Обучение с подкреплением   \n",
       "\n",
       "                                                                           spring_2  \\\n",
       "id                                                                                    \n",
       "8fe79f84f36e3a5d2d6745621321302c  Проектирование и разработка высоконагруженных ...   \n",
       "f93afd8e92c336b471aa3bbbc579aefe  Проектирование и разработка высоконагруженных ...   \n",
       "9963fc00d9405a35b894cc04a7e19855               Методы сжатия и передачи медиаданных   \n",
       "98c5a2548d93f26bd4195466e93178b3            Генеративные модели в машинном обучении   \n",
       "ba298cbd9be59b84bab33325e956f27e                           Обучение с подкреплением   \n",
       "c5870b37ee3f672e4259dfb2fc02ed8f                             Конфликты и кооперация   \n",
       "f44aea1095f9f5b8e2f5f0ed2b17891b                           Обучение с подкреплением   \n",
       "d7118b44c7e8fdbbaaca226d2da6fef1               Методы сжатия и передачи медиаданных   \n",
       "79d14db48e4737af731960ae212d5134               Методы сжатия и передачи медиаданных   \n",
       "f2d210ace25a841e1e58036b257d5d47                                Компьютерное зрение   \n",
       "\n",
       "                                                              spring_3  \\\n",
       "id                                                                       \n",
       "8fe79f84f36e3a5d2d6745621321302c                 Символьные вычисления   \n",
       "f93afd8e92c336b471aa3bbbc579aefe                Конфликты и кооперация   \n",
       "9963fc00d9405a35b894cc04a7e19855                 Символьные вычисления   \n",
       "98c5a2548d93f26bd4195466e93178b3  Методы сжатия и передачи медиаданных   \n",
       "ba298cbd9be59b84bab33325e956f27e                   Компьютерное зрение   \n",
       "c5870b37ee3f672e4259dfb2fc02ed8f                   Компьютерное зрение   \n",
       "f44aea1095f9f5b8e2f5f0ed2b17891b                      Численные методы   \n",
       "d7118b44c7e8fdbbaaca226d2da6fef1                      Численные методы   \n",
       "79d14db48e4737af731960ae212d5134                   Компьютерное зрение   \n",
       "f2d210ace25a841e1e58036b257d5d47  Методы сжатия и передачи медиаданных   \n",
       "\n",
       "                                 is_first_time  percentile  17_group  \\\n",
       "id                                                                     \n",
       "8fe79f84f36e3a5d2d6745621321302c            Да    0.942029     174.0   \n",
       "f93afd8e92c336b471aa3bbbc579aefe            Да    0.057971     175.0   \n",
       "9963fc00d9405a35b894cc04a7e19855            Да    0.572464     175.0   \n",
       "98c5a2548d93f26bd4195466e93178b3           Нет    0.905797     171.0   \n",
       "ba298cbd9be59b84bab33325e956f27e            Да    0.507246     171.0   \n",
       "c5870b37ee3f672e4259dfb2fc02ed8f            Да    0.920290     174.0   \n",
       "f44aea1095f9f5b8e2f5f0ed2b17891b            Да    0.840580     174.0   \n",
       "d7118b44c7e8fdbbaaca226d2da6fef1            Да    0.652174     173.0   \n",
       "79d14db48e4737af731960ae212d5134            Да    0.985507     172.0   \n",
       "f2d210ace25a841e1e58036b257d5d47           NaN    0.369565     176.0   \n",
       "\n",
       "                                                         blended  \\\n",
       "id                                                                 \n",
       "8fe79f84f36e3a5d2d6745621321302c                          DevOps   \n",
       "f93afd8e92c336b471aa3bbbc579aefe                          DevOps   \n",
       "9963fc00d9405a35b894cc04a7e19855                          DevOps   \n",
       "98c5a2548d93f26bd4195466e93178b3                          DevOps   \n",
       "ba298cbd9be59b84bab33325e956f27e  Соревновательный анализ данных   \n",
       "c5870b37ee3f672e4259dfb2fc02ed8f                          DevOps   \n",
       "f44aea1095f9f5b8e2f5f0ed2b17891b                          DevOps   \n",
       "d7118b44c7e8fdbbaaca226d2da6fef1  Соревновательный анализ данных   \n",
       "79d14db48e4737af731960ae212d5134                          DevOps   \n",
       "f2d210ace25a841e1e58036b257d5d47  Соревновательный анализ данных   \n",
       "\n",
       "                                  is_ml_student  \n",
       "id                                               \n",
       "8fe79f84f36e3a5d2d6745621321302c            NaN  \n",
       "f93afd8e92c336b471aa3bbbc579aefe            NaN  \n",
       "9963fc00d9405a35b894cc04a7e19855            NaN  \n",
       "98c5a2548d93f26bd4195466e93178b3            NaN  \n",
       "ba298cbd9be59b84bab33325e956f27e            NaN  \n",
       "c5870b37ee3f672e4259dfb2fc02ed8f            NaN  \n",
       "f44aea1095f9f5b8e2f5f0ed2b17891b            NaN  \n",
       "d7118b44c7e8fdbbaaca226d2da6fef1            NaN  \n",
       "79d14db48e4737af731960ae212d5134            NaN  \n",
       "f2d210ace25a841e1e58036b257d5d47            NaN  "
      ]
     },
     "execution_count": 62,
     "metadata": {},
     "output_type": "execute_result"
    }
   ],
   "source": [
    "data = pd.read_excel('end_seminar.xlsx', index_col=1)\n",
    "data.tail(10)  # последние 10 строк"
   ]
  },
  {
   "cell_type": "code",
   "execution_count": 63,
   "metadata": {},
   "outputs": [
    {
     "data": {
      "text/plain": [
       "(361, 15)"
      ]
     },
     "execution_count": 63,
     "metadata": {},
     "output_type": "execute_result"
    }
   ],
   "source": [
    "data.shape"
   ]
  },
  {
   "cell_type": "markdown",
   "metadata": {
    "id": "Jhk3tVpVhLuy"
   },
   "source": [
    "#### 2. [0.5 балла] Ответьте на вопросы:\n",
    "1. Сколько было заявок из групп 18-го года набора, а сколько из групп 17-го года?\n",
    "2. Есть ли студенты с равными перцентилями?"
   ]
  },
  {
   "cell_type": "markdown",
   "metadata": {},
   "source": [
    "1.1. Количество заявок из групп 18-го года набора - это количество ненулевых значений столбца '18_group'\n"
   ]
  },
  {
   "cell_type": "code",
   "execution_count": 64,
   "metadata": {
    "id": "bsn4vn8RhLuy"
   },
   "outputs": [
    {
     "data": {
      "text/plain": [
       "223"
      ]
     },
     "execution_count": 64,
     "metadata": {},
     "output_type": "execute_result"
    }
   ],
   "source": [
    "data['18_group'].count()"
   ]
  },
  {
   "cell_type": "markdown",
   "metadata": {},
   "source": [
    "1.2. Количество заявок из групп 17-го года набора - это количество ненулевых значений столбца '17_group'"
   ]
  },
  {
   "cell_type": "code",
   "execution_count": 65,
   "metadata": {},
   "outputs": [
    {
     "data": {
      "text/plain": [
       "138"
      ]
     },
     "execution_count": 65,
     "metadata": {},
     "output_type": "execute_result"
    }
   ],
   "source": [
    "data['17_group'].count()"
   ]
  },
  {
   "cell_type": "markdown",
   "metadata": {},
   "source": [
    "2. Если есть студенты с одинаковыми перцентилями, то разность количества не NaN строк и уникальных значений столбца 'percentile' будет положительным числом, если нет - будет равна нулю. Функция bool(полученная разность) и показывает наличие студентов с одинаковыми перцентилями."
   ]
  },
  {
   "cell_type": "code",
   "execution_count": 66,
   "metadata": {},
   "outputs": [
    {
     "data": {
      "text/plain": [
       "True"
      ]
     },
     "execution_count": 66,
     "metadata": {},
     "output_type": "execute_result"
    }
   ],
   "source": [
    "bool(data['percentile'].count() - data['percentile'].nunique())"
   ]
  },
  {
   "cell_type": "markdown",
   "metadata": {
    "id": "jPiMwyqHhLuy"
   },
   "source": [
    "#### 3. [0.5 балла] Есть ли в данных пропуски? В каких колонках? Сколько их в каждой из этих колонок?"
   ]
  },
  {
   "cell_type": "markdown",
   "metadata": {},
   "source": [
    "Посмотрим данные о столбцах, чтобы потом знать, в каких столбцах какие типы данных и на что заменить значения."
   ]
  },
  {
   "cell_type": "code",
   "execution_count": 67,
   "metadata": {
    "id": "edY1RrSOhLuy"
   },
   "outputs": [
    {
     "name": "stdout",
     "output_type": "stream",
     "text": [
      "<class 'pandas.core.frame.DataFrame'>\n",
      "Index: 361 entries, 93ff79a51cd602f1dd3028ba2c129503 to f2d210ace25a841e1e58036b257d5d47\n",
      "Data columns (total 15 columns):\n",
      " #   Column         Non-Null Count  Dtype         \n",
      "---  ------         --------------  -----         \n",
      " 0   timestamp      361 non-null    datetime64[ns]\n",
      " 1   rating         361 non-null    int64         \n",
      " 2   18_group       223 non-null    float64       \n",
      " 3   is_mi          18 non-null     float64       \n",
      " 4   fall_1         361 non-null    object        \n",
      " 5   fall_2         361 non-null    object        \n",
      " 6   fall_3         361 non-null    object        \n",
      " 7   spring_1       361 non-null    object        \n",
      " 8   spring_2       361 non-null    object        \n",
      " 9   spring_3       361 non-null    object        \n",
      " 10  is_first_time  359 non-null    object        \n",
      " 11  percentile     361 non-null    float64       \n",
      " 12  17_group       138 non-null    float64       \n",
      " 13  blended        138 non-null    object        \n",
      " 14  is_ml_student  57 non-null     float64       \n",
      "dtypes: datetime64[ns](1), float64(5), int64(1), object(8)\n",
      "memory usage: 45.1+ KB\n"
     ]
    }
   ],
   "source": [
    "data.info()"
   ]
  },
  {
   "cell_type": "markdown",
   "metadata": {},
   "source": [
    "Ниже данные о каждом столбце: количество нулевых значений в них."
   ]
  },
  {
   "cell_type": "code",
   "execution_count": 68,
   "metadata": {},
   "outputs": [
    {
     "data": {
      "text/plain": [
       "timestamp          0\n",
       "rating             0\n",
       "18_group         138\n",
       "is_mi            343\n",
       "fall_1             0\n",
       "fall_2             0\n",
       "fall_3             0\n",
       "spring_1           0\n",
       "spring_2           0\n",
       "spring_3           0\n",
       "is_first_time      2\n",
       "percentile         0\n",
       "17_group         223\n",
       "blended          223\n",
       "is_ml_student    304\n",
       "dtype: int64"
      ]
     },
     "execution_count": 68,
     "metadata": {},
     "output_type": "execute_result"
    }
   ],
   "source": [
    "data.isnull().sum()"
   ]
  },
  {
   "cell_type": "markdown",
   "metadata": {
    "id": "B5ORhP2uhLuz"
   },
   "source": [
    "Заполните пропуски пустой строкой для строковых колонок и нулём для числовых."
   ]
  },
  {
   "cell_type": "markdown",
   "metadata": {
    "id": "TlF_JJ2ghLuz"
   },
   "source": [
    "**Для замены:**\n",
    "1. 18_group, is_mi, 17_group, is_ml_student - числовые\n",
    "2. is_first_time, blended - текстовые"
   ]
  },
  {
   "cell_type": "code",
   "execution_count": 69,
   "metadata": {},
   "outputs": [],
   "source": [
    "# числовые\n",
    "data['18_group'] = data['18_group'].replace(np.nan, 0)\n",
    "data['17_group'] = data['17_group'].replace(np.nan, 0)\n",
    "data['is_mi'] = data['is_mi'].replace(np.nan, 0)\n",
    "data['is_ml_student'] = data['is_ml_student'].replace(np.nan, 0)\n",
    "# текстовые\n",
    "data['is_first_time'] = data['is_first_time'].replace(np.nan, '')\n",
    "data['blended'] = data['blended'].replace(np.nan, '')"
   ]
  },
  {
   "cell_type": "markdown",
   "metadata": {},
   "source": [
    "Проверим, что получилось:"
   ]
  },
  {
   "cell_type": "code",
   "execution_count": 81,
   "metadata": {},
   "outputs": [
    {
     "data": {
      "text/plain": [
       "timestamp        0\n",
       "rating           0\n",
       "18_group         0\n",
       "is_mi            0\n",
       "fall_1           0\n",
       "fall_2           0\n",
       "fall_3           0\n",
       "spring_1         0\n",
       "spring_2         0\n",
       "spring_3         0\n",
       "is_first_time    0\n",
       "percentile       0\n",
       "17_group         0\n",
       "blended          0\n",
       "is_ml_student    0\n",
       "dtype: int64"
      ]
     },
     "execution_count": 81,
     "metadata": {},
     "output_type": "execute_result"
    }
   ],
   "source": [
    "data.isnull().sum()"
   ]
  },
  {
   "cell_type": "markdown",
   "metadata": {
    "id": "w5ELhkT1hLuz"
   },
   "source": [
    "#### 4. [0.5 балла] Посмотрите повнимательнее на колонку 'is_first_time'. \n",
    "\n",
    "Есть ли в ней ответы \"Нет\"? Сколько их?\n",
    "\n",
    "Если вы найдете повторные обращения студентов, оставьте только самую позднюю версию. <i>Обращения со значением \"Нет\" в <code>is_first_time</code> могут быть как повторными, так и первичными, поскольку поле заполняли сами студенты.</i>"
   ]
  },
  {
   "cell_type": "code",
   "execution_count": 82,
   "metadata": {},
   "outputs": [
    {
     "data": {
      "text/plain": [
       "{'', 'Да', 'Нет'}"
      ]
     },
     "execution_count": 82,
     "metadata": {},
     "output_type": "execute_result"
    }
   ],
   "source": [
    "set(data['is_first_time'].values)"
   ]
  },
  {
   "cell_type": "code",
   "execution_count": 83,
   "metadata": {
    "id": "VEfiNsyQhLuz"
   },
   "outputs": [
    {
     "data": {
      "text/plain": [
       "Да     308\n",
       "Нет     51\n",
       "         2\n",
       "Name: is_first_time, dtype: int64"
      ]
     },
     "execution_count": 83,
     "metadata": {},
     "output_type": "execute_result"
    }
   ],
   "source": [
    "data['is_first_time'].value_counts()"
   ]
  },
  {
   "cell_type": "markdown",
   "metadata": {},
   "source": [
    "Логично сделать так: отсортировать заявки по времени и удалить дупликаты по месту в рейтинге и номеру группы, оставив более поздние заявки."
   ]
  },
  {
   "cell_type": "code",
   "execution_count": 95,
   "metadata": {},
   "outputs": [],
   "source": [
    "data = data.sort_values('timestamp', ascending=True)\n",
    "data = data.drop_duplicates(['rating','18_group', '17_group'], keep='last')"
   ]
  },
  {
   "cell_type": "markdown",
   "metadata": {
    "id": "IlzHp3HVhLuz"
   },
   "source": [
    "#### 5. [0.5 балла] Какие  blended-курсы для четверокурсников существуют? На какой blended-курс записалось наибольшее количество студентов? На каком из курсов собрались студенты с самым высоким средним рейтингом? "
   ]
  },
  {
   "cell_type": "markdown",
   "metadata": {},
   "source": [
    "Какие blended-курсы существуют:"
   ]
  },
  {
   "cell_type": "code",
   "execution_count": 122,
   "metadata": {
    "id": "j_BRWerHhLu0"
   },
   "outputs": [
    {
     "name": "stdout",
     "output_type": "stream",
     "text": [
      "Введение в дифференциальную геометрию\n",
      "DevOps\n",
      "Соревновательный анализ данных\n"
     ]
    }
   ],
   "source": [
    "print(*set(data[data['blended'] != '']['blended'].values), sep='\\n')"
   ]
  },
  {
   "cell_type": "markdown",
   "metadata": {},
   "source": [
    "Из всех значений столбца 'blended' рассмотрим только не пустые. На какой курс записалось больше всего студентов:"
   ]
  },
  {
   "cell_type": "code",
   "execution_count": 139,
   "metadata": {},
   "outputs": [
    {
     "name": "stdout",
     "output_type": "stream",
     "text": [
      "DevOps: 87\n"
     ]
    }
   ],
   "source": [
    "course = data[data['blended'] != ''].groupby(['blended']).size().idxmax()\n",
    "course_size = max(data[data['blended'] != ''].groupby(['blended']).size())\n",
    "print(f\"{course}: {course_size}\")"
   ]
  },
  {
   "cell_type": "markdown",
   "metadata": {},
   "source": [
    "Опять не будем рассматривать тех, кто не записался ни на какой blended-курс. Тогда курс, на который записались студенты с наивысшим средним рейтингом (то есть средний рейтинг должен быть наименьшим), следующий:"
   ]
  },
  {
   "cell_type": "code",
   "execution_count": 137,
   "metadata": {},
   "outputs": [
    {
     "name": "stdout",
     "output_type": "stream",
     "text": [
      "Соревновательный анализ данных: 1144.21875\n"
     ]
    }
   ],
   "source": [
    "mean_rating_arg = data[data['blended'] != ''].groupby(['blended'])['rating'].mean().idxmin()\n",
    "mean_rating = min(data[data['blended'] != ''].groupby(['blended'])['rating'].mean())\n",
    "print(f'{mean_rating_arg}: {mean_rating}')"
   ]
  },
  {
   "cell_type": "markdown",
   "metadata": {
    "id": "IU_FLt8HhLu0"
   },
   "source": [
    "#### 6. [1 балл] Выясните, есть ли в данных студенты с абсолютно одинаковыми предпочтениями по всем курсам (не забудьте учесть blended-курсы для четверокурсников). Сколько таких наборов, которые взяли несколько студентов? Выведите их все вместе с количеством выбравших их студентов.\n",
    "\n",
    "<i>Предпочтения двух студентов считаются абсолютно одинаковыми, если выбранные ими дисциплины имеют одинаковый приоритет.</i>"
   ]
  },
  {
   "cell_type": "markdown",
   "metadata": {},
   "source": [
    "Сколько наборов:"
   ]
  },
  {
   "cell_type": "code",
   "execution_count": 153,
   "metadata": {
    "id": "BBDlR1mFhLu0"
   },
   "outputs": [
    {
     "data": {
      "text/plain": [
       "15"
      ]
     },
     "execution_count": 153,
     "metadata": {},
     "output_type": "execute_result"
    }
   ],
   "source": [
    "size = data.groupby(['fall_1', 'fall_2', 'fall_3', 'spring_1', 'spring_2', 'spring_3', 'blended']).size()\n",
    "size[size > 1].shape[0]"
   ]
  },
  {
   "cell_type": "markdown",
   "metadata": {},
   "source": [
    "Сколько студентов выбрали повторяющиеся наборы:"
   ]
  },
  {
   "cell_type": "code",
   "execution_count": 154,
   "metadata": {},
   "outputs": [
    {
     "data": {
      "text/plain": [
       "32"
      ]
     },
     "execution_count": 154,
     "metadata": {},
     "output_type": "execute_result"
    }
   ],
   "source": [
    "size[size > 1].sum()"
   ]
  },
  {
   "cell_type": "markdown",
   "metadata": {},
   "source": [
    "Таблица с наборами и количеством студентов, выбравших каждый из них:"
   ]
  },
  {
   "cell_type": "code",
   "execution_count": 164,
   "metadata": {},
   "outputs": [
    {
     "data": {
      "text/html": [
       "<div>\n",
       "<style scoped>\n",
       "    .dataframe tbody tr th:only-of-type {\n",
       "        vertical-align: middle;\n",
       "    }\n",
       "\n",
       "    .dataframe tbody tr th {\n",
       "        vertical-align: top;\n",
       "    }\n",
       "\n",
       "    .dataframe thead th {\n",
       "        text-align: right;\n",
       "    }\n",
       "</style>\n",
       "<table border=\"1\" class=\"dataframe\">\n",
       "  <thead>\n",
       "    <tr style=\"text-align: right;\">\n",
       "      <th></th>\n",
       "      <th></th>\n",
       "      <th></th>\n",
       "      <th></th>\n",
       "      <th></th>\n",
       "      <th></th>\n",
       "      <th></th>\n",
       "      <th>num_students</th>\n",
       "    </tr>\n",
       "    <tr>\n",
       "      <th>fall_1</th>\n",
       "      <th>fall_2</th>\n",
       "      <th>fall_3</th>\n",
       "      <th>spring_1</th>\n",
       "      <th>spring_2</th>\n",
       "      <th>spring_3</th>\n",
       "      <th>blended</th>\n",
       "      <th></th>\n",
       "    </tr>\n",
       "  </thead>\n",
       "  <tbody>\n",
       "    <tr>\n",
       "      <th>Statistical Learning Theory</th>\n",
       "      <th>Анализ неструктурированных данных</th>\n",
       "      <th>Сбор и обработка данных с помощью краудсорсинга</th>\n",
       "      <th>Обучение с подкреплением</th>\n",
       "      <th>Конфликты и кооперация</th>\n",
       "      <th>Компьютерное зрение</th>\n",
       "      <th>DevOps</th>\n",
       "      <td>2</td>\n",
       "    </tr>\n",
       "    <tr>\n",
       "      <th rowspan=\"2\" valign=\"top\">Байесовские методы машинного обучения</th>\n",
       "      <th rowspan=\"2\" valign=\"top\">Анализ неструктурированных данных</th>\n",
       "      <th>Глубинное обучение в обработке звука</th>\n",
       "      <th>Обучение с подкреплением</th>\n",
       "      <th>Генеративные модели в машинном обучении</th>\n",
       "      <th>Компьютерное зрение</th>\n",
       "      <th>DevOps</th>\n",
       "      <td>2</td>\n",
       "    </tr>\n",
       "    <tr>\n",
       "      <th>Сбор и обработка данных с помощью краудсорсинга</th>\n",
       "      <th>Обучение с подкреплением</th>\n",
       "      <th>Компьютерное зрение</th>\n",
       "      <th>Генеративные модели в машинном обучении</th>\n",
       "      <th>DevOps</th>\n",
       "      <td>2</td>\n",
       "    </tr>\n",
       "    <tr>\n",
       "      <th rowspan=\"7\" valign=\"top\">Безопасность компьютерных систем</th>\n",
       "      <th>Statistical Learning Theory</th>\n",
       "      <th>Матричные вычисления</th>\n",
       "      <th>Дискретная оптимизация</th>\n",
       "      <th>Промышленное программирование на языке Java</th>\n",
       "      <th>Дополнительные главы прикладной статистики</th>\n",
       "      <th></th>\n",
       "      <td>3</td>\n",
       "    </tr>\n",
       "    <tr>\n",
       "      <th rowspan=\"3\" valign=\"top\">Высокопроизводительные вычисления</th>\n",
       "      <th>Анализ неструктурированных данных</th>\n",
       "      <th>Проектирование и разработка высоконагруженных сервисов</th>\n",
       "      <th>Методы сжатия и передачи медиаданных</th>\n",
       "      <th>Конфликты и кооперация</th>\n",
       "      <th>DevOps</th>\n",
       "      <td>2</td>\n",
       "    </tr>\n",
       "    <tr>\n",
       "      <th rowspan=\"2\" valign=\"top\">Язык SQL</th>\n",
       "      <th>Компьютерные сети</th>\n",
       "      <th>Промышленное программирование на языке Java</th>\n",
       "      <th>Дискретная оптимизация</th>\n",
       "      <th></th>\n",
       "      <td>3</td>\n",
       "    </tr>\n",
       "    <tr>\n",
       "      <th>Промышленное программирование на языке Java</th>\n",
       "      <th>Компьютерные сети</th>\n",
       "      <th>Системы баз данных</th>\n",
       "      <th></th>\n",
       "      <td>2</td>\n",
       "    </tr>\n",
       "    <tr>\n",
       "      <th>Матричные вычисления</th>\n",
       "      <th>Моделирование временных рядов</th>\n",
       "      <th>Промышленное программирование на языке Java</th>\n",
       "      <th>Компьютерные сети</th>\n",
       "      <th>Дискретная оптимизация</th>\n",
       "      <th></th>\n",
       "      <td>2</td>\n",
       "    </tr>\n",
       "    <tr>\n",
       "      <th>Сбор и обработка данных с помощью краудсорсинга</th>\n",
       "      <th>Матричные вычисления</th>\n",
       "      <th>Компьютерные сети</th>\n",
       "      <th>Промышленное программирование на языке Java</th>\n",
       "      <th>Анализ данных в бизнесе</th>\n",
       "      <th></th>\n",
       "      <td>2</td>\n",
       "    </tr>\n",
       "    <tr>\n",
       "      <th>Теория баз данных</th>\n",
       "      <th>Язык SQL</th>\n",
       "      <th>Машинное обучение 2</th>\n",
       "      <th>Компьютерные сети</th>\n",
       "      <th>Промышленное программирование на языке Java</th>\n",
       "      <th></th>\n",
       "      <td>2</td>\n",
       "    </tr>\n",
       "    <tr>\n",
       "      <th rowspan=\"2\" valign=\"top\">Высокопроизводительные вычисления</th>\n",
       "      <th>Безопасность компьютерных систем</th>\n",
       "      <th>Сбор и обработка данных с помощью краудсорсинга</th>\n",
       "      <th>Проектирование и разработка высоконагруженных сервисов</th>\n",
       "      <th>Методы сжатия и передачи медиаданных</th>\n",
       "      <th>Компьютерное зрение</th>\n",
       "      <th>DevOps</th>\n",
       "      <td>2</td>\n",
       "    </tr>\n",
       "    <tr>\n",
       "      <th>Сбор и обработка данных с помощью краудсорсинга</th>\n",
       "      <th>Моделирование временных рядов</th>\n",
       "      <th>Проектирование и разработка высоконагруженных сервисов</th>\n",
       "      <th>Методы сжатия и передачи медиаданных</th>\n",
       "      <th>Методы сжатия и передачи медиаданных</th>\n",
       "      <th>DevOps</th>\n",
       "      <td>2</td>\n",
       "    </tr>\n",
       "    <tr>\n",
       "      <th>Моделирование временных рядов</th>\n",
       "      <th>Сбор и обработка данных с помощью краудсорсинга</th>\n",
       "      <th>Безопасность компьютерных систем</th>\n",
       "      <th>Компьютерные сети</th>\n",
       "      <th>Дополнительные главы прикладной статистики</th>\n",
       "      <th>Системы баз данных</th>\n",
       "      <th></th>\n",
       "      <td>2</td>\n",
       "    </tr>\n",
       "    <tr>\n",
       "      <th>Сбор и обработка данных с помощью краудсорсинга</th>\n",
       "      <th>Язык SQL</th>\n",
       "      <th>Теория баз данных</th>\n",
       "      <th>Промышленное программирование на языке Java</th>\n",
       "      <th>Машинное обучение 2</th>\n",
       "      <th>Компьютерные сети</th>\n",
       "      <th></th>\n",
       "      <td>2</td>\n",
       "    </tr>\n",
       "    <tr>\n",
       "      <th>Язык SQL</th>\n",
       "      <th>Высокопроизводительные вычисления</th>\n",
       "      <th>Теория баз данных</th>\n",
       "      <th>Компьютерные сети</th>\n",
       "      <th>Промышленное программирование на языке Java</th>\n",
       "      <th>Дискретная оптимизация</th>\n",
       "      <th></th>\n",
       "      <td>2</td>\n",
       "    </tr>\n",
       "  </tbody>\n",
       "</table>\n",
       "</div>"
      ],
      "text/plain": [
       "                                                                                                                                                                                                                                                                                                    num_students\n",
       "fall_1                                          fall_2                                          fall_3                                          spring_1                                           spring_2                                    spring_3                                    blended              \n",
       "Statistical Learning Theory                     Анализ неструктурированных данных               Сбор и обработка данных с помощью краудсорсинга Обучение с подкреплением                           Конфликты и кооперация                      Компьютерное зрение                         DevOps              2\n",
       "Байесовские методы машинного обучения           Анализ неструктурированных данных               Глубинное обучение в обработке звука            Обучение с подкреплением                           Генеративные модели в машинном обучении     Компьютерное зрение                         DevOps              2\n",
       "                                                                                                Сбор и обработка данных с помощью краудсорсинга Обучение с подкреплением                           Компьютерное зрение                         Генеративные модели в машинном обучении     DevOps              2\n",
       "Безопасность компьютерных систем                Statistical Learning Theory                     Матричные вычисления                            Дискретная оптимизация                             Промышленное программирование на языке Java Дополнительные главы прикладной статистики                      3\n",
       "                                                Высокопроизводительные вычисления               Анализ неструктурированных данных               Проектирование и разработка высоконагруженных с... Методы сжатия и передачи медиаданных        Конфликты и кооперация                      DevOps              2\n",
       "                                                                                                Язык SQL                                        Компьютерные сети                                  Промышленное программирование на языке Java Дискретная оптимизация                                          3\n",
       "                                                                                                                                                Промышленное программирование на языке Java        Компьютерные сети                           Системы баз данных                                              2\n",
       "                                                Матричные вычисления                            Моделирование временных рядов                   Промышленное программирование на языке Java        Компьютерные сети                           Дискретная оптимизация                                          2\n",
       "                                                Сбор и обработка данных с помощью краудсорсинга Матричные вычисления                            Компьютерные сети                                  Промышленное программирование на языке Java Анализ данных в бизнесе                                         2\n",
       "                                                Теория баз данных                               Язык SQL                                        Машинное обучение 2                                Компьютерные сети                           Промышленное программирование на языке Java                     2\n",
       "Высокопроизводительные вычисления               Безопасность компьютерных систем                Сбор и обработка данных с помощью краудсорсинга Проектирование и разработка высоконагруженных с... Методы сжатия и передачи медиаданных        Компьютерное зрение                         DevOps              2\n",
       "                                                Сбор и обработка данных с помощью краудсорсинга Моделирование временных рядов                   Проектирование и разработка высоконагруженных с... Методы сжатия и передачи медиаданных        Методы сжатия и передачи медиаданных        DevOps              2\n",
       "Моделирование временных рядов                   Сбор и обработка данных с помощью краудсорсинга Безопасность компьютерных систем                Компьютерные сети                                  Дополнительные главы прикладной статистики  Системы баз данных                                              2\n",
       "Сбор и обработка данных с помощью краудсорсинга Язык SQL                                        Теория баз данных                               Промышленное программирование на языке Java        Машинное обучение 2                         Компьютерные сети                                               2\n",
       "Язык SQL                                        Высокопроизводительные вычисления               Теория баз данных                               Компьютерные сети                                  Промышленное программирование на языке Java Дискретная оптимизация                                          2"
      ]
     },
     "execution_count": 164,
     "metadata": {},
     "output_type": "execute_result"
    }
   ],
   "source": [
    "size = pd.DataFrame(size[size > 1])\n",
    "size.rename(columns={0: \"num_students\"})"
   ]
  },
  {
   "cell_type": "markdown",
   "metadata": {
    "id": "spu3r3vchLu0"
   },
   "source": [
    "#### 7. [0.5 балла] Найдите курсы по выбору, на которые записывались как студенты 18-го года набора, так и студенты 17-го года."
   ]
  },
  {
   "cell_type": "markdown",
   "metadata": {},
   "source": [
    "Blended-курсы рассматривать не будем, тк на них записывались только студенты 17-го года"
   ]
  },
  {
   "cell_type": "code",
   "execution_count": 189,
   "metadata": {
    "id": "t21fWi8ShLu0"
   },
   "outputs": [],
   "source": [
    "courses_17 = np.unique(data[data['17_group'] != 0][['fall_1', 'fall_2', 'fall_3', 'spring_1', 'spring_2', 'spring_3']].values)"
   ]
  },
  {
   "cell_type": "code",
   "execution_count": 190,
   "metadata": {},
   "outputs": [],
   "source": [
    "courses_18 = np.unique(data[data['18_group'] != 0][['fall_1', 'fall_2', 'fall_3', 'spring_1', 'spring_2', 'spring_3']].values)"
   ]
  },
  {
   "cell_type": "markdown",
   "metadata": {},
   "source": [
    "Курсы для студентов 17-го и 18-го года:"
   ]
  },
  {
   "cell_type": "code",
   "execution_count": 191,
   "metadata": {},
   "outputs": [
    {
     "data": {
      "text/plain": [
       "array(['Statistical Learning Theory', 'Безопасность компьютерных систем',\n",
       "       'Высокопроизводительные вычисления',\n",
       "       'Моделирование временных рядов',\n",
       "       'Принятие решений в условиях риска и неопределённости',\n",
       "       'Сбор и обработка данных с помощью краудсорсинга',\n",
       "       'Численные методы'], dtype=object)"
      ]
     },
     "execution_count": 191,
     "metadata": {},
     "output_type": "execute_result"
    }
   ],
   "source": [
    "np.intersect1d(courses_17, courses_18)"
   ]
  },
  {
   "cell_type": "markdown",
   "metadata": {
    "id": "PYfX-Dr5hLu0"
   },
   "source": [
    "Методом исключения найдите курсы, которые предлагались только студентам 18-го года и только студентам 17-го года."
   ]
  },
  {
   "cell_type": "markdown",
   "metadata": {},
   "source": [
    "Курсы для студентов только 17-го года:"
   ]
  },
  {
   "cell_type": "code",
   "execution_count": 192,
   "metadata": {
    "id": "G9SWBOpehLu1"
   },
   "outputs": [
    {
     "data": {
      "text/plain": [
       "array(['Анализ неструктурированных данных',\n",
       "       'Байесовские методы машинного обучения',\n",
       "       'Генеративные модели в машинном обучении',\n",
       "       'Глубинное обучение в обработке звука', 'Компьютерное зрение',\n",
       "       'Конфликты и кооперация', 'Методы сжатия и передачи медиаданных',\n",
       "       'Обучение с подкреплением',\n",
       "       'Проектирование и разработка высоконагруженных сервисов',\n",
       "       'Символьные вычисления'], dtype=object)"
      ]
     },
     "execution_count": 192,
     "metadata": {},
     "output_type": "execute_result"
    }
   ],
   "source": [
    "np.setdiff1d(courses_17, courses_18)"
   ]
  },
  {
   "cell_type": "markdown",
   "metadata": {},
   "source": [
    "Курсы для студентов только 18-го года:"
   ]
  },
  {
   "cell_type": "code",
   "execution_count": 193,
   "metadata": {},
   "outputs": [
    {
     "data": {
      "text/plain": [
       "array(['Анализ данных в бизнесе', 'Дискретная оптимизация',\n",
       "       'Дополнительные главы прикладной статистики', 'Компьютерные сети',\n",
       "       'Матричные вычисления', 'Машинное обучение 2',\n",
       "       'Промышленное программирование на языке Java',\n",
       "       'Системы баз данных', 'Теория баз данных', 'Язык SQL'],\n",
       "      dtype=object)"
      ]
     },
     "execution_count": 193,
     "metadata": {},
     "output_type": "execute_result"
    }
   ],
   "source": [
    "np.setdiff1d(courses_18, courses_17)"
   ]
  },
  {
   "cell_type": "markdown",
   "metadata": {
    "id": "uL45Tg5fhLu1"
   },
   "source": [
    "### Визуализации и matplotlib"
   ]
  },
  {
   "cell_type": "markdown",
   "metadata": {
    "id": "MY9lKmP2hLu1"
   },
   "source": [
    "При работе с данными часто неудобно делать какие-то выводы, если смотреть на таблицу и числа в частности, поэтому важно уметь визуализировать данные. Здесь будут описаны ключевые правила оформления графиков для **всех** домашних заданий.\n",
    "\n",
    "У matplotlib, конечно же, есть [документация](https://matplotlib.org/users/index.html) с большим количеством [примеров](https://matplotlib.org/examples/), но для начала достаточно знать про несколько основных типов графиков:\n",
    "- plot — обычный поточечный график, которым можно изображать кривые или отдельные точки;\n",
    "- hist — гистограмма, показывающая распределение некоторой величины;\n",
    "- scatter — график, показывающий взаимосвязь двух величин;\n",
    "- bar — столбцовый график, показывающий взаимосвязь количественной величины от категориальной.\n",
    "\n",
    "В этом задании вы попробуете построить один из них. Не забывайте про базовые принципы построения приличных графиков:\n",
    "- оси должны быть подписаны, причём не слишком мелко;\n",
    "- у графика должно быть название;\n",
    "- если изображено несколько графиков, то необходима поясняющая легенда;\n",
    "- все линии на графиках должны быть чётко видны (нет похожих цветов или цветов, сливающихся с фоном);\n",
    "- если отображена величина, имеющая очевидный диапазон значений (например, проценты могут быть от 0 до 100), то желательно масштабировать ось на весь диапазон значений (исключением является случай, когда вам необходимо показать малое отличие, которое незаметно в таких масштабах);\n",
    "- сетка на графике помогает оценить значения в точках на глаз, это обычно полезно, поэтому лучше ее отрисовывать;\n",
    "- если распределение на гистограмме имеет тяжёлые хвосты, лучше использовать логарифмическую шкалу.\n",
    "\n",
    "Полезные строчки:\n",
    "- для красивой картинки <code>%config InlineBackend.figure_format = 'retina'</code>\n",
    "- задаем размер (почти) всех графиков (можно выбрать другие значения) <code>plt.rcParams['figure.figsize'] = 8, 5</code>\n",
    "- размер шрифта подписей графиков <code>plt.rcParams['font.size'] = 12</code>\n",
    "- формат в котором сохраняется изображение <code>mpl.rcParams['savefig.format'] = 'pdf'</code>\n",
    "- sns – seaborn, добавляет решетку <code>sns.set_style('darkgrid')</code>"
   ]
  },
  {
   "cell_type": "code",
   "execution_count": 194,
   "metadata": {
    "id": "na9doUOFhLu1"
   },
   "outputs": [],
   "source": [
    "%matplotlib inline\n",
    "import matplotlib.pyplot as plt"
   ]
  },
  {
   "cell_type": "markdown",
   "metadata": {
    "id": "kikwLpxfhLu1"
   },
   "source": [
    "#### 8. [0.5 балла] Постройте график средних рейтингов по дням получения ответов (bar plot)."
   ]
  },
  {
   "cell_type": "markdown",
   "metadata": {},
   "source": [
    "Создадим новый столбец, в котором будет только дата, без отметки времени:"
   ]
  },
  {
   "cell_type": "code",
   "execution_count": 237,
   "metadata": {
    "id": "UTPLVeQvhLu2"
   },
   "outputs": [],
   "source": [
    "data['date'] = data['timestamp'].dt.date\n",
    "date_rating = pd.DataFrame(data.groupby(['date'])['rating'].mean())\n",
    "date_rating.reset_index(level=0, inplace=True)"
   ]
  },
  {
   "cell_type": "code",
   "execution_count": 242,
   "metadata": {},
   "outputs": [
    {
     "data": {
      "image/png": "[encoded data removed]",
      "text/plain": [
       "<Figure size 576x360 with 1 Axes>"
      ]
     },
     "metadata": {
      "image/png": {
       "height": 348,
       "width": 564
      },
      "needs_background": "light"
     },
     "output_type": "display_data"
    }
   ],
   "source": [
    "import matplotlib.dates as mdates\n",
    "\n",
    "%config InlineBackend.figure_format = 'retina'\n",
    "x = date_rating['date']\n",
    "y = date_rating['rating']\n",
    "\n",
    "plt.rcParams['figure.figsize'] = 8, 5\n",
    "plt.rcParams['font.size'] = 12\n",
    "plt.rcParams[\"figure.autolayout\"] = True\n",
    "\n",
    "fig = plt.figure()\n",
    "ax = fig.add_subplot(1,1,1)\n",
    "ax.xaxis.set_major_locator(mdates.DayLocator(interval=1))\n",
    "ax.xaxis.set_major_formatter(mdates.DateFormatter('%d/%m/%y'))\n",
    "\n",
    "plt.xticks(rotation=60)\n",
    "plt.bar(x, y)\n",
    "plt.xlabel('Date of application')\n",
    "plt.ylabel('Mean rating')\n",
    "plt.show()"
   ]
  },
  {
   "cell_type": "markdown",
   "metadata": {
    "id": "AmsQg9_xhLu2"
   },
   "source": [
    "Сохраните график в формате pdf (так он останется векторизованным)."
   ]
  },
  {
   "cell_type": "code",
   "execution_count": 243,
   "metadata": {
    "id": "vKZNSwWghLu2"
   },
   "outputs": [],
   "source": [
    "fig.savefig('date_rating.pdf')"
   ]
  },
  {
   "cell_type": "markdown",
   "metadata": {
    "id": "b7SBV6_GhLu2"
   },
   "source": [
    "Еще одна билиотека для визуализации: [seaborn](https://jakevdp.github.io/PythonDataScienceHandbook/04.14-visualization-with-seaborn.html). Это настройка над matplotlib, иногда удобнее и красивее делать визуализации через неё. "
   ]
  },
  {
   "cell_type": "markdown",
   "metadata": {
    "id": "sCgWwjl0hLu2"
   },
   "source": [
    "### 2. Распределение студентов по курсам."
   ]
  },
  {
   "cell_type": "markdown",
   "metadata": {
    "id": "VNqXUpr4hLu3"
   },
   "source": [
    "Теперь вам нужно распределить студентов по осенним курсам по выбору, учитывая их предпочтения."
   ]
  },
  {
   "cell_type": "markdown",
   "metadata": {
    "id": "5cAR2FgphLu3"
   },
   "source": [
    "Алгоритм распределения студентов по курсам:\n",
    "1. По умолчанию на каждой дисциплине по выбору у 3 и 4 курсов может учиться 1 группа (до 30 студентов). Исключения описаны ниже. На blended-дисциплинах для четверокурсников количество мест не ограничено.\n",
    "2. Проводится первая волна отбора. Для каждой дисциплины формируется список тех, кто указал её первым приоритетом (если студент должен выбрать два курса по выбору, то для него дисциплины, которые он указал первым и вторым приоритетом, рассматриваются как дисциплины первого приоритета). Если желающих больше, чем мест, то выбирается топ по перцентилю рейтинга.\n",
    "3. На дисциплинах, где остались места после первой волны, формируются списки тех, кто выбрал их вторым приоритетом, и места заполняются лучшими по перцентили рейтинга студентами. После этого проводится такая же процедура для дисциплин третьего приоритета.\n",
    "4. Если студент не попал на необходимое количество курсов по итогам трёх волн, с ним связывается учебный офис и решает вопрос в индивидуальном порядке."
   ]
  },
  {
   "cell_type": "markdown",
   "metadata": {
    "id": "BiNKVwS6hLu3"
   },
   "source": [
    "Обращаем ваше внимание на следующие детали:\n",
    "\n",
    "- По умолчанию студент выбирает один осенний и один весенний курс по выбору, а также четверокурсники выбирают один blended-курс. Студенты групп 17-го года специализаций МОП и ТИ выбирают по 2 осенних и 2 весенних курса по выбору, также студенты групп 18' специализации МИ выбирают 2 осенних курса. <i>Для студентов, которые выбирают 2 курса (например, осенних) первый приоритет — <code>fall_1</code> и <code>fall_2</code>, второй приоритет — <code>fall_3</code>. Такие студенты участвуют только в двух волнах отбора</i>.\n",
    "\n",
    "- Студенты специализации МОП не могут выбрать весенним курсом по выбору Машинное обучение 2. <i>Если студент специализации МОП выбрал Машинное обучение 2, то его приоритеты сдвигаются. Из-за совпадений первого и второго курса по выбору двигать приоритеты не надо</i>.\n",
    "\n",
    "- Blended-курсы не трогайте, по ним не надо распределять, на другие курсы они никак не влияют.\n",
    "\n",
    "- Постарайтесь воздержаться от использования циклов там, где это возможно. <i>Допустимо итерироваться по <b>курсам</b>, на которые проводится отбор, и по <b>волнам</b> отбора. Если вы придумаете, как обойтись и без этих циклов, то на усмотрение проверяющего могут быть добавлены бонусные баллы. <b>Дублирование кода не признается успешным избавлением от циклов</b></i>\n",
    "\n",
    "- На выходе ожидается файл res_fall.csv с результатами распределения на осенние курсы по выбору. Файл должен быть следующего формата:\n",
    "\n",
    "    * три столбца: ID, course1, course2\n",
    "    \n",
    "    * Если студент не попал на курс, но должен был, то вместо названия курса в ячейке должна быть строка \"???\"\n",
    "    \n",
    "    * Если студент должен выбрать только один курс, то в колонке course2 для него должна стоять строка \"-\"\n",
    "    \n",
    "    * Если студент должен выбрать два курса по выбору, то порядок в колонках course1 и course2 не важен.\n",
    "    \n",
    "    * Формат csv: для сохранения воспользуйтесь df.to_csv('solution.csv', index=None)\n",
    "    \n",
    "\n",
    "Для работы вам могут понадобиться следующие данные:\n",
    "\n",
    "- Результаты опроса (вы уже использовали этот файл в первой части задания, но на всякий случай ссылка: https://www.dropbox.com/s/f4rm8sjc3v99p0m/_end_seminar.xlsx?dl=0)\n",
    "\n",
    "- Соответствие номеров групп специализациям:\n",
    "\n",
    "    * 171, 172 - МОП; 173 - ТИ; 174 — АДИС; 175, 176 — РС; 177 — АПР\n",
    "    \n",
    "    * У студентов 18-го года номера групп соответствуют номерам до распределения по специализациям.\n",
    "\n",
    "- Ограничения по количеству мест на курсах по выбору:\n",
    "\n",
    "    * Осенние: везде 30 мест, кроме Statistical Learning Theory (60 мест), Высокопроизводительных вычислений (60 мест), Анализа неструктурированных данных ($\\infty$ мест)\n",
    "\n",
    "    * Весенние: везде 30 мест, кроме Обучения с подкреплением (60 мест), Анализа данных в бизнесе (60 мест).\n",
    "\n",
    "\n",
    "Кстати, убедитесь, что в данных больше нет пропусков и повторных записей."
   ]
  },
  {
   "cell_type": "markdown",
   "metadata": {
    "id": "o5t55IcQhLu4"
   },
   "source": [
    "#### 0. Проверка\n",
    "\n",
    "Для начала давайте убедимся, что вы успешно выполнили задания первой части и проверим ваши данные на наличие пропусков и повторов:"
   ]
  },
  {
   "cell_type": "code",
   "execution_count": 245,
   "metadata": {
    "id": "34HWEdVdhLu4"
   },
   "outputs": [],
   "source": [
    "assert data.shape[0] == 347, 'В таблице остались повторы или потеряны данные'\n",
    "\n",
    "assert data.isna().sum().sum() == 0, 'В таблице остались пропуски'"
   ]
  },
  {
   "cell_type": "markdown",
   "metadata": {
    "id": "_ImUFyG3hLu4"
   },
   "source": [
    "Если вы не получили AssertionError, то можете продолжать."
   ]
  },
  {
   "cell_type": "markdown",
   "metadata": {
    "id": "LTGSwwvAhLu4"
   },
   "source": [
    "#### 1. [1 балл] Создайте новый признак, обозначающий, сколько осенних курсов должен выбрать студент\n",
    "\n",
    "В этом вам может помочь информация о специализации и группе студента."
   ]
  },
  {
   "cell_type": "markdown",
   "metadata": {},
   "source": [
    "Сначала создадим функцию, которая, глядя на информацию о студенте, будет определять, сколько осенних курсов ему определить. \n",
    "\n",
    "* Если студент обучается в группах 171, 172 или 173, то ему полагается 2 осенних курса\n",
    "* Если студент не в этих группах, но на специализации МИ, то ему также полагается 2 осенних курса\n",
    "* Во всех остальных случаях студент будет выбирать только 1 осенний курс"
   ]
  },
  {
   "cell_type": "code",
   "execution_count": 246,
   "metadata": {
    "id": "ouxo0kHFhLu4"
   },
   "outputs": [],
   "source": [
    "# (￣^￣)ゞ\n",
    "def detect_course_num(row):\n",
    "    if 171 <= row['17_group'] <= 173:\n",
    "        return 2\n",
    "    elif row['is_mi'] == 1:\n",
    "        return 2\n",
    "    else:\n",
    "        return 1"
   ]
  },
  {
   "cell_type": "code",
   "execution_count": 249,
   "metadata": {},
   "outputs": [],
   "source": [
    "data['fall_course_num'] = data.apply(lambda row: detect_course_num(row), axis=1)"
   ]
  },
  {
   "cell_type": "markdown",
   "metadata": {},
   "source": [
    "Поскольку ниже есть проверка, где столбец 'id' - это столбец, а не индекс, сделаем ресет индекса:"
   ]
  },
  {
   "cell_type": "code",
   "execution_count": 255,
   "metadata": {},
   "outputs": [],
   "source": [
    "data = data.reset_index()"
   ]
  },
  {
   "cell_type": "markdown",
   "metadata": {
    "id": "S47aq1sQhLu4"
   },
   "source": [
    "Проверка:"
   ]
  },
  {
   "cell_type": "code",
   "execution_count": 258,
   "metadata": {
    "id": "OlOgzDKDhLu5"
   },
   "outputs": [],
   "source": [
    "col_name = 'fall_course_num'\n",
    "\n",
    "assert(data[data['id'] == '2662600c2c37e11e62f6ee0b88452f22'][col_name] == 2).all()\n",
    "assert(data[data['id'] == 'd555d2805e1d93d4f023e57dc4c8f403'][col_name] == 2).all()\n",
    "assert(data[data['id'] == '8fe79f84f36e3a5d2d6745621321302c'][col_name] == 1).all()\n",
    "assert(data[data['id'] == 'e4caca755ee0bdd711e18fb8084958b5'][col_name] == 1).all()"
   ]
  },
  {
   "cell_type": "markdown",
   "metadata": {
    "id": "VtQYhwuPhLu5"
   },
   "source": [
    "#### 2. [2 балла] Распределите студентов в соответствии с первым приоритетом"
   ]
  },
  {
   "cell_type": "markdown",
   "metadata": {},
   "source": [
    "Сначала создадим функцию, которая будет назначать студенту 1 курс или 2 курса в зависимости от того, сколько осенних курсов ему полагается."
   ]
  },
  {
   "cell_type": "code",
   "execution_count": 590,
   "metadata": {
    "id": "6gWfT3vqhLu5"
   },
   "outputs": [],
   "source": [
    "# (￣^￣)ゞ\n",
    "def courses_fall(row):\n",
    "    if row['fall_course_num'] == 2:\n",
    "        if row['fall_1'] == row['fall_2']:\n",
    "            return [row['fall_1'], np.nan]\n",
    "        return [row['fall_1'], row['fall_2']]\n",
    "    elif row['fall_course_num'] == 1:\n",
    "        return [row['fall_1'], '-']"
   ]
  },
  {
   "cell_type": "markdown",
   "metadata": {},
   "source": [
    "Дальше раздаем людям курсы, но пока не смотрим на допустимое количество людей:"
   ]
  },
  {
   "cell_type": "code",
   "execution_count": 591,
   "metadata": {},
   "outputs": [],
   "source": [
    "data['fall_first'] = data.apply(lambda row: courses_fall(row)[0], axis=1)\n",
    "data['fall_second'] = data.apply(lambda row: courses_fall(row)[1], axis=1)"
   ]
  },
  {
   "cell_type": "code",
   "execution_count": 592,
   "metadata": {},
   "outputs": [],
   "source": [
    "# выпишем все осенние курсы\n",
    "courses_fall = np.unique(data[['fall_1', 'fall_2', 'fall_3']].values)\n",
    "# отсортируем студентов по перцентилю\n",
    "data = data.sort_values('percentile').reset_index(drop=True)"
   ]
  },
  {
   "cell_type": "code",
   "execution_count": 593,
   "metadata": {},
   "outputs": [],
   "source": [
    "# создадим словарь с курсами и количеством мест\n",
    "c_places = {}\n",
    "for el in courses_fall:\n",
    "    c_places[el] = []\n",
    "    if el == 'Statistical Learning Theory' or el == 'Высокопроизводительные вычисления':\n",
    "        c_places[el].append(60)\n",
    "    elif el == 'Анализ неструктурированных данных':\n",
    "        c_places[el].append(float('inf'))\n",
    "    else:\n",
    "        c_places[el].append(30)"
   ]
  },
  {
   "cell_type": "markdown",
   "metadata": {},
   "source": [
    "Тут создадим функцию, которая будет отправлять студентов, не влезающих на курс, на вторую волну. На вход функции подается строка таблицы, навзвание курса и его номер (первый или второй), от которого нужно данного студента отписать. Если студент обнаружен в списке тех, кто не попадает на курс, то вместо данного курса ставится значение NaN, а если же студент проходит по количеству мест или вообще не записан на курс, то значение курса не меняется."
   ]
  },
  {
   "cell_type": "code",
   "execution_count": 594,
   "metadata": {},
   "outputs": [],
   "source": [
    "def unsubscribe(row, el, course):\n",
    "    if row['id'] in not_going['id'].values and row[course] == el:\n",
    "        return np.nan\n",
    "    else:\n",
    "        return row[course]"
   ]
  },
  {
   "cell_type": "markdown",
   "metadata": {},
   "source": [
    "Далее для каждого курса в списке всех осенних курсов происходит следующее: \n",
    "1. сначала считается число студентов, попавших на курс по первому приоритету\n",
    "2. затем это число записывается словарь с количествами допустимых мест (поскольку курсов немного, можем себе позволить хранить такие данные, чтобы потом наглядно видеть, что поменялось)\n",
    "3. если оказывается, что количество студентов, желающих попасть на курс, больше, чем курс может вместить, то:\n",
    "    * сначала находим всех тех, кто желает попасть на курс;\n",
    "    * затем отделяем тех, кто не проходит по перцентилю;\n",
    "    * затем для всех непрошедших заменяем в таблице данный курс на NaN\n",
    "4. Чтобы посмотреть, как все сработало, заносим получившиеся числа в словарь с местами на курсах"
   ]
  },
  {
   "cell_type": "code",
   "execution_count": 595,
   "metadata": {},
   "outputs": [],
   "source": [
    "for el in courses_fall:\n",
    "    num_students = data[data['fall_first'] == el].shape[0] + data[data['fall_second'] == el].shape[0]\n",
    "    # добавляю в словарь, чтобы удобно было отслеживать\n",
    "    c_places[el].append(num_students)\n",
    "    \n",
    "    if num_students > c_places[el][0]:\n",
    "        # найдем всех, записавшихся на данный курс\n",
    "        df1 = data[data['fall_first'] == el]\n",
    "        df2 = data[data['fall_second'] == el]\n",
    "        # найдем тех, кто не попадает на него, отсортировав по перцентилю\n",
    "        not_going = pd.concat([df1, df2]).sort_values('percentile').tail(num_students - c_places[el][0])\n",
    "        data['fall_first'] = data.apply(lambda row: unsubscribe(row, el, 'fall_first'), axis=1)\n",
    "        data['fall_second'] = data.apply(lambda row: unsubscribe(row, el, 'fall_second'), axis=1)\n",
    "    \n",
    "    num_students = data[data['fall_first'] == el].shape[0] + data[data['fall_second'] == el].shape[0]\n",
    "    c_places[el].append(num_students)"
   ]
  },
  {
   "cell_type": "markdown",
   "metadata": {},
   "source": [
    "Вот тот самый словарь, в котором видно, что курсы с перебором студентов были перераспределены"
   ]
  },
  {
   "cell_type": "code",
   "execution_count": 596,
   "metadata": {
    "scrolled": true
   },
   "outputs": [
    {
     "data": {
      "text/plain": [
       "{'Statistical Learning Theory': [60, 33, 33],\n",
       " 'Анализ неструктурированных данных': [inf, 48, 48],\n",
       " 'Байесовские методы машинного обучения': [30, 24, 24],\n",
       " 'Безопасность компьютерных систем': [30, 115, 30],\n",
       " 'Высокопроизводительные вычисления': [60, 44, 44],\n",
       " 'Глубинное обучение в обработке звука': [30, 23, 23],\n",
       " 'Матричные вычисления': [30, 15, 15],\n",
       " 'Моделирование временных рядов': [30, 31, 30],\n",
       " 'Принятие решений в условиях риска и неопределённости': [30, 8, 8],\n",
       " 'Сбор и обработка данных с помощью краудсорсинга': [30, 50, 30],\n",
       " 'Теория баз данных': [30, 14, 14],\n",
       " 'Язык SQL': [30, 29, 29]}"
      ]
     },
     "execution_count": 596,
     "metadata": {},
     "output_type": "execute_result"
    }
   ],
   "source": [
    "c_places"
   ]
  },
  {
   "cell_type": "markdown",
   "metadata": {
    "id": "vc5zXP5hhLu5"
   },
   "source": [
    "Здесь для проверки приведена таблица, в которой есть 2 дополнительные колонки:\n",
    "    \n",
    "    1) is_first_place - является ли студент лучшим по перцентили хотя бы на одном из курсов, куда он был зачислен \n",
    "    (True / NaN)\n",
    "    \n",
    "    2) is_last_place  - является ли студент худшим по перцентили хотя бы на одном из курсов, куда он был зачислен (True / NaN)"
   ]
  },
  {
   "cell_type": "code",
   "execution_count": 576,
   "metadata": {
    "id": "uZTkGEq5hLu5"
   },
   "outputs": [],
   "source": [
    "!wget  -O '_2_task_check.csv' -q 'https://www.dropbox.com/s/v8o2zzq3iz5gc9w/_2_task_check.csv?dl=0'"
   ]
  },
  {
   "cell_type": "code",
   "execution_count": 577,
   "metadata": {},
   "outputs": [],
   "source": [
    "check_df = pd.read_csv('2_task_check.csv')"
   ]
  },
  {
   "cell_type": "markdown",
   "metadata": {
    "id": "E_fbyB9qhLu5"
   },
   "source": [
    "После распределения студентов в соответствии с первым приоритетом добавьте в свой датафрейм аналогичные признаки и запустите проверку:"
   ]
  },
  {
   "cell_type": "markdown",
   "metadata": {},
   "source": [
    "Тут мы создаем словарь с ключами в виде названий осенних курсов и значениями в виде списка, на нулевом месте которого минимальный перцентиль по курсу, а на первом - максимальный"
   ]
  },
  {
   "cell_type": "code",
   "execution_count": 597,
   "metadata": {},
   "outputs": [],
   "source": [
    "courses_fall = np.unique(data[['fall_1', 'fall_2', 'fall_3']].values)\n",
    "courses_fall_perc = {}\n",
    "for el in courses_fall:\n",
    "    courses_fall_perc[el] = [-1, -1]\n",
    "    courses_fall_perc[el][0] = min(data[(data['fall_first'] == el) | (data['fall_second'] == el)]['percentile'])\n",
    "    \n",
    "    courses_fall_perc[el][1] = max(data[(data['fall_first'] == el) | (data['fall_second'] == el)]['percentile'])"
   ]
  },
  {
   "cell_type": "markdown",
   "metadata": {},
   "source": [
    "Дальше создаем функцию, которая будет определять первого и последнего по перцентилю студента курса. На вход она получает строку таблицы и число 0 или 1 (в зависимости от того, определяем мы лучших студентов или худших). Сначала идет проверка по первому из выбранных курсов: он должен быть не NaN и перцентиль по нему должен соответствовать лучшему/худшему на курсе - тогда функция вернет True. Потом идет проверка по второму курсу: точно такая же, как и для первого курса, только дополнительно проверяется, нет ли там прочерка - тогда функция тоже возвращает True. Если после этих проверок функция ничего не вернула, возвращается NaN."
   ]
  },
  {
   "cell_type": "code",
   "execution_count": 598,
   "metadata": {},
   "outputs": [],
   "source": [
    "def is_first_last(row, fl):\n",
    "    if row['fall_first'] is not np.nan:\n",
    "        if row['percentile'] == courses_fall_perc[row['fall_first']][fl]:\n",
    "            return True\n",
    "    if row['fall_second'] is not np.nan:\n",
    "        if row['fall_second'] != '-' and row['percentile'] == courses_fall_perc[row['fall_second']][fl]:\n",
    "            return True\n",
    "    return np.nan"
   ]
  },
  {
   "cell_type": "code",
   "execution_count": 599,
   "metadata": {},
   "outputs": [],
   "source": [
    "data['is_first_place'] = data.apply(lambda row: is_first_last(row, 0), axis=1)\n",
    "data['is_last_place'] = data.apply(lambda row: is_first_last(row, 1), axis=1)"
   ]
  },
  {
   "cell_type": "code",
   "execution_count": 600,
   "metadata": {
    "id": "GOAzQeYehLu6"
   },
   "outputs": [],
   "source": [
    "fir_col_name = 'is_first_place'\n",
    "last_col_name = 'is_last_place'\n",
    "\n",
    "\n",
    "assert((data[data[fir_col_name].isna() == False][['id']].sort_values('id').reset_index(drop=True)\n",
    "        ==\n",
    "        check_df[check_df['is_first_place'].isna() == False][['id']].sort_values('id').reset_index(drop=True)\n",
    "       ).id.values).all()\n",
    "\n",
    "\n",
    "assert((data[data[last_col_name].isna() == False][['id']].sort_values('id').reset_index(drop=True)\n",
    "       == \n",
    "       check_df[check_df['is_last_place'].isna() == False][['id']].sort_values('id').reset_index(drop=True)\n",
    "      ).id.values).all()"
   ]
  },
  {
   "cell_type": "markdown",
   "metadata": {
    "id": "RO6DwNNFhLu6"
   },
   "source": [
    "#### 3. [3 балла] Проведите все три волны отбора студентов на курсы по выбору"
   ]
  },
  {
   "cell_type": "markdown",
   "metadata": {},
   "source": [
    "Первая волна отбора уже проведена выше, ее итоги следующие:\n",
    "* часть студентов не зачислена на желаемые курсы, они отправляются на вторую волну\n",
    "* все остальные студенты зачислены на курсы по первому приоритету\n",
    "* все курсы либо заполнены, либо имеют недобор"
   ]
  },
  {
   "cell_type": "markdown",
   "metadata": {},
   "source": [
    "Сначала создадим функцию записи студента на курс. На вход подается строка таблицы, курс, на который идет дозапись, и номер курса ('first' или 'second')."
   ]
  },
  {
   "cell_type": "code",
   "execution_count": 601,
   "metadata": {},
   "outputs": [],
   "source": [
    "def enroll(row, course, f_s):\n",
    "    column = f'fall_{f_s}'\n",
    "    if row['id'] in chosen:\n",
    "        if row[column] is np.nan and row['fall_first'] != course:\n",
    "            return course\n",
    "    return row[column]"
   ]
  },
  {
   "cell_type": "markdown",
   "metadata": {},
   "source": [
    "Дальше проведем вторую и третью волны отбора:\n",
    "1. для каждого курса смотрим, есть ли на нем свободные места\n",
    "2. затем смотрим, есть ли студенты, указавшие вторым/третьим приоритетом данный курс и записаны ли эти студенты на требуемое количество курсов\n",
    "3. если такие студенты найдены, из них выбирается максимальное допустимое количество и они добавляются на курс с помощью функции выше\n",
    "4. в конце обновляем количество студентов на курсе и переходим к следующему курсу"
   ]
  },
  {
   "cell_type": "code",
   "execution_count": 602,
   "metadata": {
    "id": "jn2OOrLjhLu6"
   },
   "outputs": [],
   "source": [
    "# индексы максимального и фактического количества мест на курсе\n",
    "max_pl = 0\n",
    "now_pl = -1\n",
    "for i in range(2):\n",
    "    # проитерируем по курсам:\n",
    "    for el in c_places.keys():\n",
    "        # проверка: есть ли недобор на курс\n",
    "        if c_places[el][now_pl] < c_places[el][max_pl]:\n",
    "            # условие выбора студентов - только студенты, не записанные на один из курсов\n",
    "            cond_student = (\n",
    "                (data['fall_first'].isna()) | (data['fall_second'].isna())) & (\n",
    "                data['fall_first'] != el) & (data['fall_second'] != el)\n",
    "            \n",
    "            cond_course = (\n",
    "                data['fall_2'] == el) & (data['fall_course_num'] == 1 - i) | (\n",
    "                data['fall_3'] == el) & (data['fall_course_num'] == 2 - i)\n",
    "            # количество свободных мест на курсе\n",
    "            if c_places[el][max_pl] != float('inf'):\n",
    "                free_places = c_places[el][max_pl] - c_places[el][now_pl]\n",
    "            else:\n",
    "                free_places = 1907981213\n",
    "            # id студентов, прошедших на данный курс по (i+2) приоритету\n",
    "            chosen = data[(cond_student) & (cond_course)].head(free_places)['id'].values\n",
    "        \n",
    "            if chosen.shape[0] > 0:\n",
    "                data['fall_first'] = data.apply(lambda row: enroll(row, el, 'first'), axis=1)\n",
    "                data['fall_second'] = data.apply(lambda row: enroll(row, el, 'second'), axis=1)\n",
    "        \n",
    "                # сколько студентов добавилось к курсу\n",
    "                c_places[el][now_pl] += chosen.shape[0] # c_places[el][now_pl] + "
   ]
  },
  {
   "cell_type": "markdown",
   "metadata": {},
   "source": [
    "Внизу словарь, в котором можно увидеть порядок записи студентов на курс. Для каждого курса **первое** число показывает число мест, **второе** - количество желающих попасть на него по первому приоритету, **третье** - количество попавших на курс в результате трех волн отбора."
   ]
  },
  {
   "cell_type": "code",
   "execution_count": 603,
   "metadata": {
    "scrolled": false
   },
   "outputs": [
    {
     "data": {
      "text/plain": [
       "{'Statistical Learning Theory': [60, 33, 43],\n",
       " 'Анализ неструктурированных данных': [inf, 48, 56],\n",
       " 'Байесовские методы машинного обучения': [30, 24, 25],\n",
       " 'Безопасность компьютерных систем': [30, 115, 30],\n",
       " 'Высокопроизводительные вычисления': [60, 44, 60],\n",
       " 'Глубинное обучение в обработке звука': [30, 23, 30],\n",
       " 'Матричные вычисления': [30, 15, 30],\n",
       " 'Моделирование временных рядов': [30, 31, 30],\n",
       " 'Принятие решений в условиях риска и неопределённости': [30, 8, 10],\n",
       " 'Сбор и обработка данных с помощью краудсорсинга': [30, 50, 30],\n",
       " 'Теория баз данных': [30, 14, 24],\n",
       " 'Язык SQL': [30, 29, 30]}"
      ]
     },
     "execution_count": 603,
     "metadata": {},
     "output_type": "execute_result"
    }
   ],
   "source": [
    "c_places"
   ]
  },
  {
   "cell_type": "markdown",
   "metadata": {},
   "source": [
    "После получения результатов заполним оставшиеся NaN нужными нам \"???\":"
   ]
  },
  {
   "cell_type": "code",
   "execution_count": 604,
   "metadata": {},
   "outputs": [],
   "source": [
    "data[['fall_first', 'fall_second']] = data[['fall_first', 'fall_second']].fillna(\"???\")"
   ]
  },
  {
   "cell_type": "code",
   "execution_count": 605,
   "metadata": {},
   "outputs": [],
   "source": [
    "data = data.rename(columns={'fall_first': \"course1\", 'fall_second': \"course2\", 'id':'ID'})\n",
    "data[['ID', \"course1\", \"course2\"]].to_csv('res_fall.csv', index=None)\n",
    "data = data.rename(columns={\"course1\":'fall_first' , \"course2\": \"fall_second\", 'ID':'id'})"
   ]
  },
  {
   "cell_type": "markdown",
   "metadata": {
    "id": "1xQjV9BuhLu6"
   },
   "source": [
    "**Отправьте свой файл res_fall.csv в контест (https://contest.yandex.ru/contest/29176/problems/A/) и прикрепите/укажите ниже ваш никнейм и ссылку на успешную посылку.**"
   ]
  },
  {
   "cell_type": "markdown",
   "metadata": {
    "id": "QRTbPrgbhLu6"
   },
   "source": [
    "*Дисклеймер:*\n",
    "\n",
    "Контест выдаётся для самопроверки. Если ваша посылка получила ОК, то код, скорее всего, правильный. Но при этом оценка всё равно может быть снижена в случае обнаружения неэффективностей или ошибок в коде. Если вы сдадите в AnyTask очевидно неработающий код или ноутбук без кода, но при этом в контест будет сдан корректный файл, то это будет расцениваться как плагиат."
   ]
  },
  {
   "cell_type": "markdown",
   "metadata": {
    "id": "1IkQa_gdhLu6"
   },
   "source": [
    "На всякий случай просим вас сдать вместе с ноутбуком файл res_fall.csv в anytask"
   ]
  },
  {
   "cell_type": "markdown",
   "metadata": {
    "id": "k8d711qGhLu7"
   },
   "source": [
    "**Дополнительное задание. [2 бонусных балла] Распределите таким же образом студентов еще и на весенние курсы по выбору.**\n",
    "\n",
    "Если ваш код был хорошо структурирован, то это не составит проблем. \n",
    "\n",
    "Если вы выполнили это задание, сдайте среди прочего файл res_spring.csv в таком же формате, как и res_fall.csv."
   ]
  },
  {
   "cell_type": "code",
   "execution_count": null,
   "metadata": {
    "id": "hwmusOGThLu7",
    "scrolled": false
   },
   "outputs": [],
   "source": []
  },
  {
   "cell_type": "code",
   "execution_count": 613,
   "metadata": {
    "id": "ouxo0kHFhLu4"
   },
   "outputs": [],
   "source": [
    "# (￣^￣)ゞ\n",
    "def detect_course_num(row):\n",
    "    if 171 <= row['17_group'] <= 173:\n",
    "        return 2\n",
    "    else:\n",
    "        return 1"
   ]
  },
  {
   "cell_type": "code",
   "execution_count": 614,
   "metadata": {},
   "outputs": [],
   "source": [
    "data['spring_course_num'] = data.apply(lambda row: detect_course_num(row), axis=1)"
   ]
  },
  {
   "cell_type": "markdown",
   "metadata": {},
   "source": [
    "Ниже функция, перераспределяющая приоритеты для тех, кто выбрал МО2, хотя не должен был. На вход подается строка таблицы, на выходе получаются перераспределенные или нетронутые приоритеты"
   ]
  },
  {
   "cell_type": "code",
   "execution_count": 627,
   "metadata": {},
   "outputs": [],
   "source": [
    "def slide_priorities(row):\n",
    "    a1, a2, a3 = row['spring_1'], row['spring_2'], row['spring_3']\n",
    "    if 171 <= row['17_group'] <= 172 or row['is_ml_student'] == 1:\n",
    "        if row['spring_1'] == 'Машинное обучение 2':\n",
    "            a1, a2= row['spring_2'], row['spring_3']\n",
    "        if row['spring_2'] == 'Машинное обучение 2':\n",
    "            a2 = row['spring_3']\n",
    "        if row['spring_3'] == 'Машинное обучение 2':\n",
    "            a3 = row['spring_2']\n",
    "    return (a1, a2, a3)\n",
    "    \n",
    "data['spring_1'], data['spring_2'], data['spring_3'] = data.apply(slide_priorities, axis=1, result_type='expand').T.values"
   ]
  },
  {
   "cell_type": "code",
   "execution_count": 632,
   "metadata": {
    "id": "6gWfT3vqhLu5"
   },
   "outputs": [],
   "source": [
    "# (￣^￣)ゞ\n",
    "def courses_spring(row):\n",
    "    if row['spring_course_num'] == 2:\n",
    "        if row['spring_1'] == row['spring_2']:\n",
    "            return (row['spring_1'], np.nan)\n",
    "        return [row['spring_1'], row['spring_2']]\n",
    "    elif row['spring_course_num'] == 1:\n",
    "        return (row['spring_1'], '-')"
   ]
  },
  {
   "cell_type": "markdown",
   "metadata": {},
   "source": [
    "Дальше раздаем людям курсы, но пока не смотрим на допустимое количество людей:"
   ]
  },
  {
   "cell_type": "code",
   "execution_count": 634,
   "metadata": {},
   "outputs": [],
   "source": [
    "data['spring_first'], data['spring_second'] = data.apply(courses_spring, axis=1, result_type='expand').T.values"
   ]
  },
  {
   "cell_type": "code",
   "execution_count": 635,
   "metadata": {},
   "outputs": [],
   "source": [
    "# выпишем все весенние курсы\n",
    "courses_spring = np.unique(data[['spring_1', 'spring_2', 'spring_3']].values)"
   ]
  },
  {
   "cell_type": "code",
   "execution_count": 636,
   "metadata": {},
   "outputs": [],
   "source": [
    "# создадим словарь с курсами и количеством мест\n",
    "c_places_spring = {}\n",
    "for el in courses_spring:\n",
    "    c_places_spring[el] = []\n",
    "    if el == 'Обучение с подкреплением' or el == 'Анализ данных в бизнесе':\n",
    "        c_places_spring[el].append(60)\n",
    "    else:\n",
    "        c_places_spring[el].append(30)"
   ]
  },
  {
   "cell_type": "markdown",
   "metadata": {},
   "source": [
    "Тут создадим функцию, которая будет отправлять студентов, не влезающих на курс, на вторую волну. На вход функции подается строка таблицы, навзвание курса и его номер (первый или второй), от которого нужно данного студента отписать. Если студент обнаружен в списке тех, кто не попадает на курс, то вместо данного курса ставится значение NaN, а если же студент проходит по количеству мест или вообще не записан на курс, то значение курса не меняется."
   ]
  },
  {
   "cell_type": "code",
   "execution_count": 637,
   "metadata": {},
   "outputs": [],
   "source": [
    "def unsubscribe(row, el, course):\n",
    "    if row['id'] in not_going['id'].values and row[course] == el:\n",
    "        return np.nan\n",
    "    else:\n",
    "        return row[course]"
   ]
  },
  {
   "cell_type": "markdown",
   "metadata": {},
   "source": [
    "Далее для каждого курса в списке всех осенних курсов происходит следующее: \n",
    "1. сначала считается число студентов, попавших на курс по первому приоритету\n",
    "2. затем это число записывается словарь с количествами допустимых мест (поскольку курсов немного, можем себе позволить хранить такие данные, чтобы потом наглядно видеть, что поменялось)\n",
    "3. если оказывается, что количество студентов, желающих попасть на курс, больше, чем курс может вместить, то:\n",
    "    * сначала находим всех тех, кто желает попасть на курс;\n",
    "    * затем отделяем тех, кто не проходит по перцентилю;\n",
    "    * затем для всех непрошедших заменяем в таблице данный курс на NaN\n",
    "4. Чтобы посмотреть, как все сработало, заносим получившиеся числа в словарь с местами на курсах"
   ]
  },
  {
   "cell_type": "code",
   "execution_count": 639,
   "metadata": {},
   "outputs": [],
   "source": [
    "for el in courses_spring:\n",
    "    num_students = data[data['spring_first'] == el].shape[0] + data[data['spring_second'] == el].shape[0]\n",
    "    # добавляю в словарь, чтобы удобно было отслеживать\n",
    "    c_places_spring[el].append(num_students)\n",
    "    \n",
    "    if num_students > c_places_spring[el][0]:\n",
    "        # найдем всех, записавшихся на данный курс\n",
    "        df1 = data[data['spring_first'] == el]\n",
    "        df2 = data[data['spring_second'] == el]\n",
    "        # найдем тех, кто не попадает на него, отсортировав по перцентилю\n",
    "        not_going = pd.concat([df1, df2]).sort_values('percentile').tail(num_students - c_places_spring[el][0])\n",
    "        data['spring_first'] = data.apply(lambda row: unsubscribe(row, el, 'spring_first'), axis=1)\n",
    "        data['spring_second'] = data.apply(lambda row: unsubscribe(row, el, 'spring_second'), axis=1)\n",
    "    \n",
    "    num_students = data[data['spring_first'] == el].shape[0] + data[data['spring_second'] == el].shape[0]\n",
    "    c_places_spring[el].append(num_students)"
   ]
  },
  {
   "cell_type": "markdown",
   "metadata": {},
   "source": [
    "Вот тот самый словарь, в котором видно, что курсы с перебором студентов были перераспределены"
   ]
  },
  {
   "cell_type": "code",
   "execution_count": 641,
   "metadata": {
    "scrolled": true
   },
   "outputs": [
    {
     "data": {
      "text/plain": [
       "{'Анализ данных в бизнесе': [60, 19, 19],\n",
       " 'Генеративные модели в машинном обучении': [30, 16, 16],\n",
       " 'Дискретная оптимизация': [30, 31, 30],\n",
       " 'Дополнительные главы прикладной статистики': [30, 11, 11],\n",
       " 'Компьютерное зрение': [30, 29, 29],\n",
       " 'Компьютерные сети': [30, 43, 30],\n",
       " 'Конфликты и кооперация': [30, 19, 19],\n",
       " 'Машинное обучение 2': [30, 31, 30],\n",
       " 'Методы сжатия и передачи медиаданных': [30, 22, 22],\n",
       " 'Обучение с подкреплением': [60, 61, 60],\n",
       " 'Проектирование и разработка высоконагруженных сервисов': [30, 46, 30],\n",
       " 'Промышленное программирование на языке Java': [30, 63, 30],\n",
       " 'Символьные вычисления': [30, 8, 8],\n",
       " 'Системы баз данных': [30, 8, 8],\n",
       " 'Численные методы': [30, 9, 9]}"
      ]
     },
     "execution_count": 641,
     "metadata": {},
     "output_type": "execute_result"
    }
   ],
   "source": [
    "c_places_spring"
   ]
  },
  {
   "cell_type": "code",
   "execution_count": 642,
   "metadata": {},
   "outputs": [],
   "source": [
    "def enroll(row, course, f_s):\n",
    "    column = f'spring_{f_s}'\n",
    "    if row['id'] in chosen:\n",
    "        if row[column] is np.nan and row['spring_first'] != course:\n",
    "            return course\n",
    "    return row[column]"
   ]
  },
  {
   "cell_type": "markdown",
   "metadata": {},
   "source": [
    "Дальше проведем вторую и третью волны отбора:\n",
    "1. для каждого курса смотрим, есть ли на нем свободные места\n",
    "2. затем смотрим, есть ли студенты, указавшие вторым/третьим приоритетом данный курс и записаны ли эти студенты на требуемое количество курсов\n",
    "3. если такие студенты найдены, из них выбирается максимальное допустимое количество и они добавляются на курс с помощью функции выше\n",
    "4. в конце обновляем количество студентов на курсе и переходим к следующему курсу"
   ]
  },
  {
   "cell_type": "code",
   "execution_count": 643,
   "metadata": {
    "id": "jn2OOrLjhLu6"
   },
   "outputs": [],
   "source": [
    "# индексы максимального и фактического количества мест на курсе\n",
    "max_pl = 0\n",
    "now_pl = -1\n",
    "for i in range(2):\n",
    "    # проитерируем по курсам:\n",
    "    for el in c_places_spring.keys():\n",
    "        # проверка: есть ли недобор на курс\n",
    "        if c_places_spring[el][now_pl] < c_places_spring[el][max_pl]:\n",
    "            # условие выбора студентов - только студенты, не записанные на один из курсов\n",
    "            cond_student = (\n",
    "                (data['spring_first'].isna()) | (data['spring_second'].isna())) & (\n",
    "                data['spring_first'] != el) & (data['spring_second'] != el)\n",
    "            \n",
    "            cond_course = (\n",
    "                data['spring_2'] == el) & (data['spring_course_num'] == 1 - i) | (\n",
    "                data['spring_3'] == el) & (data['spring_course_num'] == 2 - i)\n",
    "            # количество свободных мест на курсе\n",
    "            free_places = c_places_spring[el][max_pl] - c_places_spring[el][now_pl]\n",
    "            \n",
    "            # id студентов, прошедших на данный курс по (i+2) приоритету\n",
    "            chosen = data[(cond_student) & (cond_course)].head(free_places)['id'].values\n",
    "        \n",
    "            if chosen.shape[0] > 0:\n",
    "                data['spring_first'] = data.apply(lambda row: enroll(row, el, 'first'), axis=1)\n",
    "                data['spring_second'] = data.apply(lambda row: enroll(row, el, 'second'), axis=1)\n",
    "        \n",
    "                # сколько студентов добавилось к курсу\n",
    "                c_places_spring[el][now_pl] += chosen.shape[0] # c_places[el][now_pl] + "
   ]
  },
  {
   "cell_type": "markdown",
   "metadata": {},
   "source": [
    "Внизу словарь, в котором можно увидеть порядок записи студентов на курс. Для каждого курса **первое** число показывает число мест, **второе** - количество желающих попасть на него по первому приоритету, **третье** - количество попавших на курс в результате трех волн отбора."
   ]
  },
  {
   "cell_type": "code",
   "execution_count": 644,
   "metadata": {
    "scrolled": false
   },
   "outputs": [
    {
     "data": {
      "text/plain": [
       "{'Анализ данных в бизнесе': [60, 19, 32],\n",
       " 'Генеративные модели в машинном обучении': [30, 16, 18],\n",
       " 'Дискретная оптимизация': [30, 31, 30],\n",
       " 'Дополнительные главы прикладной статистики': [30, 11, 15],\n",
       " 'Компьютерное зрение': [30, 29, 30],\n",
       " 'Компьютерные сети': [30, 43, 30],\n",
       " 'Конфликты и кооперация': [30, 19, 20],\n",
       " 'Машинное обучение 2': [30, 31, 30],\n",
       " 'Методы сжатия и передачи медиаданных': [30, 22, 28],\n",
       " 'Обучение с подкреплением': [60, 61, 60],\n",
       " 'Проектирование и разработка высоконагруженных сервисов': [30, 46, 30],\n",
       " 'Промышленное программирование на языке Java': [30, 63, 30],\n",
       " 'Символьные вычисления': [30, 8, 10],\n",
       " 'Системы баз данных': [30, 8, 17],\n",
       " 'Численные методы': [30, 9, 16]}"
      ]
     },
     "execution_count": 644,
     "metadata": {},
     "output_type": "execute_result"
    }
   ],
   "source": [
    "c_places_spring"
   ]
  },
  {
   "cell_type": "markdown",
   "metadata": {},
   "source": [
    "После получения результатов заполним оставшиеся NaN нужными нам \"???\":"
   ]
  },
  {
   "cell_type": "code",
   "execution_count": 645,
   "metadata": {},
   "outputs": [],
   "source": [
    "data[['spring_first', 'spring_second']] = data[['spring_first', 'spring_second']].fillna(\"???\")"
   ]
  },
  {
   "cell_type": "code",
   "execution_count": 647,
   "metadata": {},
   "outputs": [],
   "source": [
    "data = data.rename(columns={'spring_first': \"course1\", 'spring_second': \"course2\", 'id':'ID'})\n",
    "data[['ID', \"course1\", \"course2\"]].to_csv('res_spring.csv', index=None)\n",
    "data = data.rename(columns={\"course1\":'spring_first' , \"course2\": \"spring_second\", 'ID':'id'})"
   ]
  },
  {
   "cell_type": "code",
   "execution_count": 654,
   "metadata": {},
   "outputs": [
    {
     "data": {
      "text/html": [
       "<div>\n",
       "<style scoped>\n",
       "    .dataframe tbody tr th:only-of-type {\n",
       "        vertical-align: middle;\n",
       "    }\n",
       "\n",
       "    .dataframe tbody tr th {\n",
       "        vertical-align: top;\n",
       "    }\n",
       "\n",
       "    .dataframe thead th {\n",
       "        text-align: right;\n",
       "    }\n",
       "</style>\n",
       "<table border=\"1\" class=\"dataframe\">\n",
       "  <thead>\n",
       "    <tr style=\"text-align: right;\">\n",
       "      <th></th>\n",
       "      <th>id</th>\n",
       "      <th>timestamp</th>\n",
       "      <th>rating</th>\n",
       "      <th>18_group</th>\n",
       "      <th>is_mi</th>\n",
       "      <th>fall_1</th>\n",
       "      <th>fall_2</th>\n",
       "      <th>fall_3</th>\n",
       "      <th>spring_1</th>\n",
       "      <th>spring_2</th>\n",
       "      <th>...</th>\n",
       "      <th>is_ml_student</th>\n",
       "      <th>date</th>\n",
       "      <th>fall_course_num</th>\n",
       "      <th>fall_first</th>\n",
       "      <th>fall_second</th>\n",
       "      <th>is_first_place</th>\n",
       "      <th>is_last_place</th>\n",
       "      <th>spring_course_num</th>\n",
       "      <th>spring_first</th>\n",
       "      <th>spring_second</th>\n",
       "    </tr>\n",
       "  </thead>\n",
       "  <tbody>\n",
       "    <tr>\n",
       "      <th>208</th>\n",
       "      <td>d82c2df25b8b36cd655077b4a885e1f7</td>\n",
       "      <td>2020-05-15 22:58:10.827</td>\n",
       "      <td>612</td>\n",
       "      <td>181.0</td>\n",
       "      <td>0.0</td>\n",
       "      <td>Теория баз данных</td>\n",
       "      <td>Безопасность компьютерных систем</td>\n",
       "      <td>Язык SQL</td>\n",
       "      <td>Промышленное программирование на языке Java</td>\n",
       "      <td>Компьютерные сети</td>\n",
       "      <td>...</td>\n",
       "      <td>0.0</td>\n",
       "      <td>2020-05-15</td>\n",
       "      <td>1</td>\n",
       "      <td>Теория баз данных</td>\n",
       "      <td>-</td>\n",
       "      <td>NaN</td>\n",
       "      <td>NaN</td>\n",
       "      <td>1</td>\n",
       "      <td>???</td>\n",
       "      <td>-</td>\n",
       "    </tr>\n",
       "    <tr>\n",
       "      <th>222</th>\n",
       "      <td>f0db08ec702a03450390efdca4166cc2</td>\n",
       "      <td>2020-05-18 21:15:01.777</td>\n",
       "      <td>603</td>\n",
       "      <td>185.0</td>\n",
       "      <td>0.0</td>\n",
       "      <td>Язык SQL</td>\n",
       "      <td>Матричные вычисления</td>\n",
       "      <td>Сбор и обработка данных с помощью краудсорсинга</td>\n",
       "      <td>Промышленное программирование на языке Java</td>\n",
       "      <td>Дискретная оптимизация</td>\n",
       "      <td>...</td>\n",
       "      <td>1.0</td>\n",
       "      <td>2020-05-18</td>\n",
       "      <td>1</td>\n",
       "      <td>Язык SQL</td>\n",
       "      <td>-</td>\n",
       "      <td>NaN</td>\n",
       "      <td>NaN</td>\n",
       "      <td>1</td>\n",
       "      <td>???</td>\n",
       "      <td>-</td>\n",
       "    </tr>\n",
       "    <tr>\n",
       "      <th>227</th>\n",
       "      <td>9fa4bc4eb50e574e88b670a86781860b</td>\n",
       "      <td>2020-05-18 21:47:05.660</td>\n",
       "      <td>600</td>\n",
       "      <td>188.0</td>\n",
       "      <td>0.0</td>\n",
       "      <td>Язык SQL</td>\n",
       "      <td>Высокопроизводительные вычисления</td>\n",
       "      <td>Сбор и обработка данных с помощью краудсорсинга</td>\n",
       "      <td>Промышленное программирование на языке Java</td>\n",
       "      <td>Компьютерные сети</td>\n",
       "      <td>...</td>\n",
       "      <td>0.0</td>\n",
       "      <td>2020-05-18</td>\n",
       "      <td>1</td>\n",
       "      <td>Язык SQL</td>\n",
       "      <td>-</td>\n",
       "      <td>NaN</td>\n",
       "      <td>NaN</td>\n",
       "      <td>1</td>\n",
       "      <td>???</td>\n",
       "      <td>-</td>\n",
       "    </tr>\n",
       "    <tr>\n",
       "      <th>229</th>\n",
       "      <td>6388c7920a7d454d2db81430f1f231c4</td>\n",
       "      <td>2020-05-18 22:56:27.522</td>\n",
       "      <td>599</td>\n",
       "      <td>183.0</td>\n",
       "      <td>0.0</td>\n",
       "      <td>Безопасность компьютерных систем</td>\n",
       "      <td>Матричные вычисления</td>\n",
       "      <td>Моделирование временных рядов</td>\n",
       "      <td>Промышленное программирование на языке Java</td>\n",
       "      <td>Компьютерные сети</td>\n",
       "      <td>...</td>\n",
       "      <td>0.0</td>\n",
       "      <td>2020-05-18</td>\n",
       "      <td>1</td>\n",
       "      <td>Матричные вычисления</td>\n",
       "      <td>-</td>\n",
       "      <td>NaN</td>\n",
       "      <td>NaN</td>\n",
       "      <td>1</td>\n",
       "      <td>???</td>\n",
       "      <td>-</td>\n",
       "    </tr>\n",
       "    <tr>\n",
       "      <th>235</th>\n",
       "      <td>1c1623a037bd523d687245e6060e6c5b</td>\n",
       "      <td>2020-05-18 19:35:49.258</td>\n",
       "      <td>595</td>\n",
       "      <td>187.0</td>\n",
       "      <td>0.0</td>\n",
       "      <td>Сбор и обработка данных с помощью краудсорсинга</td>\n",
       "      <td>Язык SQL</td>\n",
       "      <td>Теория баз данных</td>\n",
       "      <td>Промышленное программирование на языке Java</td>\n",
       "      <td>Машинное обучение 2</td>\n",
       "      <td>...</td>\n",
       "      <td>0.0</td>\n",
       "      <td>2020-05-18</td>\n",
       "      <td>1</td>\n",
       "      <td>Теория баз данных</td>\n",
       "      <td>-</td>\n",
       "      <td>NaN</td>\n",
       "      <td>NaN</td>\n",
       "      <td>1</td>\n",
       "      <td>???</td>\n",
       "      <td>-</td>\n",
       "    </tr>\n",
       "    <tr>\n",
       "      <th>250</th>\n",
       "      <td>c7544f6c00a5164efdef675410d62e94</td>\n",
       "      <td>2020-05-18 22:20:36.242</td>\n",
       "      <td>586</td>\n",
       "      <td>183.0</td>\n",
       "      <td>0.0</td>\n",
       "      <td>Язык SQL</td>\n",
       "      <td>Теория баз данных</td>\n",
       "      <td>Безопасность компьютерных систем</td>\n",
       "      <td>Промышленное программирование на языке Java</td>\n",
       "      <td>Дискретная оптимизация</td>\n",
       "      <td>...</td>\n",
       "      <td>0.0</td>\n",
       "      <td>2020-05-18</td>\n",
       "      <td>1</td>\n",
       "      <td>Язык SQL</td>\n",
       "      <td>-</td>\n",
       "      <td>NaN</td>\n",
       "      <td>NaN</td>\n",
       "      <td>1</td>\n",
       "      <td>???</td>\n",
       "      <td>-</td>\n",
       "    </tr>\n",
       "    <tr>\n",
       "      <th>270</th>\n",
       "      <td>5c49473012411a1eee72f8ea63767adf</td>\n",
       "      <td>2020-05-18 21:02:28.759</td>\n",
       "      <td>573</td>\n",
       "      <td>183.0</td>\n",
       "      <td>0.0</td>\n",
       "      <td>Безопасность компьютерных систем</td>\n",
       "      <td>Язык SQL</td>\n",
       "      <td>Теория баз данных</td>\n",
       "      <td>Промышленное программирование на языке Java</td>\n",
       "      <td>Компьютерные сети</td>\n",
       "      <td>...</td>\n",
       "      <td>0.0</td>\n",
       "      <td>2020-05-18</td>\n",
       "      <td>1</td>\n",
       "      <td>Теория баз данных</td>\n",
       "      <td>-</td>\n",
       "      <td>NaN</td>\n",
       "      <td>NaN</td>\n",
       "      <td>1</td>\n",
       "      <td>???</td>\n",
       "      <td>-</td>\n",
       "    </tr>\n",
       "    <tr>\n",
       "      <th>274</th>\n",
       "      <td>760529fb42ad1fd50071e2ceeadaaedc</td>\n",
       "      <td>2020-05-18 21:44:47.061</td>\n",
       "      <td>570</td>\n",
       "      <td>188.0</td>\n",
       "      <td>0.0</td>\n",
       "      <td>Язык SQL</td>\n",
       "      <td>Сбор и обработка данных с помощью краудсорсинга</td>\n",
       "      <td>Моделирование временных рядов</td>\n",
       "      <td>Промышленное программирование на языке Java</td>\n",
       "      <td>Машинное обучение 2</td>\n",
       "      <td>...</td>\n",
       "      <td>0.0</td>\n",
       "      <td>2020-05-18</td>\n",
       "      <td>1</td>\n",
       "      <td>Язык SQL</td>\n",
       "      <td>-</td>\n",
       "      <td>NaN</td>\n",
       "      <td>NaN</td>\n",
       "      <td>1</td>\n",
       "      <td>???</td>\n",
       "      <td>-</td>\n",
       "    </tr>\n",
       "    <tr>\n",
       "      <th>279</th>\n",
       "      <td>8047c18b3c531c6f47931e0744f3e028</td>\n",
       "      <td>2020-05-15 12:11:43.252</td>\n",
       "      <td>566</td>\n",
       "      <td>187.0</td>\n",
       "      <td>0.0</td>\n",
       "      <td>Язык SQL</td>\n",
       "      <td>Теория баз данных</td>\n",
       "      <td>Безопасность компьютерных систем</td>\n",
       "      <td>Промышленное программирование на языке Java</td>\n",
       "      <td>Компьютерные сети</td>\n",
       "      <td>...</td>\n",
       "      <td>0.0</td>\n",
       "      <td>2020-05-15</td>\n",
       "      <td>1</td>\n",
       "      <td>Язык SQL</td>\n",
       "      <td>-</td>\n",
       "      <td>NaN</td>\n",
       "      <td>NaN</td>\n",
       "      <td>1</td>\n",
       "      <td>???</td>\n",
       "      <td>-</td>\n",
       "    </tr>\n",
       "    <tr>\n",
       "      <th>280</th>\n",
       "      <td>5a66e3b77559d14dd20fc4df99671688</td>\n",
       "      <td>2020-05-18 23:09:34.102</td>\n",
       "      <td>564</td>\n",
       "      <td>183.0</td>\n",
       "      <td>0.0</td>\n",
       "      <td>Язык SQL</td>\n",
       "      <td>Высокопроизводительные вычисления</td>\n",
       "      <td>Теория баз данных</td>\n",
       "      <td>Компьютерные сети</td>\n",
       "      <td>Промышленное программирование на языке Java</td>\n",
       "      <td>...</td>\n",
       "      <td>0.0</td>\n",
       "      <td>2020-05-18</td>\n",
       "      <td>1</td>\n",
       "      <td>Язык SQL</td>\n",
       "      <td>-</td>\n",
       "      <td>NaN</td>\n",
       "      <td>NaN</td>\n",
       "      <td>1</td>\n",
       "      <td>???</td>\n",
       "      <td>-</td>\n",
       "    </tr>\n",
       "    <tr>\n",
       "      <th>285</th>\n",
       "      <td>f8fab519d78047712c06798c8b7fe38f</td>\n",
       "      <td>2020-05-18 21:49:22.233</td>\n",
       "      <td>561</td>\n",
       "      <td>185.0</td>\n",
       "      <td>1.0</td>\n",
       "      <td>Моделирование временных рядов</td>\n",
       "      <td>Теория баз данных</td>\n",
       "      <td>Язык SQL</td>\n",
       "      <td>Промышленное программирование на языке Java</td>\n",
       "      <td>Машинное обучение 2</td>\n",
       "      <td>...</td>\n",
       "      <td>0.0</td>\n",
       "      <td>2020-05-18</td>\n",
       "      <td>2</td>\n",
       "      <td>Моделирование временных рядов</td>\n",
       "      <td>Теория баз данных</td>\n",
       "      <td>NaN</td>\n",
       "      <td>NaN</td>\n",
       "      <td>1</td>\n",
       "      <td>???</td>\n",
       "      <td>-</td>\n",
       "    </tr>\n",
       "    <tr>\n",
       "      <th>296</th>\n",
       "      <td>e11399490117e1913ae79d09a5a2b981</td>\n",
       "      <td>2020-05-17 14:16:14.335</td>\n",
       "      <td>1053</td>\n",
       "      <td>0.0</td>\n",
       "      <td>0.0</td>\n",
       "      <td>Анализ неструктурированных данных</td>\n",
       "      <td>Глубинное обучение в обработке звука</td>\n",
       "      <td>Высокопроизводительные вычисления</td>\n",
       "      <td>Обучение с подкреплением</td>\n",
       "      <td>Проектирование и разработка высоконагруженных ...</td>\n",
       "      <td>...</td>\n",
       "      <td>0.0</td>\n",
       "      <td>2020-05-17</td>\n",
       "      <td>2</td>\n",
       "      <td>Анализ неструктурированных данных</td>\n",
       "      <td>Глубинное обучение в обработке звука</td>\n",
       "      <td>NaN</td>\n",
       "      <td>NaN</td>\n",
       "      <td>2</td>\n",
       "      <td>Обучение с подкреплением</td>\n",
       "      <td>???</td>\n",
       "    </tr>\n",
       "    <tr>\n",
       "      <th>298</th>\n",
       "      <td>c97ab5cabace9f00673cc8384771aa9c</td>\n",
       "      <td>2020-05-17 01:48:02.632</td>\n",
       "      <td>552</td>\n",
       "      <td>185.0</td>\n",
       "      <td>0.0</td>\n",
       "      <td>Безопасность компьютерных систем</td>\n",
       "      <td>Теория баз данных</td>\n",
       "      <td>Язык SQL</td>\n",
       "      <td>Компьютерные сети</td>\n",
       "      <td>Промышленное программирование на языке Java</td>\n",
       "      <td>...</td>\n",
       "      <td>0.0</td>\n",
       "      <td>2020-05-17</td>\n",
       "      <td>1</td>\n",
       "      <td>Теория баз данных</td>\n",
       "      <td>-</td>\n",
       "      <td>NaN</td>\n",
       "      <td>NaN</td>\n",
       "      <td>1</td>\n",
       "      <td>???</td>\n",
       "      <td>-</td>\n",
       "    </tr>\n",
       "    <tr>\n",
       "      <th>305</th>\n",
       "      <td>f8c83b338162bb41af2851b5e62f84d0</td>\n",
       "      <td>2020-05-17 16:39:53.941</td>\n",
       "      <td>547</td>\n",
       "      <td>185.0</td>\n",
       "      <td>0.0</td>\n",
       "      <td>Теория баз данных</td>\n",
       "      <td>Язык SQL</td>\n",
       "      <td>Безопасность компьютерных систем</td>\n",
       "      <td>Промышленное программирование на языке Java</td>\n",
       "      <td>Компьютерные сети</td>\n",
       "      <td>...</td>\n",
       "      <td>0.0</td>\n",
       "      <td>2020-05-17</td>\n",
       "      <td>1</td>\n",
       "      <td>Теория баз данных</td>\n",
       "      <td>-</td>\n",
       "      <td>NaN</td>\n",
       "      <td>NaN</td>\n",
       "      <td>1</td>\n",
       "      <td>???</td>\n",
       "      <td>-</td>\n",
       "    </tr>\n",
       "    <tr>\n",
       "      <th>306</th>\n",
       "      <td>d38ebd0ba564ea88de8015e116f811c8</td>\n",
       "      <td>2020-05-17 00:54:43.939</td>\n",
       "      <td>546</td>\n",
       "      <td>187.0</td>\n",
       "      <td>0.0</td>\n",
       "      <td>Безопасность компьютерных систем</td>\n",
       "      <td>Высокопроизводительные вычисления</td>\n",
       "      <td>Язык SQL</td>\n",
       "      <td>Компьютерные сети</td>\n",
       "      <td>Промышленное программирование на языке Java</td>\n",
       "      <td>...</td>\n",
       "      <td>0.0</td>\n",
       "      <td>2020-05-17</td>\n",
       "      <td>1</td>\n",
       "      <td>???</td>\n",
       "      <td>-</td>\n",
       "      <td>NaN</td>\n",
       "      <td>NaN</td>\n",
       "      <td>1</td>\n",
       "      <td>???</td>\n",
       "      <td>-</td>\n",
       "    </tr>\n",
       "    <tr>\n",
       "      <th>319</th>\n",
       "      <td>b4f1f195bd1bc63490a7bc42275a71cd</td>\n",
       "      <td>2020-05-18 22:15:41.331</td>\n",
       "      <td>536</td>\n",
       "      <td>187.0</td>\n",
       "      <td>0.0</td>\n",
       "      <td>Высокопроизводительные вычисления</td>\n",
       "      <td>Безопасность компьютерных систем</td>\n",
       "      <td>Язык SQL</td>\n",
       "      <td>Компьютерные сети</td>\n",
       "      <td>Промышленное программирование на языке Java</td>\n",
       "      <td>...</td>\n",
       "      <td>0.0</td>\n",
       "      <td>2020-05-18</td>\n",
       "      <td>1</td>\n",
       "      <td>Высокопроизводительные вычисления</td>\n",
       "      <td>-</td>\n",
       "      <td>NaN</td>\n",
       "      <td>True</td>\n",
       "      <td>1</td>\n",
       "      <td>???</td>\n",
       "      <td>-</td>\n",
       "    </tr>\n",
       "    <tr>\n",
       "      <th>325</th>\n",
       "      <td>c749f69f66d40cdfb3821745951be896</td>\n",
       "      <td>2020-05-18 13:51:01.165</td>\n",
       "      <td>1017</td>\n",
       "      <td>0.0</td>\n",
       "      <td>0.0</td>\n",
       "      <td>Анализ неструктурированных данных</td>\n",
       "      <td>Сбор и обработка данных с помощью краудсорсинга</td>\n",
       "      <td>Моделирование временных рядов</td>\n",
       "      <td>Обучение с подкреплением</td>\n",
       "      <td>Проектирование и разработка высоконагруженных ...</td>\n",
       "      <td>...</td>\n",
       "      <td>0.0</td>\n",
       "      <td>2020-05-18</td>\n",
       "      <td>2</td>\n",
       "      <td>Анализ неструктурированных данных</td>\n",
       "      <td>???</td>\n",
       "      <td>NaN</td>\n",
       "      <td>NaN</td>\n",
       "      <td>2</td>\n",
       "      <td>Обучение с подкреплением</td>\n",
       "      <td>???</td>\n",
       "    </tr>\n",
       "    <tr>\n",
       "      <th>333</th>\n",
       "      <td>e3d4f9a7b947ebc03d345dd9e14b5d2c</td>\n",
       "      <td>2020-05-16 23:32:44.820</td>\n",
       "      <td>524</td>\n",
       "      <td>181.0</td>\n",
       "      <td>0.0</td>\n",
       "      <td>Безопасность компьютерных систем</td>\n",
       "      <td>Высокопроизводительные вычисления</td>\n",
       "      <td>Матричные вычисления</td>\n",
       "      <td>Дискретная оптимизация</td>\n",
       "      <td>Машинное обучение 2</td>\n",
       "      <td>...</td>\n",
       "      <td>0.0</td>\n",
       "      <td>2020-05-16</td>\n",
       "      <td>1</td>\n",
       "      <td>???</td>\n",
       "      <td>-</td>\n",
       "      <td>NaN</td>\n",
       "      <td>NaN</td>\n",
       "      <td>1</td>\n",
       "      <td>???</td>\n",
       "      <td>-</td>\n",
       "    </tr>\n",
       "    <tr>\n",
       "      <th>339</th>\n",
       "      <td>bd416140ecdb32b6dbd7f40820bf63b1</td>\n",
       "      <td>2020-05-20 11:49:38.801</td>\n",
       "      <td>518</td>\n",
       "      <td>185.0</td>\n",
       "      <td>0.0</td>\n",
       "      <td>Безопасность компьютерных систем</td>\n",
       "      <td>Теория баз данных</td>\n",
       "      <td>Язык SQL</td>\n",
       "      <td>Машинное обучение 2</td>\n",
       "      <td>Компьютерные сети</td>\n",
       "      <td>...</td>\n",
       "      <td>0.0</td>\n",
       "      <td>2020-05-20</td>\n",
       "      <td>1</td>\n",
       "      <td>Теория баз данных</td>\n",
       "      <td>-</td>\n",
       "      <td>NaN</td>\n",
       "      <td>NaN</td>\n",
       "      <td>1</td>\n",
       "      <td>???</td>\n",
       "      <td>-</td>\n",
       "    </tr>\n",
       "    <tr>\n",
       "      <th>341</th>\n",
       "      <td>f5d9f99cb876ca0888d18b6e444fa1b1</td>\n",
       "      <td>2020-05-18 19:36:51.479</td>\n",
       "      <td>516</td>\n",
       "      <td>187.0</td>\n",
       "      <td>0.0</td>\n",
       "      <td>Сбор и обработка данных с помощью краудсорсинга</td>\n",
       "      <td>Язык SQL</td>\n",
       "      <td>Теория баз данных</td>\n",
       "      <td>Промышленное программирование на языке Java</td>\n",
       "      <td>Машинное обучение 2</td>\n",
       "      <td>...</td>\n",
       "      <td>0.0</td>\n",
       "      <td>2020-05-18</td>\n",
       "      <td>1</td>\n",
       "      <td>Теория баз данных</td>\n",
       "      <td>-</td>\n",
       "      <td>NaN</td>\n",
       "      <td>NaN</td>\n",
       "      <td>1</td>\n",
       "      <td>???</td>\n",
       "      <td>-</td>\n",
       "    </tr>\n",
       "    <tr>\n",
       "      <th>342</th>\n",
       "      <td>79d14db48e4737af731960ae212d5134</td>\n",
       "      <td>2020-05-23 21:16:40.916</td>\n",
       "      <td>966</td>\n",
       "      <td>0.0</td>\n",
       "      <td>0.0</td>\n",
       "      <td>Безопасность компьютерных систем</td>\n",
       "      <td>Принятие решений в условиях риска и неопределё...</td>\n",
       "      <td>Анализ неструктурированных данных</td>\n",
       "      <td>Проектирование и разработка высоконагруженных ...</td>\n",
       "      <td>Методы сжатия и передачи медиаданных</td>\n",
       "      <td>...</td>\n",
       "      <td>0.0</td>\n",
       "      <td>2020-05-23</td>\n",
       "      <td>2</td>\n",
       "      <td>Анализ неструктурированных данных</td>\n",
       "      <td>Принятие решений в условиях риска и неопределё...</td>\n",
       "      <td>NaN</td>\n",
       "      <td>NaN</td>\n",
       "      <td>2</td>\n",
       "      <td>???</td>\n",
       "      <td>Методы сжатия и передачи медиаданных</td>\n",
       "    </tr>\n",
       "    <tr>\n",
       "      <th>345</th>\n",
       "      <td>d539461bf254cf8b3201cdf7990b119e</td>\n",
       "      <td>2020-05-18 23:12:29.049</td>\n",
       "      <td>964</td>\n",
       "      <td>0.0</td>\n",
       "      <td>0.0</td>\n",
       "      <td>Анализ неструктурированных данных</td>\n",
       "      <td>Глубинное обучение в обработке звука</td>\n",
       "      <td>Statistical Learning Theory</td>\n",
       "      <td>Обучение с подкреплением</td>\n",
       "      <td>Компьютерное зрение</td>\n",
       "      <td>...</td>\n",
       "      <td>0.0</td>\n",
       "      <td>2020-05-18</td>\n",
       "      <td>1</td>\n",
       "      <td>Анализ неструктурированных данных</td>\n",
       "      <td>-</td>\n",
       "      <td>NaN</td>\n",
       "      <td>True</td>\n",
       "      <td>1</td>\n",
       "      <td>???</td>\n",
       "      <td>-</td>\n",
       "    </tr>\n",
       "  </tbody>\n",
       "</table>\n",
       "<p>22 rows × 25 columns</p>\n",
       "</div>"
      ],
      "text/plain": [
       "                                   id               timestamp  rating  \\\n",
       "208  d82c2df25b8b36cd655077b4a885e1f7 2020-05-15 22:58:10.827     612   \n",
       "222  f0db08ec702a03450390efdca4166cc2 2020-05-18 21:15:01.777     603   \n",
       "227  9fa4bc4eb50e574e88b670a86781860b 2020-05-18 21:47:05.660     600   \n",
       "229  6388c7920a7d454d2db81430f1f231c4 2020-05-18 22:56:27.522     599   \n",
       "235  1c1623a037bd523d687245e6060e6c5b 2020-05-18 19:35:49.258     595   \n",
       "250  c7544f6c00a5164efdef675410d62e94 2020-05-18 22:20:36.242     586   \n",
       "270  5c49473012411a1eee72f8ea63767adf 2020-05-18 21:02:28.759     573   \n",
       "274  760529fb42ad1fd50071e2ceeadaaedc 2020-05-18 21:44:47.061     570   \n",
       "279  8047c18b3c531c6f47931e0744f3e028 2020-05-15 12:11:43.252     566   \n",
       "280  5a66e3b77559d14dd20fc4df99671688 2020-05-18 23:09:34.102     564   \n",
       "285  f8fab519d78047712c06798c8b7fe38f 2020-05-18 21:49:22.233     561   \n",
       "296  e11399490117e1913ae79d09a5a2b981 2020-05-17 14:16:14.335    1053   \n",
       "298  c97ab5cabace9f00673cc8384771aa9c 2020-05-17 01:48:02.632     552   \n",
       "305  f8c83b338162bb41af2851b5e62f84d0 2020-05-17 16:39:53.941     547   \n",
       "306  d38ebd0ba564ea88de8015e116f811c8 2020-05-17 00:54:43.939     546   \n",
       "319  b4f1f195bd1bc63490a7bc42275a71cd 2020-05-18 22:15:41.331     536   \n",
       "325  c749f69f66d40cdfb3821745951be896 2020-05-18 13:51:01.165    1017   \n",
       "333  e3d4f9a7b947ebc03d345dd9e14b5d2c 2020-05-16 23:32:44.820     524   \n",
       "339  bd416140ecdb32b6dbd7f40820bf63b1 2020-05-20 11:49:38.801     518   \n",
       "341  f5d9f99cb876ca0888d18b6e444fa1b1 2020-05-18 19:36:51.479     516   \n",
       "342  79d14db48e4737af731960ae212d5134 2020-05-23 21:16:40.916     966   \n",
       "345  d539461bf254cf8b3201cdf7990b119e 2020-05-18 23:12:29.049     964   \n",
       "\n",
       "     18_group  is_mi                                           fall_1  \\\n",
       "208     181.0    0.0                                Теория баз данных   \n",
       "222     185.0    0.0                                         Язык SQL   \n",
       "227     188.0    0.0                                         Язык SQL   \n",
       "229     183.0    0.0                 Безопасность компьютерных систем   \n",
       "235     187.0    0.0  Сбор и обработка данных с помощью краудсорсинга   \n",
       "250     183.0    0.0                                         Язык SQL   \n",
       "270     183.0    0.0                 Безопасность компьютерных систем   \n",
       "274     188.0    0.0                                         Язык SQL   \n",
       "279     187.0    0.0                                         Язык SQL   \n",
       "280     183.0    0.0                                         Язык SQL   \n",
       "285     185.0    1.0                    Моделирование временных рядов   \n",
       "296       0.0    0.0                Анализ неструктурированных данных   \n",
       "298     185.0    0.0                 Безопасность компьютерных систем   \n",
       "305     185.0    0.0                                Теория баз данных   \n",
       "306     187.0    0.0                 Безопасность компьютерных систем   \n",
       "319     187.0    0.0                Высокопроизводительные вычисления   \n",
       "325       0.0    0.0                Анализ неструктурированных данных   \n",
       "333     181.0    0.0                 Безопасность компьютерных систем   \n",
       "339     185.0    0.0                 Безопасность компьютерных систем   \n",
       "341     187.0    0.0  Сбор и обработка данных с помощью краудсорсинга   \n",
       "342       0.0    0.0                 Безопасность компьютерных систем   \n",
       "345       0.0    0.0                Анализ неструктурированных данных   \n",
       "\n",
       "                                                fall_2  \\\n",
       "208                   Безопасность компьютерных систем   \n",
       "222                               Матричные вычисления   \n",
       "227                  Высокопроизводительные вычисления   \n",
       "229                               Матричные вычисления   \n",
       "235                                           Язык SQL   \n",
       "250                                  Теория баз данных   \n",
       "270                                           Язык SQL   \n",
       "274    Сбор и обработка данных с помощью краудсорсинга   \n",
       "279                                  Теория баз данных   \n",
       "280                  Высокопроизводительные вычисления   \n",
       "285                                  Теория баз данных   \n",
       "296               Глубинное обучение в обработке звука   \n",
       "298                                  Теория баз данных   \n",
       "305                                           Язык SQL   \n",
       "306                  Высокопроизводительные вычисления   \n",
       "319                   Безопасность компьютерных систем   \n",
       "325    Сбор и обработка данных с помощью краудсорсинга   \n",
       "333                  Высокопроизводительные вычисления   \n",
       "339                                  Теория баз данных   \n",
       "341                                           Язык SQL   \n",
       "342  Принятие решений в условиях риска и неопределё...   \n",
       "345               Глубинное обучение в обработке звука   \n",
       "\n",
       "                                              fall_3  \\\n",
       "208                                         Язык SQL   \n",
       "222  Сбор и обработка данных с помощью краудсорсинга   \n",
       "227  Сбор и обработка данных с помощью краудсорсинга   \n",
       "229                    Моделирование временных рядов   \n",
       "235                                Теория баз данных   \n",
       "250                 Безопасность компьютерных систем   \n",
       "270                                Теория баз данных   \n",
       "274                    Моделирование временных рядов   \n",
       "279                 Безопасность компьютерных систем   \n",
       "280                                Теория баз данных   \n",
       "285                                         Язык SQL   \n",
       "296                Высокопроизводительные вычисления   \n",
       "298                                         Язык SQL   \n",
       "305                 Безопасность компьютерных систем   \n",
       "306                                         Язык SQL   \n",
       "319                                         Язык SQL   \n",
       "325                    Моделирование временных рядов   \n",
       "333                             Матричные вычисления   \n",
       "339                                         Язык SQL   \n",
       "341                                Теория баз данных   \n",
       "342                Анализ неструктурированных данных   \n",
       "345                      Statistical Learning Theory   \n",
       "\n",
       "                                              spring_1  \\\n",
       "208        Промышленное программирование на языке Java   \n",
       "222        Промышленное программирование на языке Java   \n",
       "227        Промышленное программирование на языке Java   \n",
       "229        Промышленное программирование на языке Java   \n",
       "235        Промышленное программирование на языке Java   \n",
       "250        Промышленное программирование на языке Java   \n",
       "270        Промышленное программирование на языке Java   \n",
       "274        Промышленное программирование на языке Java   \n",
       "279        Промышленное программирование на языке Java   \n",
       "280                                  Компьютерные сети   \n",
       "285        Промышленное программирование на языке Java   \n",
       "296                           Обучение с подкреплением   \n",
       "298                                  Компьютерные сети   \n",
       "305        Промышленное программирование на языке Java   \n",
       "306                                  Компьютерные сети   \n",
       "319                                  Компьютерные сети   \n",
       "325                           Обучение с подкреплением   \n",
       "333                             Дискретная оптимизация   \n",
       "339                                Машинное обучение 2   \n",
       "341        Промышленное программирование на языке Java   \n",
       "342  Проектирование и разработка высоконагруженных ...   \n",
       "345                           Обучение с подкреплением   \n",
       "\n",
       "                                              spring_2  ... is_ml_student  \\\n",
       "208                                  Компьютерные сети  ...           0.0   \n",
       "222                             Дискретная оптимизация  ...           1.0   \n",
       "227                                  Компьютерные сети  ...           0.0   \n",
       "229                                  Компьютерные сети  ...           0.0   \n",
       "235                                Машинное обучение 2  ...           0.0   \n",
       "250                             Дискретная оптимизация  ...           0.0   \n",
       "270                                  Компьютерные сети  ...           0.0   \n",
       "274                                Машинное обучение 2  ...           0.0   \n",
       "279                                  Компьютерные сети  ...           0.0   \n",
       "280        Промышленное программирование на языке Java  ...           0.0   \n",
       "285                                Машинное обучение 2  ...           0.0   \n",
       "296  Проектирование и разработка высоконагруженных ...  ...           0.0   \n",
       "298        Промышленное программирование на языке Java  ...           0.0   \n",
       "305                                  Компьютерные сети  ...           0.0   \n",
       "306        Промышленное программирование на языке Java  ...           0.0   \n",
       "319        Промышленное программирование на языке Java  ...           0.0   \n",
       "325  Проектирование и разработка высоконагруженных ...  ...           0.0   \n",
       "333                                Машинное обучение 2  ...           0.0   \n",
       "339                                  Компьютерные сети  ...           0.0   \n",
       "341                                Машинное обучение 2  ...           0.0   \n",
       "342               Методы сжатия и передачи медиаданных  ...           0.0   \n",
       "345                                Компьютерное зрение  ...           0.0   \n",
       "\n",
       "           date  fall_course_num                         fall_first  \\\n",
       "208  2020-05-15                1                  Теория баз данных   \n",
       "222  2020-05-18                1                           Язык SQL   \n",
       "227  2020-05-18                1                           Язык SQL   \n",
       "229  2020-05-18                1               Матричные вычисления   \n",
       "235  2020-05-18                1                  Теория баз данных   \n",
       "250  2020-05-18                1                           Язык SQL   \n",
       "270  2020-05-18                1                  Теория баз данных   \n",
       "274  2020-05-18                1                           Язык SQL   \n",
       "279  2020-05-15                1                           Язык SQL   \n",
       "280  2020-05-18                1                           Язык SQL   \n",
       "285  2020-05-18                2      Моделирование временных рядов   \n",
       "296  2020-05-17                2  Анализ неструктурированных данных   \n",
       "298  2020-05-17                1                  Теория баз данных   \n",
       "305  2020-05-17                1                  Теория баз данных   \n",
       "306  2020-05-17                1                                ???   \n",
       "319  2020-05-18                1  Высокопроизводительные вычисления   \n",
       "325  2020-05-18                2  Анализ неструктурированных данных   \n",
       "333  2020-05-16                1                                ???   \n",
       "339  2020-05-20                1                  Теория баз данных   \n",
       "341  2020-05-18                1                  Теория баз данных   \n",
       "342  2020-05-23                2  Анализ неструктурированных данных   \n",
       "345  2020-05-18                1  Анализ неструктурированных данных   \n",
       "\n",
       "                                           fall_second  is_first_place  \\\n",
       "208                                                  -             NaN   \n",
       "222                                                  -             NaN   \n",
       "227                                                  -             NaN   \n",
       "229                                                  -             NaN   \n",
       "235                                                  -             NaN   \n",
       "250                                                  -             NaN   \n",
       "270                                                  -             NaN   \n",
       "274                                                  -             NaN   \n",
       "279                                                  -             NaN   \n",
       "280                                                  -             NaN   \n",
       "285                                  Теория баз данных             NaN   \n",
       "296               Глубинное обучение в обработке звука             NaN   \n",
       "298                                                  -             NaN   \n",
       "305                                                  -             NaN   \n",
       "306                                                  -             NaN   \n",
       "319                                                  -             NaN   \n",
       "325                                                ???             NaN   \n",
       "333                                                  -             NaN   \n",
       "339                                                  -             NaN   \n",
       "341                                                  -             NaN   \n",
       "342  Принятие решений в условиях риска и неопределё...             NaN   \n",
       "345                                                  -             NaN   \n",
       "\n",
       "    is_last_place  spring_course_num              spring_first  \\\n",
       "208           NaN                  1                       ???   \n",
       "222           NaN                  1                       ???   \n",
       "227           NaN                  1                       ???   \n",
       "229           NaN                  1                       ???   \n",
       "235           NaN                  1                       ???   \n",
       "250           NaN                  1                       ???   \n",
       "270           NaN                  1                       ???   \n",
       "274           NaN                  1                       ???   \n",
       "279           NaN                  1                       ???   \n",
       "280           NaN                  1                       ???   \n",
       "285           NaN                  1                       ???   \n",
       "296           NaN                  2  Обучение с подкреплением   \n",
       "298           NaN                  1                       ???   \n",
       "305           NaN                  1                       ???   \n",
       "306           NaN                  1                       ???   \n",
       "319          True                  1                       ???   \n",
       "325           NaN                  2  Обучение с подкреплением   \n",
       "333           NaN                  1                       ???   \n",
       "339           NaN                  1                       ???   \n",
       "341           NaN                  1                       ???   \n",
       "342           NaN                  2                       ???   \n",
       "345          True                  1                       ???   \n",
       "\n",
       "                            spring_second  \n",
       "208                                     -  \n",
       "222                                     -  \n",
       "227                                     -  \n",
       "229                                     -  \n",
       "235                                     -  \n",
       "250                                     -  \n",
       "270                                     -  \n",
       "274                                     -  \n",
       "279                                     -  \n",
       "280                                     -  \n",
       "285                                     -  \n",
       "296                                   ???  \n",
       "298                                     -  \n",
       "305                                     -  \n",
       "306                                     -  \n",
       "319                                     -  \n",
       "325                                   ???  \n",
       "333                                     -  \n",
       "339                                     -  \n",
       "341                                     -  \n",
       "342  Методы сжатия и передачи медиаданных  \n",
       "345                                     -  \n",
       "\n",
       "[22 rows x 25 columns]"
      ]
     },
     "execution_count": 654,
     "metadata": {},
     "output_type": "execute_result"
    }
   ],
   "source": [
    "data[(data['spring_second'] == '???') | (data['spring_first'] == '???')]"
   ]
  },
  {
   "cell_type": "markdown",
   "metadata": {
    "id": "It7QQZLYhLu7"
   },
   "source": [
    "**Отправьте свой файл res_spring.csv в контест (https://contest.yandex.ru/contest/29176/problems/B/) и прикрепите/укажите ниже ваш никнейм и ссылку на успешную посылку.**"
   ]
  },
  {
   "cell_type": "markdown",
   "metadata": {
    "id": "1YcouVTihLu7"
   },
   "source": [
    "На всякий случай просим вас сдать вместе с ноутбуком файл res_spring.csv в anytask"
   ]
  },
  {
   "cell_type": "markdown",
   "metadata": {
    "id": "uY_OY6inhLu7"
   },
   "source": [
    "Вставьте картинку, описывающую ваш опыт выполнения этого задания:"
   ]
  },
  {
   "cell_type": "code",
   "execution_count": null,
   "metadata": {
    "id": "R9_7CnSFhLu7"
   },
   "outputs": [],
   "source": []
  }
 ],
 "metadata": {
  "colab": {
   "name": "homework-practice-01-pandas.ipynb",
   "provenance": []
  },
  "kernelspec": {
   "display_name": "Python 3 (ipykernel)",
   "language": "python",
   "name": "python3"
  },
  "language_info": {
   "codemirror_mode": {
    "name": "ipython",
    "version": 3
   },
   "file_extension": ".py",
   "mimetype": "text/x-python",
   "name": "python",
   "nbconvert_exporter": "python",
   "pygments_lexer": "ipython3",
   "version": "3.8.0"
  },
  "varInspector": {
   "cols": {
    "lenName": 16,
    "lenType": 16,
    "lenVar": 40
   },
   "kernels_config": {
    "python": {
     "delete_cmd_postfix": "",
     "delete_cmd_prefix": "del ",
     "library": "var_list.py",
     "varRefreshCmd": "print(var_dic_list())"
    },
    "r": {
     "delete_cmd_postfix": ") ",
     "delete_cmd_prefix": "rm(",
     "library": "var_list.r",
     "varRefreshCmd": "cat(var_dic_list()) "
    }
   },
   "types_to_exclude": [
    "module",
    "function",
    "builtin_function_or_method",
    "instance",
    "_Feature"
   ],
   "window_display": false
  }
 },
 "nbformat": 4,
 "nbformat_minor": 1
}
