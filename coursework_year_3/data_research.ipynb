{
 "cells": [
  {
   "cell_type": "code",
   "execution_count": 1,
   "metadata": {
    "id": "6MziDSPUgvwh"
   },
   "outputs": [],
   "source": [
    "%load_ext ipytelegram\n",
    "import numpy as np\n",
    "import pandas as pd\n",
    "import plotly\n",
    "import plotly.express as px\n",
    "from tqdm.notebook import tqdm\n",
    "\n",
    "tqdm.pandas()\n",
    "import warnings\n",
    "\n",
    "from IPython.core import display as ICD\n",
    "\n",
    "warnings.filterwarnings(\"ignore\")\n",
    "#%telegram_setup 5338324836:AAFIYlGtz6tCdfpWZaq7H8PMwQ1kmkykWHY 739485635"
   ]
  },
  {
   "cell_type": "markdown",
   "metadata": {
    "id": "yUbvLYWIiHNX"
   },
   "source": [
    "# *Data Research*"
   ]
  },
  {
   "cell_type": "code",
   "execution_count": 18,
   "metadata": {},
   "outputs": [
    {
     "name": "stdout",
     "output_type": "stream",
     "text": [
      "Размер исходных данных: (3937378, 9)\n"
     ]
    },
    {
     "data": {
      "text/html": [
       "<div>\n",
       "<style scoped>\n",
       "    .dataframe tbody tr th:only-of-type {\n",
       "        vertical-align: middle;\n",
       "    }\n",
       "\n",
       "    .dataframe tbody tr th {\n",
       "        vertical-align: top;\n",
       "    }\n",
       "\n",
       "    .dataframe thead th {\n",
       "        text-align: right;\n",
       "    }\n",
       "</style>\n",
       "<table border=\"1\" class=\"dataframe\">\n",
       "  <thead>\n",
       "    <tr style=\"text-align: right;\">\n",
       "      <th></th>\n",
       "      <th>pharmacy</th>\n",
       "      <th>card_num</th>\n",
       "      <th>receipt_date</th>\n",
       "      <th>product</th>\n",
       "      <th>product_code</th>\n",
       "      <th>cashier_num</th>\n",
       "      <th>receipt_num</th>\n",
       "      <th>application</th>\n",
       "      <th>retail_price</th>\n",
       "    </tr>\n",
       "  </thead>\n",
       "  <tbody>\n",
       "    <tr>\n",
       "      <th>0</th>\n",
       "      <td>0</td>\n",
       "      <td>2340614</td>\n",
       "      <td>2018-01-22</td>\n",
       "      <td>769838</td>\n",
       "      <td>11091</td>\n",
       "      <td>0</td>\n",
       "      <td>0</td>\n",
       "      <td>379749</td>\n",
       "      <td>1749.70</td>\n",
       "    </tr>\n",
       "    <tr>\n",
       "      <th>1</th>\n",
       "      <td>0</td>\n",
       "      <td>2340614</td>\n",
       "      <td>2018-01-22</td>\n",
       "      <td>777940</td>\n",
       "      <td>11709</td>\n",
       "      <td>0</td>\n",
       "      <td>0</td>\n",
       "      <td>379964</td>\n",
       "      <td>3873.98</td>\n",
       "    </tr>\n",
       "    <tr>\n",
       "      <th>2</th>\n",
       "      <td>0</td>\n",
       "      <td>2340614</td>\n",
       "      <td>2018-01-22</td>\n",
       "      <td>782567</td>\n",
       "      <td>39</td>\n",
       "      <td>0</td>\n",
       "      <td>0</td>\n",
       "      <td>379560</td>\n",
       "      <td>1394.69</td>\n",
       "    </tr>\n",
       "    <tr>\n",
       "      <th>3</th>\n",
       "      <td>0</td>\n",
       "      <td>2363656</td>\n",
       "      <td>2018-01-05</td>\n",
       "      <td>784213</td>\n",
       "      <td>72426</td>\n",
       "      <td>0</td>\n",
       "      <td>1</td>\n",
       "      <td>379517</td>\n",
       "      <td>530.74</td>\n",
       "    </tr>\n",
       "    <tr>\n",
       "      <th>4</th>\n",
       "      <td>0</td>\n",
       "      <td>2363656</td>\n",
       "      <td>2018-01-05</td>\n",
       "      <td>784213</td>\n",
       "      <td>72426</td>\n",
       "      <td>0</td>\n",
       "      <td>1</td>\n",
       "      <td>379517</td>\n",
       "      <td>530.74</td>\n",
       "    </tr>\n",
       "  </tbody>\n",
       "</table>\n",
       "</div>"
      ],
      "text/plain": [
       "   pharmacy  card_num receipt_date  product  product_code  cashier_num  \\\n",
       "0         0   2340614   2018-01-22   769838         11091            0   \n",
       "1         0   2340614   2018-01-22   777940         11709            0   \n",
       "2         0   2340614   2018-01-22   782567            39            0   \n",
       "3         0   2363656   2018-01-05   784213         72426            0   \n",
       "4         0   2363656   2018-01-05   784213         72426            0   \n",
       "\n",
       "   receipt_num  application  retail_price  \n",
       "0            0       379749       1749.70  \n",
       "1            0       379964       3873.98  \n",
       "2            0       379560       1394.69  \n",
       "3            1       379517        530.74  \n",
       "4            1       379517        530.74  "
      ]
     },
     "execution_count": 18,
     "metadata": {},
     "output_type": "execute_result"
    }
   ],
   "source": [
    "data = pd.read_csv(\"../Downloads/SA_train.csv\")\n",
    "column_names = [\n",
    "    \"pharmacy\",\n",
    "    \"card_num\",\n",
    "    \"receipt_date\",\n",
    "    \"product\",\n",
    "    \"product_code\",\n",
    "    \"cashier_num\",\n",
    "    \"receipt_num\",\n",
    "    \"application\",\n",
    "    \"retail_price\",\n",
    "]\n",
    "data = data.rename(columns=dict(zip(list(data.columns), column_names)))\n",
    "print(f\"Размер исходных данных: {data.shape}\")\n",
    "data.head()"
   ]
  },
  {
   "cell_type": "code",
   "execution_count": 19,
   "metadata": {},
   "outputs": [
    {
     "name": "stdout",
     "output_type": "stream",
     "text": [
      "min date: 2018-01-01 \n",
      "max date: 2018-08-30\n",
      "\n",
      "Product code < 0: 0\n",
      "\n",
      "Unique pharmacies: 86\n",
      "\n",
      "Pharmacies code < 0: 0\n",
      "\n",
      "Pharmacies code = 0: 24829 \n",
      "\n",
      "Missing values over all columns:\n",
      "pharmacy        0\n",
      "card_num        0\n",
      "receipt_date    0\n",
      "product         0\n",
      "product_code    0\n",
      "cashier_num     0\n",
      "receipt_num     0\n",
      "application     0\n",
      "retail_price    0\n",
      "dtype: int64\n"
     ]
    }
   ],
   "source": [
    "print(\n",
    "    \"min date:\", data.receipt_date.agg(min), \"\\nmax date:\", data.receipt_date.agg(max)\n",
    ")\n",
    "print(f\"\\nProduct code < 0:\", data[data[\"product_code\"] < 0].shape[0])\n",
    "print(f\"\\nUnique pharmacies:\", data[\"pharmacy\"].unique().size)\n",
    "print(f\"\\nPharmacies code < 0:\", data[data[\"pharmacy\"] < 0].shape[0])\n",
    "print(f\"\\nPharmacies code = 0:\", data[data[\"pharmacy\"] == 0].shape[0], \"\\n\")\n",
    "print(f\"Missing values over all columns:\\n{data.isna().sum()}\")"
   ]
  },
  {
   "cell_type": "code",
   "execution_count": 20,
   "metadata": {},
   "outputs": [
    {
     "data": {
      "application/vnd.plotly.v1+json": {
       "config": {
        "plotlyServerURL": "https://plot.ly"
       },
       "data": [
        {
         "alignmentgroup": "True",
         "hovertemplate": "pharmacy=%{x}<br>product=%{y}<extra></extra>",
         "legendgroup": "",
         "marker": {
          "color": "#636efa",
          "pattern": {
           "shape": ""
          }
         },
         "name": "",
         "offsetgroup": "",
         "orientation": "v",
         "showlegend": false,
         "textposition": "auto",
         "texttemplate": "%{y:.2s}",
         "type": "bar",
         "x": [
          0,
          1,
          2,
          3,
          4,
          5,
          6,
          7,
          8,
          9,
          10,
          11,
          12,
          13,
          14,
          15,
          16,
          17,
          18,
          19,
          20,
          21,
          22,
          23,
          24,
          25,
          26,
          27,
          28,
          29,
          30,
          31,
          32,
          33,
          34,
          35,
          36,
          37,
          38,
          39,
          40,
          41,
          42,
          43,
          44,
          45,
          46,
          47,
          48,
          49,
          50,
          51,
          52,
          53,
          54,
          55,
          56,
          57,
          58,
          59,
          60,
          61,
          62,
          63,
          64,
          65,
          66,
          67,
          68,
          69,
          70,
          71,
          72,
          73,
          74,
          75,
          76,
          77,
          78,
          79,
          80,
          81,
          82,
          83,
          84,
          86
         ],
         "xaxis": "x",
         "y": [
          24829,
          75554,
          159198,
          78019,
          21367,
          119180,
          22847,
          300690,
          10908,
          96135,
          44732,
          27949,
          13459,
          97199,
          67881,
          65226,
          24963,
          30054,
          137473,
          30548,
          9523,
          89010,
          157956,
          14766,
          66197,
          71859,
          24071,
          13240,
          20244,
          37327,
          115122,
          33724,
          29690,
          90869,
          44771,
          24619,
          20843,
          2589,
          6606,
          6310,
          25,
          84944,
          36016,
          36054,
          43433,
          45396,
          26311,
          8147,
          48595,
          138780,
          29913,
          34828,
          20970,
          42561,
          79854,
          50383,
          6047,
          25847,
          91142,
          57429,
          2104,
          4012,
          30317,
          29501,
          92046,
          47848,
          12563,
          75011,
          388,
          12454,
          56516,
          56051,
          26795,
          69837,
          11829,
          780,
          30479,
          49259,
          37761,
          20570,
          7916,
          24528,
          856,
          369,
          1929,
          1437
         ],
         "yaxis": "y"
        }
       ],
       "layout": {
        "autosize": true,
        "barmode": "relative",
        "legend": {
         "tracegroupgap": 0
        },
        "template": {
         "data": {
          "bar": [
           {
            "error_x": {
             "color": "#2a3f5f"
            },
            "error_y": {
             "color": "#2a3f5f"
            },
            "marker": {
             "line": {
              "color": "#E5ECF6",
              "width": 0.5
             },
             "pattern": {
              "fillmode": "overlay",
              "size": 10,
              "solidity": 0.2
             }
            },
            "type": "bar"
           }
          ],
          "barpolar": [
           {
            "marker": {
             "line": {
              "color": "#E5ECF6",
              "width": 0.5
             },
             "pattern": {
              "fillmode": "overlay",
              "size": 10,
              "solidity": 0.2
             }
            },
            "type": "barpolar"
           }
          ],
          "carpet": [
           {
            "aaxis": {
             "endlinecolor": "#2a3f5f",
             "gridcolor": "white",
             "linecolor": "white",
             "minorgridcolor": "white",
             "startlinecolor": "#2a3f5f"
            },
            "baxis": {
             "endlinecolor": "#2a3f5f",
             "gridcolor": "white",
             "linecolor": "white",
             "minorgridcolor": "white",
             "startlinecolor": "#2a3f5f"
            },
            "type": "carpet"
           }
          ],
          "choropleth": [
           {
            "colorbar": {
             "outlinewidth": 0,
             "ticks": ""
            },
            "type": "choropleth"
           }
          ],
          "contour": [
           {
            "colorbar": {
             "outlinewidth": 0,
             "ticks": ""
            },
            "colorscale": [
             [
              0,
              "#0d0887"
             ],
             [
              0.1111111111111111,
              "#46039f"
             ],
             [
              0.2222222222222222,
              "#7201a8"
             ],
             [
              0.3333333333333333,
              "#9c179e"
             ],
             [
              0.4444444444444444,
              "#bd3786"
             ],
             [
              0.5555555555555556,
              "#d8576b"
             ],
             [
              0.6666666666666666,
              "#ed7953"
             ],
             [
              0.7777777777777778,
              "#fb9f3a"
             ],
             [
              0.8888888888888888,
              "#fdca26"
             ],
             [
              1,
              "#f0f921"
             ]
            ],
            "type": "contour"
           }
          ],
          "contourcarpet": [
           {
            "colorbar": {
             "outlinewidth": 0,
             "ticks": ""
            },
            "type": "contourcarpet"
           }
          ],
          "heatmap": [
           {
            "colorbar": {
             "outlinewidth": 0,
             "ticks": ""
            },
            "colorscale": [
             [
              0,
              "#0d0887"
             ],
             [
              0.1111111111111111,
              "#46039f"
             ],
             [
              0.2222222222222222,
              "#7201a8"
             ],
             [
              0.3333333333333333,
              "#9c179e"
             ],
             [
              0.4444444444444444,
              "#bd3786"
             ],
             [
              0.5555555555555556,
              "#d8576b"
             ],
             [
              0.6666666666666666,
              "#ed7953"
             ],
             [
              0.7777777777777778,
              "#fb9f3a"
             ],
             [
              0.8888888888888888,
              "#fdca26"
             ],
             [
              1,
              "#f0f921"
             ]
            ],
            "type": "heatmap"
           }
          ],
          "heatmapgl": [
           {
            "colorbar": {
             "outlinewidth": 0,
             "ticks": ""
            },
            "colorscale": [
             [
              0,
              "#0d0887"
             ],
             [
              0.1111111111111111,
              "#46039f"
             ],
             [
              0.2222222222222222,
              "#7201a8"
             ],
             [
              0.3333333333333333,
              "#9c179e"
             ],
             [
              0.4444444444444444,
              "#bd3786"
             ],
             [
              0.5555555555555556,
              "#d8576b"
             ],
             [
              0.6666666666666666,
              "#ed7953"
             ],
             [
              0.7777777777777778,
              "#fb9f3a"
             ],
             [
              0.8888888888888888,
              "#fdca26"
             ],
             [
              1,
              "#f0f921"
             ]
            ],
            "type": "heatmapgl"
           }
          ],
          "histogram": [
           {
            "marker": {
             "pattern": {
              "fillmode": "overlay",
              "size": 10,
              "solidity": 0.2
             }
            },
            "type": "histogram"
           }
          ],
          "histogram2d": [
           {
            "colorbar": {
             "outlinewidth": 0,
             "ticks": ""
            },
            "colorscale": [
             [
              0,
              "#0d0887"
             ],
             [
              0.1111111111111111,
              "#46039f"
             ],
             [
              0.2222222222222222,
              "#7201a8"
             ],
             [
              0.3333333333333333,
              "#9c179e"
             ],
             [
              0.4444444444444444,
              "#bd3786"
             ],
             [
              0.5555555555555556,
              "#d8576b"
             ],
             [
              0.6666666666666666,
              "#ed7953"
             ],
             [
              0.7777777777777778,
              "#fb9f3a"
             ],
             [
              0.8888888888888888,
              "#fdca26"
             ],
             [
              1,
              "#f0f921"
             ]
            ],
            "type": "histogram2d"
           }
          ],
          "histogram2dcontour": [
           {
            "colorbar": {
             "outlinewidth": 0,
             "ticks": ""
            },
            "colorscale": [
             [
              0,
              "#0d0887"
             ],
             [
              0.1111111111111111,
              "#46039f"
             ],
             [
              0.2222222222222222,
              "#7201a8"
             ],
             [
              0.3333333333333333,
              "#9c179e"
             ],
             [
              0.4444444444444444,
              "#bd3786"
             ],
             [
              0.5555555555555556,
              "#d8576b"
             ],
             [
              0.6666666666666666,
              "#ed7953"
             ],
             [
              0.7777777777777778,
              "#fb9f3a"
             ],
             [
              0.8888888888888888,
              "#fdca26"
             ],
             [
              1,
              "#f0f921"
             ]
            ],
            "type": "histogram2dcontour"
           }
          ],
          "mesh3d": [
           {
            "colorbar": {
             "outlinewidth": 0,
             "ticks": ""
            },
            "type": "mesh3d"
           }
          ],
          "parcoords": [
           {
            "line": {
             "colorbar": {
              "outlinewidth": 0,
              "ticks": ""
             }
            },
            "type": "parcoords"
           }
          ],
          "pie": [
           {
            "automargin": true,
            "type": "pie"
           }
          ],
          "scatter": [
           {
            "fillpattern": {
             "fillmode": "overlay",
             "size": 10,
             "solidity": 0.2
            },
            "type": "scatter"
           }
          ],
          "scatter3d": [
           {
            "line": {
             "colorbar": {
              "outlinewidth": 0,
              "ticks": ""
             }
            },
            "marker": {
             "colorbar": {
              "outlinewidth": 0,
              "ticks": ""
             }
            },
            "type": "scatter3d"
           }
          ],
          "scattercarpet": [
           {
            "marker": {
             "colorbar": {
              "outlinewidth": 0,
              "ticks": ""
             }
            },
            "type": "scattercarpet"
           }
          ],
          "scattergeo": [
           {
            "marker": {
             "colorbar": {
              "outlinewidth": 0,
              "ticks": ""
             }
            },
            "type": "scattergeo"
           }
          ],
          "scattergl": [
           {
            "marker": {
             "colorbar": {
              "outlinewidth": 0,
              "ticks": ""
             }
            },
            "type": "scattergl"
           }
          ],
          "scattermapbox": [
           {
            "marker": {
             "colorbar": {
              "outlinewidth": 0,
              "ticks": ""
             }
            },
            "type": "scattermapbox"
           }
          ],
          "scatterpolar": [
           {
            "marker": {
             "colorbar": {
              "outlinewidth": 0,
              "ticks": ""
             }
            },
            "type": "scatterpolar"
           }
          ],
          "scatterpolargl": [
           {
            "marker": {
             "colorbar": {
              "outlinewidth": 0,
              "ticks": ""
             }
            },
            "type": "scatterpolargl"
           }
          ],
          "scatterternary": [
           {
            "marker": {
             "colorbar": {
              "outlinewidth": 0,
              "ticks": ""
             }
            },
            "type": "scatterternary"
           }
          ],
          "surface": [
           {
            "colorbar": {
             "outlinewidth": 0,
             "ticks": ""
            },
            "colorscale": [
             [
              0,
              "#0d0887"
             ],
             [
              0.1111111111111111,
              "#46039f"
             ],
             [
              0.2222222222222222,
              "#7201a8"
             ],
             [
              0.3333333333333333,
              "#9c179e"
             ],
             [
              0.4444444444444444,
              "#bd3786"
             ],
             [
              0.5555555555555556,
              "#d8576b"
             ],
             [
              0.6666666666666666,
              "#ed7953"
             ],
             [
              0.7777777777777778,
              "#fb9f3a"
             ],
             [
              0.8888888888888888,
              "#fdca26"
             ],
             [
              1,
              "#f0f921"
             ]
            ],
            "type": "surface"
           }
          ],
          "table": [
           {
            "cells": {
             "fill": {
              "color": "#EBF0F8"
             },
             "line": {
              "color": "white"
             }
            },
            "header": {
             "fill": {
              "color": "#C8D4E3"
             },
             "line": {
              "color": "white"
             }
            },
            "type": "table"
           }
          ]
         },
         "layout": {
          "annotationdefaults": {
           "arrowcolor": "#2a3f5f",
           "arrowhead": 0,
           "arrowwidth": 1
          },
          "autotypenumbers": "strict",
          "coloraxis": {
           "colorbar": {
            "outlinewidth": 0,
            "ticks": ""
           }
          },
          "colorscale": {
           "diverging": [
            [
             0,
             "#8e0152"
            ],
            [
             0.1,
             "#c51b7d"
            ],
            [
             0.2,
             "#de77ae"
            ],
            [
             0.3,
             "#f1b6da"
            ],
            [
             0.4,
             "#fde0ef"
            ],
            [
             0.5,
             "#f7f7f7"
            ],
            [
             0.6,
             "#e6f5d0"
            ],
            [
             0.7,
             "#b8e186"
            ],
            [
             0.8,
             "#7fbc41"
            ],
            [
             0.9,
             "#4d9221"
            ],
            [
             1,
             "#276419"
            ]
           ],
           "sequential": [
            [
             0,
             "#0d0887"
            ],
            [
             0.1111111111111111,
             "#46039f"
            ],
            [
             0.2222222222222222,
             "#7201a8"
            ],
            [
             0.3333333333333333,
             "#9c179e"
            ],
            [
             0.4444444444444444,
             "#bd3786"
            ],
            [
             0.5555555555555556,
             "#d8576b"
            ],
            [
             0.6666666666666666,
             "#ed7953"
            ],
            [
             0.7777777777777778,
             "#fb9f3a"
            ],
            [
             0.8888888888888888,
             "#fdca26"
            ],
            [
             1,
             "#f0f921"
            ]
           ],
           "sequentialminus": [
            [
             0,
             "#0d0887"
            ],
            [
             0.1111111111111111,
             "#46039f"
            ],
            [
             0.2222222222222222,
             "#7201a8"
            ],
            [
             0.3333333333333333,
             "#9c179e"
            ],
            [
             0.4444444444444444,
             "#bd3786"
            ],
            [
             0.5555555555555556,
             "#d8576b"
            ],
            [
             0.6666666666666666,
             "#ed7953"
            ],
            [
             0.7777777777777778,
             "#fb9f3a"
            ],
            [
             0.8888888888888888,
             "#fdca26"
            ],
            [
             1,
             "#f0f921"
            ]
           ]
          },
          "colorway": [
           "#636efa",
           "#EF553B",
           "#00cc96",
           "#ab63fa",
           "#FFA15A",
           "#19d3f3",
           "#FF6692",
           "#B6E880",
           "#FF97FF",
           "#FECB52"
          ],
          "font": {
           "color": "#2a3f5f"
          },
          "geo": {
           "bgcolor": "white",
           "lakecolor": "white",
           "landcolor": "#E5ECF6",
           "showlakes": true,
           "showland": true,
           "subunitcolor": "white"
          },
          "hoverlabel": {
           "align": "left"
          },
          "hovermode": "closest",
          "mapbox": {
           "style": "light"
          },
          "paper_bgcolor": "white",
          "plot_bgcolor": "#E5ECF6",
          "polar": {
           "angularaxis": {
            "gridcolor": "white",
            "linecolor": "white",
            "ticks": ""
           },
           "bgcolor": "#E5ECF6",
           "radialaxis": {
            "gridcolor": "white",
            "linecolor": "white",
            "ticks": ""
           }
          },
          "scene": {
           "xaxis": {
            "backgroundcolor": "#E5ECF6",
            "gridcolor": "white",
            "gridwidth": 2,
            "linecolor": "white",
            "showbackground": true,
            "ticks": "",
            "zerolinecolor": "white"
           },
           "yaxis": {
            "backgroundcolor": "#E5ECF6",
            "gridcolor": "white",
            "gridwidth": 2,
            "linecolor": "white",
            "showbackground": true,
            "ticks": "",
            "zerolinecolor": "white"
           },
           "zaxis": {
            "backgroundcolor": "#E5ECF6",
            "gridcolor": "white",
            "gridwidth": 2,
            "linecolor": "white",
            "showbackground": true,
            "ticks": "",
            "zerolinecolor": "white"
           }
          },
          "shapedefaults": {
           "line": {
            "color": "#2a3f5f"
           }
          },
          "ternary": {
           "aaxis": {
            "gridcolor": "white",
            "linecolor": "white",
            "ticks": ""
           },
           "baxis": {
            "gridcolor": "white",
            "linecolor": "white",
            "ticks": ""
           },
           "bgcolor": "#E5ECF6",
           "caxis": {
            "gridcolor": "white",
            "linecolor": "white",
            "ticks": ""
           }
          },
          "title": {
           "x": 0.05
          },
          "xaxis": {
           "automargin": true,
           "gridcolor": "white",
           "linecolor": "white",
           "ticks": "",
           "title": {
            "standoff": 15
           },
           "zerolinecolor": "white",
           "zerolinewidth": 2
          },
          "yaxis": {
           "automargin": true,
           "gridcolor": "white",
           "linecolor": "white",
           "ticks": "",
           "title": {
            "standoff": 15
           },
           "zerolinecolor": "white",
           "zerolinewidth": 2
          }
         }
        },
        "title": {
         "text": "Количество применений по аптекам"
        },
        "xaxis": {
         "anchor": "y",
         "autorange": true,
         "domain": [
          0,
          1
         ],
         "range": [
          -0.5,
          86.5
         ],
         "title": {
          "text": "pharmacy"
         },
         "type": "linear"
        },
        "yaxis": {
         "anchor": "x",
         "autorange": true,
         "domain": [
          0,
          1
         ],
         "range": [
          0,
          316515.7894736842
         ],
         "title": {
          "text": "product"
         },
         "type": "linear"
        }
       }
      },
      "image/png": "[encoded data removed]",
      "text/html": [
       "<div>                            <div id=\"d9815858-eda8-4768-8971-8311f9926458\" class=\"plotly-graph-div\" style=\"height:525px; width:100%;\"></div>            <script type=\"text/javascript\">                require([\"plotly\"], function(Plotly) {                    window.PLOTLYENV=window.PLOTLYENV || {};                                    if (document.getElementById(\"d9815858-eda8-4768-8971-8311f9926458\")) {                    Plotly.newPlot(                        \"d9815858-eda8-4768-8971-8311f9926458\",                        [{\"alignmentgroup\":\"True\",\"hovertemplate\":\"pharmacy=%{x}<br>product=%{y}<extra></extra>\",\"legendgroup\":\"\",\"marker\":{\"color\":\"#636efa\",\"pattern\":{\"shape\":\"\"}},\"name\":\"\",\"offsetgroup\":\"\",\"orientation\":\"v\",\"showlegend\":false,\"textposition\":\"auto\",\"texttemplate\":\"%{y:.2s}\",\"x\":[0,1,2,3,4,5,6,7,8,9,10,11,12,13,14,15,16,17,18,19,20,21,22,23,24,25,26,27,28,29,30,31,32,33,34,35,36,37,38,39,40,41,42,43,44,45,46,47,48,49,50,51,52,53,54,55,56,57,58,59,60,61,62,63,64,65,66,67,68,69,70,71,72,73,74,75,76,77,78,79,80,81,82,83,84,86],\"xaxis\":\"x\",\"y\":[24829,75554,159198,78019,21367,119180,22847,300690,10908,96135,44732,27949,13459,97199,67881,65226,24963,30054,137473,30548,9523,89010,157956,14766,66197,71859,24071,13240,20244,37327,115122,33724,29690,90869,44771,24619,20843,2589,6606,6310,25,84944,36016,36054,43433,45396,26311,8147,48595,138780,29913,34828,20970,42561,79854,50383,6047,25847,91142,57429,2104,4012,30317,29501,92046,47848,12563,75011,388,12454,56516,56051,26795,69837,11829,780,30479,49259,37761,20570,7916,24528,856,369,1929,1437],\"yaxis\":\"y\",\"type\":\"bar\"}],                        {\"template\":{\"data\":{\"histogram2dcontour\":[{\"type\":\"histogram2dcontour\",\"colorbar\":{\"outlinewidth\":0,\"ticks\":\"\"},\"colorscale\":[[0.0,\"#0d0887\"],[0.1111111111111111,\"#46039f\"],[0.2222222222222222,\"#7201a8\"],[0.3333333333333333,\"#9c179e\"],[0.4444444444444444,\"#bd3786\"],[0.5555555555555556,\"#d8576b\"],[0.6666666666666666,\"#ed7953\"],[0.7777777777777778,\"#fb9f3a\"],[0.8888888888888888,\"#fdca26\"],[1.0,\"#f0f921\"]]}],\"choropleth\":[{\"type\":\"choropleth\",\"colorbar\":{\"outlinewidth\":0,\"ticks\":\"\"}}],\"histogram2d\":[{\"type\":\"histogram2d\",\"colorbar\":{\"outlinewidth\":0,\"ticks\":\"\"},\"colorscale\":[[0.0,\"#0d0887\"],[0.1111111111111111,\"#46039f\"],[0.2222222222222222,\"#7201a8\"],[0.3333333333333333,\"#9c179e\"],[0.4444444444444444,\"#bd3786\"],[0.5555555555555556,\"#d8576b\"],[0.6666666666666666,\"#ed7953\"],[0.7777777777777778,\"#fb9f3a\"],[0.8888888888888888,\"#fdca26\"],[1.0,\"#f0f921\"]]}],\"heatmap\":[{\"type\":\"heatmap\",\"colorbar\":{\"outlinewidth\":0,\"ticks\":\"\"},\"colorscale\":[[0.0,\"#0d0887\"],[0.1111111111111111,\"#46039f\"],[0.2222222222222222,\"#7201a8\"],[0.3333333333333333,\"#9c179e\"],[0.4444444444444444,\"#bd3786\"],[0.5555555555555556,\"#d8576b\"],[0.6666666666666666,\"#ed7953\"],[0.7777777777777778,\"#fb9f3a\"],[0.8888888888888888,\"#fdca26\"],[1.0,\"#f0f921\"]]}],\"heatmapgl\":[{\"type\":\"heatmapgl\",\"colorbar\":{\"outlinewidth\":0,\"ticks\":\"\"},\"colorscale\":[[0.0,\"#0d0887\"],[0.1111111111111111,\"#46039f\"],[0.2222222222222222,\"#7201a8\"],[0.3333333333333333,\"#9c179e\"],[0.4444444444444444,\"#bd3786\"],[0.5555555555555556,\"#d8576b\"],[0.6666666666666666,\"#ed7953\"],[0.7777777777777778,\"#fb9f3a\"],[0.8888888888888888,\"#fdca26\"],[1.0,\"#f0f921\"]]}],\"contourcarpet\":[{\"type\":\"contourcarpet\",\"colorbar\":{\"outlinewidth\":0,\"ticks\":\"\"}}],\"contour\":[{\"type\":\"contour\",\"colorbar\":{\"outlinewidth\":0,\"ticks\":\"\"},\"colorscale\":[[0.0,\"#0d0887\"],[0.1111111111111111,\"#46039f\"],[0.2222222222222222,\"#7201a8\"],[0.3333333333333333,\"#9c179e\"],[0.4444444444444444,\"#bd3786\"],[0.5555555555555556,\"#d8576b\"],[0.6666666666666666,\"#ed7953\"],[0.7777777777777778,\"#fb9f3a\"],[0.8888888888888888,\"#fdca26\"],[1.0,\"#f0f921\"]]}],\"surface\":[{\"type\":\"surface\",\"colorbar\":{\"outlinewidth\":0,\"ticks\":\"\"},\"colorscale\":[[0.0,\"#0d0887\"],[0.1111111111111111,\"#46039f\"],[0.2222222222222222,\"#7201a8\"],[0.3333333333333333,\"#9c179e\"],[0.4444444444444444,\"#bd3786\"],[0.5555555555555556,\"#d8576b\"],[0.6666666666666666,\"#ed7953\"],[0.7777777777777778,\"#fb9f3a\"],[0.8888888888888888,\"#fdca26\"],[1.0,\"#f0f921\"]]}],\"mesh3d\":[{\"type\":\"mesh3d\",\"colorbar\":{\"outlinewidth\":0,\"ticks\":\"\"}}],\"scatter\":[{\"fillpattern\":{\"fillmode\":\"overlay\",\"size\":10,\"solidity\":0.2},\"type\":\"scatter\"}],\"parcoords\":[{\"type\":\"parcoords\",\"line\":{\"colorbar\":{\"outlinewidth\":0,\"ticks\":\"\"}}}],\"scatterpolargl\":[{\"type\":\"scatterpolargl\",\"marker\":{\"colorbar\":{\"outlinewidth\":0,\"ticks\":\"\"}}}],\"bar\":[{\"error_x\":{\"color\":\"#2a3f5f\"},\"error_y\":{\"color\":\"#2a3f5f\"},\"marker\":{\"line\":{\"color\":\"#E5ECF6\",\"width\":0.5},\"pattern\":{\"fillmode\":\"overlay\",\"size\":10,\"solidity\":0.2}},\"type\":\"bar\"}],\"scattergeo\":[{\"type\":\"scattergeo\",\"marker\":{\"colorbar\":{\"outlinewidth\":0,\"ticks\":\"\"}}}],\"scatterpolar\":[{\"type\":\"scatterpolar\",\"marker\":{\"colorbar\":{\"outlinewidth\":0,\"ticks\":\"\"}}}],\"histogram\":[{\"marker\":{\"pattern\":{\"fillmode\":\"overlay\",\"size\":10,\"solidity\":0.2}},\"type\":\"histogram\"}],\"scattergl\":[{\"type\":\"scattergl\",\"marker\":{\"colorbar\":{\"outlinewidth\":0,\"ticks\":\"\"}}}],\"scatter3d\":[{\"type\":\"scatter3d\",\"line\":{\"colorbar\":{\"outlinewidth\":0,\"ticks\":\"\"}},\"marker\":{\"colorbar\":{\"outlinewidth\":0,\"ticks\":\"\"}}}],\"scattermapbox\":[{\"type\":\"scattermapbox\",\"marker\":{\"colorbar\":{\"outlinewidth\":0,\"ticks\":\"\"}}}],\"scatterternary\":[{\"type\":\"scatterternary\",\"marker\":{\"colorbar\":{\"outlinewidth\":0,\"ticks\":\"\"}}}],\"scattercarpet\":[{\"type\":\"scattercarpet\",\"marker\":{\"colorbar\":{\"outlinewidth\":0,\"ticks\":\"\"}}}],\"carpet\":[{\"aaxis\":{\"endlinecolor\":\"#2a3f5f\",\"gridcolor\":\"white\",\"linecolor\":\"white\",\"minorgridcolor\":\"white\",\"startlinecolor\":\"#2a3f5f\"},\"baxis\":{\"endlinecolor\":\"#2a3f5f\",\"gridcolor\":\"white\",\"linecolor\":\"white\",\"minorgridcolor\":\"white\",\"startlinecolor\":\"#2a3f5f\"},\"type\":\"carpet\"}],\"table\":[{\"cells\":{\"fill\":{\"color\":\"#EBF0F8\"},\"line\":{\"color\":\"white\"}},\"header\":{\"fill\":{\"color\":\"#C8D4E3\"},\"line\":{\"color\":\"white\"}},\"type\":\"table\"}],\"barpolar\":[{\"marker\":{\"line\":{\"color\":\"#E5ECF6\",\"width\":0.5},\"pattern\":{\"fillmode\":\"overlay\",\"size\":10,\"solidity\":0.2}},\"type\":\"barpolar\"}],\"pie\":[{\"automargin\":true,\"type\":\"pie\"}]},\"layout\":{\"autotypenumbers\":\"strict\",\"colorway\":[\"#636efa\",\"#EF553B\",\"#00cc96\",\"#ab63fa\",\"#FFA15A\",\"#19d3f3\",\"#FF6692\",\"#B6E880\",\"#FF97FF\",\"#FECB52\"],\"font\":{\"color\":\"#2a3f5f\"},\"hovermode\":\"closest\",\"hoverlabel\":{\"align\":\"left\"},\"paper_bgcolor\":\"white\",\"plot_bgcolor\":\"#E5ECF6\",\"polar\":{\"bgcolor\":\"#E5ECF6\",\"angularaxis\":{\"gridcolor\":\"white\",\"linecolor\":\"white\",\"ticks\":\"\"},\"radialaxis\":{\"gridcolor\":\"white\",\"linecolor\":\"white\",\"ticks\":\"\"}},\"ternary\":{\"bgcolor\":\"#E5ECF6\",\"aaxis\":{\"gridcolor\":\"white\",\"linecolor\":\"white\",\"ticks\":\"\"},\"baxis\":{\"gridcolor\":\"white\",\"linecolor\":\"white\",\"ticks\":\"\"},\"caxis\":{\"gridcolor\":\"white\",\"linecolor\":\"white\",\"ticks\":\"\"}},\"coloraxis\":{\"colorbar\":{\"outlinewidth\":0,\"ticks\":\"\"}},\"colorscale\":{\"sequential\":[[0.0,\"#0d0887\"],[0.1111111111111111,\"#46039f\"],[0.2222222222222222,\"#7201a8\"],[0.3333333333333333,\"#9c179e\"],[0.4444444444444444,\"#bd3786\"],[0.5555555555555556,\"#d8576b\"],[0.6666666666666666,\"#ed7953\"],[0.7777777777777778,\"#fb9f3a\"],[0.8888888888888888,\"#fdca26\"],[1.0,\"#f0f921\"]],\"sequentialminus\":[[0.0,\"#0d0887\"],[0.1111111111111111,\"#46039f\"],[0.2222222222222222,\"#7201a8\"],[0.3333333333333333,\"#9c179e\"],[0.4444444444444444,\"#bd3786\"],[0.5555555555555556,\"#d8576b\"],[0.6666666666666666,\"#ed7953\"],[0.7777777777777778,\"#fb9f3a\"],[0.8888888888888888,\"#fdca26\"],[1.0,\"#f0f921\"]],\"diverging\":[[0,\"#8e0152\"],[0.1,\"#c51b7d\"],[0.2,\"#de77ae\"],[0.3,\"#f1b6da\"],[0.4,\"#fde0ef\"],[0.5,\"#f7f7f7\"],[0.6,\"#e6f5d0\"],[0.7,\"#b8e186\"],[0.8,\"#7fbc41\"],[0.9,\"#4d9221\"],[1,\"#276419\"]]},\"xaxis\":{\"gridcolor\":\"white\",\"linecolor\":\"white\",\"ticks\":\"\",\"title\":{\"standoff\":15},\"zerolinecolor\":\"white\",\"automargin\":true,\"zerolinewidth\":2},\"yaxis\":{\"gridcolor\":\"white\",\"linecolor\":\"white\",\"ticks\":\"\",\"title\":{\"standoff\":15},\"zerolinecolor\":\"white\",\"automargin\":true,\"zerolinewidth\":2},\"scene\":{\"xaxis\":{\"backgroundcolor\":\"#E5ECF6\",\"gridcolor\":\"white\",\"linecolor\":\"white\",\"showbackground\":true,\"ticks\":\"\",\"zerolinecolor\":\"white\",\"gridwidth\":2},\"yaxis\":{\"backgroundcolor\":\"#E5ECF6\",\"gridcolor\":\"white\",\"linecolor\":\"white\",\"showbackground\":true,\"ticks\":\"\",\"zerolinecolor\":\"white\",\"gridwidth\":2},\"zaxis\":{\"backgroundcolor\":\"#E5ECF6\",\"gridcolor\":\"white\",\"linecolor\":\"white\",\"showbackground\":true,\"ticks\":\"\",\"zerolinecolor\":\"white\",\"gridwidth\":2}},\"shapedefaults\":{\"line\":{\"color\":\"#2a3f5f\"}},\"annotationdefaults\":{\"arrowcolor\":\"#2a3f5f\",\"arrowhead\":0,\"arrowwidth\":1},\"geo\":{\"bgcolor\":\"white\",\"landcolor\":\"#E5ECF6\",\"subunitcolor\":\"white\",\"showland\":true,\"showlakes\":true,\"lakecolor\":\"white\"},\"title\":{\"x\":0.05},\"mapbox\":{\"style\":\"light\"}}},\"xaxis\":{\"anchor\":\"y\",\"domain\":[0.0,1.0],\"title\":{\"text\":\"pharmacy\"}},\"yaxis\":{\"anchor\":\"x\",\"domain\":[0.0,1.0],\"title\":{\"text\":\"product\"}},\"legend\":{\"tracegroupgap\":0},\"title\":{\"text\":\"\\u041a\\u043e\\u043b\\u0438\\u0447\\u0435\\u0441\\u0442\\u0432\\u043e \\u043f\\u0440\\u0438\\u043c\\u0435\\u043d\\u0435\\u043d\\u0438\\u0439 \\u043f\\u043e \\u0430\\u043f\\u0442\\u0435\\u043a\\u0430\\u043c\"},\"barmode\":\"relative\"},                        {\"responsive\": true}                    ).then(function(){\n",
       "                            \n",
       "var gd = document.getElementById('d9815858-eda8-4768-8971-8311f9926458');\n",
       "var x = new MutationObserver(function (mutations, observer) {{\n",
       "        var display = window.getComputedStyle(gd).display;\n",
       "        if (!display || display === 'none') {{\n",
       "            console.log([gd, 'removed!']);\n",
       "            Plotly.purge(gd);\n",
       "            observer.disconnect();\n",
       "        }}\n",
       "}});\n",
       "\n",
       "// Listen for the removal of the full notebook cells\n",
       "var notebookContainer = gd.closest('#notebook-container');\n",
       "if (notebookContainer) {{\n",
       "    x.observe(notebookContainer, {childList: true});\n",
       "}}\n",
       "\n",
       "// Listen for the clearing of the current output cell\n",
       "var outputEl = gd.closest('.output');\n",
       "if (outputEl) {{\n",
       "    x.observe(outputEl, {childList: true});\n",
       "}}\n",
       "\n",
       "                        })                };                });            </script>        </div>"
      ]
     },
     "metadata": {},
     "output_type": "display_data"
    }
   ],
   "source": [
    "px.bar(\n",
    "    data.groupby(\"pharmacy\")[\"product\"].count(),\n",
    "    title=\"Количество применений по аптекам\",\n",
    "    y=\"product\",\n",
    "    text_auto=\".2s\",\n",
    ")"
   ]
  },
  {
   "cell_type": "code",
   "execution_count": 21,
   "metadata": {},
   "outputs": [
    {
     "data": {
      "application/vnd.plotly.v1+json": {
       "config": {
        "plotlyServerURL": "https://plot.ly"
       },
       "data": [
        {
         "hovertemplate": "receipt_date=%{x}<br>product=%{y}<extra></extra>",
         "legendgroup": "",
         "line": {
          "color": "#636efa",
          "dash": "solid"
         },
         "marker": {
          "symbol": "circle"
         },
         "mode": "lines",
         "name": "",
         "orientation": "v",
         "showlegend": false,
         "type": "scatter",
         "x": [
          "2018-01-01",
          "2018-01-02",
          "2018-01-03",
          "2018-01-04",
          "2018-01-05",
          "2018-01-06",
          "2018-01-07",
          "2018-01-08",
          "2018-01-09",
          "2018-01-10",
          "2018-01-11",
          "2018-01-12",
          "2018-01-13",
          "2018-01-14",
          "2018-01-15",
          "2018-01-16",
          "2018-01-17",
          "2018-01-18",
          "2018-01-19",
          "2018-01-20",
          "2018-01-21",
          "2018-01-22",
          "2018-01-23",
          "2018-01-24",
          "2018-01-25",
          "2018-01-26",
          "2018-01-27",
          "2018-01-28",
          "2018-01-29",
          "2018-01-30",
          "2018-01-31",
          "2018-02-01",
          "2018-02-02",
          "2018-02-03",
          "2018-02-04",
          "2018-02-05",
          "2018-02-06",
          "2018-02-07",
          "2018-02-08",
          "2018-02-09",
          "2018-02-10",
          "2018-02-11",
          "2018-02-12",
          "2018-02-13",
          "2018-02-14",
          "2018-02-15",
          "2018-02-16",
          "2018-02-17",
          "2018-02-18",
          "2018-02-19",
          "2018-02-20",
          "2018-02-21",
          "2018-02-22",
          "2018-02-23",
          "2018-02-24",
          "2018-02-25",
          "2018-02-26",
          "2018-02-27",
          "2018-02-28",
          "2018-03-01",
          "2018-03-02",
          "2018-03-03",
          "2018-03-04",
          "2018-03-05",
          "2018-03-06",
          "2018-03-07",
          "2018-03-08",
          "2018-03-09",
          "2018-03-10",
          "2018-03-11",
          "2018-03-12",
          "2018-03-13",
          "2018-03-14",
          "2018-03-15",
          "2018-03-16",
          "2018-03-17",
          "2018-03-18",
          "2018-03-19",
          "2018-03-20",
          "2018-03-21",
          "2018-03-22",
          "2018-03-23",
          "2018-03-24",
          "2018-03-25",
          "2018-03-26",
          "2018-03-27",
          "2018-03-28",
          "2018-03-29",
          "2018-03-30",
          "2018-03-31",
          "2018-04-01",
          "2018-04-02",
          "2018-04-03",
          "2018-04-04",
          "2018-04-05",
          "2018-04-06",
          "2018-04-07",
          "2018-04-08",
          "2018-04-09",
          "2018-04-10",
          "2018-04-11",
          "2018-04-12",
          "2018-04-13",
          "2018-04-14",
          "2018-04-15",
          "2018-04-16",
          "2018-04-17",
          "2018-04-18",
          "2018-04-19",
          "2018-04-20",
          "2018-04-21",
          "2018-04-22",
          "2018-04-23",
          "2018-04-24",
          "2018-04-25",
          "2018-04-26",
          "2018-04-27",
          "2018-04-28",
          "2018-04-29",
          "2018-04-30",
          "2018-05-01",
          "2018-05-02",
          "2018-05-03",
          "2018-05-04",
          "2018-05-05",
          "2018-05-06",
          "2018-05-07",
          "2018-05-08",
          "2018-05-09",
          "2018-05-10",
          "2018-05-11",
          "2018-05-12",
          "2018-05-13",
          "2018-05-14",
          "2018-05-15",
          "2018-05-16",
          "2018-05-17",
          "2018-05-18",
          "2018-05-19",
          "2018-05-20",
          "2018-05-21",
          "2018-05-22",
          "2018-05-23",
          "2018-05-24",
          "2018-05-25",
          "2018-05-26",
          "2018-05-27",
          "2018-05-28",
          "2018-05-29",
          "2018-05-30",
          "2018-05-31",
          "2018-06-01",
          "2018-06-02",
          "2018-06-03",
          "2018-06-04",
          "2018-06-05",
          "2018-06-06",
          "2018-06-07",
          "2018-06-08",
          "2018-06-09",
          "2018-06-10",
          "2018-06-11",
          "2018-06-12",
          "2018-06-13",
          "2018-06-14",
          "2018-06-15",
          "2018-06-16",
          "2018-06-17",
          "2018-06-18",
          "2018-06-19",
          "2018-06-20",
          "2018-06-21",
          "2018-06-22",
          "2018-06-23",
          "2018-06-24",
          "2018-06-25",
          "2018-06-26",
          "2018-06-27",
          "2018-06-28",
          "2018-06-29",
          "2018-06-30",
          "2018-07-01",
          "2018-07-02",
          "2018-07-03",
          "2018-07-04",
          "2018-07-05",
          "2018-07-06",
          "2018-07-07",
          "2018-07-08",
          "2018-07-09",
          "2018-07-10",
          "2018-07-11",
          "2018-07-12",
          "2018-07-13",
          "2018-07-14",
          "2018-07-15",
          "2018-07-16",
          "2018-07-17",
          "2018-07-18",
          "2018-07-19",
          "2018-07-20",
          "2018-07-21",
          "2018-07-22",
          "2018-07-23",
          "2018-07-24",
          "2018-07-25",
          "2018-07-26",
          "2018-07-27",
          "2018-07-28",
          "2018-07-29",
          "2018-07-30",
          "2018-07-31",
          "2018-08-01",
          "2018-08-02",
          "2018-08-03",
          "2018-08-04",
          "2018-08-05",
          "2018-08-06",
          "2018-08-07",
          "2018-08-08",
          "2018-08-09",
          "2018-08-10",
          "2018-08-11",
          "2018-08-12",
          "2018-08-13",
          "2018-08-14",
          "2018-08-15",
          "2018-08-16",
          "2018-08-17",
          "2018-08-18",
          "2018-08-19",
          "2018-08-20",
          "2018-08-21",
          "2018-08-22",
          "2018-08-23",
          "2018-08-24",
          "2018-08-25",
          "2018-08-26",
          "2018-08-27",
          "2018-08-28",
          "2018-08-29",
          "2018-08-30"
         ],
         "xaxis": "x",
         "y": [
          2298,
          3423,
          3546,
          3750,
          3730,
          3667,
          3354,
          3872,
          4597,
          4577,
          4571,
          4510,
          3899,
          3689,
          4478,
          4525,
          4425,
          4452,
          4409,
          3967,
          3834,
          4534,
          4612,
          4514,
          4493,
          4402,
          4129,
          3885,
          4528,
          4500,
          4330,
          4522,
          4536,
          4058,
          3624,
          4577,
          4784,
          4745,
          4740,
          4690,
          4149,
          4072,
          4781,
          4733,
          4586,
          4675,
          4630,
          4177,
          4087,
          4732,
          4749,
          4662,
          4693,
          3852,
          4116,
          3980,
          4807,
          4709,
          4771,
          4807,
          4832,
          4480,
          4156,
          4881,
          5074,
          4958,
          3767,
          4181,
          4201,
          4184,
          4906,
          4984,
          4852,
          4805,
          4802,
          4292,
          4294,
          4920,
          4903,
          4959,
          4944,
          4729,
          4367,
          4386,
          4867,
          4729,
          4820,
          4812,
          4743,
          4296,
          4118,
          4869,
          4795,
          4803,
          4730,
          4760,
          4319,
          3728,
          4915,
          4739,
          4928,
          4877,
          4883,
          4304,
          4104,
          4851,
          4911,
          4476,
          4928,
          4873,
          4157,
          4124,
          4983,
          4947,
          4862,
          4765,
          5077,
          5091,
          4115,
          3838,
          3454,
          3625,
          4615,
          4795,
          4263,
          3925,
          4799,
          4771,
          3585,
          4879,
          4835,
          4118,
          4004,
          4880,
          4915,
          4815,
          4854,
          4666,
          4034,
          3933,
          4938,
          4681,
          4821,
          4684,
          4644,
          4021,
          3873,
          4747,
          4776,
          4678,
          4650,
          4815,
          4194,
          3968,
          4636,
          4764,
          4988,
          5063,
          4789,
          4902,
          3986,
          3841,
          3692,
          4732,
          4731,
          4833,
          4024,
          3897,
          4624,
          4745,
          4719,
          4653,
          4701,
          3834,
          3741,
          4685,
          4780,
          4672,
          4612,
          4587,
          3863,
          3574,
          4483,
          4596,
          4546,
          4688,
          4724,
          4029,
          3682,
          4559,
          4477,
          4555,
          4658,
          4577,
          3800,
          3608,
          4459,
          4482,
          4350,
          4320,
          4565,
          3893,
          3745,
          4329,
          4564,
          4366,
          4450,
          4448,
          3477,
          3777,
          4585,
          4536,
          4531,
          4488,
          4688,
          4003,
          3777,
          4617,
          4583,
          4613,
          4483,
          4575,
          3922,
          3720,
          4668,
          4621,
          4381,
          4621,
          4573,
          3881,
          3650,
          4561,
          4436,
          4608,
          4796,
          4605,
          4048,
          3944,
          4643,
          4617,
          4553,
          4651
         ],
         "yaxis": "y"
        }
       ],
       "layout": {
        "autosize": true,
        "legend": {
         "tracegroupgap": 0
        },
        "template": {
         "data": {
          "bar": [
           {
            "error_x": {
             "color": "#2a3f5f"
            },
            "error_y": {
             "color": "#2a3f5f"
            },
            "marker": {
             "line": {
              "color": "#E5ECF6",
              "width": 0.5
             },
             "pattern": {
              "fillmode": "overlay",
              "size": 10,
              "solidity": 0.2
             }
            },
            "type": "bar"
           }
          ],
          "barpolar": [
           {
            "marker": {
             "line": {
              "color": "#E5ECF6",
              "width": 0.5
             },
             "pattern": {
              "fillmode": "overlay",
              "size": 10,
              "solidity": 0.2
             }
            },
            "type": "barpolar"
           }
          ],
          "carpet": [
           {
            "aaxis": {
             "endlinecolor": "#2a3f5f",
             "gridcolor": "white",
             "linecolor": "white",
             "minorgridcolor": "white",
             "startlinecolor": "#2a3f5f"
            },
            "baxis": {
             "endlinecolor": "#2a3f5f",
             "gridcolor": "white",
             "linecolor": "white",
             "minorgridcolor": "white",
             "startlinecolor": "#2a3f5f"
            },
            "type": "carpet"
           }
          ],
          "choropleth": [
           {
            "colorbar": {
             "outlinewidth": 0,
             "ticks": ""
            },
            "type": "choropleth"
           }
          ],
          "contour": [
           {
            "colorbar": {
             "outlinewidth": 0,
             "ticks": ""
            },
            "colorscale": [
             [
              0,
              "#0d0887"
             ],
             [
              0.1111111111111111,
              "#46039f"
             ],
             [
              0.2222222222222222,
              "#7201a8"
             ],
             [
              0.3333333333333333,
              "#9c179e"
             ],
             [
              0.4444444444444444,
              "#bd3786"
             ],
             [
              0.5555555555555556,
              "#d8576b"
             ],
             [
              0.6666666666666666,
              "#ed7953"
             ],
             [
              0.7777777777777778,
              "#fb9f3a"
             ],
             [
              0.8888888888888888,
              "#fdca26"
             ],
             [
              1,
              "#f0f921"
             ]
            ],
            "type": "contour"
           }
          ],
          "contourcarpet": [
           {
            "colorbar": {
             "outlinewidth": 0,
             "ticks": ""
            },
            "type": "contourcarpet"
           }
          ],
          "heatmap": [
           {
            "colorbar": {
             "outlinewidth": 0,
             "ticks": ""
            },
            "colorscale": [
             [
              0,
              "#0d0887"
             ],
             [
              0.1111111111111111,
              "#46039f"
             ],
             [
              0.2222222222222222,
              "#7201a8"
             ],
             [
              0.3333333333333333,
              "#9c179e"
             ],
             [
              0.4444444444444444,
              "#bd3786"
             ],
             [
              0.5555555555555556,
              "#d8576b"
             ],
             [
              0.6666666666666666,
              "#ed7953"
             ],
             [
              0.7777777777777778,
              "#fb9f3a"
             ],
             [
              0.8888888888888888,
              "#fdca26"
             ],
             [
              1,
              "#f0f921"
             ]
            ],
            "type": "heatmap"
           }
          ],
          "heatmapgl": [
           {
            "colorbar": {
             "outlinewidth": 0,
             "ticks": ""
            },
            "colorscale": [
             [
              0,
              "#0d0887"
             ],
             [
              0.1111111111111111,
              "#46039f"
             ],
             [
              0.2222222222222222,
              "#7201a8"
             ],
             [
              0.3333333333333333,
              "#9c179e"
             ],
             [
              0.4444444444444444,
              "#bd3786"
             ],
             [
              0.5555555555555556,
              "#d8576b"
             ],
             [
              0.6666666666666666,
              "#ed7953"
             ],
             [
              0.7777777777777778,
              "#fb9f3a"
             ],
             [
              0.8888888888888888,
              "#fdca26"
             ],
             [
              1,
              "#f0f921"
             ]
            ],
            "type": "heatmapgl"
           }
          ],
          "histogram": [
           {
            "marker": {
             "pattern": {
              "fillmode": "overlay",
              "size": 10,
              "solidity": 0.2
             }
            },
            "type": "histogram"
           }
          ],
          "histogram2d": [
           {
            "colorbar": {
             "outlinewidth": 0,
             "ticks": ""
            },
            "colorscale": [
             [
              0,
              "#0d0887"
             ],
             [
              0.1111111111111111,
              "#46039f"
             ],
             [
              0.2222222222222222,
              "#7201a8"
             ],
             [
              0.3333333333333333,
              "#9c179e"
             ],
             [
              0.4444444444444444,
              "#bd3786"
             ],
             [
              0.5555555555555556,
              "#d8576b"
             ],
             [
              0.6666666666666666,
              "#ed7953"
             ],
             [
              0.7777777777777778,
              "#fb9f3a"
             ],
             [
              0.8888888888888888,
              "#fdca26"
             ],
             [
              1,
              "#f0f921"
             ]
            ],
            "type": "histogram2d"
           }
          ],
          "histogram2dcontour": [
           {
            "colorbar": {
             "outlinewidth": 0,
             "ticks": ""
            },
            "colorscale": [
             [
              0,
              "#0d0887"
             ],
             [
              0.1111111111111111,
              "#46039f"
             ],
             [
              0.2222222222222222,
              "#7201a8"
             ],
             [
              0.3333333333333333,
              "#9c179e"
             ],
             [
              0.4444444444444444,
              "#bd3786"
             ],
             [
              0.5555555555555556,
              "#d8576b"
             ],
             [
              0.6666666666666666,
              "#ed7953"
             ],
             [
              0.7777777777777778,
              "#fb9f3a"
             ],
             [
              0.8888888888888888,
              "#fdca26"
             ],
             [
              1,
              "#f0f921"
             ]
            ],
            "type": "histogram2dcontour"
           }
          ],
          "mesh3d": [
           {
            "colorbar": {
             "outlinewidth": 0,
             "ticks": ""
            },
            "type": "mesh3d"
           }
          ],
          "parcoords": [
           {
            "line": {
             "colorbar": {
              "outlinewidth": 0,
              "ticks": ""
             }
            },
            "type": "parcoords"
           }
          ],
          "pie": [
           {
            "automargin": true,
            "type": "pie"
           }
          ],
          "scatter": [
           {
            "fillpattern": {
             "fillmode": "overlay",
             "size": 10,
             "solidity": 0.2
            },
            "type": "scatter"
           }
          ],
          "scatter3d": [
           {
            "line": {
             "colorbar": {
              "outlinewidth": 0,
              "ticks": ""
             }
            },
            "marker": {
             "colorbar": {
              "outlinewidth": 0,
              "ticks": ""
             }
            },
            "type": "scatter3d"
           }
          ],
          "scattercarpet": [
           {
            "marker": {
             "colorbar": {
              "outlinewidth": 0,
              "ticks": ""
             }
            },
            "type": "scattercarpet"
           }
          ],
          "scattergeo": [
           {
            "marker": {
             "colorbar": {
              "outlinewidth": 0,
              "ticks": ""
             }
            },
            "type": "scattergeo"
           }
          ],
          "scattergl": [
           {
            "marker": {
             "colorbar": {
              "outlinewidth": 0,
              "ticks": ""
             }
            },
            "type": "scattergl"
           }
          ],
          "scattermapbox": [
           {
            "marker": {
             "colorbar": {
              "outlinewidth": 0,
              "ticks": ""
             }
            },
            "type": "scattermapbox"
           }
          ],
          "scatterpolar": [
           {
            "marker": {
             "colorbar": {
              "outlinewidth": 0,
              "ticks": ""
             }
            },
            "type": "scatterpolar"
           }
          ],
          "scatterpolargl": [
           {
            "marker": {
             "colorbar": {
              "outlinewidth": 0,
              "ticks": ""
             }
            },
            "type": "scatterpolargl"
           }
          ],
          "scatterternary": [
           {
            "marker": {
             "colorbar": {
              "outlinewidth": 0,
              "ticks": ""
             }
            },
            "type": "scatterternary"
           }
          ],
          "surface": [
           {
            "colorbar": {
             "outlinewidth": 0,
             "ticks": ""
            },
            "colorscale": [
             [
              0,
              "#0d0887"
             ],
             [
              0.1111111111111111,
              "#46039f"
             ],
             [
              0.2222222222222222,
              "#7201a8"
             ],
             [
              0.3333333333333333,
              "#9c179e"
             ],
             [
              0.4444444444444444,
              "#bd3786"
             ],
             [
              0.5555555555555556,
              "#d8576b"
             ],
             [
              0.6666666666666666,
              "#ed7953"
             ],
             [
              0.7777777777777778,
              "#fb9f3a"
             ],
             [
              0.8888888888888888,
              "#fdca26"
             ],
             [
              1,
              "#f0f921"
             ]
            ],
            "type": "surface"
           }
          ],
          "table": [
           {
            "cells": {
             "fill": {
              "color": "#EBF0F8"
             },
             "line": {
              "color": "white"
             }
            },
            "header": {
             "fill": {
              "color": "#C8D4E3"
             },
             "line": {
              "color": "white"
             }
            },
            "type": "table"
           }
          ]
         },
         "layout": {
          "annotationdefaults": {
           "arrowcolor": "#2a3f5f",
           "arrowhead": 0,
           "arrowwidth": 1
          },
          "autotypenumbers": "strict",
          "coloraxis": {
           "colorbar": {
            "outlinewidth": 0,
            "ticks": ""
           }
          },
          "colorscale": {
           "diverging": [
            [
             0,
             "#8e0152"
            ],
            [
             0.1,
             "#c51b7d"
            ],
            [
             0.2,
             "#de77ae"
            ],
            [
             0.3,
             "#f1b6da"
            ],
            [
             0.4,
             "#fde0ef"
            ],
            [
             0.5,
             "#f7f7f7"
            ],
            [
             0.6,
             "#e6f5d0"
            ],
            [
             0.7,
             "#b8e186"
            ],
            [
             0.8,
             "#7fbc41"
            ],
            [
             0.9,
             "#4d9221"
            ],
            [
             1,
             "#276419"
            ]
           ],
           "sequential": [
            [
             0,
             "#0d0887"
            ],
            [
             0.1111111111111111,
             "#46039f"
            ],
            [
             0.2222222222222222,
             "#7201a8"
            ],
            [
             0.3333333333333333,
             "#9c179e"
            ],
            [
             0.4444444444444444,
             "#bd3786"
            ],
            [
             0.5555555555555556,
             "#d8576b"
            ],
            [
             0.6666666666666666,
             "#ed7953"
            ],
            [
             0.7777777777777778,
             "#fb9f3a"
            ],
            [
             0.8888888888888888,
             "#fdca26"
            ],
            [
             1,
             "#f0f921"
            ]
           ],
           "sequentialminus": [
            [
             0,
             "#0d0887"
            ],
            [
             0.1111111111111111,
             "#46039f"
            ],
            [
             0.2222222222222222,
             "#7201a8"
            ],
            [
             0.3333333333333333,
             "#9c179e"
            ],
            [
             0.4444444444444444,
             "#bd3786"
            ],
            [
             0.5555555555555556,
             "#d8576b"
            ],
            [
             0.6666666666666666,
             "#ed7953"
            ],
            [
             0.7777777777777778,
             "#fb9f3a"
            ],
            [
             0.8888888888888888,
             "#fdca26"
            ],
            [
             1,
             "#f0f921"
            ]
           ]
          },
          "colorway": [
           "#636efa",
           "#EF553B",
           "#00cc96",
           "#ab63fa",
           "#FFA15A",
           "#19d3f3",
           "#FF6692",
           "#B6E880",
           "#FF97FF",
           "#FECB52"
          ],
          "font": {
           "color": "#2a3f5f"
          },
          "geo": {
           "bgcolor": "white",
           "lakecolor": "white",
           "landcolor": "#E5ECF6",
           "showlakes": true,
           "showland": true,
           "subunitcolor": "white"
          },
          "hoverlabel": {
           "align": "left"
          },
          "hovermode": "closest",
          "mapbox": {
           "style": "light"
          },
          "paper_bgcolor": "white",
          "plot_bgcolor": "#E5ECF6",
          "polar": {
           "angularaxis": {
            "gridcolor": "white",
            "linecolor": "white",
            "ticks": ""
           },
           "bgcolor": "#E5ECF6",
           "radialaxis": {
            "gridcolor": "white",
            "linecolor": "white",
            "ticks": ""
           }
          },
          "scene": {
           "xaxis": {
            "backgroundcolor": "#E5ECF6",
            "gridcolor": "white",
            "gridwidth": 2,
            "linecolor": "white",
            "showbackground": true,
            "ticks": "",
            "zerolinecolor": "white"
           },
           "yaxis": {
            "backgroundcolor": "#E5ECF6",
            "gridcolor": "white",
            "gridwidth": 2,
            "linecolor": "white",
            "showbackground": true,
            "ticks": "",
            "zerolinecolor": "white"
           },
           "zaxis": {
            "backgroundcolor": "#E5ECF6",
            "gridcolor": "white",
            "gridwidth": 2,
            "linecolor": "white",
            "showbackground": true,
            "ticks": "",
            "zerolinecolor": "white"
           }
          },
          "shapedefaults": {
           "line": {
            "color": "#2a3f5f"
           }
          },
          "ternary": {
           "aaxis": {
            "gridcolor": "white",
            "linecolor": "white",
            "ticks": ""
           },
           "baxis": {
            "gridcolor": "white",
            "linecolor": "white",
            "ticks": ""
           },
           "bgcolor": "#E5ECF6",
           "caxis": {
            "gridcolor": "white",
            "linecolor": "white",
            "ticks": ""
           }
          },
          "title": {
           "x": 0.05
          },
          "xaxis": {
           "automargin": true,
           "gridcolor": "white",
           "linecolor": "white",
           "ticks": "",
           "title": {
            "standoff": 15
           },
           "zerolinecolor": "white",
           "zerolinewidth": 2
          },
          "yaxis": {
           "automargin": true,
           "gridcolor": "white",
           "linecolor": "white",
           "ticks": "",
           "title": {
            "standoff": 15
           },
           "zerolinecolor": "white",
           "zerolinewidth": 2
          }
         }
        },
        "title": {
         "text": "Количество применений по дням"
        },
        "xaxis": {
         "anchor": "y",
         "autorange": true,
         "domain": [
          0,
          1
         ],
         "range": [
          "2018-01-01",
          "2018-08-30"
         ],
         "title": {
          "text": "receipt_date"
         },
         "type": "date"
        },
        "yaxis": {
         "anchor": "x",
         "autorange": true,
         "domain": [
          0,
          1
         ],
         "range": [
          2142.8333333333335,
          5246.166666666667
         ],
         "title": {
          "text": "product"
         },
         "type": "linear"
        }
       }
      },
      "image/png": "[encoded data removed]",
      "text/html": [
       "<div>                            <div id=\"57eaefee-ae3a-4398-ab5d-3eb5d5679486\" class=\"plotly-graph-div\" style=\"height:525px; width:100%;\"></div>            <script type=\"text/javascript\">                require([\"plotly\"], function(Plotly) {                    window.PLOTLYENV=window.PLOTLYENV || {};                                    if (document.getElementById(\"57eaefee-ae3a-4398-ab5d-3eb5d5679486\")) {                    Plotly.newPlot(                        \"57eaefee-ae3a-4398-ab5d-3eb5d5679486\",                        [{\"hovertemplate\":\"receipt_date=%{x}<br>product=%{y}<extra></extra>\",\"legendgroup\":\"\",\"line\":{\"color\":\"#636efa\",\"dash\":\"solid\"},\"marker\":{\"symbol\":\"circle\"},\"mode\":\"lines\",\"name\":\"\",\"orientation\":\"v\",\"showlegend\":false,\"x\":[\"2018-01-01\",\"2018-01-02\",\"2018-01-03\",\"2018-01-04\",\"2018-01-05\",\"2018-01-06\",\"2018-01-07\",\"2018-01-08\",\"2018-01-09\",\"2018-01-10\",\"2018-01-11\",\"2018-01-12\",\"2018-01-13\",\"2018-01-14\",\"2018-01-15\",\"2018-01-16\",\"2018-01-17\",\"2018-01-18\",\"2018-01-19\",\"2018-01-20\",\"2018-01-21\",\"2018-01-22\",\"2018-01-23\",\"2018-01-24\",\"2018-01-25\",\"2018-01-26\",\"2018-01-27\",\"2018-01-28\",\"2018-01-29\",\"2018-01-30\",\"2018-01-31\",\"2018-02-01\",\"2018-02-02\",\"2018-02-03\",\"2018-02-04\",\"2018-02-05\",\"2018-02-06\",\"2018-02-07\",\"2018-02-08\",\"2018-02-09\",\"2018-02-10\",\"2018-02-11\",\"2018-02-12\",\"2018-02-13\",\"2018-02-14\",\"2018-02-15\",\"2018-02-16\",\"2018-02-17\",\"2018-02-18\",\"2018-02-19\",\"2018-02-20\",\"2018-02-21\",\"2018-02-22\",\"2018-02-23\",\"2018-02-24\",\"2018-02-25\",\"2018-02-26\",\"2018-02-27\",\"2018-02-28\",\"2018-03-01\",\"2018-03-02\",\"2018-03-03\",\"2018-03-04\",\"2018-03-05\",\"2018-03-06\",\"2018-03-07\",\"2018-03-08\",\"2018-03-09\",\"2018-03-10\",\"2018-03-11\",\"2018-03-12\",\"2018-03-13\",\"2018-03-14\",\"2018-03-15\",\"2018-03-16\",\"2018-03-17\",\"2018-03-18\",\"2018-03-19\",\"2018-03-20\",\"2018-03-21\",\"2018-03-22\",\"2018-03-23\",\"2018-03-24\",\"2018-03-25\",\"2018-03-26\",\"2018-03-27\",\"2018-03-28\",\"2018-03-29\",\"2018-03-30\",\"2018-03-31\",\"2018-04-01\",\"2018-04-02\",\"2018-04-03\",\"2018-04-04\",\"2018-04-05\",\"2018-04-06\",\"2018-04-07\",\"2018-04-08\",\"2018-04-09\",\"2018-04-10\",\"2018-04-11\",\"2018-04-12\",\"2018-04-13\",\"2018-04-14\",\"2018-04-15\",\"2018-04-16\",\"2018-04-17\",\"2018-04-18\",\"2018-04-19\",\"2018-04-20\",\"2018-04-21\",\"2018-04-22\",\"2018-04-23\",\"2018-04-24\",\"2018-04-25\",\"2018-04-26\",\"2018-04-27\",\"2018-04-28\",\"2018-04-29\",\"2018-04-30\",\"2018-05-01\",\"2018-05-02\",\"2018-05-03\",\"2018-05-04\",\"2018-05-05\",\"2018-05-06\",\"2018-05-07\",\"2018-05-08\",\"2018-05-09\",\"2018-05-10\",\"2018-05-11\",\"2018-05-12\",\"2018-05-13\",\"2018-05-14\",\"2018-05-15\",\"2018-05-16\",\"2018-05-17\",\"2018-05-18\",\"2018-05-19\",\"2018-05-20\",\"2018-05-21\",\"2018-05-22\",\"2018-05-23\",\"2018-05-24\",\"2018-05-25\",\"2018-05-26\",\"2018-05-27\",\"2018-05-28\",\"2018-05-29\",\"2018-05-30\",\"2018-05-31\",\"2018-06-01\",\"2018-06-02\",\"2018-06-03\",\"2018-06-04\",\"2018-06-05\",\"2018-06-06\",\"2018-06-07\",\"2018-06-08\",\"2018-06-09\",\"2018-06-10\",\"2018-06-11\",\"2018-06-12\",\"2018-06-13\",\"2018-06-14\",\"2018-06-15\",\"2018-06-16\",\"2018-06-17\",\"2018-06-18\",\"2018-06-19\",\"2018-06-20\",\"2018-06-21\",\"2018-06-22\",\"2018-06-23\",\"2018-06-24\",\"2018-06-25\",\"2018-06-26\",\"2018-06-27\",\"2018-06-28\",\"2018-06-29\",\"2018-06-30\",\"2018-07-01\",\"2018-07-02\",\"2018-07-03\",\"2018-07-04\",\"2018-07-05\",\"2018-07-06\",\"2018-07-07\",\"2018-07-08\",\"2018-07-09\",\"2018-07-10\",\"2018-07-11\",\"2018-07-12\",\"2018-07-13\",\"2018-07-14\",\"2018-07-15\",\"2018-07-16\",\"2018-07-17\",\"2018-07-18\",\"2018-07-19\",\"2018-07-20\",\"2018-07-21\",\"2018-07-22\",\"2018-07-23\",\"2018-07-24\",\"2018-07-25\",\"2018-07-26\",\"2018-07-27\",\"2018-07-28\",\"2018-07-29\",\"2018-07-30\",\"2018-07-31\",\"2018-08-01\",\"2018-08-02\",\"2018-08-03\",\"2018-08-04\",\"2018-08-05\",\"2018-08-06\",\"2018-08-07\",\"2018-08-08\",\"2018-08-09\",\"2018-08-10\",\"2018-08-11\",\"2018-08-12\",\"2018-08-13\",\"2018-08-14\",\"2018-08-15\",\"2018-08-16\",\"2018-08-17\",\"2018-08-18\",\"2018-08-19\",\"2018-08-20\",\"2018-08-21\",\"2018-08-22\",\"2018-08-23\",\"2018-08-24\",\"2018-08-25\",\"2018-08-26\",\"2018-08-27\",\"2018-08-28\",\"2018-08-29\",\"2018-08-30\"],\"xaxis\":\"x\",\"y\":[2298,3423,3546,3750,3730,3667,3354,3872,4597,4577,4571,4510,3899,3689,4478,4525,4425,4452,4409,3967,3834,4534,4612,4514,4493,4402,4129,3885,4528,4500,4330,4522,4536,4058,3624,4577,4784,4745,4740,4690,4149,4072,4781,4733,4586,4675,4630,4177,4087,4732,4749,4662,4693,3852,4116,3980,4807,4709,4771,4807,4832,4480,4156,4881,5074,4958,3767,4181,4201,4184,4906,4984,4852,4805,4802,4292,4294,4920,4903,4959,4944,4729,4367,4386,4867,4729,4820,4812,4743,4296,4118,4869,4795,4803,4730,4760,4319,3728,4915,4739,4928,4877,4883,4304,4104,4851,4911,4476,4928,4873,4157,4124,4983,4947,4862,4765,5077,5091,4115,3838,3454,3625,4615,4795,4263,3925,4799,4771,3585,4879,4835,4118,4004,4880,4915,4815,4854,4666,4034,3933,4938,4681,4821,4684,4644,4021,3873,4747,4776,4678,4650,4815,4194,3968,4636,4764,4988,5063,4789,4902,3986,3841,3692,4732,4731,4833,4024,3897,4624,4745,4719,4653,4701,3834,3741,4685,4780,4672,4612,4587,3863,3574,4483,4596,4546,4688,4724,4029,3682,4559,4477,4555,4658,4577,3800,3608,4459,4482,4350,4320,4565,3893,3745,4329,4564,4366,4450,4448,3477,3777,4585,4536,4531,4488,4688,4003,3777,4617,4583,4613,4483,4575,3922,3720,4668,4621,4381,4621,4573,3881,3650,4561,4436,4608,4796,4605,4048,3944,4643,4617,4553,4651],\"yaxis\":\"y\",\"type\":\"scatter\"}],                        {\"template\":{\"data\":{\"histogram2dcontour\":[{\"type\":\"histogram2dcontour\",\"colorbar\":{\"outlinewidth\":0,\"ticks\":\"\"},\"colorscale\":[[0.0,\"#0d0887\"],[0.1111111111111111,\"#46039f\"],[0.2222222222222222,\"#7201a8\"],[0.3333333333333333,\"#9c179e\"],[0.4444444444444444,\"#bd3786\"],[0.5555555555555556,\"#d8576b\"],[0.6666666666666666,\"#ed7953\"],[0.7777777777777778,\"#fb9f3a\"],[0.8888888888888888,\"#fdca26\"],[1.0,\"#f0f921\"]]}],\"choropleth\":[{\"type\":\"choropleth\",\"colorbar\":{\"outlinewidth\":0,\"ticks\":\"\"}}],\"histogram2d\":[{\"type\":\"histogram2d\",\"colorbar\":{\"outlinewidth\":0,\"ticks\":\"\"},\"colorscale\":[[0.0,\"#0d0887\"],[0.1111111111111111,\"#46039f\"],[0.2222222222222222,\"#7201a8\"],[0.3333333333333333,\"#9c179e\"],[0.4444444444444444,\"#bd3786\"],[0.5555555555555556,\"#d8576b\"],[0.6666666666666666,\"#ed7953\"],[0.7777777777777778,\"#fb9f3a\"],[0.8888888888888888,\"#fdca26\"],[1.0,\"#f0f921\"]]}],\"heatmap\":[{\"type\":\"heatmap\",\"colorbar\":{\"outlinewidth\":0,\"ticks\":\"\"},\"colorscale\":[[0.0,\"#0d0887\"],[0.1111111111111111,\"#46039f\"],[0.2222222222222222,\"#7201a8\"],[0.3333333333333333,\"#9c179e\"],[0.4444444444444444,\"#bd3786\"],[0.5555555555555556,\"#d8576b\"],[0.6666666666666666,\"#ed7953\"],[0.7777777777777778,\"#fb9f3a\"],[0.8888888888888888,\"#fdca26\"],[1.0,\"#f0f921\"]]}],\"heatmapgl\":[{\"type\":\"heatmapgl\",\"colorbar\":{\"outlinewidth\":0,\"ticks\":\"\"},\"colorscale\":[[0.0,\"#0d0887\"],[0.1111111111111111,\"#46039f\"],[0.2222222222222222,\"#7201a8\"],[0.3333333333333333,\"#9c179e\"],[0.4444444444444444,\"#bd3786\"],[0.5555555555555556,\"#d8576b\"],[0.6666666666666666,\"#ed7953\"],[0.7777777777777778,\"#fb9f3a\"],[0.8888888888888888,\"#fdca26\"],[1.0,\"#f0f921\"]]}],\"contourcarpet\":[{\"type\":\"contourcarpet\",\"colorbar\":{\"outlinewidth\":0,\"ticks\":\"\"}}],\"contour\":[{\"type\":\"contour\",\"colorbar\":{\"outlinewidth\":0,\"ticks\":\"\"},\"colorscale\":[[0.0,\"#0d0887\"],[0.1111111111111111,\"#46039f\"],[0.2222222222222222,\"#7201a8\"],[0.3333333333333333,\"#9c179e\"],[0.4444444444444444,\"#bd3786\"],[0.5555555555555556,\"#d8576b\"],[0.6666666666666666,\"#ed7953\"],[0.7777777777777778,\"#fb9f3a\"],[0.8888888888888888,\"#fdca26\"],[1.0,\"#f0f921\"]]}],\"surface\":[{\"type\":\"surface\",\"colorbar\":{\"outlinewidth\":0,\"ticks\":\"\"},\"colorscale\":[[0.0,\"#0d0887\"],[0.1111111111111111,\"#46039f\"],[0.2222222222222222,\"#7201a8\"],[0.3333333333333333,\"#9c179e\"],[0.4444444444444444,\"#bd3786\"],[0.5555555555555556,\"#d8576b\"],[0.6666666666666666,\"#ed7953\"],[0.7777777777777778,\"#fb9f3a\"],[0.8888888888888888,\"#fdca26\"],[1.0,\"#f0f921\"]]}],\"mesh3d\":[{\"type\":\"mesh3d\",\"colorbar\":{\"outlinewidth\":0,\"ticks\":\"\"}}],\"scatter\":[{\"fillpattern\":{\"fillmode\":\"overlay\",\"size\":10,\"solidity\":0.2},\"type\":\"scatter\"}],\"parcoords\":[{\"type\":\"parcoords\",\"line\":{\"colorbar\":{\"outlinewidth\":0,\"ticks\":\"\"}}}],\"scatterpolargl\":[{\"type\":\"scatterpolargl\",\"marker\":{\"colorbar\":{\"outlinewidth\":0,\"ticks\":\"\"}}}],\"bar\":[{\"error_x\":{\"color\":\"#2a3f5f\"},\"error_y\":{\"color\":\"#2a3f5f\"},\"marker\":{\"line\":{\"color\":\"#E5ECF6\",\"width\":0.5},\"pattern\":{\"fillmode\":\"overlay\",\"size\":10,\"solidity\":0.2}},\"type\":\"bar\"}],\"scattergeo\":[{\"type\":\"scattergeo\",\"marker\":{\"colorbar\":{\"outlinewidth\":0,\"ticks\":\"\"}}}],\"scatterpolar\":[{\"type\":\"scatterpolar\",\"marker\":{\"colorbar\":{\"outlinewidth\":0,\"ticks\":\"\"}}}],\"histogram\":[{\"marker\":{\"pattern\":{\"fillmode\":\"overlay\",\"size\":10,\"solidity\":0.2}},\"type\":\"histogram\"}],\"scattergl\":[{\"type\":\"scattergl\",\"marker\":{\"colorbar\":{\"outlinewidth\":0,\"ticks\":\"\"}}}],\"scatter3d\":[{\"type\":\"scatter3d\",\"line\":{\"colorbar\":{\"outlinewidth\":0,\"ticks\":\"\"}},\"marker\":{\"colorbar\":{\"outlinewidth\":0,\"ticks\":\"\"}}}],\"scattermapbox\":[{\"type\":\"scattermapbox\",\"marker\":{\"colorbar\":{\"outlinewidth\":0,\"ticks\":\"\"}}}],\"scatterternary\":[{\"type\":\"scatterternary\",\"marker\":{\"colorbar\":{\"outlinewidth\":0,\"ticks\":\"\"}}}],\"scattercarpet\":[{\"type\":\"scattercarpet\",\"marker\":{\"colorbar\":{\"outlinewidth\":0,\"ticks\":\"\"}}}],\"carpet\":[{\"aaxis\":{\"endlinecolor\":\"#2a3f5f\",\"gridcolor\":\"white\",\"linecolor\":\"white\",\"minorgridcolor\":\"white\",\"startlinecolor\":\"#2a3f5f\"},\"baxis\":{\"endlinecolor\":\"#2a3f5f\",\"gridcolor\":\"white\",\"linecolor\":\"white\",\"minorgridcolor\":\"white\",\"startlinecolor\":\"#2a3f5f\"},\"type\":\"carpet\"}],\"table\":[{\"cells\":{\"fill\":{\"color\":\"#EBF0F8\"},\"line\":{\"color\":\"white\"}},\"header\":{\"fill\":{\"color\":\"#C8D4E3\"},\"line\":{\"color\":\"white\"}},\"type\":\"table\"}],\"barpolar\":[{\"marker\":{\"line\":{\"color\":\"#E5ECF6\",\"width\":0.5},\"pattern\":{\"fillmode\":\"overlay\",\"size\":10,\"solidity\":0.2}},\"type\":\"barpolar\"}],\"pie\":[{\"automargin\":true,\"type\":\"pie\"}]},\"layout\":{\"autotypenumbers\":\"strict\",\"colorway\":[\"#636efa\",\"#EF553B\",\"#00cc96\",\"#ab63fa\",\"#FFA15A\",\"#19d3f3\",\"#FF6692\",\"#B6E880\",\"#FF97FF\",\"#FECB52\"],\"font\":{\"color\":\"#2a3f5f\"},\"hovermode\":\"closest\",\"hoverlabel\":{\"align\":\"left\"},\"paper_bgcolor\":\"white\",\"plot_bgcolor\":\"#E5ECF6\",\"polar\":{\"bgcolor\":\"#E5ECF6\",\"angularaxis\":{\"gridcolor\":\"white\",\"linecolor\":\"white\",\"ticks\":\"\"},\"radialaxis\":{\"gridcolor\":\"white\",\"linecolor\":\"white\",\"ticks\":\"\"}},\"ternary\":{\"bgcolor\":\"#E5ECF6\",\"aaxis\":{\"gridcolor\":\"white\",\"linecolor\":\"white\",\"ticks\":\"\"},\"baxis\":{\"gridcolor\":\"white\",\"linecolor\":\"white\",\"ticks\":\"\"},\"caxis\":{\"gridcolor\":\"white\",\"linecolor\":\"white\",\"ticks\":\"\"}},\"coloraxis\":{\"colorbar\":{\"outlinewidth\":0,\"ticks\":\"\"}},\"colorscale\":{\"sequential\":[[0.0,\"#0d0887\"],[0.1111111111111111,\"#46039f\"],[0.2222222222222222,\"#7201a8\"],[0.3333333333333333,\"#9c179e\"],[0.4444444444444444,\"#bd3786\"],[0.5555555555555556,\"#d8576b\"],[0.6666666666666666,\"#ed7953\"],[0.7777777777777778,\"#fb9f3a\"],[0.8888888888888888,\"#fdca26\"],[1.0,\"#f0f921\"]],\"sequentialminus\":[[0.0,\"#0d0887\"],[0.1111111111111111,\"#46039f\"],[0.2222222222222222,\"#7201a8\"],[0.3333333333333333,\"#9c179e\"],[0.4444444444444444,\"#bd3786\"],[0.5555555555555556,\"#d8576b\"],[0.6666666666666666,\"#ed7953\"],[0.7777777777777778,\"#fb9f3a\"],[0.8888888888888888,\"#fdca26\"],[1.0,\"#f0f921\"]],\"diverging\":[[0,\"#8e0152\"],[0.1,\"#c51b7d\"],[0.2,\"#de77ae\"],[0.3,\"#f1b6da\"],[0.4,\"#fde0ef\"],[0.5,\"#f7f7f7\"],[0.6,\"#e6f5d0\"],[0.7,\"#b8e186\"],[0.8,\"#7fbc41\"],[0.9,\"#4d9221\"],[1,\"#276419\"]]},\"xaxis\":{\"gridcolor\":\"white\",\"linecolor\":\"white\",\"ticks\":\"\",\"title\":{\"standoff\":15},\"zerolinecolor\":\"white\",\"automargin\":true,\"zerolinewidth\":2},\"yaxis\":{\"gridcolor\":\"white\",\"linecolor\":\"white\",\"ticks\":\"\",\"title\":{\"standoff\":15},\"zerolinecolor\":\"white\",\"automargin\":true,\"zerolinewidth\":2},\"scene\":{\"xaxis\":{\"backgroundcolor\":\"#E5ECF6\",\"gridcolor\":\"white\",\"linecolor\":\"white\",\"showbackground\":true,\"ticks\":\"\",\"zerolinecolor\":\"white\",\"gridwidth\":2},\"yaxis\":{\"backgroundcolor\":\"#E5ECF6\",\"gridcolor\":\"white\",\"linecolor\":\"white\",\"showbackground\":true,\"ticks\":\"\",\"zerolinecolor\":\"white\",\"gridwidth\":2},\"zaxis\":{\"backgroundcolor\":\"#E5ECF6\",\"gridcolor\":\"white\",\"linecolor\":\"white\",\"showbackground\":true,\"ticks\":\"\",\"zerolinecolor\":\"white\",\"gridwidth\":2}},\"shapedefaults\":{\"line\":{\"color\":\"#2a3f5f\"}},\"annotationdefaults\":{\"arrowcolor\":\"#2a3f5f\",\"arrowhead\":0,\"arrowwidth\":1},\"geo\":{\"bgcolor\":\"white\",\"landcolor\":\"#E5ECF6\",\"subunitcolor\":\"white\",\"showland\":true,\"showlakes\":true,\"lakecolor\":\"white\"},\"title\":{\"x\":0.05},\"mapbox\":{\"style\":\"light\"}}},\"xaxis\":{\"anchor\":\"y\",\"domain\":[0.0,1.0],\"title\":{\"text\":\"receipt_date\"}},\"yaxis\":{\"anchor\":\"x\",\"domain\":[0.0,1.0],\"title\":{\"text\":\"product\"}},\"legend\":{\"tracegroupgap\":0},\"title\":{\"text\":\"\\u041a\\u043e\\u043b\\u0438\\u0447\\u0435\\u0441\\u0442\\u0432\\u043e \\u043f\\u0440\\u0438\\u043c\\u0435\\u043d\\u0435\\u043d\\u0438\\u0439 \\u043f\\u043e \\u0434\\u043d\\u044f\\u043c\"}},                        {\"responsive\": true}                    ).then(function(){\n",
       "                            \n",
       "var gd = document.getElementById('57eaefee-ae3a-4398-ab5d-3eb5d5679486');\n",
       "var x = new MutationObserver(function (mutations, observer) {{\n",
       "        var display = window.getComputedStyle(gd).display;\n",
       "        if (!display || display === 'none') {{\n",
       "            console.log([gd, 'removed!']);\n",
       "            Plotly.purge(gd);\n",
       "            observer.disconnect();\n",
       "        }}\n",
       "}});\n",
       "\n",
       "// Listen for the removal of the full notebook cells\n",
       "var notebookContainer = gd.closest('#notebook-container');\n",
       "if (notebookContainer) {{\n",
       "    x.observe(notebookContainer, {childList: true});\n",
       "}}\n",
       "\n",
       "// Listen for the clearing of the current output cell\n",
       "var outputEl = gd.closest('.output');\n",
       "if (outputEl) {{\n",
       "    x.observe(outputEl, {childList: true});\n",
       "}}\n",
       "\n",
       "                        })                };                });            </script>        </div>"
      ]
     },
     "metadata": {},
     "output_type": "display_data"
    }
   ],
   "source": [
    "px.line(\n",
    "    data.groupby(\"receipt_date\")[\"product\"].nunique(),\n",
    "    title=\"Количество применений по дням\",\n",
    "    y=\"product\",\n",
    ")"
   ]
  },
  {
   "cell_type": "code",
   "execution_count": 38,
   "metadata": {},
   "outputs": [
    {
     "data": {
      "text/plain": [
       "122868"
      ]
     },
     "execution_count": 38,
     "metadata": {},
     "output_type": "execute_result"
    }
   ],
   "source": [
    "data_relevant.card_num.nunique()"
   ]
  },
  {
   "cell_type": "code",
   "execution_count": 40,
   "metadata": {},
   "outputs": [
    {
     "data": {
      "text/html": [
       "<div>\n",
       "<style scoped>\n",
       "    .dataframe tbody tr th:only-of-type {\n",
       "        vertical-align: middle;\n",
       "    }\n",
       "\n",
       "    .dataframe tbody tr th {\n",
       "        vertical-align: top;\n",
       "    }\n",
       "\n",
       "    .dataframe thead th {\n",
       "        text-align: right;\n",
       "    }\n",
       "</style>\n",
       "<table border=\"1\" class=\"dataframe\">\n",
       "  <thead>\n",
       "    <tr style=\"text-align: right;\">\n",
       "      <th></th>\n",
       "      <th>card_num</th>\n",
       "      <th>receipt_date</th>\n",
       "      <th>application</th>\n",
       "    </tr>\n",
       "  </thead>\n",
       "  <tbody>\n",
       "    <tr>\n",
       "      <th>0</th>\n",
       "      <td>2</td>\n",
       "      <td>2018-01-06</td>\n",
       "      <td>2</td>\n",
       "    </tr>\n",
       "    <tr>\n",
       "      <th>1</th>\n",
       "      <td>2</td>\n",
       "      <td>2018-01-08</td>\n",
       "      <td>2</td>\n",
       "    </tr>\n",
       "    <tr>\n",
       "      <th>2</th>\n",
       "      <td>2</td>\n",
       "      <td>2018-01-10</td>\n",
       "      <td>6</td>\n",
       "    </tr>\n",
       "    <tr>\n",
       "      <th>3</th>\n",
       "      <td>2</td>\n",
       "      <td>2018-01-11</td>\n",
       "      <td>1</td>\n",
       "    </tr>\n",
       "    <tr>\n",
       "      <th>4</th>\n",
       "      <td>2</td>\n",
       "      <td>2018-01-12</td>\n",
       "      <td>4</td>\n",
       "    </tr>\n",
       "    <tr>\n",
       "      <th>...</th>\n",
       "      <td>...</td>\n",
       "      <td>...</td>\n",
       "      <td>...</td>\n",
       "    </tr>\n",
       "    <tr>\n",
       "      <th>1337565</th>\n",
       "      <td>403429824</td>\n",
       "      <td>2018-03-08</td>\n",
       "      <td>3</td>\n",
       "    </tr>\n",
       "    <tr>\n",
       "      <th>1337566</th>\n",
       "      <td>403429824</td>\n",
       "      <td>2018-03-15</td>\n",
       "      <td>7</td>\n",
       "    </tr>\n",
       "    <tr>\n",
       "      <th>1337567</th>\n",
       "      <td>403429824</td>\n",
       "      <td>2018-05-19</td>\n",
       "      <td>1</td>\n",
       "    </tr>\n",
       "    <tr>\n",
       "      <th>1337568</th>\n",
       "      <td>403430988</td>\n",
       "      <td>2018-04-26</td>\n",
       "      <td>3</td>\n",
       "    </tr>\n",
       "    <tr>\n",
       "      <th>1337569</th>\n",
       "      <td>403448670</td>\n",
       "      <td>2018-04-22</td>\n",
       "      <td>2</td>\n",
       "    </tr>\n",
       "  </tbody>\n",
       "</table>\n",
       "<p>1337570 rows × 3 columns</p>\n",
       "</div>"
      ],
      "text/plain": [
       "          card_num receipt_date  application\n",
       "0                2   2018-01-06            2\n",
       "1                2   2018-01-08            2\n",
       "2                2   2018-01-10            6\n",
       "3                2   2018-01-11            1\n",
       "4                2   2018-01-12            4\n",
       "...            ...          ...          ...\n",
       "1337565  403429824   2018-03-08            3\n",
       "1337566  403429824   2018-03-15            7\n",
       "1337567  403429824   2018-05-19            1\n",
       "1337568  403430988   2018-04-26            3\n",
       "1337569  403448670   2018-04-22            2\n",
       "\n",
       "[1337570 rows x 3 columns]"
      ]
     },
     "execution_count": 40,
     "metadata": {},
     "output_type": "execute_result"
    }
   ],
   "source": [
    "pd.DataFrame(data.groupby(['card_num', 'receipt_date'])['application'].nunique()).reset_index()"
   ]
  },
  {
   "cell_type": "markdown",
   "metadata": {
    "id": "Ig3bFuACiOPR"
   },
   "source": [
    "Сначала переименуем столбцы данных для более удобной работы"
   ]
  },
  {
   "cell_type": "markdown",
   "metadata": {
    "id": "G-iU4njajZzE"
   },
   "source": [
    "В скоупе проекта приведены следующие шаги обработки данных:\n",
    "* столбец \"Код товара\" не рассматривается, так как представляет из себя код товара из другой базы данных\n",
    "* покупатели без карты лояльности (код 199802) не рассматриваются\n",
    "* покупки бесплатных товаров не рассматриваются\n",
    "* покупатели с суммарным количеством товаров ниже 4 (менее 4 приобретенных товаров за весь рассматриваемый период)  и суммарным количеством закрытых чеков не более 2 не рассматриваются при прогнозировании\n",
    "\n",
    "Реализуем все эти ограничения"
   ]
  },
  {
   "cell_type": "code",
   "execution_count": 6,
   "metadata": {
    "id": "AiXFHtvKiXKU"
   },
   "outputs": [],
   "source": [
    "# удаление столбца Код товара\n",
    "data.drop(columns=[\"product_code\"], inplace=True)"
   ]
  },
  {
   "cell_type": "code",
   "execution_count": 7,
   "metadata": {
    "id": "dBM_23ohkC21"
   },
   "outputs": [],
   "source": [
    "# удаление покупателей без карты лояльности\n",
    "data_relevant = data[(data[\"card_num\"] != 199802) & (data[\"retail_price\"] != 0)]"
   ]
  },
  {
   "cell_type": "markdown",
   "metadata": {
    "id": "id8wyNnelh1m"
   },
   "source": [
    "Как было установлено в разведывательном анализе данных, товары с нулевой ценой обладают только нулевой ценой и никакие другие товары нулевой ценой не обладают. Воспользуемся этим для удаления таких позиций из нашего датасета."
   ]
  },
  {
   "cell_type": "code",
   "execution_count": 8,
   "metadata": {
    "id": "BOIbtkGxlVrQ"
   },
   "outputs": [],
   "source": [
    "card_unique_prod = pd.DataFrame(data_relevant.groupby(\"card_num\")[\"product\"].nunique())"
   ]
  },
  {
   "cell_type": "code",
   "execution_count": 9,
   "metadata": {
    "id": "QLurtZjYvcGC"
   },
   "outputs": [],
   "source": [
    "card_unique_prod = card_unique_prod[card_unique_prod[\"product\"] < 4]"
   ]
  },
  {
   "cell_type": "code",
   "execution_count": 10,
   "metadata": {
    "id": "epHqqZmbm0vT"
   },
   "outputs": [
    {
     "data": {
      "application/vnd.jupyter.widget-view+json": {
       "model_id": "b12a4676babe40f082c4cda1316e8e50",
       "version_major": 2,
       "version_minor": 0
      },
      "text/plain": [
       "  0%|          | 0/3755277 [00:00<?, ?it/s]"
      ]
     },
     "metadata": {},
     "output_type": "display_data"
    }
   ],
   "source": [
    "def get_receipt(x):\n",
    "    return f\"{str(x[0])} {str(x[1])} {str(x[2])}\"\n",
    "\n",
    "\n",
    "data_relevant[\"receipt_unique\"] = data_relevant[\n",
    "    [\"receipt_date\", \"receipt_num\", \"pharmacy\"]\n",
    "].progress_apply(get_receipt, axis=1)\n",
    "\n",
    "dc_rec = pd.DataFrame(data_relevant.groupby(\"card_num\")[[\"receipt_unique\"]].nunique())"
   ]
  },
  {
   "cell_type": "code",
   "execution_count": 11,
   "metadata": {
    "id": "HopfpVP9vo8l"
   },
   "outputs": [],
   "source": [
    "dc_rec = dc_rec[dc_rec[\"receipt_unique\"] <= 2]"
   ]
  },
  {
   "cell_type": "code",
   "execution_count": 12,
   "metadata": {
    "id": "2CBP-VXYrdrh"
   },
   "outputs": [],
   "source": [
    "def get_total_prods(row):\n",
    "    return card_unique_prod[card_unique_prod.index == row].values[0][0]\n",
    "\n",
    "\n",
    "def get_total_checks(row):\n",
    "    return dc_rec[dc_rec.index == row].values[0][0]"
   ]
  },
  {
   "cell_type": "code",
   "execution_count": 13,
   "metadata": {
    "id": "Da-ljIYKuGi_"
   },
   "outputs": [],
   "source": [
    "data_relevant = data_relevant.assign(\n",
    "    total_checks=data_relevant.card_num.isin(dc_rec.index).astype(int)\n",
    ")\n",
    "data_relevant = data_relevant.assign(\n",
    "    total_products=data_relevant.card_num.isin(card_unique_prod.index).astype(int)\n",
    ")"
   ]
  },
  {
   "cell_type": "code",
   "execution_count": 14,
   "metadata": {
    "id": "aooBtpKRseVM"
   },
   "outputs": [],
   "source": [
    "data_relevant = data_relevant[\n",
    "    (data_relevant[\"total_products\"] == 0) & (data_relevant[\"total_checks\"] == 0)\n",
    "]"
   ]
  },
  {
   "cell_type": "code",
   "execution_count": 15,
   "metadata": {
    "id": "up1opoQaSDuC"
   },
   "outputs": [],
   "source": [
    "data_relevant.drop(columns=[\"total_checks\", \"total_products\"], inplace=True)"
   ]
  },
  {
   "cell_type": "code",
   "execution_count": 16,
   "metadata": {
    "id": "19X5LxXfxltz"
   },
   "outputs": [],
   "source": [
    "data_relevant[\"month\"] = pd.to_datetime(data_relevant[\"receipt_date\"]).dt.month"
   ]
  },
  {
   "cell_type": "code",
   "execution_count": 17,
   "metadata": {
    "id": "nSGffqrXwbqh"
   },
   "outputs": [],
   "source": [
    "data_relevant.to_csv(\"data_preprocessed.csv\")"
   ]
  },
  {
   "cell_type": "markdown",
   "metadata": {
    "id": "TKOb5WjAE6rr"
   },
   "source": [
    "# Модель"
   ]
  },
  {
   "cell_type": "markdown",
   "metadata": {
    "id": "X0Umh6IYQaSG"
   },
   "source": [
    "## Отбор признаков для кластеризации"
   ]
  },
  {
   "cell_type": "markdown",
   "metadata": {
    "id": "wBIqEc9NhjyU"
   },
   "source": [
    "В качестве тестовой выборки возьмем весь август"
   ]
  },
  {
   "cell_type": "code",
   "execution_count": null,
   "metadata": {
    "id": "fh1KH50e0kMJ"
   },
   "outputs": [],
   "source": [
    "train_data = data_relevant[pd.to_datetime(data_relevant[\"receipt_date\"]).dt.month != 8]\n",
    "test_data = data_relevant[pd.to_datetime(data_relevant[\"receipt_date\"]).dt.month == 8]"
   ]
  },
  {
   "cell_type": "code",
   "execution_count": null,
   "metadata": {
    "colab": {
     "base_uri": "https://localhost:8080/"
    },
    "id": "YZzQgDq1w5Vh",
    "outputId": "63205cd9-bd09-4cfe-93d7-a4d43071ab03"
   },
   "outputs": [
    {
     "data": {
      "text/plain": [
       "(121803, 632)"
      ]
     },
     "execution_count": 22,
     "metadata": {},
     "output_type": "execute_result"
    }
   ],
   "source": [
    "train_data[\"card_num\"].nunique(), train_data[\"application\"].nunique()"
   ]
  },
  {
   "cell_type": "code",
   "execution_count": null,
   "metadata": {
    "colab": {
     "base_uri": "https://localhost:8080/"
    },
    "id": "MkuMUrU7bV8H",
    "outputId": "2d5c81ae-8eb4-443d-bc84-9b9cb99fe313"
   },
   "outputs": [
    {
     "data": {
      "text/plain": [
       "(122868, 634)"
      ]
     },
     "execution_count": 23,
     "metadata": {},
     "output_type": "execute_result"
    }
   ],
   "source": [
    "data_relevant[\"card_num\"].nunique(), data_relevant[\"application\"].nunique()"
   ]
  },
  {
   "cell_type": "code",
   "execution_count": null,
   "metadata": {
    "colab": {
     "base_uri": "https://localhost:8080/"
    },
    "id": "4BOWEv1DRnQT",
    "outputId": "f4604c78-ab17-4592-b0d1-5c1099f4dcc8"
   },
   "outputs": [
    {
     "data": {
      "text/html": [
       "\n",
       "  <div id=\"df-b05f608a-48cc-4670-bec3-26346ac85cde\">\n",
       "    <div class=\"colab-df-container\">\n",
       "      <div>\n",
       "<style scoped>\n",
       "    .dataframe tbody tr th:only-of-type {\n",
       "        vertical-align: middle;\n",
       "    }\n",
       "\n",
       "    .dataframe tbody tr th {\n",
       "        vertical-align: top;\n",
       "    }\n",
       "\n",
       "    .dataframe thead th {\n",
       "        text-align: right;\n",
       "    }\n",
       "</style>\n",
       "<table border=\"1\" class=\"dataframe\">\n",
       "  <thead>\n",
       "    <tr style=\"text-align: right;\">\n",
       "      <th></th>\n",
       "      <th>pharmacy</th>\n",
       "      <th>card_num</th>\n",
       "      <th>receipt_date</th>\n",
       "      <th>product</th>\n",
       "      <th>cashier_num</th>\n",
       "      <th>receipt_num</th>\n",
       "      <th>application</th>\n",
       "      <th>retail_price</th>\n",
       "      <th>receipt_unique</th>\n",
       "      <th>month</th>\n",
       "    </tr>\n",
       "  </thead>\n",
       "  <tbody>\n",
       "    <tr>\n",
       "      <th>3</th>\n",
       "      <td>0</td>\n",
       "      <td>2363656</td>\n",
       "      <td>2018-01-05</td>\n",
       "      <td>784213</td>\n",
       "      <td>0</td>\n",
       "      <td>1</td>\n",
       "      <td>379517</td>\n",
       "      <td>530.74</td>\n",
       "      <td>2018-01-05 1 0</td>\n",
       "      <td>1</td>\n",
       "    </tr>\n",
       "    <tr>\n",
       "      <th>4</th>\n",
       "      <td>0</td>\n",
       "      <td>2363656</td>\n",
       "      <td>2018-01-05</td>\n",
       "      <td>784213</td>\n",
       "      <td>0</td>\n",
       "      <td>1</td>\n",
       "      <td>379517</td>\n",
       "      <td>530.74</td>\n",
       "      <td>2018-01-05 1 0</td>\n",
       "      <td>1</td>\n",
       "    </tr>\n",
       "    <tr>\n",
       "      <th>7</th>\n",
       "      <td>0</td>\n",
       "      <td>2364030</td>\n",
       "      <td>2018-01-04</td>\n",
       "      <td>768150</td>\n",
       "      <td>0</td>\n",
       "      <td>3</td>\n",
       "      <td>379753</td>\n",
       "      <td>79.31</td>\n",
       "      <td>2018-01-04 3 0</td>\n",
       "      <td>1</td>\n",
       "    </tr>\n",
       "    <tr>\n",
       "      <th>8</th>\n",
       "      <td>0</td>\n",
       "      <td>2364030</td>\n",
       "      <td>2018-01-04</td>\n",
       "      <td>778137</td>\n",
       "      <td>0</td>\n",
       "      <td>3</td>\n",
       "      <td>379753</td>\n",
       "      <td>217.95</td>\n",
       "      <td>2018-01-04 3 0</td>\n",
       "      <td>1</td>\n",
       "    </tr>\n",
       "    <tr>\n",
       "      <th>9</th>\n",
       "      <td>0</td>\n",
       "      <td>2364030</td>\n",
       "      <td>2018-01-15</td>\n",
       "      <td>772668</td>\n",
       "      <td>0</td>\n",
       "      <td>4</td>\n",
       "      <td>379956</td>\n",
       "      <td>745.22</td>\n",
       "      <td>2018-01-15 4 0</td>\n",
       "      <td>1</td>\n",
       "    </tr>\n",
       "  </tbody>\n",
       "</table>\n",
       "</div>\n",
       "      <button class=\"colab-df-convert\" onclick=\"convertToInteractive('df-b05f608a-48cc-4670-bec3-26346ac85cde')\"\n",
       "              title=\"Convert this dataframe to an interactive table.\"\n",
       "              style=\"display:none;\">\n",
       "        \n",
       "  <svg xmlns=\"http://www.w3.org/2000/svg\" height=\"24px\"viewBox=\"0 0 24 24\"\n",
       "       width=\"24px\">\n",
       "    <path d=\"M0 0h24v24H0V0z\" fill=\"none\"/>\n",
       "    <path d=\"M18.56 5.44l.94 2.06.94-2.06 2.06-.94-2.06-.94-.94-2.06-.94 2.06-2.06.94zm-11 1L8.5 8.5l.94-2.06 2.06-.94-2.06-.94L8.5 2.5l-.94 2.06-2.06.94zm10 10l.94 2.06.94-2.06 2.06-.94-2.06-.94-.94-2.06-.94 2.06-2.06.94z\"/><path d=\"M17.41 7.96l-1.37-1.37c-.4-.4-.92-.59-1.43-.59-.52 0-1.04.2-1.43.59L10.3 9.45l-7.72 7.72c-.78.78-.78 2.05 0 2.83L4 21.41c.39.39.9.59 1.41.59.51 0 1.02-.2 1.41-.59l7.78-7.78 2.81-2.81c.8-.78.8-2.07 0-2.86zM5.41 20L4 18.59l7.72-7.72 1.47 1.35L5.41 20z\"/>\n",
       "  </svg>\n",
       "      </button>\n",
       "      \n",
       "  <style>\n",
       "    .colab-df-container {\n",
       "      display:flex;\n",
       "      flex-wrap:wrap;\n",
       "      gap: 12px;\n",
       "    }\n",
       "\n",
       "    .colab-df-convert {\n",
       "      background-color: #E8F0FE;\n",
       "      border: none;\n",
       "      border-radius: 50%;\n",
       "      cursor: pointer;\n",
       "      display: none;\n",
       "      fill: #1967D2;\n",
       "      height: 32px;\n",
       "      padding: 0 0 0 0;\n",
       "      width: 32px;\n",
       "    }\n",
       "\n",
       "    .colab-df-convert:hover {\n",
       "      background-color: #E2EBFA;\n",
       "      box-shadow: 0px 1px 2px rgba(60, 64, 67, 0.3), 0px 1px 3px 1px rgba(60, 64, 67, 0.15);\n",
       "      fill: #174EA6;\n",
       "    }\n",
       "\n",
       "    [theme=dark] .colab-df-convert {\n",
       "      background-color: #3B4455;\n",
       "      fill: #D2E3FC;\n",
       "    }\n",
       "\n",
       "    [theme=dark] .colab-df-convert:hover {\n",
       "      background-color: #434B5C;\n",
       "      box-shadow: 0px 1px 3px 1px rgba(0, 0, 0, 0.15);\n",
       "      filter: drop-shadow(0px 1px 2px rgba(0, 0, 0, 0.3));\n",
       "      fill: #FFFFFF;\n",
       "    }\n",
       "  </style>\n",
       "\n",
       "      <script>\n",
       "        const buttonEl =\n",
       "          document.querySelector('#df-b05f608a-48cc-4670-bec3-26346ac85cde button.colab-df-convert');\n",
       "        buttonEl.style.display =\n",
       "          google.colab.kernel.accessAllowed ? 'block' : 'none';\n",
       "\n",
       "        async function convertToInteractive(key) {\n",
       "          const element = document.querySelector('#df-b05f608a-48cc-4670-bec3-26346ac85cde');\n",
       "          const dataTable =\n",
       "            await google.colab.kernel.invokeFunction('convertToInteractive',\n",
       "                                                     [key], {});\n",
       "          if (!dataTable) return;\n",
       "\n",
       "          const docLinkHtml = 'Like what you see? Visit the ' +\n",
       "            '<a target=\"_blank\" href=https://colab.research.google.com/notebooks/data_table.ipynb>data table notebook</a>'\n",
       "            + ' to learn more about interactive tables.';\n",
       "          element.innerHTML = '';\n",
       "          dataTable['output_type'] = 'display_data';\n",
       "          await google.colab.output.renderOutput(dataTable, element);\n",
       "          const docLink = document.createElement('div');\n",
       "          docLink.innerHTML = docLinkHtml;\n",
       "          element.appendChild(docLink);\n",
       "        }\n",
       "      </script>\n",
       "    </div>\n",
       "  </div>\n",
       "  "
      ],
      "text/plain": [
       "   pharmacy  card_num receipt_date  product  cashier_num  receipt_num  \\\n",
       "3         0   2363656   2018-01-05   784213            0            1   \n",
       "4         0   2363656   2018-01-05   784213            0            1   \n",
       "7         0   2364030   2018-01-04   768150            0            3   \n",
       "8         0   2364030   2018-01-04   778137            0            3   \n",
       "9         0   2364030   2018-01-15   772668            0            4   \n",
       "\n",
       "   application  retail_price  receipt_unique  month  \n",
       "3       379517        530.74  2018-01-05 1 0      1  \n",
       "4       379517        530.74  2018-01-05 1 0      1  \n",
       "7       379753         79.31  2018-01-04 3 0      1  \n",
       "8       379753        217.95  2018-01-04 3 0      1  \n",
       "9       379956        745.22  2018-01-15 4 0      1  "
      ]
     },
     "execution_count": 24,
     "metadata": {},
     "output_type": "execute_result"
    }
   ],
   "source": [
    "train_data.head()"
   ]
  },
  {
   "cell_type": "markdown",
   "metadata": {
    "id": "iU7IRiXCQp_z"
   },
   "source": [
    "Итого у нас всего 122 868 уникальных покупателей, из которых 121 803 появились до августа и вошли в тренировочную выборку.\n",
    "\n",
    "Получается, о 1065 покупателях мы знаем информацию только с августа.\n",
    "\n",
    "Выделим следующие признаки для каждого из них:\n",
    "\n",
    "* общее число покупок\n",
    "* среднее число покупок в месяц\n",
    "* минимальное число покупок в месяц\n",
    "* максимальное число покупок в месяц\n",
    "* средний чек\n",
    "* максимальный чек\n",
    "* минимальный чек\n",
    "* самый частый номер аптеки\n",
    "* самое популярное применение\n",
    "* второе самое популярное применение (если такого нет, запишем сюда первое)\n",
    "* третье самое популярное применение (если такого нет, запишем сюда второе)\n",
    "\n"
   ]
  },
  {
   "cell_type": "markdown",
   "metadata": {
    "id": "Jlv2sad23kV1"
   },
   "source": [
    "Сначала создадим функцию, которая сможет преобразовать изначальный датасет в подходящий для кластеризации:"
   ]
  },
  {
   "cell_type": "code",
   "execution_count": null,
   "metadata": {
    "id": "obrfOXUswaj8"
   },
   "outputs": [],
   "source": [
    "def transform_data(data):\n",
    "    dataset = data.groupby(\"card_num\").agg(\n",
    "        {\n",
    "            \"receipt_unique\": \"nunique\",\n",
    "            \"product\": \"nunique\",\n",
    "            \"receipt_date\": \"nunique\",\n",
    "            \"application\": \"nunique\",\n",
    "            \"retail_price\": [\"mean\", \"std\", \"min\", \"max\"],\n",
    "        }\n",
    "    )\n",
    "\n",
    "    # число позиций в чеке в месяц (среднее, минимальное, максимальное)\n",
    "    dataset[\"mean_purch_month\"] = (\n",
    "        data.groupby([\"card_num\", \"month\"]).size().unstack().fillna(0).mean(axis=1)\n",
    "    )\n",
    "    dataset[\"min_purch_month\"] = (\n",
    "        data.groupby([\"card_num\", \"month\"]).size().unstack().fillna(0).min(axis=1)\n",
    "    )\n",
    "    dataset[\"max_purch_month\"] = (\n",
    "        data.groupby([\"card_num\", \"month\"]).size().unstack().fillna(0).max(axis=1)\n",
    "    )\n",
    "\n",
    "    # сумма покупок в месяц (средняя, минимальная, максимальная)\n",
    "    dataset[\"mean_price_month\"] = (\n",
    "        data.groupby([\"card_num\", \"month\"])[\"retail_price\"]\n",
    "        .mean()\n",
    "        .unstack()\n",
    "        .fillna(0)\n",
    "        .mean(axis=1)\n",
    "    )\n",
    "    dataset[\"min_price_month\"] = (\n",
    "        data.groupby([\"card_num\", \"month\"])[\"retail_price\"]\n",
    "        .mean()\n",
    "        .unstack()\n",
    "        .fillna(0)\n",
    "        .min(axis=1)\n",
    "    )\n",
    "    dataset[\"max_price_month\"] = (\n",
    "        data.groupby([\"card_num\", \"month\"])[\"retail_price\"]\n",
    "        .mean()\n",
    "        .unstack()\n",
    "        .fillna(0)\n",
    "        .max(axis=1)\n",
    "    )\n",
    "\n",
    "    # число дней походов в аптеку в месяц (среднее и максимальное)\n",
    "    dataset[\"mean_days_month\"] = (\n",
    "        data.groupby([\"card_num\", \"month\"])[\"receipt_date\"]\n",
    "        .nunique()\n",
    "        .unstack()\n",
    "        .fillna(0)\n",
    "        .mean(axis=1)\n",
    "    )\n",
    "    dataset[\"max_days_month\"] = (\n",
    "        data.groupby([\"card_num\", \"month\"])[\"receipt_date\"]\n",
    "        .nunique()\n",
    "        .unstack()\n",
    "        .fillna(0)\n",
    "        .max(axis=1)\n",
    "    )\n",
    "\n",
    "    # среднее число различных применений, купленных за месяц (одно и то же или куча разных)\n",
    "    dataset[\"mean_app_month\"] = (\n",
    "        data.groupby([\"card_num\", \"month\"])[\"application\"]\n",
    "        .nunique()\n",
    "        .unstack()\n",
    "        .fillna(0)\n",
    "        .mean(axis=1)\n",
    "    )\n",
    "\n",
    "    # в конце заполним пропуски, тк стандартное отклонение может отсутствовать для покупателей,\n",
    "    # у которых в train попала лишь одна покупка\n",
    "    return dataset.fillna(0)"
   ]
  },
  {
   "cell_type": "markdown",
   "metadata": {
    "id": "77yx1rWi3xAF"
   },
   "source": [
    "Теперь применим ее для всех данных, для train и для test"
   ]
  },
  {
   "cell_type": "code",
   "execution_count": null,
   "metadata": {
    "colab": {
     "base_uri": "https://localhost:8080/"
    },
    "id": "rFAFytG8TLsj",
    "outputId": "2f992413-a069-4db9-dd01-800300d1854e"
   },
   "outputs": [
    {
     "data": {
      "text/html": [
       "\n",
       "  <div id=\"df-740a5bf4-c6c9-4d49-bccb-9a9a66bbf55e\">\n",
       "    <div class=\"colab-df-container\">\n",
       "      <div>\n",
       "<style scoped>\n",
       "    .dataframe tbody tr th:only-of-type {\n",
       "        vertical-align: middle;\n",
       "    }\n",
       "\n",
       "    .dataframe tbody tr th {\n",
       "        vertical-align: top;\n",
       "    }\n",
       "\n",
       "    .dataframe thead tr th {\n",
       "        text-align: left;\n",
       "    }\n",
       "</style>\n",
       "<table border=\"1\" class=\"dataframe\">\n",
       "  <thead>\n",
       "    <tr>\n",
       "      <th></th>\n",
       "      <th>receipt_unique</th>\n",
       "      <th>product</th>\n",
       "      <th>receipt_date</th>\n",
       "      <th>application</th>\n",
       "      <th colspan=\"4\" halign=\"left\">retail_price</th>\n",
       "      <th>mean_purch_month</th>\n",
       "      <th>min_purch_month</th>\n",
       "      <th>max_purch_month</th>\n",
       "      <th>mean_price_month</th>\n",
       "      <th>min_price_month</th>\n",
       "      <th>max_price_month</th>\n",
       "      <th>mean_days_month</th>\n",
       "      <th>max_days_month</th>\n",
       "      <th>mean_app_month</th>\n",
       "    </tr>\n",
       "    <tr>\n",
       "      <th></th>\n",
       "      <th>nunique</th>\n",
       "      <th>nunique</th>\n",
       "      <th>nunique</th>\n",
       "      <th>nunique</th>\n",
       "      <th>mean</th>\n",
       "      <th>std</th>\n",
       "      <th>min</th>\n",
       "      <th>max</th>\n",
       "      <th></th>\n",
       "      <th></th>\n",
       "      <th></th>\n",
       "      <th></th>\n",
       "      <th></th>\n",
       "      <th></th>\n",
       "      <th></th>\n",
       "      <th></th>\n",
       "      <th></th>\n",
       "    </tr>\n",
       "  </thead>\n",
       "  <tbody>\n",
       "    <tr>\n",
       "      <th>count</th>\n",
       "      <td>121803.000000</td>\n",
       "      <td>121803.000000</td>\n",
       "      <td>121803.000000</td>\n",
       "      <td>121803.000000</td>\n",
       "      <td>121803.000000</td>\n",
       "      <td>121803.000000</td>\n",
       "      <td>121803.000000</td>\n",
       "      <td>121803.00000</td>\n",
       "      <td>121803.000000</td>\n",
       "      <td>121803.000000</td>\n",
       "      <td>121803.000000</td>\n",
       "      <td>121803.000000</td>\n",
       "      <td>121803.000000</td>\n",
       "      <td>121803.000000</td>\n",
       "      <td>121803.000000</td>\n",
       "      <td>121803.000000</td>\n",
       "      <td>121803.000000</td>\n",
       "    </tr>\n",
       "    <tr>\n",
       "      <th>mean</th>\n",
       "      <td>8.921045</td>\n",
       "      <td>18.960190</td>\n",
       "      <td>8.637718</td>\n",
       "      <td>14.420105</td>\n",
       "      <td>598.206869</td>\n",
       "      <td>594.620420</td>\n",
       "      <td>70.474931</td>\n",
       "      <td>2215.61558</td>\n",
       "      <td>3.479172</td>\n",
       "      <td>0.380590</td>\n",
       "      <td>9.761919</td>\n",
       "      <td>365.349459</td>\n",
       "      <td>34.731689</td>\n",
       "      <td>1050.275155</td>\n",
       "      <td>1.233960</td>\n",
       "      <td>3.111820</td>\n",
       "      <td>2.789109</td>\n",
       "    </tr>\n",
       "    <tr>\n",
       "      <th>std</th>\n",
       "      <td>10.278539</td>\n",
       "      <td>29.074792</td>\n",
       "      <td>7.799900</td>\n",
       "      <td>12.432415</td>\n",
       "      <td>389.538027</td>\n",
       "      <td>537.920922</td>\n",
       "      <td>166.321470</td>\n",
       "      <td>2078.93224</td>\n",
       "      <td>8.109767</td>\n",
       "      <td>3.676885</td>\n",
       "      <td>15.418914</td>\n",
       "      <td>298.351721</td>\n",
       "      <td>114.815445</td>\n",
       "      <td>984.808040</td>\n",
       "      <td>1.114271</td>\n",
       "      <td>1.994148</td>\n",
       "      <td>3.349421</td>\n",
       "    </tr>\n",
       "    <tr>\n",
       "      <th>min</th>\n",
       "      <td>1.000000</td>\n",
       "      <td>1.000000</td>\n",
       "      <td>1.000000</td>\n",
       "      <td>1.000000</td>\n",
       "      <td>11.740000</td>\n",
       "      <td>0.000000</td>\n",
       "      <td>0.010000</td>\n",
       "      <td>11.74000</td>\n",
       "      <td>0.142857</td>\n",
       "      <td>0.000000</td>\n",
       "      <td>1.000000</td>\n",
       "      <td>1.677143</td>\n",
       "      <td>0.000000</td>\n",
       "      <td>11.740000</td>\n",
       "      <td>0.142857</td>\n",
       "      <td>1.000000</td>\n",
       "      <td>0.142857</td>\n",
       "    </tr>\n",
       "    <tr>\n",
       "      <th>25%</th>\n",
       "      <td>4.000000</td>\n",
       "      <td>8.000000</td>\n",
       "      <td>4.000000</td>\n",
       "      <td>7.000000</td>\n",
       "      <td>379.480610</td>\n",
       "      <td>304.161994</td>\n",
       "      <td>10.500000</td>\n",
       "      <td>1039.59000</td>\n",
       "      <td>1.285714</td>\n",
       "      <td>0.000000</td>\n",
       "      <td>5.000000</td>\n",
       "      <td>173.089452</td>\n",
       "      <td>0.000000</td>\n",
       "      <td>547.138333</td>\n",
       "      <td>0.571429</td>\n",
       "      <td>2.000000</td>\n",
       "      <td>1.142857</td>\n",
       "    </tr>\n",
       "    <tr>\n",
       "      <th>50%</th>\n",
       "      <td>6.000000</td>\n",
       "      <td>14.000000</td>\n",
       "      <td>6.000000</td>\n",
       "      <td>11.000000</td>\n",
       "      <td>513.353587</td>\n",
       "      <td>457.000572</td>\n",
       "      <td>31.060000</td>\n",
       "      <td>1631.27000</td>\n",
       "      <td>2.285714</td>\n",
       "      <td>0.000000</td>\n",
       "      <td>8.000000</td>\n",
       "      <td>296.135816</td>\n",
       "      <td>0.000000</td>\n",
       "      <td>797.220000</td>\n",
       "      <td>0.857143</td>\n",
       "      <td>3.000000</td>\n",
       "      <td>2.000000</td>\n",
       "    </tr>\n",
       "    <tr>\n",
       "      <th>75%</th>\n",
       "      <td>11.000000</td>\n",
       "      <td>23.000000</td>\n",
       "      <td>11.000000</td>\n",
       "      <td>18.000000</td>\n",
       "      <td>704.163420</td>\n",
       "      <td>705.869603</td>\n",
       "      <td>72.780000</td>\n",
       "      <td>2682.07000</td>\n",
       "      <td>4.142857</td>\n",
       "      <td>0.000000</td>\n",
       "      <td>12.000000</td>\n",
       "      <td>471.690361</td>\n",
       "      <td>0.000000</td>\n",
       "      <td>1220.404762</td>\n",
       "      <td>1.571429</td>\n",
       "      <td>4.000000</td>\n",
       "      <td>3.428571</td>\n",
       "    </tr>\n",
       "    <tr>\n",
       "      <th>max</th>\n",
       "      <td>1310.000000</td>\n",
       "      <td>2734.000000</td>\n",
       "      <td>207.000000</td>\n",
       "      <td>361.000000</td>\n",
       "      <td>15955.750000</td>\n",
       "      <td>12918.760073</td>\n",
       "      <td>15955.750000</td>\n",
       "      <td>48870.37000</td>\n",
       "      <td>1265.285714</td>\n",
       "      <td>672.000000</td>\n",
       "      <td>2370.000000</td>\n",
       "      <td>10044.897571</td>\n",
       "      <td>4397.273333</td>\n",
       "      <td>44236.720000</td>\n",
       "      <td>29.571429</td>\n",
       "      <td>31.000000</td>\n",
       "      <td>219.714286</td>\n",
       "    </tr>\n",
       "  </tbody>\n",
       "</table>\n",
       "</div>\n",
       "      <button class=\"colab-df-convert\" onclick=\"convertToInteractive('df-740a5bf4-c6c9-4d49-bccb-9a9a66bbf55e')\"\n",
       "              title=\"Convert this dataframe to an interactive table.\"\n",
       "              style=\"display:none;\">\n",
       "        \n",
       "  <svg xmlns=\"http://www.w3.org/2000/svg\" height=\"24px\"viewBox=\"0 0 24 24\"\n",
       "       width=\"24px\">\n",
       "    <path d=\"M0 0h24v24H0V0z\" fill=\"none\"/>\n",
       "    <path d=\"M18.56 5.44l.94 2.06.94-2.06 2.06-.94-2.06-.94-.94-2.06-.94 2.06-2.06.94zm-11 1L8.5 8.5l.94-2.06 2.06-.94-2.06-.94L8.5 2.5l-.94 2.06-2.06.94zm10 10l.94 2.06.94-2.06 2.06-.94-2.06-.94-.94-2.06-.94 2.06-2.06.94z\"/><path d=\"M17.41 7.96l-1.37-1.37c-.4-.4-.92-.59-1.43-.59-.52 0-1.04.2-1.43.59L10.3 9.45l-7.72 7.72c-.78.78-.78 2.05 0 2.83L4 21.41c.39.39.9.59 1.41.59.51 0 1.02-.2 1.41-.59l7.78-7.78 2.81-2.81c.8-.78.8-2.07 0-2.86zM5.41 20L4 18.59l7.72-7.72 1.47 1.35L5.41 20z\"/>\n",
       "  </svg>\n",
       "      </button>\n",
       "      \n",
       "  <style>\n",
       "    .colab-df-container {\n",
       "      display:flex;\n",
       "      flex-wrap:wrap;\n",
       "      gap: 12px;\n",
       "    }\n",
       "\n",
       "    .colab-df-convert {\n",
       "      background-color: #E8F0FE;\n",
       "      border: none;\n",
       "      border-radius: 50%;\n",
       "      cursor: pointer;\n",
       "      display: none;\n",
       "      fill: #1967D2;\n",
       "      height: 32px;\n",
       "      padding: 0 0 0 0;\n",
       "      width: 32px;\n",
       "    }\n",
       "\n",
       "    .colab-df-convert:hover {\n",
       "      background-color: #E2EBFA;\n",
       "      box-shadow: 0px 1px 2px rgba(60, 64, 67, 0.3), 0px 1px 3px 1px rgba(60, 64, 67, 0.15);\n",
       "      fill: #174EA6;\n",
       "    }\n",
       "\n",
       "    [theme=dark] .colab-df-convert {\n",
       "      background-color: #3B4455;\n",
       "      fill: #D2E3FC;\n",
       "    }\n",
       "\n",
       "    [theme=dark] .colab-df-convert:hover {\n",
       "      background-color: #434B5C;\n",
       "      box-shadow: 0px 1px 3px 1px rgba(0, 0, 0, 0.15);\n",
       "      filter: drop-shadow(0px 1px 2px rgba(0, 0, 0, 0.3));\n",
       "      fill: #FFFFFF;\n",
       "    }\n",
       "  </style>\n",
       "\n",
       "      <script>\n",
       "        const buttonEl =\n",
       "          document.querySelector('#df-740a5bf4-c6c9-4d49-bccb-9a9a66bbf55e button.colab-df-convert');\n",
       "        buttonEl.style.display =\n",
       "          google.colab.kernel.accessAllowed ? 'block' : 'none';\n",
       "\n",
       "        async function convertToInteractive(key) {\n",
       "          const element = document.querySelector('#df-740a5bf4-c6c9-4d49-bccb-9a9a66bbf55e');\n",
       "          const dataTable =\n",
       "            await google.colab.kernel.invokeFunction('convertToInteractive',\n",
       "                                                     [key], {});\n",
       "          if (!dataTable) return;\n",
       "\n",
       "          const docLinkHtml = 'Like what you see? Visit the ' +\n",
       "            '<a target=\"_blank\" href=https://colab.research.google.com/notebooks/data_table.ipynb>data table notebook</a>'\n",
       "            + ' to learn more about interactive tables.';\n",
       "          element.innerHTML = '';\n",
       "          dataTable['output_type'] = 'display_data';\n",
       "          await google.colab.output.renderOutput(dataTable, element);\n",
       "          const docLink = document.createElement('div');\n",
       "          docLink.innerHTML = docLinkHtml;\n",
       "          element.appendChild(docLink);\n",
       "        }\n",
       "      </script>\n",
       "    </div>\n",
       "  </div>\n",
       "  "
      ],
      "text/plain": [
       "      receipt_unique        product   receipt_date    application  \\\n",
       "             nunique        nunique        nunique        nunique   \n",
       "count  121803.000000  121803.000000  121803.000000  121803.000000   \n",
       "mean        8.921045      18.960190       8.637718      14.420105   \n",
       "std        10.278539      29.074792       7.799900      12.432415   \n",
       "min         1.000000       1.000000       1.000000       1.000000   \n",
       "25%         4.000000       8.000000       4.000000       7.000000   \n",
       "50%         6.000000      14.000000       6.000000      11.000000   \n",
       "75%        11.000000      23.000000      11.000000      18.000000   \n",
       "max      1310.000000    2734.000000     207.000000     361.000000   \n",
       "\n",
       "        retail_price                                              \\\n",
       "                mean            std            min           max   \n",
       "count  121803.000000  121803.000000  121803.000000  121803.00000   \n",
       "mean      598.206869     594.620420      70.474931    2215.61558   \n",
       "std       389.538027     537.920922     166.321470    2078.93224   \n",
       "min        11.740000       0.000000       0.010000      11.74000   \n",
       "25%       379.480610     304.161994      10.500000    1039.59000   \n",
       "50%       513.353587     457.000572      31.060000    1631.27000   \n",
       "75%       704.163420     705.869603      72.780000    2682.07000   \n",
       "max     15955.750000   12918.760073   15955.750000   48870.37000   \n",
       "\n",
       "      mean_purch_month min_purch_month max_purch_month mean_price_month  \\\n",
       "                                                                          \n",
       "count    121803.000000   121803.000000   121803.000000    121803.000000   \n",
       "mean          3.479172        0.380590        9.761919       365.349459   \n",
       "std           8.109767        3.676885       15.418914       298.351721   \n",
       "min           0.142857        0.000000        1.000000         1.677143   \n",
       "25%           1.285714        0.000000        5.000000       173.089452   \n",
       "50%           2.285714        0.000000        8.000000       296.135816   \n",
       "75%           4.142857        0.000000       12.000000       471.690361   \n",
       "max        1265.285714      672.000000     2370.000000     10044.897571   \n",
       "\n",
       "      min_price_month max_price_month mean_days_month max_days_month  \\\n",
       "                                                                       \n",
       "count   121803.000000   121803.000000   121803.000000  121803.000000   \n",
       "mean        34.731689     1050.275155        1.233960       3.111820   \n",
       "std        114.815445      984.808040        1.114271       1.994148   \n",
       "min          0.000000       11.740000        0.142857       1.000000   \n",
       "25%          0.000000      547.138333        0.571429       2.000000   \n",
       "50%          0.000000      797.220000        0.857143       3.000000   \n",
       "75%          0.000000     1220.404762        1.571429       4.000000   \n",
       "max       4397.273333    44236.720000       29.571429      31.000000   \n",
       "\n",
       "      mean_app_month  \n",
       "                      \n",
       "count  121803.000000  \n",
       "mean        2.789109  \n",
       "std         3.349421  \n",
       "min         0.142857  \n",
       "25%         1.142857  \n",
       "50%         2.000000  \n",
       "75%         3.428571  \n",
       "max       219.714286  "
      ]
     },
     "execution_count": 26,
     "metadata": {},
     "output_type": "execute_result"
    }
   ],
   "source": [
    "gb_all = transform_data(data_relevant)\n",
    "gb_train = transform_data(train_data)\n",
    "gb_test = transform_data(test_data)\n",
    "\n",
    "gb_train.describe()"
   ]
  },
  {
   "cell_type": "markdown",
   "metadata": {
    "id": "Lgu5BkayapWL"
   },
   "source": [
    "Найдем покупателей, информация о которых появилась только в августе"
   ]
  },
  {
   "cell_type": "code",
   "execution_count": null,
   "metadata": {
    "colab": {
     "base_uri": "https://localhost:8080/"
    },
    "id": "5Lk0xpUgy7Xz",
    "outputId": "0ca69d6a-4557-4a4d-ee70-3eded8256f33"
   },
   "outputs": [
    {
     "data": {
      "text/html": [
       "\n",
       "  <div id=\"df-9babf21a-d642-42c9-af69-562986aeb194\">\n",
       "    <div class=\"colab-df-container\">\n",
       "      <div>\n",
       "<style scoped>\n",
       "    .dataframe tbody tr th:only-of-type {\n",
       "        vertical-align: middle;\n",
       "    }\n",
       "\n",
       "    .dataframe tbody tr th {\n",
       "        vertical-align: top;\n",
       "    }\n",
       "\n",
       "    .dataframe thead tr th {\n",
       "        text-align: left;\n",
       "    }\n",
       "\n",
       "    .dataframe thead tr:last-of-type th {\n",
       "        text-align: right;\n",
       "    }\n",
       "</style>\n",
       "<table border=\"1\" class=\"dataframe\">\n",
       "  <thead>\n",
       "    <tr>\n",
       "      <th></th>\n",
       "      <th>receipt_unique</th>\n",
       "      <th>product</th>\n",
       "      <th>receipt_date</th>\n",
       "      <th>application</th>\n",
       "      <th colspan=\"4\" halign=\"left\">retail_price</th>\n",
       "      <th>mean_purch_month</th>\n",
       "      <th>min_purch_month</th>\n",
       "      <th>max_purch_month</th>\n",
       "      <th>mean_price_month</th>\n",
       "      <th>min_price_month</th>\n",
       "      <th>max_price_month</th>\n",
       "      <th>mean_days_month</th>\n",
       "      <th>max_days_month</th>\n",
       "      <th>mean_app_month</th>\n",
       "    </tr>\n",
       "    <tr>\n",
       "      <th></th>\n",
       "      <th>nunique</th>\n",
       "      <th>nunique</th>\n",
       "      <th>nunique</th>\n",
       "      <th>nunique</th>\n",
       "      <th>mean</th>\n",
       "      <th>std</th>\n",
       "      <th>min</th>\n",
       "      <th>max</th>\n",
       "      <th></th>\n",
       "      <th></th>\n",
       "      <th></th>\n",
       "      <th></th>\n",
       "      <th></th>\n",
       "      <th></th>\n",
       "      <th></th>\n",
       "      <th></th>\n",
       "      <th></th>\n",
       "    </tr>\n",
       "    <tr>\n",
       "      <th>card_num</th>\n",
       "      <th></th>\n",
       "      <th></th>\n",
       "      <th></th>\n",
       "      <th></th>\n",
       "      <th></th>\n",
       "      <th></th>\n",
       "      <th></th>\n",
       "      <th></th>\n",
       "      <th></th>\n",
       "      <th></th>\n",
       "      <th></th>\n",
       "      <th></th>\n",
       "      <th></th>\n",
       "      <th></th>\n",
       "      <th></th>\n",
       "      <th></th>\n",
       "      <th></th>\n",
       "    </tr>\n",
       "  </thead>\n",
       "  <tbody>\n",
       "    <tr>\n",
       "      <th>690</th>\n",
       "      <td>3</td>\n",
       "      <td>13</td>\n",
       "      <td>3</td>\n",
       "      <td>12</td>\n",
       "      <td>349.493846</td>\n",
       "      <td>379.217255</td>\n",
       "      <td>17.80</td>\n",
       "      <td>1204.67</td>\n",
       "      <td>13.0</td>\n",
       "      <td>13</td>\n",
       "      <td>13</td>\n",
       "      <td>349.493846</td>\n",
       "      <td>349.493846</td>\n",
       "      <td>349.493846</td>\n",
       "      <td>3.0</td>\n",
       "      <td>3</td>\n",
       "      <td>12.0</td>\n",
       "    </tr>\n",
       "    <tr>\n",
       "      <th>1016</th>\n",
       "      <td>3</td>\n",
       "      <td>10</td>\n",
       "      <td>3</td>\n",
       "      <td>8</td>\n",
       "      <td>326.007500</td>\n",
       "      <td>262.798584</td>\n",
       "      <td>25.36</td>\n",
       "      <td>742.09</td>\n",
       "      <td>12.0</td>\n",
       "      <td>12</td>\n",
       "      <td>12</td>\n",
       "      <td>326.007500</td>\n",
       "      <td>326.007500</td>\n",
       "      <td>326.007500</td>\n",
       "      <td>3.0</td>\n",
       "      <td>3</td>\n",
       "      <td>8.0</td>\n",
       "    </tr>\n",
       "    <tr>\n",
       "      <th>2958</th>\n",
       "      <td>3</td>\n",
       "      <td>10</td>\n",
       "      <td>3</td>\n",
       "      <td>9</td>\n",
       "      <td>399.316000</td>\n",
       "      <td>332.691401</td>\n",
       "      <td>11.92</td>\n",
       "      <td>1111.30</td>\n",
       "      <td>10.0</td>\n",
       "      <td>10</td>\n",
       "      <td>10</td>\n",
       "      <td>399.316000</td>\n",
       "      <td>399.316000</td>\n",
       "      <td>399.316000</td>\n",
       "      <td>3.0</td>\n",
       "      <td>3</td>\n",
       "      <td>9.0</td>\n",
       "    </tr>\n",
       "    <tr>\n",
       "      <th>3834</th>\n",
       "      <td>3</td>\n",
       "      <td>9</td>\n",
       "      <td>3</td>\n",
       "      <td>9</td>\n",
       "      <td>436.610000</td>\n",
       "      <td>532.325032</td>\n",
       "      <td>64.77</td>\n",
       "      <td>1834.22</td>\n",
       "      <td>9.0</td>\n",
       "      <td>9</td>\n",
       "      <td>9</td>\n",
       "      <td>436.610000</td>\n",
       "      <td>436.610000</td>\n",
       "      <td>436.610000</td>\n",
       "      <td>3.0</td>\n",
       "      <td>3</td>\n",
       "      <td>9.0</td>\n",
       "    </tr>\n",
       "    <tr>\n",
       "      <th>8904</th>\n",
       "      <td>3</td>\n",
       "      <td>6</td>\n",
       "      <td>3</td>\n",
       "      <td>5</td>\n",
       "      <td>540.421667</td>\n",
       "      <td>552.081085</td>\n",
       "      <td>48.99</td>\n",
       "      <td>1445.31</td>\n",
       "      <td>6.0</td>\n",
       "      <td>6</td>\n",
       "      <td>6</td>\n",
       "      <td>540.421667</td>\n",
       "      <td>540.421667</td>\n",
       "      <td>540.421667</td>\n",
       "      <td>3.0</td>\n",
       "      <td>3</td>\n",
       "      <td>5.0</td>\n",
       "    </tr>\n",
       "    <tr>\n",
       "      <th>...</th>\n",
       "      <td>...</td>\n",
       "      <td>...</td>\n",
       "      <td>...</td>\n",
       "      <td>...</td>\n",
       "      <td>...</td>\n",
       "      <td>...</td>\n",
       "      <td>...</td>\n",
       "      <td>...</td>\n",
       "      <td>...</td>\n",
       "      <td>...</td>\n",
       "      <td>...</td>\n",
       "      <td>...</td>\n",
       "      <td>...</td>\n",
       "      <td>...</td>\n",
       "      <td>...</td>\n",
       "      <td>...</td>\n",
       "      <td>...</td>\n",
       "    </tr>\n",
       "    <tr>\n",
       "      <th>11255624</th>\n",
       "      <td>3</td>\n",
       "      <td>8</td>\n",
       "      <td>2</td>\n",
       "      <td>7</td>\n",
       "      <td>665.931111</td>\n",
       "      <td>836.344705</td>\n",
       "      <td>174.39</td>\n",
       "      <td>2807.70</td>\n",
       "      <td>9.0</td>\n",
       "      <td>9</td>\n",
       "      <td>9</td>\n",
       "      <td>665.931111</td>\n",
       "      <td>665.931111</td>\n",
       "      <td>665.931111</td>\n",
       "      <td>2.0</td>\n",
       "      <td>2</td>\n",
       "      <td>7.0</td>\n",
       "    </tr>\n",
       "    <tr>\n",
       "      <th>32340036</th>\n",
       "      <td>4</td>\n",
       "      <td>12</td>\n",
       "      <td>4</td>\n",
       "      <td>7</td>\n",
       "      <td>211.063333</td>\n",
       "      <td>160.309332</td>\n",
       "      <td>94.31</td>\n",
       "      <td>629.48</td>\n",
       "      <td>12.0</td>\n",
       "      <td>12</td>\n",
       "      <td>12</td>\n",
       "      <td>211.063333</td>\n",
       "      <td>211.063333</td>\n",
       "      <td>211.063333</td>\n",
       "      <td>4.0</td>\n",
       "      <td>4</td>\n",
       "      <td>7.0</td>\n",
       "    </tr>\n",
       "    <tr>\n",
       "      <th>32673180</th>\n",
       "      <td>4</td>\n",
       "      <td>6</td>\n",
       "      <td>4</td>\n",
       "      <td>5</td>\n",
       "      <td>638.665000</td>\n",
       "      <td>685.450897</td>\n",
       "      <td>47.96</td>\n",
       "      <td>1935.75</td>\n",
       "      <td>6.0</td>\n",
       "      <td>6</td>\n",
       "      <td>6</td>\n",
       "      <td>638.665000</td>\n",
       "      <td>638.665000</td>\n",
       "      <td>638.665000</td>\n",
       "      <td>4.0</td>\n",
       "      <td>4</td>\n",
       "      <td>5.0</td>\n",
       "    </tr>\n",
       "    <tr>\n",
       "      <th>32674416</th>\n",
       "      <td>4</td>\n",
       "      <td>22</td>\n",
       "      <td>4</td>\n",
       "      <td>19</td>\n",
       "      <td>194.344167</td>\n",
       "      <td>159.169936</td>\n",
       "      <td>33.81</td>\n",
       "      <td>708.12</td>\n",
       "      <td>24.0</td>\n",
       "      <td>24</td>\n",
       "      <td>24</td>\n",
       "      <td>194.344167</td>\n",
       "      <td>194.344167</td>\n",
       "      <td>194.344167</td>\n",
       "      <td>4.0</td>\n",
       "      <td>4</td>\n",
       "      <td>19.0</td>\n",
       "    </tr>\n",
       "    <tr>\n",
       "      <th>32675150</th>\n",
       "      <td>3</td>\n",
       "      <td>4</td>\n",
       "      <td>3</td>\n",
       "      <td>4</td>\n",
       "      <td>660.376000</td>\n",
       "      <td>472.436155</td>\n",
       "      <td>48.05</td>\n",
       "      <td>1377.34</td>\n",
       "      <td>5.0</td>\n",
       "      <td>5</td>\n",
       "      <td>5</td>\n",
       "      <td>660.376000</td>\n",
       "      <td>660.376000</td>\n",
       "      <td>660.376000</td>\n",
       "      <td>3.0</td>\n",
       "      <td>3</td>\n",
       "      <td>4.0</td>\n",
       "    </tr>\n",
       "  </tbody>\n",
       "</table>\n",
       "<p>1065 rows × 17 columns</p>\n",
       "</div>\n",
       "      <button class=\"colab-df-convert\" onclick=\"convertToInteractive('df-9babf21a-d642-42c9-af69-562986aeb194')\"\n",
       "              title=\"Convert this dataframe to an interactive table.\"\n",
       "              style=\"display:none;\">\n",
       "        \n",
       "  <svg xmlns=\"http://www.w3.org/2000/svg\" height=\"24px\"viewBox=\"0 0 24 24\"\n",
       "       width=\"24px\">\n",
       "    <path d=\"M0 0h24v24H0V0z\" fill=\"none\"/>\n",
       "    <path d=\"M18.56 5.44l.94 2.06.94-2.06 2.06-.94-2.06-.94-.94-2.06-.94 2.06-2.06.94zm-11 1L8.5 8.5l.94-2.06 2.06-.94-2.06-.94L8.5 2.5l-.94 2.06-2.06.94zm10 10l.94 2.06.94-2.06 2.06-.94-2.06-.94-.94-2.06-.94 2.06-2.06.94z\"/><path d=\"M17.41 7.96l-1.37-1.37c-.4-.4-.92-.59-1.43-.59-.52 0-1.04.2-1.43.59L10.3 9.45l-7.72 7.72c-.78.78-.78 2.05 0 2.83L4 21.41c.39.39.9.59 1.41.59.51 0 1.02-.2 1.41-.59l7.78-7.78 2.81-2.81c.8-.78.8-2.07 0-2.86zM5.41 20L4 18.59l7.72-7.72 1.47 1.35L5.41 20z\"/>\n",
       "  </svg>\n",
       "      </button>\n",
       "      \n",
       "  <style>\n",
       "    .colab-df-container {\n",
       "      display:flex;\n",
       "      flex-wrap:wrap;\n",
       "      gap: 12px;\n",
       "    }\n",
       "\n",
       "    .colab-df-convert {\n",
       "      background-color: #E8F0FE;\n",
       "      border: none;\n",
       "      border-radius: 50%;\n",
       "      cursor: pointer;\n",
       "      display: none;\n",
       "      fill: #1967D2;\n",
       "      height: 32px;\n",
       "      padding: 0 0 0 0;\n",
       "      width: 32px;\n",
       "    }\n",
       "\n",
       "    .colab-df-convert:hover {\n",
       "      background-color: #E2EBFA;\n",
       "      box-shadow: 0px 1px 2px rgba(60, 64, 67, 0.3), 0px 1px 3px 1px rgba(60, 64, 67, 0.15);\n",
       "      fill: #174EA6;\n",
       "    }\n",
       "\n",
       "    [theme=dark] .colab-df-convert {\n",
       "      background-color: #3B4455;\n",
       "      fill: #D2E3FC;\n",
       "    }\n",
       "\n",
       "    [theme=dark] .colab-df-convert:hover {\n",
       "      background-color: #434B5C;\n",
       "      box-shadow: 0px 1px 3px 1px rgba(0, 0, 0, 0.15);\n",
       "      filter: drop-shadow(0px 1px 2px rgba(0, 0, 0, 0.3));\n",
       "      fill: #FFFFFF;\n",
       "    }\n",
       "  </style>\n",
       "\n",
       "      <script>\n",
       "        const buttonEl =\n",
       "          document.querySelector('#df-9babf21a-d642-42c9-af69-562986aeb194 button.colab-df-convert');\n",
       "        buttonEl.style.display =\n",
       "          google.colab.kernel.accessAllowed ? 'block' : 'none';\n",
       "\n",
       "        async function convertToInteractive(key) {\n",
       "          const element = document.querySelector('#df-9babf21a-d642-42c9-af69-562986aeb194');\n",
       "          const dataTable =\n",
       "            await google.colab.kernel.invokeFunction('convertToInteractive',\n",
       "                                                     [key], {});\n",
       "          if (!dataTable) return;\n",
       "\n",
       "          const docLinkHtml = 'Like what you see? Visit the ' +\n",
       "            '<a target=\"_blank\" href=https://colab.research.google.com/notebooks/data_table.ipynb>data table notebook</a>'\n",
       "            + ' to learn more about interactive tables.';\n",
       "          element.innerHTML = '';\n",
       "          dataTable['output_type'] = 'display_data';\n",
       "          await google.colab.output.renderOutput(dataTable, element);\n",
       "          const docLink = document.createElement('div');\n",
       "          docLink.innerHTML = docLinkHtml;\n",
       "          element.appendChild(docLink);\n",
       "        }\n",
       "      </script>\n",
       "    </div>\n",
       "  </div>\n",
       "  "
      ],
      "text/plain": [
       "         receipt_unique product receipt_date application retail_price  \\\n",
       "                nunique nunique      nunique     nunique         mean   \n",
       "card_num                                                                \n",
       "690                   3      13            3          12   349.493846   \n",
       "1016                  3      10            3           8   326.007500   \n",
       "2958                  3      10            3           9   399.316000   \n",
       "3834                  3       9            3           9   436.610000   \n",
       "8904                  3       6            3           5   540.421667   \n",
       "...                 ...     ...          ...         ...          ...   \n",
       "11255624              3       8            2           7   665.931111   \n",
       "32340036              4      12            4           7   211.063333   \n",
       "32673180              4       6            4           5   638.665000   \n",
       "32674416              4      22            4          19   194.344167   \n",
       "32675150              3       4            3           4   660.376000   \n",
       "\n",
       "                                      mean_purch_month min_purch_month  \\\n",
       "                 std     min      max                                    \n",
       "card_num                                                                 \n",
       "690       379.217255   17.80  1204.67             13.0              13   \n",
       "1016      262.798584   25.36   742.09             12.0              12   \n",
       "2958      332.691401   11.92  1111.30             10.0              10   \n",
       "3834      532.325032   64.77  1834.22              9.0               9   \n",
       "8904      552.081085   48.99  1445.31              6.0               6   \n",
       "...              ...     ...      ...              ...             ...   \n",
       "11255624  836.344705  174.39  2807.70              9.0               9   \n",
       "32340036  160.309332   94.31   629.48             12.0              12   \n",
       "32673180  685.450897   47.96  1935.75              6.0               6   \n",
       "32674416  159.169936   33.81   708.12             24.0              24   \n",
       "32675150  472.436155   48.05  1377.34              5.0               5   \n",
       "\n",
       "         max_purch_month mean_price_month min_price_month max_price_month  \\\n",
       "                                                                            \n",
       "card_num                                                                    \n",
       "690                   13       349.493846      349.493846      349.493846   \n",
       "1016                  12       326.007500      326.007500      326.007500   \n",
       "2958                  10       399.316000      399.316000      399.316000   \n",
       "3834                   9       436.610000      436.610000      436.610000   \n",
       "8904                   6       540.421667      540.421667      540.421667   \n",
       "...                  ...              ...             ...             ...   \n",
       "11255624               9       665.931111      665.931111      665.931111   \n",
       "32340036              12       211.063333      211.063333      211.063333   \n",
       "32673180               6       638.665000      638.665000      638.665000   \n",
       "32674416              24       194.344167      194.344167      194.344167   \n",
       "32675150               5       660.376000      660.376000      660.376000   \n",
       "\n",
       "         mean_days_month max_days_month mean_app_month  \n",
       "                                                        \n",
       "card_num                                                \n",
       "690                  3.0              3           12.0  \n",
       "1016                 3.0              3            8.0  \n",
       "2958                 3.0              3            9.0  \n",
       "3834                 3.0              3            9.0  \n",
       "8904                 3.0              3            5.0  \n",
       "...                  ...            ...            ...  \n",
       "11255624             2.0              2            7.0  \n",
       "32340036             4.0              4            7.0  \n",
       "32673180             4.0              4            5.0  \n",
       "32674416             4.0              4           19.0  \n",
       "32675150             3.0              3            4.0  \n",
       "\n",
       "[1065 rows x 17 columns]"
      ]
     },
     "execution_count": 27,
     "metadata": {},
     "output_type": "execute_result"
    }
   ],
   "source": [
    "gb_test[~np.in1d(gb_test.index, gb_train.index)]"
   ]
  },
  {
   "cell_type": "markdown",
   "metadata": {
    "id": "WaG35nyqQe3H"
   },
   "source": [
    "## Кластеризация"
   ]
  },
  {
   "cell_type": "markdown",
   "metadata": {
    "id": "l3iaRP2uWH_9"
   },
   "source": [
    "Мы можем кластеризовать покупателей по каким-то признакам, а можем кластеризовать покупателей по их поведению в течение времени - по их временным рядам"
   ]
  },
  {
   "cell_type": "code",
   "execution_count": null,
   "metadata": {
    "id": "3yHa06-dTZU9"
   },
   "outputs": [],
   "source": [
    "from sklearn.preprocessing import StandardScaler"
   ]
  },
  {
   "cell_type": "code",
   "execution_count": null,
   "metadata": {
    "colab": {
     "base_uri": "https://localhost:8080/"
    },
    "id": "4ewpvBUKTf8g",
    "outputId": "424dabbb-6ace-4171-dfd5-e298c46edaea"
   },
   "outputs": [
    {
     "data": {
      "text/plain": [
       "((121803, 17), (1065, 17))"
      ]
     },
     "execution_count": 29,
     "metadata": {},
     "output_type": "execute_result"
    }
   ],
   "source": [
    "scaler = StandardScaler()\n",
    "clust_train = scaler.fit_transform(gb_train.to_numpy())\n",
    "clust_test = scaler.transform(\n",
    "    gb_test[~np.in1d(gb_test.index, gb_train.index)].to_numpy()\n",
    ")\n",
    "clust_train.shape, clust_test.shape"
   ]
  },
  {
   "cell_type": "code",
   "execution_count": null,
   "metadata": {
    "colab": {
     "base_uri": "https://localhost:8080/"
    },
    "id": "SMVJmjESX8kj",
    "outputId": "01da4b69-5dd9-4d1a-9e04-e148ee9ba609"
   },
   "outputs": [
    {
     "data": {
      "text/plain": [
       "182.6606462772714"
      ]
     },
     "execution_count": 30,
     "metadata": {},
     "output_type": "execute_result"
    }
   ],
   "source": [
    "clust_train.max().max()"
   ]
  },
  {
   "cell_type": "code",
   "execution_count": null,
   "metadata": {
    "id": "cE-OUTwBlGLP"
   },
   "outputs": [],
   "source": [
    "from sklearn.cluster import KMeans\n",
    "\n",
    "clustering = KMeans(n_clusters=10, max_iter=1000).fit(clust_train)"
   ]
  },
  {
   "cell_type": "code",
   "execution_count": null,
   "metadata": {
    "id": "u033fPPYYXyh"
   },
   "outputs": [],
   "source": [
    "preds = clustering.predict(clust_test)"
   ]
  },
  {
   "cell_type": "code",
   "execution_count": null,
   "metadata": {
    "colab": {
     "base_uri": "https://localhost:8080/"
    },
    "id": "dc7Bm5Hfd_J_",
    "outputId": "f1b1b0cb-cac0-40ce-d464-511231129a30"
   },
   "outputs": [
    {
     "data": {
      "text/plain": [
       "{1, 2, 3, 5, 7, 8}"
      ]
     },
     "execution_count": 33,
     "metadata": {},
     "output_type": "execute_result"
    }
   ],
   "source": [
    "set(clustering.predict(clust_test))"
   ]
  },
  {
   "cell_type": "markdown",
   "metadata": {
    "id": "buun1Az1j4Dd"
   },
   "source": [
    "Так выглядят \"идеальные\" представители каждого из кластеров - то есть центры кластеров.\n"
   ]
  },
  {
   "cell_type": "code",
   "execution_count": null,
   "metadata": {
    "colab": {
     "base_uri": "https://localhost:8080/",
     "height": 458
    },
    "id": "hrAd8OXEcFhi",
    "outputId": "b51e01f2-1f11-42a8-90c3-410afdfae91b"
   },
   "outputs": [
    {
     "data": {
      "text/html": [
       "\n",
       "  <div id=\"df-782723a5-fa5c-408c-be28-e0e4fe9adbf4\">\n",
       "    <div class=\"colab-df-container\">\n",
       "      <div>\n",
       "<style scoped>\n",
       "    .dataframe tbody tr th:only-of-type {\n",
       "        vertical-align: middle;\n",
       "    }\n",
       "\n",
       "    .dataframe tbody tr th {\n",
       "        vertical-align: top;\n",
       "    }\n",
       "\n",
       "    .dataframe thead tr th {\n",
       "        text-align: left;\n",
       "    }\n",
       "</style>\n",
       "<table border=\"1\" class=\"dataframe\">\n",
       "  <thead>\n",
       "    <tr>\n",
       "      <th></th>\n",
       "      <th>receipt_unique</th>\n",
       "      <th>product</th>\n",
       "      <th>receipt_date</th>\n",
       "      <th>application</th>\n",
       "      <th colspan=\"4\" halign=\"left\">retail_price</th>\n",
       "      <th>mean_purch_month</th>\n",
       "      <th>min_purch_month</th>\n",
       "      <th>max_purch_month</th>\n",
       "      <th>mean_price_month</th>\n",
       "      <th>min_price_month</th>\n",
       "      <th>max_price_month</th>\n",
       "      <th>mean_days_month</th>\n",
       "      <th>max_days_month</th>\n",
       "      <th>mean_app_month</th>\n",
       "    </tr>\n",
       "    <tr>\n",
       "      <th></th>\n",
       "      <th>nunique</th>\n",
       "      <th>nunique</th>\n",
       "      <th>nunique</th>\n",
       "      <th>nunique</th>\n",
       "      <th>mean</th>\n",
       "      <th>std</th>\n",
       "      <th>min</th>\n",
       "      <th>max</th>\n",
       "      <th></th>\n",
       "      <th></th>\n",
       "      <th></th>\n",
       "      <th></th>\n",
       "      <th></th>\n",
       "      <th></th>\n",
       "      <th></th>\n",
       "      <th></th>\n",
       "      <th></th>\n",
       "    </tr>\n",
       "  </thead>\n",
       "  <tbody>\n",
       "    <tr>\n",
       "      <th>0</th>\n",
       "      <td>6.292654</td>\n",
       "      <td>12.396880</td>\n",
       "      <td>6.175636</td>\n",
       "      <td>10.393534</td>\n",
       "      <td>1018.351958</td>\n",
       "      <td>1120.650125</td>\n",
       "      <td>104.169469</td>\n",
       "      <td>3708.528382</td>\n",
       "      <td>2.181912</td>\n",
       "      <td>1.775787e-02</td>\n",
       "      <td>6.994710</td>\n",
       "      <td>598.758372</td>\n",
       "      <td>2.592707e+00</td>\n",
       "      <td>2004.198920</td>\n",
       "      <td>0.882234</td>\n",
       "      <td>2.419442</td>\n",
       "      <td>1.874330</td>\n",
       "    </tr>\n",
       "    <tr>\n",
       "      <th>1</th>\n",
       "      <td>118.032468</td>\n",
       "      <td>429.188312</td>\n",
       "      <td>80.519481</td>\n",
       "      <td>166.246753</td>\n",
       "      <td>547.839797</td>\n",
       "      <td>793.219281</td>\n",
       "      <td>4.920130</td>\n",
       "      <td>8912.911948</td>\n",
       "      <td>84.772727</td>\n",
       "      <td>2.205195e+01</td>\n",
       "      <td>182.974026</td>\n",
       "      <td>524.629638</td>\n",
       "      <td>2.815929e+02</td>\n",
       "      <td>839.926801</td>\n",
       "      <td>11.502783</td>\n",
       "      <td>18.870130</td>\n",
       "      <td>47.561224</td>\n",
       "    </tr>\n",
       "    <tr>\n",
       "      <th>2</th>\n",
       "      <td>8.097872</td>\n",
       "      <td>15.137234</td>\n",
       "      <td>7.902128</td>\n",
       "      <td>11.996277</td>\n",
       "      <td>2123.507656</td>\n",
       "      <td>3320.466316</td>\n",
       "      <td>111.492255</td>\n",
       "      <td>11466.031665</td>\n",
       "      <td>2.912158</td>\n",
       "      <td>2.260638e-01</td>\n",
       "      <td>8.223404</td>\n",
       "      <td>1439.590066</td>\n",
       "      <td>6.117137e+01</td>\n",
       "      <td>5494.919414</td>\n",
       "      <td>1.128875</td>\n",
       "      <td>2.776064</td>\n",
       "      <td>2.402736</td>\n",
       "    </tr>\n",
       "    <tr>\n",
       "      <th>3</th>\n",
       "      <td>13.298842</td>\n",
       "      <td>28.684389</td>\n",
       "      <td>12.994886</td>\n",
       "      <td>21.921755</td>\n",
       "      <td>497.182179</td>\n",
       "      <td>504.897202</td>\n",
       "      <td>23.878661</td>\n",
       "      <td>2223.788652</td>\n",
       "      <td>5.197307</td>\n",
       "      <td>2.083772e-01</td>\n",
       "      <td>13.935629</td>\n",
       "      <td>383.867873</td>\n",
       "      <td>1.733989e+01</td>\n",
       "      <td>871.745644</td>\n",
       "      <td>1.856412</td>\n",
       "      <td>4.469845</td>\n",
       "      <td>4.236378</td>\n",
       "    </tr>\n",
       "    <tr>\n",
       "      <th>4</th>\n",
       "      <td>367.750000</td>\n",
       "      <td>1704.125000</td>\n",
       "      <td>167.500000</td>\n",
       "      <td>299.000000</td>\n",
       "      <td>559.901976</td>\n",
       "      <td>790.181312</td>\n",
       "      <td>4.031250</td>\n",
       "      <td>15512.203750</td>\n",
       "      <td>538.500000</td>\n",
       "      <td>2.021250e+02</td>\n",
       "      <td>881.750000</td>\n",
       "      <td>562.757622</td>\n",
       "      <td>4.543415e+02</td>\n",
       "      <td>643.181963</td>\n",
       "      <td>23.928571</td>\n",
       "      <td>28.125000</td>\n",
       "      <td>155.517857</td>\n",
       "    </tr>\n",
       "    <tr>\n",
       "      <th>5</th>\n",
       "      <td>4.787002</td>\n",
       "      <td>10.562989</td>\n",
       "      <td>4.712768</td>\n",
       "      <td>8.893462</td>\n",
       "      <td>458.792168</td>\n",
       "      <td>382.514579</td>\n",
       "      <td>78.038244</td>\n",
       "      <td>1263.284971</td>\n",
       "      <td>1.731118</td>\n",
       "      <td>6.748534e-03</td>\n",
       "      <td>6.458189</td>\n",
       "      <td>206.249309</td>\n",
       "      <td>8.871642e-01</td>\n",
       "      <td>688.263068</td>\n",
       "      <td>0.673253</td>\n",
       "      <td>2.188801</td>\n",
       "      <td>1.489767</td>\n",
       "    </tr>\n",
       "    <tr>\n",
       "      <th>6</th>\n",
       "      <td>1129.500000</td>\n",
       "      <td>2725.500000</td>\n",
       "      <td>206.500000</td>\n",
       "      <td>354.000000</td>\n",
       "      <td>477.814239</td>\n",
       "      <td>735.758229</td>\n",
       "      <td>5.245000</td>\n",
       "      <td>22591.755000</td>\n",
       "      <td>1198.285714</td>\n",
       "      <td>6.375000e+02</td>\n",
       "      <td>1920.500000</td>\n",
       "      <td>478.992692</td>\n",
       "      <td>4.309448e+02</td>\n",
       "      <td>542.454595</td>\n",
       "      <td>29.500000</td>\n",
       "      <td>31.000000</td>\n",
       "      <td>218.571429</td>\n",
       "    </tr>\n",
       "    <tr>\n",
       "      <th>7</th>\n",
       "      <td>19.648947</td>\n",
       "      <td>35.027632</td>\n",
       "      <td>19.248816</td>\n",
       "      <td>25.496184</td>\n",
       "      <td>666.712028</td>\n",
       "      <td>698.190131</td>\n",
       "      <td>27.013163</td>\n",
       "      <td>3202.457996</td>\n",
       "      <td>7.330789</td>\n",
       "      <td>2.495263e+00</td>\n",
       "      <td>14.197368</td>\n",
       "      <td>715.698321</td>\n",
       "      <td>3.626567e+02</td>\n",
       "      <td>1281.780226</td>\n",
       "      <td>2.749831</td>\n",
       "      <td>4.826711</td>\n",
       "      <td>5.875677</td>\n",
       "    </tr>\n",
       "    <tr>\n",
       "      <th>8</th>\n",
       "      <td>35.790498</td>\n",
       "      <td>76.754722</td>\n",
       "      <td>33.809388</td>\n",
       "      <td>49.414711</td>\n",
       "      <td>535.710590</td>\n",
       "      <td>643.149419</td>\n",
       "      <td>10.368497</td>\n",
       "      <td>3952.651531</td>\n",
       "      <td>15.614359</td>\n",
       "      <td>4.116199e+00</td>\n",
       "      <td>33.578993</td>\n",
       "      <td>505.661207</td>\n",
       "      <td>2.135171e+02</td>\n",
       "      <td>883.837707</td>\n",
       "      <td>4.829913</td>\n",
       "      <td>8.990555</td>\n",
       "      <td>11.394636</td>\n",
       "    </tr>\n",
       "    <tr>\n",
       "      <th>9</th>\n",
       "      <td>1.695167</td>\n",
       "      <td>1.713755</td>\n",
       "      <td>1.676580</td>\n",
       "      <td>1.572491</td>\n",
       "      <td>2689.181094</td>\n",
       "      <td>399.036459</td>\n",
       "      <td>2339.725576</td>\n",
       "      <td>3114.318996</td>\n",
       "      <td>0.311206</td>\n",
       "      <td>5.551115e-16</td>\n",
       "      <td>1.565056</td>\n",
       "      <td>555.135615</td>\n",
       "      <td>-7.815970e-14</td>\n",
       "      <td>2846.724249</td>\n",
       "      <td>0.239511</td>\n",
       "      <td>1.204461</td>\n",
       "      <td>0.269782</td>\n",
       "    </tr>\n",
       "  </tbody>\n",
       "</table>\n",
       "</div>\n",
       "      <button class=\"colab-df-convert\" onclick=\"convertToInteractive('df-782723a5-fa5c-408c-be28-e0e4fe9adbf4')\"\n",
       "              title=\"Convert this dataframe to an interactive table.\"\n",
       "              style=\"display:none;\">\n",
       "        \n",
       "  <svg xmlns=\"http://www.w3.org/2000/svg\" height=\"24px\"viewBox=\"0 0 24 24\"\n",
       "       width=\"24px\">\n",
       "    <path d=\"M0 0h24v24H0V0z\" fill=\"none\"/>\n",
       "    <path d=\"M18.56 5.44l.94 2.06.94-2.06 2.06-.94-2.06-.94-.94-2.06-.94 2.06-2.06.94zm-11 1L8.5 8.5l.94-2.06 2.06-.94-2.06-.94L8.5 2.5l-.94 2.06-2.06.94zm10 10l.94 2.06.94-2.06 2.06-.94-2.06-.94-.94-2.06-.94 2.06-2.06.94z\"/><path d=\"M17.41 7.96l-1.37-1.37c-.4-.4-.92-.59-1.43-.59-.52 0-1.04.2-1.43.59L10.3 9.45l-7.72 7.72c-.78.78-.78 2.05 0 2.83L4 21.41c.39.39.9.59 1.41.59.51 0 1.02-.2 1.41-.59l7.78-7.78 2.81-2.81c.8-.78.8-2.07 0-2.86zM5.41 20L4 18.59l7.72-7.72 1.47 1.35L5.41 20z\"/>\n",
       "  </svg>\n",
       "      </button>\n",
       "      \n",
       "  <style>\n",
       "    .colab-df-container {\n",
       "      display:flex;\n",
       "      flex-wrap:wrap;\n",
       "      gap: 12px;\n",
       "    }\n",
       "\n",
       "    .colab-df-convert {\n",
       "      background-color: #E8F0FE;\n",
       "      border: none;\n",
       "      border-radius: 50%;\n",
       "      cursor: pointer;\n",
       "      display: none;\n",
       "      fill: #1967D2;\n",
       "      height: 32px;\n",
       "      padding: 0 0 0 0;\n",
       "      width: 32px;\n",
       "    }\n",
       "\n",
       "    .colab-df-convert:hover {\n",
       "      background-color: #E2EBFA;\n",
       "      box-shadow: 0px 1px 2px rgba(60, 64, 67, 0.3), 0px 1px 3px 1px rgba(60, 64, 67, 0.15);\n",
       "      fill: #174EA6;\n",
       "    }\n",
       "\n",
       "    [theme=dark] .colab-df-convert {\n",
       "      background-color: #3B4455;\n",
       "      fill: #D2E3FC;\n",
       "    }\n",
       "\n",
       "    [theme=dark] .colab-df-convert:hover {\n",
       "      background-color: #434B5C;\n",
       "      box-shadow: 0px 1px 3px 1px rgba(0, 0, 0, 0.15);\n",
       "      filter: drop-shadow(0px 1px 2px rgba(0, 0, 0, 0.3));\n",
       "      fill: #FFFFFF;\n",
       "    }\n",
       "  </style>\n",
       "\n",
       "      <script>\n",
       "        const buttonEl =\n",
       "          document.querySelector('#df-782723a5-fa5c-408c-be28-e0e4fe9adbf4 button.colab-df-convert');\n",
       "        buttonEl.style.display =\n",
       "          google.colab.kernel.accessAllowed ? 'block' : 'none';\n",
       "\n",
       "        async function convertToInteractive(key) {\n",
       "          const element = document.querySelector('#df-782723a5-fa5c-408c-be28-e0e4fe9adbf4');\n",
       "          const dataTable =\n",
       "            await google.colab.kernel.invokeFunction('convertToInteractive',\n",
       "                                                     [key], {});\n",
       "          if (!dataTable) return;\n",
       "\n",
       "          const docLinkHtml = 'Like what you see? Visit the ' +\n",
       "            '<a target=\"_blank\" href=https://colab.research.google.com/notebooks/data_table.ipynb>data table notebook</a>'\n",
       "            + ' to learn more about interactive tables.';\n",
       "          element.innerHTML = '';\n",
       "          dataTable['output_type'] = 'display_data';\n",
       "          await google.colab.output.renderOutput(dataTable, element);\n",
       "          const docLink = document.createElement('div');\n",
       "          docLink.innerHTML = docLinkHtml;\n",
       "          element.appendChild(docLink);\n",
       "        }\n",
       "      </script>\n",
       "    </div>\n",
       "  </div>\n",
       "  "
      ],
      "text/plain": [
       "  receipt_unique      product receipt_date application retail_price  \\\n",
       "         nunique      nunique      nunique     nunique         mean   \n",
       "0       6.292654    12.396880     6.175636   10.393534  1018.351958   \n",
       "1     118.032468   429.188312    80.519481  166.246753   547.839797   \n",
       "2       8.097872    15.137234     7.902128   11.996277  2123.507656   \n",
       "3      13.298842    28.684389    12.994886   21.921755   497.182179   \n",
       "4     367.750000  1704.125000   167.500000  299.000000   559.901976   \n",
       "5       4.787002    10.562989     4.712768    8.893462   458.792168   \n",
       "6    1129.500000  2725.500000   206.500000  354.000000   477.814239   \n",
       "7      19.648947    35.027632    19.248816   25.496184   666.712028   \n",
       "8      35.790498    76.754722    33.809388   49.414711   535.710590   \n",
       "9       1.695167     1.713755     1.676580    1.572491  2689.181094   \n",
       "\n",
       "                                          mean_purch_month min_purch_month  \\\n",
       "           std          min           max                                    \n",
       "0  1120.650125   104.169469   3708.528382         2.181912    1.775787e-02   \n",
       "1   793.219281     4.920130   8912.911948        84.772727    2.205195e+01   \n",
       "2  3320.466316   111.492255  11466.031665         2.912158    2.260638e-01   \n",
       "3   504.897202    23.878661   2223.788652         5.197307    2.083772e-01   \n",
       "4   790.181312     4.031250  15512.203750       538.500000    2.021250e+02   \n",
       "5   382.514579    78.038244   1263.284971         1.731118    6.748534e-03   \n",
       "6   735.758229     5.245000  22591.755000      1198.285714    6.375000e+02   \n",
       "7   698.190131    27.013163   3202.457996         7.330789    2.495263e+00   \n",
       "8   643.149419    10.368497   3952.651531        15.614359    4.116199e+00   \n",
       "9   399.036459  2339.725576   3114.318996         0.311206    5.551115e-16   \n",
       "\n",
       "  max_purch_month mean_price_month min_price_month max_price_month  \\\n",
       "                                                                     \n",
       "0        6.994710       598.758372    2.592707e+00     2004.198920   \n",
       "1      182.974026       524.629638    2.815929e+02      839.926801   \n",
       "2        8.223404      1439.590066    6.117137e+01     5494.919414   \n",
       "3       13.935629       383.867873    1.733989e+01      871.745644   \n",
       "4      881.750000       562.757622    4.543415e+02      643.181963   \n",
       "5        6.458189       206.249309    8.871642e-01      688.263068   \n",
       "6     1920.500000       478.992692    4.309448e+02      542.454595   \n",
       "7       14.197368       715.698321    3.626567e+02     1281.780226   \n",
       "8       33.578993       505.661207    2.135171e+02      883.837707   \n",
       "9        1.565056       555.135615   -7.815970e-14     2846.724249   \n",
       "\n",
       "  mean_days_month max_days_month mean_app_month  \n",
       "                                                 \n",
       "0        0.882234       2.419442       1.874330  \n",
       "1       11.502783      18.870130      47.561224  \n",
       "2        1.128875       2.776064       2.402736  \n",
       "3        1.856412       4.469845       4.236378  \n",
       "4       23.928571      28.125000     155.517857  \n",
       "5        0.673253       2.188801       1.489767  \n",
       "6       29.500000      31.000000     218.571429  \n",
       "7        2.749831       4.826711       5.875677  \n",
       "8        4.829913       8.990555      11.394636  \n",
       "9        0.239511       1.204461       0.269782  "
      ]
     },
     "execution_count": 34,
     "metadata": {},
     "output_type": "execute_result"
    }
   ],
   "source": [
    "pd.DataFrame(\n",
    "    scaler.inverse_transform(clustering.cluster_centers_), columns=gb_train.columns\n",
    ")"
   ]
  },
  {
   "cell_type": "markdown",
   "metadata": {
    "id": "l571C72c8LCO"
   },
   "source": [
    "## Модель 1.1. Рекомендательная система"
   ]
  },
  {
   "cell_type": "code",
   "execution_count": null,
   "metadata": {
    "id": "uZTUi939D1Xo"
   },
   "outputs": [],
   "source": [
    "# !pip install lightfm"
   ]
  },
  {
   "cell_type": "code",
   "execution_count": null,
   "metadata": {
    "id": "Qtyn38PZXPLf"
   },
   "outputs": [],
   "source": [
    "from lightfm import LightFM\n",
    "from lightfm.evaluation import precision_at_k, recall_at_k"
   ]
  },
  {
   "cell_type": "markdown",
   "metadata": {
    "id": "UHK_9sknOSP7"
   },
   "source": [
    "Создадим датасеты с взаимодействием покупателя с применением, где сила взаимодействия - количество раз, которое покупатель купил это применение"
   ]
  },
  {
   "cell_type": "code",
   "execution_count": null,
   "metadata": {
    "id": "Fcj2mk7m4Wom"
   },
   "outputs": [],
   "source": [
    "interactions_train = (\n",
    "    train_data.groupby([\"card_num\", \"application\"])\n",
    "    .size()\n",
    "    .unstack()\n",
    "    .fillna(0)\n",
    "    .stack()\n",
    "    .reset_index()\n",
    ")\n",
    "interactions_train = interactions_train.rename(columns={0: \"event_strength\"})\n",
    "interactions_train = interactions_train[interactions_train[\"event_strength\"] != 0]"
   ]
  },
  {
   "cell_type": "code",
   "execution_count": null,
   "metadata": {
    "id": "OaseeJOqAZAC"
   },
   "outputs": [],
   "source": [
    "interactions_test = (\n",
    "    test_data[np.in1d(test_data[\"card_num\"], train_data[\"card_num\"])]\n",
    "    .groupby([\"card_num\", \"application\"])\n",
    "    .size()\n",
    "    .unstack()\n",
    "    .fillna(0)\n",
    "    .stack()\n",
    "    .reset_index()\n",
    ")\n",
    "interactions_test = interactions_test.rename(columns={0: \"event_strength\"})\n",
    "interactions_test = interactions_test[interactions_test[\"event_strength\"] != 0]"
   ]
  },
  {
   "cell_type": "code",
   "execution_count": null,
   "metadata": {
    "colab": {
     "base_uri": "https://localhost:8080/"
    },
    "id": "Fp_RQXl04qni",
    "outputId": "18a5d4eb-1c76-429a-d548-58f36ceb0e51"
   },
   "outputs": [
    {
     "data": {
      "text/plain": [
       "((1756412, 3), (280207, 3))"
      ]
     },
     "execution_count": 39,
     "metadata": {},
     "output_type": "execute_result"
    }
   ],
   "source": [
    "interactions_train.shape, interactions_test.shape"
   ]
  },
  {
   "cell_type": "markdown",
   "metadata": {
    "id": "IxvgjPMROhlj"
   },
   "source": [
    "Создадим список уникальных применений и загрузим все данные в датасет для создания разреженных матриц"
   ]
  },
  {
   "cell_type": "code",
   "execution_count": null,
   "metadata": {
    "id": "2nT2tZxwFrGR"
   },
   "outputs": [],
   "source": [
    "applications = data_relevant[\"application\"].unique()"
   ]
  },
  {
   "cell_type": "code",
   "execution_count": null,
   "metadata": {
    "id": "FTHNhrG7AUs5"
   },
   "outputs": [],
   "source": [
    "from lightfm.data import Dataset\n",
    "\n",
    "dataset = Dataset()\n",
    "dataset.fit_partial(users=(x for x in gb_train.index), items=(x for x in applications))\n",
    "\n",
    "train_interactions, train_weights = dataset.build_interactions(\n",
    "    [tuple(i) for i in interactions_train.to_numpy()]\n",
    ")\n",
    "\n",
    "test_interactions, test_weights = dataset.build_interactions(\n",
    "    [tuple(i) for i in interactions_test.to_numpy()]\n",
    ")"
   ]
  },
  {
   "cell_type": "code",
   "execution_count": null,
   "metadata": {
    "id": "FXlCNZwLCy1M"
   },
   "outputs": [],
   "source": [
    "import scipy.sparse as sp\n",
    "\n",
    "user_features = sp.csr_matrix(clust_train)"
   ]
  },
  {
   "cell_type": "markdown",
   "metadata": {
    "id": "kojFBUjxOvcq"
   },
   "source": [
    "Поскольку сила взаимодейтсвия - это целое число от 0 до бексконечности, модель может получиться не очень хорошей, поэтому отмасштабируем данные"
   ]
  },
  {
   "cell_type": "code",
   "execution_count": null,
   "metadata": {
    "id": "8VRGSWSxJomT"
   },
   "outputs": [],
   "source": [
    "scaler = StandardScaler()\n",
    "scaled_tr_weights = sp.csr_matrix(scaler.fit_transform(train_weights.toarray()))\n",
    "scaled_test_weights = sp.csr_matrix(scaler.transform(test_weights.toarray()))"
   ]
  },
  {
   "cell_type": "code",
   "execution_count": null,
   "metadata": {
    "colab": {
     "base_uri": "https://localhost:8080/"
    },
    "id": "JQdk44-09FPh",
    "outputId": "d8f06799-f76d-4601-db31-978513ac2b50"
   },
   "outputs": [
    {
     "data": {
      "text/plain": [
       "<lightfm.lightfm.LightFM at 0x7f79a1ebe7d0>"
      ]
     },
     "execution_count": 44,
     "metadata": {},
     "output_type": "execute_result"
    }
   ],
   "source": [
    "model = LightFM(loss=\"warp\", random_state=42)\n",
    "model.fit(train_weights, user_features=user_features, epochs=10)"
   ]
  },
  {
   "cell_type": "markdown",
   "metadata": {
    "id": "PSEVl6tvO9yQ"
   },
   "source": [
    "Измерим precision и recall"
   ]
  },
  {
   "cell_type": "code",
   "execution_count": null,
   "metadata": {
    "colab": {
     "base_uri": "https://localhost:8080/"
    },
    "id": "6TyiX0tpG8lJ",
    "outputId": "5543c1b7-60ac-455d-cab5-c1aa4260669a"
   },
   "outputs": [
    {
     "data": {
      "text/plain": [
       "(0.122051276, 0.14883259715654718)"
      ]
     },
     "execution_count": 45,
     "metadata": {},
     "output_type": "execute_result"
    }
   ],
   "source": [
    "pr = precision_at_k(\n",
    "    model=model, test_interactions=test_interactions, k=5, user_features=user_features\n",
    ").mean()\n",
    "rec = recall_at_k(\n",
    "    model=model, test_interactions=test_interactions, k=5, user_features=user_features\n",
    ").mean()\n",
    "pr, rec"
   ]
  },
  {
   "cell_type": "markdown",
   "metadata": {
    "id": "VM5eAcPMPEn3"
   },
   "source": [
    "Теперь реализуем функцию, измеряющую качество "
   ]
  },
  {
   "cell_type": "code",
   "execution_count": null,
   "metadata": {
    "id": "lDsBk2s4LQY6"
   },
   "outputs": [],
   "source": [
    "ranks = model.predict_rank(train_interactions, user_features=user_features)\n",
    "ranks = ranks.toarray()"
   ]
  },
  {
   "cell_type": "code",
   "execution_count": null,
   "metadata": {
    "id": "ELqLbiAlLnH-"
   },
   "outputs": [],
   "source": [
    "import scipy.sparse as sp"
   ]
  },
  {
   "cell_type": "code",
   "execution_count": null,
   "metadata": {
    "colab": {
     "base_uri": "https://localhost:8080/"
    },
    "id": "1A_n1z14M8p2",
    "outputId": "3037efd1-1238-4905-eee6-48ab7132e235"
   },
   "outputs": [
    {
     "data": {
      "text/plain": [
       "(121803, 634)"
      ]
     },
     "execution_count": 92,
     "metadata": {},
     "output_type": "execute_result"
    }
   ],
   "source": [
    "train_weights.shape"
   ]
  },
  {
   "cell_type": "code",
   "execution_count": null,
   "metadata": {
    "colab": {
     "base_uri": "https://localhost:8080/"
    },
    "id": "J232QNFzI-Jh",
    "outputId": "0546aac3-3a35-44e9-8bbb-540d5e6a6cad"
   },
   "outputs": [
    {
     "data": {
      "text/plain": [
       "237.7258"
      ]
     },
     "execution_count": 102,
     "metadata": {},
     "output_type": "execute_result"
    }
   ],
   "source": [
    "uid_array = np.repeat([2], applications.shape[0])\n",
    "model.predict(1111, np.arange(0, 634), user_features=user_features, num_threads=4).max()"
   ]
  },
  {
   "cell_type": "code",
   "execution_count": null,
   "metadata": {
    "colab": {
     "base_uri": "https://localhost:8080/"
    },
    "id": "va1RTattLjOH",
    "outputId": "f13bbf97-ab78-459c-a307-55f94dc75cbf"
   },
   "outputs": [
    {
     "data": {
      "text/plain": [
       "(634, 10)"
      ]
     },
     "execution_count": 80,
     "metadata": {},
     "output_type": "execute_result"
    }
   ],
   "source": [
    "model.item_embeddings.shape"
   ]
  },
  {
   "cell_type": "code",
   "execution_count": null,
   "metadata": {
    "colab": {
     "base_uri": "https://localhost:8080/"
    },
    "id": "RH_cWWUeOkVy",
    "outputId": "1204d1dd-cfe4-4981-f15b-e62fed7ed25b"
   },
   "outputs": [
    {
     "data": {
      "text/plain": [
       "array([379932, 379411, 379841, 379937, 379934, 379414, 379930, 379921,\n",
       "       379936])"
      ]
     },
     "execution_count": 70,
     "metadata": {},
     "output_type": "execute_result"
    }
   ],
   "source": [
    "applications[np.argwhere((ranks[0] > 0) & (ranks[0] <= 10))].reshape(1, -1)[0]"
   ]
  },
  {
   "cell_type": "code",
   "execution_count": null,
   "metadata": {
    "colab": {
     "base_uri": "https://localhost:8080/"
    },
    "id": "VnXheYlBM6xt",
    "outputId": "a0aa2c28-558e-440a-d09d-3d86d1f0de67"
   },
   "outputs": [
    {
     "data": {
      "text/plain": [
       "280207"
      ]
     },
     "execution_count": 125,
     "metadata": {},
     "output_type": "execute_result"
    }
   ],
   "source": [
    "count_nonzero(ranks.toarray())"
   ]
  },
  {
   "cell_type": "code",
   "execution_count": null,
   "metadata": {
    "colab": {
     "base_uri": "https://localhost:8080/",
     "height": 433
    },
    "id": "dw2rrWR_K6Xs",
    "outputId": "ad16e6d8-0626-4442-e961-0e4611b38d84"
   },
   "outputs": [
    {
     "ename": "ValueError",
     "evalue": "ignored",
     "output_type": "error",
     "traceback": [
      "\u001b[0;31m---------------------------------------------------------------------------\u001b[0m",
      "\u001b[0;31mValueError\u001b[0m                                Traceback (most recent call last)",
      "\u001b[0;32m<ipython-input-104-57ddd40adddd>\u001b[0m in \u001b[0;36m<module>\u001b[0;34m()\u001b[0m\n\u001b[0;32m----> 1\u001b[0;31m \u001b[0mmodel\u001b[0m\u001b[0;34m.\u001b[0m\u001b[0mpredict\u001b[0m\u001b[0;34m(\u001b[0m\u001b[0muser_ids\u001b[0m\u001b[0;34m=\u001b[0m\u001b[0;36m2\u001b[0m\u001b[0;34m,\u001b[0m \u001b[0mitem_ids\u001b[0m\u001b[0;34m=\u001b[0m\u001b[0mapplications\u001b[0m\u001b[0;34m)\u001b[0m\u001b[0;34m\u001b[0m\u001b[0;34m\u001b[0m\u001b[0m\n\u001b[0m",
      "\u001b[0;32m/usr/local/lib/python3.7/dist-packages/lightfm/lightfm.py\u001b[0m in \u001b[0;36mpredict\u001b[0;34m(self, user_ids, item_ids, item_features, user_features, num_threads)\u001b[0m\n\u001b[1;32m    816\u001b[0m \u001b[0;34m\u001b[0m\u001b[0m\n\u001b[1;32m    817\u001b[0m         (user_features, item_features) = self._construct_feature_matrices(\n\u001b[0;32m--> 818\u001b[0;31m             \u001b[0mn_users\u001b[0m\u001b[0;34m,\u001b[0m \u001b[0mn_items\u001b[0m\u001b[0;34m,\u001b[0m \u001b[0muser_features\u001b[0m\u001b[0;34m,\u001b[0m \u001b[0mitem_features\u001b[0m\u001b[0;34m\u001b[0m\u001b[0;34m\u001b[0m\u001b[0m\n\u001b[0m\u001b[1;32m    819\u001b[0m         )\n\u001b[1;32m    820\u001b[0m \u001b[0;34m\u001b[0m\u001b[0m\n",
      "\u001b[0;32m/usr/local/lib/python3.7/dist-packages/lightfm/lightfm.py\u001b[0m in \u001b[0;36m_construct_feature_matrices\u001b[0;34m(self, n_users, n_items, user_features, item_features)\u001b[0m\n\u001b[1;32m    337\u001b[0m                     \u001b[0;34m\"features than there are estimated \"\u001b[0m\u001b[0;34m\u001b[0m\u001b[0;34m\u001b[0m\u001b[0m\n\u001b[1;32m    338\u001b[0m                     \"feature embeddings: {} vs {}.\".format(\n\u001b[0;32m--> 339\u001b[0;31m                         \u001b[0mself\u001b[0m\u001b[0;34m.\u001b[0m\u001b[0mitem_embeddings\u001b[0m\u001b[0;34m.\u001b[0m\u001b[0mshape\u001b[0m\u001b[0;34m[\u001b[0m\u001b[0;36m0\u001b[0m\u001b[0;34m]\u001b[0m\u001b[0;34m,\u001b[0m \u001b[0mitem_features\u001b[0m\u001b[0;34m.\u001b[0m\u001b[0mshape\u001b[0m\u001b[0;34m[\u001b[0m\u001b[0;36m1\u001b[0m\u001b[0;34m]\u001b[0m\u001b[0;34m\u001b[0m\u001b[0;34m\u001b[0m\u001b[0m\n\u001b[0m\u001b[1;32m    340\u001b[0m                     )\n\u001b[1;32m    341\u001b[0m                 )\n",
      "\u001b[0;31mValueError\u001b[0m: The item feature matrix specifies more features than there are estimated feature embeddings: 634 vs 380051."
     ]
    }
   ],
   "source": [
    "model.predict(user_ids=2, item_ids=applications)"
   ]
  },
  {
   "cell_type": "code",
   "execution_count": null,
   "metadata": {
    "colab": {
     "base_uri": "https://localhost:8080/",
     "height": 450
    },
    "id": "rR2tL1QcCqha",
    "outputId": "44d6d3e9-343d-4676-f60a-cea51cb6c104"
   },
   "outputs": [
    {
     "ename": "ValueError",
     "evalue": "ignored",
     "output_type": "error",
     "traceback": [
      "\u001b[0;31m---------------------------------------------------------------------------\u001b[0m",
      "\u001b[0;31mValueError\u001b[0m                                Traceback (most recent call last)",
      "\u001b[0;32m<ipython-input-99-7cca295bbe16>\u001b[0m in \u001b[0;36m<module>\u001b[0;34m()\u001b[0m\n\u001b[0;32m----> 1\u001b[0;31m \u001b[0mmodel\u001b[0m\u001b[0;34m.\u001b[0m\u001b[0mpredict_rank\u001b[0m\u001b[0;34m(\u001b[0m\u001b[0mtest_interactions\u001b[0m\u001b[0;34m,\u001b[0m \u001b[0mtrain_interactions\u001b[0m\u001b[0;34m)\u001b[0m\u001b[0;34m\u001b[0m\u001b[0;34m\u001b[0m\u001b[0m\n\u001b[0m",
      "\u001b[0;32m/usr/local/lib/python3.7/dist-packages/lightfm/lightfm.py\u001b[0m in \u001b[0;36mpredict_rank\u001b[0;34m(self, test_interactions, train_interactions, item_features, user_features, num_threads, check_intersections)\u001b[0m\n\u001b[1;32m    906\u001b[0m \u001b[0;34m\u001b[0m\u001b[0m\n\u001b[1;32m    907\u001b[0m         \u001b[0;32mif\u001b[0m \u001b[0mcheck_intersections\u001b[0m\u001b[0;34m:\u001b[0m\u001b[0;34m\u001b[0m\u001b[0;34m\u001b[0m\u001b[0m\n\u001b[0;32m--> 908\u001b[0;31m             \u001b[0mself\u001b[0m\u001b[0;34m.\u001b[0m\u001b[0m_check_test_train_intersections\u001b[0m\u001b[0;34m(\u001b[0m\u001b[0mtest_interactions\u001b[0m\u001b[0;34m,\u001b[0m \u001b[0mtrain_interactions\u001b[0m\u001b[0;34m)\u001b[0m\u001b[0;34m\u001b[0m\u001b[0;34m\u001b[0m\u001b[0m\n\u001b[0m\u001b[1;32m    909\u001b[0m \u001b[0;34m\u001b[0m\u001b[0m\n\u001b[1;32m    910\u001b[0m         \u001b[0mn_users\u001b[0m\u001b[0;34m,\u001b[0m \u001b[0mn_items\u001b[0m \u001b[0;34m=\u001b[0m \u001b[0mtest_interactions\u001b[0m\u001b[0;34m.\u001b[0m\u001b[0mshape\u001b[0m\u001b[0;34m\u001b[0m\u001b[0;34m\u001b[0m\u001b[0m\n",
      "\u001b[0;32m/usr/local/lib/python3.7/dist-packages/lightfm/lightfm.py\u001b[0m in \u001b[0;36m_check_test_train_intersections\u001b[0;34m(self, test_mat, train_mat)\u001b[0m\n\u001b[1;32m    842\u001b[0m                     \u001b[0;34m\"Test interactions matrix and train interactions \"\u001b[0m\u001b[0;34m\u001b[0m\u001b[0;34m\u001b[0m\u001b[0m\n\u001b[1;32m    843\u001b[0m                     \u001b[0;34m\"matrix share %d interactions. This will cause \"\u001b[0m\u001b[0;34m\u001b[0m\u001b[0;34m\u001b[0m\u001b[0m\n\u001b[0;32m--> 844\u001b[0;31m                     \u001b[0;34m\"incorrect evaluation, check your data split.\"\u001b[0m \u001b[0;34m%\u001b[0m \u001b[0mn_intersections\u001b[0m\u001b[0;34m\u001b[0m\u001b[0;34m\u001b[0m\u001b[0m\n\u001b[0m\u001b[1;32m    845\u001b[0m                 )\n\u001b[1;32m    846\u001b[0m \u001b[0;34m\u001b[0m\u001b[0m\n",
      "\u001b[0;31mValueError\u001b[0m: Test interactions matrix and train interactions matrix share 122822 interactions. This will cause incorrect evaluation, check your data split."
     ]
    }
   ],
   "source": [
    "model.predict_rank(test_interactions, train_interactions)"
   ]
  },
  {
   "cell_type": "code",
   "execution_count": null,
   "metadata": {
    "colab": {
     "base_uri": "https://localhost:8080/"
    },
    "id": "rl5D4BbGIA9t",
    "outputId": "96a8a7eb-dcd6-40df-c0f7-169737e326db"
   },
   "outputs": [
    {
     "data": {
      "text/plain": [
       "(1756412,)"
      ]
     },
     "execution_count": 74,
     "metadata": {},
     "output_type": "execute_result"
    }
   ],
   "source": [
    "train_weights.row.shape"
   ]
  },
  {
   "cell_type": "code",
   "execution_count": null,
   "metadata": {
    "id": "WlvZTC_YCtzY"
   },
   "outputs": [],
   "source": []
  }
 ],
 "metadata": {
  "colab": {
   "name": "project_sem_models.ipynb",
   "provenance": []
  },
  "kernelspec": {
   "display_name": "Python 3 (ipykernel)",
   "language": "python",
   "name": "python3"
  },
  "language_info": {
   "codemirror_mode": {
    "name": "ipython",
    "version": 3
   },
   "file_extension": ".py",
   "mimetype": "text/x-python",
   "name": "python",
   "nbconvert_exporter": "python",
   "pygments_lexer": "ipython3",
   "version": "3.8.5"
  }
 },
 "nbformat": 4,
 "nbformat_minor": 4
}
