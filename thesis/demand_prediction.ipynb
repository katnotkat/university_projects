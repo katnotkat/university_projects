{
 "cells": [
  {
   "cell_type": "markdown",
   "id": "6ca08e98",
   "metadata": {},
   "source": [
    "# Модель предсказания спроса "
   ]
  },
  {
   "cell_type": "markdown",
   "id": "ace09cc1",
   "metadata": {},
   "source": [
    "## Сбор данных\n",
    "\n",
    "Нам необходимо собрать данные, которые могут характеризовать изменения спроса за неделю до его прогноза. Вот, что нам точно будет нужно:\n",
    "* данные о спросе за неделю до прогноза\n",
    "* прогнозируемые бронирования за неделю до прогноза - на неделе? \n",
    "    * в каждый из дней - сколько бронирований, у скольких прогноз +, сколько человек (из тех, кто приехал/приедет) уедут\n",
    "* данные о спросе год назад в эту дату\n",
    "* изменение спроса в этот день недели за два месяца?\n",
    "* данные о дате - день, месяц, год, день недели, номер недели\n",
    "\n",
    "И все это надо будет собрать для двух отелей"
   ]
  },
  {
   "cell_type": "code",
   "execution_count": 679,
   "id": "7ef1a3e2",
   "metadata": {
    "collapsed": true
   },
   "outputs": [
    {
     "name": "stdout",
     "output_type": "stream",
     "text": [
      "Collecting hypopt\n",
      "  Downloading hypopt-1.0.9-py2.py3-none-any.whl (13 kB)\n",
      "Requirement already satisfied: numpy>=1.11.3 in /Users/katyona/Desktop/University/proga/iad/notebooks/lib/python3.8/site-packages (from hypopt) (1.21.3)\n",
      "Requirement already satisfied: scikit-learn>=0.18 in /Users/katyona/Desktop/University/proga/iad/notebooks/lib/python3.8/site-packages (from hypopt) (1.0.1)\n",
      "Requirement already satisfied: scipy>=1.1.0 in /Users/katyona/Desktop/University/proga/iad/notebooks/lib/python3.8/site-packages (from scikit-learn>=0.18->hypopt) (1.7.1)\n",
      "Requirement already satisfied: threadpoolctl>=2.0.0 in /Users/katyona/Desktop/University/proga/iad/notebooks/lib/python3.8/site-packages (from scikit-learn>=0.18->hypopt) (3.0.0)\n",
      "Requirement already satisfied: joblib>=0.11 in /Users/katyona/Desktop/University/proga/iad/notebooks/lib/python3.8/site-packages (from scikit-learn>=0.18->hypopt) (1.1.0)\n",
      "Installing collected packages: hypopt\n",
      "Successfully installed hypopt-1.0.9\n",
      "\u001b[33mWARNING: You are using pip version 22.0.4; however, version 23.1.2 is available.\n",
      "You should consider upgrading via the '/Users/katyona/Desktop/University/proga/iad/notebooks/bin/python3 -m pip install --upgrade pip' command.\u001b[0m\u001b[33m\n",
      "\u001b[0m"
     ]
    }
   ],
   "source": [
    "# !pip install hypopt"
   ]
  },
  {
   "cell_type": "code",
   "execution_count": 803,
   "id": "c7dc54ba",
   "metadata": {},
   "outputs": [],
   "source": [
    "import pandas as pd\n",
    "import numpy as np\n",
    "import matplotlib.pyplot as plt\n",
    "import seaborn as sns\n",
    "import matplotlib.dates as mdates\n",
    "import pickle\n",
    "\n",
    "from sklearn.linear_model import LogisticRegression, LinearRegression, Ridge, Lasso\n",
    "from sklearn.tree import DecisionTreeRegressor\n",
    "from sklearn.ensemble import RandomForestClassifier, RandomForestRegressor\n",
    "from xgboost import XGBClassifier, XGBRegressor\n",
    "from sklearn.ensemble import ExtraTreesClassifier\n",
    "from sklearn.ensemble import VotingClassifier\n",
    "\n",
    "from sklearn.metrics import roc_auc_score, roc_curve, fbeta_score, mean_squared_error, mean_absolute_error\n",
    "from sklearn.metrics import accuracy_score, confusion_matrix, classification_report, mean_absolute_percentage_error\n",
    "from sklearn.model_selection import train_test_split, GridSearchCV, cross_val_score, PredefinedSplit\n",
    "from sklearn.preprocessing import StandardScaler\n",
    "from sklearn.metrics import make_scorer\n",
    "\n",
    "from data_preprocessing import *\n",
    "\n",
    "import folium\n",
    "from folium.plugins import HeatMap\n",
    "import plotly.express as px\n",
    "\n",
    "%config InlineBackend.figure_format = 'retina'\n",
    "%matplotlib inline\n",
    "plt.rcParams.update(plt.rcParamsDefault)\n",
    "plt.rcParams['font.size'] = 12\n",
    "sns.set(style=\"darkgrid\")\n",
    "plt.rcParams['axes.prop_cycle'] = plt.style.library['bmh']['axes.prop_cycle']"
   ]
  },
  {
   "cell_type": "code",
   "execution_count": 546,
   "id": "c584055d",
   "metadata": {},
   "outputs": [],
   "source": [
    "city_or = pd.read_csv('city_or.csv').rename(columns={'Unnamed: 0': 'date'})\n",
    "resort_or = pd.read_csv('resort_or.csv').rename(columns={'Unnamed: 0': 'date'})\n",
    "occupancy_rate = pd.read_csv('occupancy_rate.csv').rename(columns={'Unnamed: 0': 'date'})\n",
    "\n",
    "data_train = pd.read_csv('data_train.csv')"
   ]
  },
  {
   "cell_type": "code",
   "execution_count": 548,
   "id": "e5445f3f",
   "metadata": {},
   "outputs": [],
   "source": [
    "date_of_arrival = pd.to_datetime(\n",
    "    data_train['arrival_date_year'].astype(str)  + \\\n",
    "    data_train['arrival_date_month'] + \\\n",
    "    data_train['arrival_date_day_of_month'].astype(str), \n",
    "    format='%Y%B%d'\n",
    ")\n",
    "\n",
    "data_train['arrival_date'] = date_of_arrival.dt.date"
   ]
  },
  {
   "cell_type": "code",
   "execution_count": 654,
   "id": "93038494",
   "metadata": {},
   "outputs": [
    {
     "name": "stderr",
     "output_type": "stream",
     "text": [
      "/Users/katyona/Desktop/University/proga/iad/notebooks/lib/python3.8/site-packages/pandas/core/arrays/datetimelike.py:1187: PerformanceWarning: Adding/subtracting object-dtype array to TimedeltaArray not vectorized\n",
      "  warnings.warn(\n"
     ]
    }
   ],
   "source": [
    "data_train['checkout_date'] = data_train['arrival_date'] + \\\n",
    "pd.to_timedelta((data_train['stays_in_week_nights'] + data_train['stays_in_weekend_nights']), unit='d')\n",
    "data_train['people_total'] = data_train['adults'] + data_train['children'] + data_train['babies']\n",
    "\n",
    "data_train['booking_date'] = data_train['arrival_date'] - pd.to_timedelta(data_train['lead_time'], unit='d')"
   ]
  },
  {
   "cell_type": "code",
   "execution_count": 550,
   "id": "b35b662f",
   "metadata": {},
   "outputs": [],
   "source": [
    "city_or['date'] = pd.to_datetime(city_or['date']).dt.date\n",
    "resort_or['date'] = pd.to_datetime(resort_or['date']).dt.date\n",
    "occupancy_rate['date'] = pd.to_datetime(occupancy_rate['date']).dt.date"
   ]
  },
  {
   "cell_type": "markdown",
   "id": "0d37ee17",
   "metadata": {},
   "source": [
    "ТУТ НАДО БУДЕТ ВСТАВИТЬ ВЕСЬ АНАЛИЗ ДАННЫХ "
   ]
  },
  {
   "cell_type": "markdown",
   "id": "02ade353",
   "metadata": {},
   "source": [
    "## Обзор данных и создание нового датасета"
   ]
  },
  {
   "cell_type": "markdown",
   "id": "068bc386",
   "metadata": {},
   "source": [
    "`data_train` - это очищенный датасет с бронированиями в двух отелях. Из изначального датасета в результате очистки были удалены несоответствия и пустые значения, а также нерелевантные для обуечния и рассмотрения данные, которые мы заново добавили для удобства в самом начале этой тетрадки"
   ]
  },
  {
   "cell_type": "code",
   "execution_count": 551,
   "id": "0f662778",
   "metadata": {},
   "outputs": [
    {
     "data": {
      "text/plain": [
       "Index(['hotel', 'is_canceled', 'lead_time', 'arrival_date_year',\n",
       "       'arrival_date_month', 'arrival_date_week_number',\n",
       "       'arrival_date_day_of_month', 'stays_in_weekend_nights',\n",
       "       'stays_in_week_nights', 'adults', 'children', 'babies', 'meal',\n",
       "       'market_segment', 'distribution_channel', 'is_repeated_guest',\n",
       "       'previous_cancellations', 'previous_bookings_not_canceled',\n",
       "       'reserved_room_type', 'booking_changes', 'deposit_type', 'agent',\n",
       "       'company', 'customer_type', 'adr', 'required_car_parking_spaces',\n",
       "       'total_of_special_requests', 'arrival_date', 'checkout_date',\n",
       "       'people_total'],\n",
       "      dtype='object')"
      ]
     },
     "execution_count": 551,
     "metadata": {},
     "output_type": "execute_result"
    }
   ],
   "source": [
    "data_train.columns"
   ]
  },
  {
   "cell_type": "markdown",
   "id": "67b9f530",
   "metadata": {},
   "source": [
    "Чтобы обучить модель на достоверных данных, то есть с реальными предсказаниями отмен, необходимо будет поделить всю выборку на несколько частей:\n",
    "1. Часть выборки, на которой будет обучаться модель предсказания отмены бронирований\n",
    "2. Часть выборки, на которой будет обучаться модель предсказания спроса\n",
    "3. Часть выборки, на которой будет происходить валидация модели предсказания спроса\n",
    "4. Тестовая часть для проверки работоспособности модели предсказания спроса\n",
    "\n",
    "Можно поделить выборку пополам.\n",
    "На более ранней половине обучить модель прогнозирования отмены, а более позднюю половину разбить на треин, валидацию и тест"
   ]
  },
  {
   "cell_type": "code",
   "execution_count": 552,
   "id": "fbc1c72e",
   "metadata": {},
   "outputs": [
    {
     "data": {
      "text/plain": [
       "Timestamp('2016-09-07 00:00:00')"
      ]
     },
     "execution_count": 552,
     "metadata": {},
     "output_type": "execute_result"
    }
   ],
   "source": [
    "date_of_arrival.quantile(0.5, interpolation=\"midpoint\")"
   ]
  },
  {
   "cell_type": "code",
   "execution_count": 298,
   "id": "f13342a4",
   "metadata": {},
   "outputs": [
    {
     "data": {
      "image/png": "[encoded data removed]",
      "text/plain": [
       "<Figure size 1600x600 with 1 Axes>"
      ]
     },
     "metadata": {
      "image/png": {
       "height": 551,
       "width": 1335
      }
     },
     "output_type": "display_data"
    }
   ],
   "source": [
    "plt.figure(figsize=(16, 6))\n",
    "\n",
    "plt.hist(date_of_arrival, bins=date_of_arrival.nunique(), lw=0)\n",
    "plt.axvline(x=date_of_arrival.quantile(0.5, interpolation=\"midpoint\"), color='red', label='медиана')\n",
    "\n",
    "plt.legend(loc='upper right')\n",
    "plt.xlabel('Дата')\n",
    "plt.ylabel('Количество записей')\n",
    "plt.title('Распределение бронирований по датам')\n",
    "\n",
    "plt.show()"
   ]
  },
  {
   "cell_type": "code",
   "execution_count": 486,
   "id": "8ca147af",
   "metadata": {},
   "outputs": [
    {
     "data": {
      "text/plain": [
       "(59254,)"
      ]
     },
     "execution_count": 486,
     "metadata": {},
     "output_type": "execute_result"
    }
   ],
   "source": [
    "date_of_arrival[date_of_arrival < date_of_arrival.quantile(0.5, interpolation=\"midpoint\")].shape"
   ]
  },
  {
   "cell_type": "code",
   "execution_count": 553,
   "id": "5000ea19",
   "metadata": {},
   "outputs": [],
   "source": [
    "data_canc = data_train[date_of_arrival < date_of_arrival.quantile(0.5, interpolation=\"midpoint\")]"
   ]
  },
  {
   "cell_type": "code",
   "execution_count": 554,
   "id": "14f63c9b",
   "metadata": {},
   "outputs": [],
   "source": [
    "data_demand = data_train[date_of_arrival >= date_of_arrival.quantile(0.5, interpolation=\"midpoint\")]"
   ]
  },
  {
   "cell_type": "code",
   "execution_count": 555,
   "id": "1bff1cd3",
   "metadata": {},
   "outputs": [],
   "source": [
    "datad_prpr = preprocess(data_demand, cat_encoding='OHE', delete_columns=False)\n",
    "\n",
    "scaler = StandardScaler()\n",
    "scaler.fit(datad_prpr)\n",
    "datad_prpr = scaler.transform(datad_prpr)"
   ]
  },
  {
   "cell_type": "code",
   "execution_count": 37,
   "id": "39c47c75",
   "metadata": {},
   "outputs": [
    {
     "data": {
      "text/plain": [
       "RandomForestClassifier(n_estimators=300)"
      ]
     },
     "execution_count": 37,
     "metadata": {},
     "output_type": "execute_result"
    }
   ],
   "source": [
    "# model = pickle.load(open('random_forest_model.sav', 'rb'))\n",
    "\n",
    "model.fit(datad_prpr, data_demand['is_canceled'])\n"
   ]
  },
  {
   "cell_type": "code",
   "execution_count": 38,
   "id": "87193ada",
   "metadata": {},
   "outputs": [
    {
     "data": {
      "text/plain": [
       "array([0.66014505, 0.49295775, 0.45399342, 0.58438053, 0.71459897])"
      ]
     },
     "execution_count": 38,
     "metadata": {},
     "output_type": "execute_result"
    }
   ],
   "source": [
    "cross_val_score(model, datad_prpr, data_demand['is_canceled'], cv=5, scoring='accuracy')"
   ]
  },
  {
   "cell_type": "markdown",
   "id": "2c3e2d12",
   "metadata": {},
   "source": [
    "Если обучать модель на слишком маленькой выборке, то доля верных ответов получится неудовлетворительной. Значит, попробуем сделать \"финт ушами\" - будем генерировать правильность ответа с вероятностью, равной доле верных ответов. Это позволит нам использовать правильные ответы, но с заданной вероятностью они буду становиться неправильными"
   ]
  },
  {
   "cell_type": "code",
   "execution_count": 556,
   "id": "f9e6ae4f",
   "metadata": {},
   "outputs": [
    {
     "data": {
      "text/plain": [
       "(44176, 30)"
      ]
     },
     "execution_count": 556,
     "metadata": {},
     "output_type": "execute_result"
    }
   ],
   "source": [
    "data_train[data_train['is_canceled'] == 1].shape"
   ]
  },
  {
   "cell_type": "code",
   "execution_count": 557,
   "id": "4567e011",
   "metadata": {},
   "outputs": [],
   "source": [
    "filter1 = np.random.choice([1, 0], data_train[data_train['is_canceled'] == 1].shape[0], p=[1 - 0.76, 0.76])\n",
    "filter0 = np.random.choice([1, 0], data_train[data_train['is_canceled'] == 0].shape[0], p=[1 - 0.93, 0.93])"
   ]
  },
  {
   "cell_type": "code",
   "execution_count": 558,
   "id": "98abae5b",
   "metadata": {},
   "outputs": [],
   "source": [
    "cancellations = data_train['is_canceled'].values.copy()\n",
    "index1 = 0\n",
    "index0 = 0\n",
    "\n",
    "for i in range(cancellations.shape[0]):\n",
    "    if cancellations[i] == 0:\n",
    "        cancellations[i] += filter0[index0]\n",
    "        index0 += 1\n",
    "    elif cancellations[i] == 1:\n",
    "        cancellations[i] -= filter1[index1]\n",
    "        index1 += 1\n",
    "    "
   ]
  },
  {
   "cell_type": "code",
   "execution_count": 559,
   "id": "6079ee63",
   "metadata": {},
   "outputs": [],
   "source": [
    "data_train['predicted_cancellations'] = cancellations"
   ]
  },
  {
   "cell_type": "code",
   "execution_count": 834,
   "id": "27ef3d6c",
   "metadata": {},
   "outputs": [
    {
     "data": {
      "text/plain": [
       "0.28350767673359206"
      ]
     },
     "execution_count": 834,
     "metadata": {},
     "output_type": "execute_result"
    }
   ],
   "source": [
    "data_train[(data_train['predicted_cancellations'] == 1) & (data_train['is_canceled'] == 1)].shape[0] / data_train.shape[0]"
   ]
  },
  {
   "cell_type": "code",
   "execution_count": 839,
   "id": "108c456d",
   "metadata": {},
   "outputs": [
    {
     "data": {
      "image/png": "[encoded data removed]",
      "text/plain": [
       "<Figure size 640x480 with 1 Axes>"
      ]
     },
     "metadata": {
      "image/png": {
       "height": 417,
       "width": 563
      }
     },
     "output_type": "display_data"
    }
   ],
   "source": [
    "plt.hist(data_train[data_train['is_canceled'] == 0]['adr'], bins=50)\n",
    "plt.show()"
   ]
  },
  {
   "cell_type": "code",
   "execution_count": 843,
   "id": "af26a37d",
   "metadata": {},
   "outputs": [
    {
     "data": {
      "image/png": "[encoded data removed]",
      "text/plain": [
       "<Figure size 640x480 with 1 Axes>"
      ]
     },
     "metadata": {
      "image/png": {
       "height": 417,
       "width": 571
      }
     },
     "output_type": "display_data"
    }
   ],
   "source": [
    "plt.hist((data_train['stays_in_weekend_nights'] + data_train['stays_in_week_nights']).values, bins=50)\n",
    "plt.show()"
   ]
  },
  {
   "cell_type": "code",
   "execution_count": 847,
   "id": "bcdc6e2c",
   "metadata": {},
   "outputs": [
    {
     "data": {
      "text/plain": [
       "3.4440273325459763"
      ]
     },
     "execution_count": 847,
     "metadata": {},
     "output_type": "execute_result"
    }
   ],
   "source": [
    "(data_train['stays_in_weekend_nights'] + data_train['stays_in_week_nights']).mean()"
   ]
  },
  {
   "cell_type": "code",
   "execution_count": 854,
   "id": "5b353686",
   "metadata": {},
   "outputs": [
    {
     "data": {
      "image/png": "[encoded data removed]",
      "text/plain": [
       "<Figure size 640x480 with 1 Axes>"
      ]
     },
     "metadata": {
      "image/png": {
       "height": 417,
       "width": 546
      }
     },
     "output_type": "display_data"
    }
   ],
   "source": [
    "plt.hist(data_train[data_train['is_canceled'] == 0].groupby('arrival_date')['arrival_date'].count().values, bins=30)\n",
    "plt.show()"
   ]
  },
  {
   "cell_type": "markdown",
   "id": "747161c4",
   "metadata": {},
   "source": [
    "Для сегодняшней даты мне надо собрать:\n",
    "* сколько сейчас гостей\n",
    "* сколько бронирований на каждый из 7 дней\n",
    "* сколько из бронирований подтверждаются на каждый из 7 дней\n",
    "* сколько выездов планируется на каждый из 7 дней\n",
    "* сколько было гостей в эту дату год назад\n",
    "* сколько было неделю назад\n",
    "* месяц\n",
    "* год\n",
    "* день недели\n",
    "* номер дня\n",
    "* номер недели\n",
    "* ВСЕ ЭТО ДЛЯ ДВУХ ОТЕЛЕЙ"
   ]
  },
  {
   "cell_type": "code",
   "execution_count": 560,
   "id": "a98c1c9b",
   "metadata": {},
   "outputs": [],
   "source": [
    "columns=['or_1yrbefore',\n",
    "         'or_2wbefore', \n",
    "         'year', \n",
    "         'month', \n",
    "         'day',\n",
    "         'day_of_week',\n",
    "         'week_of_year']\n",
    "\n",
    "columns += [f'book_approved_{n}dbefore' for n in range(8)]\n",
    "columns += [f'bookings_{n}dbefore' for n in range(8)]\n",
    "columns += [f'checkouts_{n}dbefore' for n in range(8)]\n",
    "\n",
    "df_demand_city = pd.DataFrame(columns=columns)\n",
    "df_demand_resort = pd.DataFrame(columns=columns)"
   ]
  },
  {
   "cell_type": "code",
   "execution_count": 561,
   "id": "41a6f3ff",
   "metadata": {},
   "outputs": [
    {
     "data": {
      "text/plain": [
       "array(['Resort Hotel', 'City Hotel'], dtype=object)"
      ]
     },
     "execution_count": 561,
     "metadata": {},
     "output_type": "execute_result"
    }
   ],
   "source": [
    "data_train['hotel'].unique()"
   ]
  },
  {
   "cell_type": "code",
   "execution_count": 562,
   "id": "bf46a4a3",
   "metadata": {},
   "outputs": [],
   "source": [
    "filter_canc0 = (data_train['is_canceled'] == 0)\n",
    "filter_resort = (data_train['hotel'] == 'Resort Hotel')\n",
    "filter_city = (data_train['hotel'] == 'City Hotel')"
   ]
  },
  {
   "cell_type": "code",
   "execution_count": 563,
   "id": "1706c778",
   "metadata": {},
   "outputs": [
    {
     "data": {
      "text/plain": [
       "((793, 32), (793, 32))"
      ]
     },
     "execution_count": 563,
     "metadata": {},
     "output_type": "execute_result"
    }
   ],
   "source": [
    "df_demand_resort['date'] = resort_or['date'][resort_or['date'] <= \\\n",
    "                                         data_train[filter_canc0 & filter_resort]['arrival_date'].max()]\n",
    "\n",
    "\n",
    "df_demand_city['date'] = city_or['date'][city_or['date'] <= \\\n",
    "                                         data_train[filter_canc0 & filter_city]['arrival_date'].max()]\n",
    "\n",
    "df_demand_resort.shape, df_demand_city.shape"
   ]
  },
  {
   "cell_type": "code",
   "execution_count": 564,
   "id": "70a60cab",
   "metadata": {},
   "outputs": [],
   "source": [
    "or_arrivals_city = city_or[city_or['date'] <= df_demand_city['date'].max()]\n",
    "or_arrivals_city = or_arrivals_city.set_index('date')\n",
    "\n",
    "or_arrivals_city = or_arrivals_city.loc[df_demand_city['date']]\n",
    "df_demand_city['target'] = or_arrivals_city['occupancy_rate'].values\n",
    "\n",
    "df_demand_city = df_demand_city.set_index('date')"
   ]
  },
  {
   "cell_type": "code",
   "execution_count": 565,
   "id": "1849143a",
   "metadata": {},
   "outputs": [],
   "source": [
    "or_arrivals_resort = resort_or[resort_or['date'] <= df_demand_resort['date'].max()]\n",
    "or_arrivals_resort = or_arrivals_resort.set_index('date')\n",
    "\n",
    "or_arrivals_resort = or_arrivals_resort.loc[df_demand_resort['date']]\n",
    "df_demand_resort['target'] = or_arrivals_resort['occupancy_rate'].values\n",
    "\n",
    "df_demand_resort = df_demand_resort.set_index('date')"
   ]
  },
  {
   "cell_type": "markdown",
   "id": "b33db75e",
   "metadata": {},
   "source": [
    "Сначала сопоставим значения `occupancy rate` год назад"
   ]
  },
  {
   "cell_type": "code",
   "execution_count": 566,
   "id": "ee354374",
   "metadata": {},
   "outputs": [],
   "source": [
    "cor_1yrbefore = city_or[['date', 'occupancy_rate']][city_or['date'] + \\\n",
    "                                                          pd.Timedelta(days=365) <= df_demand_city.index.max()]\n",
    "\n",
    "cor_1yrbefore['date'] = cor_1yrbefore['date'] + pd.Timedelta(days=365)\n",
    "\n",
    "df_demand_city.loc[cor_1yrbefore['date'], 'or_1yrbefore'] = cor_1yrbefore['occupancy_rate'].values"
   ]
  },
  {
   "cell_type": "code",
   "execution_count": 567,
   "id": "ff8f664a",
   "metadata": {},
   "outputs": [],
   "source": [
    "ror_1yrbefore = resort_or[['date', 'occupancy_rate']][resort_or['date'] + \\\n",
    "                                                          pd.Timedelta(days=365) <= df_demand_resort.index.max()]\n",
    "\n",
    "ror_1yrbefore['date'] = ror_1yrbefore['date'] + pd.Timedelta(days=365)\n",
    "\n",
    "df_demand_resort.loc[ror_1yrbefore['date'], 'or_1yrbefore'] = ror_1yrbefore['occupancy_rate'].values"
   ]
  },
  {
   "cell_type": "markdown",
   "id": "11dce7b4",
   "metadata": {},
   "source": [
    "Затем две недели назад от даты прогнозирования"
   ]
  },
  {
   "cell_type": "code",
   "execution_count": 568,
   "id": "04192d41",
   "metadata": {},
   "outputs": [],
   "source": [
    "cor_2wbefore = city_or[['date', 'occupancy_rate']][city_or['date'] + \\\n",
    "                                                          pd.Timedelta(days=14) <= df_demand_city.index.max()]\n",
    "\n",
    "cor_2wbefore['date'] = cor_2wbefore['date'] + pd.Timedelta(days=14)\n",
    "\n",
    "df_demand_city.loc[cor_2wbefore['date'], 'or_2wbefore'] = cor_2wbefore['occupancy_rate'].values"
   ]
  },
  {
   "cell_type": "code",
   "execution_count": 569,
   "id": "b7f6c198",
   "metadata": {},
   "outputs": [],
   "source": [
    "ror_2wbefore = resort_or[['date', 'occupancy_rate']][resort_or['date'] + \\\n",
    "                                                          pd.Timedelta(days=14) <= df_demand_resort.index.max()]\n",
    "\n",
    "ror_2wbefore['date'] = ror_2wbefore['date'] + pd.Timedelta(days=14)\n",
    "\n",
    "df_demand_resort.loc[ror_2wbefore['date'], 'or_2wbefore'] = ror_2wbefore['occupancy_rate'].values"
   ]
  },
  {
   "cell_type": "markdown",
   "id": "f79437bf",
   "metadata": {},
   "source": [
    "Теперь сопоставим даты"
   ]
  },
  {
   "cell_type": "code",
   "execution_count": 570,
   "id": "ed3f4f61",
   "metadata": {},
   "outputs": [],
   "source": [
    "df_demand_city['year'] = pd.DatetimeIndex(df_demand_city.index).year\n",
    "df_demand_city['month'] = pd.DatetimeIndex(df_demand_city.index).month\n",
    "df_demand_city['day'] = pd.DatetimeIndex(df_demand_city.index).day\n",
    "df_demand_city['day_of_week'] = pd.DatetimeIndex(df_demand_city.index).weekday\n",
    "df_demand_city['week_of_year'] = pd.to_datetime(df_demand_city.index).isocalendar().week\n",
    "\n",
    "df_demand_resort['year'] = pd.DatetimeIndex(df_demand_resort.index).year\n",
    "df_demand_resort['month'] = pd.DatetimeIndex(df_demand_resort.index).month\n",
    "df_demand_resort['day'] = pd.DatetimeIndex(df_demand_resort.index).day\n",
    "df_demand_resort['day_of_week'] = pd.DatetimeIndex(df_demand_resort.index).weekday\n",
    "df_demand_resort['week_of_year'] = pd.to_datetime(df_demand_resort.index).isocalendar().week"
   ]
  },
  {
   "cell_type": "code",
   "execution_count": 571,
   "id": "654ecb39",
   "metadata": {},
   "outputs": [],
   "source": [
    "filter_preds = (data_train['predicted_cancellations'] == 0)"
   ]
  },
  {
   "cell_type": "code",
   "execution_count": 573,
   "id": "a14f33f7",
   "metadata": {},
   "outputs": [],
   "source": [
    "c_bookings_on_date = data_train[filter_city].groupby('arrival_date')['people_total'].sum()\n",
    "c_bookings_approved_on_date = data_train[filter_preds & filter_city].groupby('arrival_date')['people_total'].sum()\n",
    "c_chouts_approved_on_date = data_train[filter_preds & filter_city].groupby('checkout_date')['people_total'].sum()\n",
    "\n",
    "c_chouts_approved_on_date = c_chouts_approved_on_date[c_chouts_approved_on_date.index <= \\\n",
    "                                                      df_demand_city.index.max()]\n",
    "c_chouts_approved_on_date[df_demand_city.index.min()] = 0\n",
    "c_chouts_approved_on_date = c_chouts_approved_on_date.sort_index()\n",
    "\n",
    "\n",
    "r_bookings_on_date = data_train[filter_resort].groupby('arrival_date')['people_total'].sum()\n",
    "r_bookings_approved_on_date = data_train[filter_preds & filter_resort].groupby('arrival_date')['people_total'].sum()\n",
    "r_chouts_approved_on_date = data_train[filter_preds & filter_resort].groupby('checkout_date')['people_total'].sum()\n",
    "\n",
    "r_chouts_approved_on_date = r_chouts_approved_on_date[r_chouts_approved_on_date.index <= \\\n",
    "                                                      df_demand_resort.index.max()]\n",
    "r_chouts_approved_on_date[df_demand_resort.index.min()] = 0\n",
    "r_chouts_approved_on_date = r_chouts_approved_on_date.sort_index()"
   ]
  },
  {
   "cell_type": "code",
   "execution_count": 574,
   "id": "5fec6b5b",
   "metadata": {},
   "outputs": [],
   "source": [
    "df_demand_city['book_approved_0dbefore'] = c_bookings_approved_on_date\n",
    "df_demand_city['bookings_0dbefore'] = c_bookings_on_date\n",
    "df_demand_city['checkouts_0dbefore'] = c_chouts_approved_on_date\n",
    "\n",
    "df_demand_resort['book_approved_0dbefore'] = r_bookings_approved_on_date\n",
    "df_demand_resort['bookings_0dbefore'] = r_bookings_on_date\n",
    "df_demand_resort['checkouts_0dbefore'] = r_chouts_approved_on_date"
   ]
  },
  {
   "cell_type": "code",
   "execution_count": 575,
   "id": "41d47e04",
   "metadata": {},
   "outputs": [],
   "source": [
    "c_bookings_on_date = c_bookings_on_date.reset_index().rename(columns={'arrival_date': 'date'})\n",
    "c_bookings_approved_on_date = c_bookings_approved_on_date.reset_index().rename(columns={'arrival_date': 'date'})\n",
    "c_chouts_approved_on_date = c_chouts_approved_on_date.reset_index().rename(columns={'checkout_date': 'date'})\n",
    "\n",
    "r_bookings_on_date = r_bookings_on_date.reset_index().rename(columns={'arrival_date': 'date'})\n",
    "r_bookings_approved_on_date = r_bookings_approved_on_date.reset_index().rename(columns={'arrival_date': 'date'})\n",
    "r_chouts_approved_on_date = r_chouts_approved_on_date.reset_index().rename(columns={'checkout_date': 'date'})"
   ]
  },
  {
   "cell_type": "code",
   "execution_count": 576,
   "id": "38723441",
   "metadata": {},
   "outputs": [],
   "source": [
    "delta = pd.to_timedelta(1, unit='days')\n",
    "\n",
    "for i in range(1, 8):\n",
    "    \n",
    "    # for city hotel\n",
    "    c_bookings_on_date['date'] = c_bookings_on_date['date'] + delta\n",
    "    c_bookings_approved_on_date['date'] = c_bookings_approved_on_date['date'] + delta\n",
    "    c_chouts_approved_on_date['date'] = c_chouts_approved_on_date['date'] + delta\n",
    "    \n",
    "    c_bookings_on_date = c_bookings_on_date[c_bookings_on_date['date'] <= df_demand_city.index.max()]\n",
    "    c_bookings_approved_on_date = c_bookings_approved_on_date[c_bookings_approved_on_date['date'] <= \\\n",
    "                                                          df_demand_city.index.max()]\n",
    "    c_chouts_approved_on_date = c_chouts_approved_on_date[c_chouts_approved_on_date['date'] <= \\\n",
    "                                                          df_demand_city.index.max()]\n",
    "    \n",
    "    \n",
    "    df_demand_city.loc[c_bookings_on_date['date'], f'bookings_{i}dbefore'] = \\\n",
    "    c_bookings_on_date['people_total'].values\n",
    "    df_demand_city.loc[c_bookings_approved_on_date['date'], f'book_approved_{i}dbefore'] = \\\n",
    "    c_bookings_approved_on_date['people_total'].values\n",
    "    df_demand_city.loc[c_chouts_approved_on_date['date'], f'checkouts_{i}dbefore'] = \\\n",
    "    c_chouts_approved_on_date['people_total'].values\n",
    "    \n",
    "    \n",
    "    # for resort hotel\n",
    "    r_bookings_on_date['date'] = r_bookings_on_date['date'] + delta\n",
    "    r_bookings_approved_on_date['date'] = r_bookings_approved_on_date['date'] + delta\n",
    "    r_chouts_approved_on_date['date'] = r_chouts_approved_on_date['date'] + delta\n",
    "    \n",
    "    r_bookings_on_date = r_bookings_on_date[r_bookings_on_date['date'] <= df_demand_resort.index.max()]\n",
    "    r_bookings_approved_on_date = r_bookings_approved_on_date[r_bookings_approved_on_date['date'] <= \\\n",
    "                                                          df_demand_resort.index.max()]\n",
    "    r_chouts_approved_on_date = r_chouts_approved_on_date[r_chouts_approved_on_date['date'] <= \\\n",
    "                                                          df_demand_resort.index.max()]\n",
    "    \n",
    "    \n",
    "    df_demand_resort.loc[r_bookings_on_date['date'], f'bookings_{i}dbefore'] = \\\n",
    "    r_bookings_on_date['people_total'].values\n",
    "    df_demand_resort.loc[r_bookings_approved_on_date['date'], f'book_approved_{i}dbefore'] = \\\n",
    "    r_bookings_approved_on_date['people_total'].values\n",
    "    df_demand_resort.loc[r_chouts_approved_on_date['date'], f'checkouts_{i}dbefore'] = \\\n",
    "    r_chouts_approved_on_date['people_total'].values"
   ]
  },
  {
   "cell_type": "code",
   "execution_count": 578,
   "id": "43ed3d3a",
   "metadata": {},
   "outputs": [],
   "source": [
    "# df_demand_city = df_demand_city.loc[pd.to_datetime('2015-07-08').date():, :]\n",
    "# df_demand_resort = df_demand_resort.loc[pd.to_datetime('2015-07-08').date():, :]"
   ]
  },
  {
   "cell_type": "code",
   "execution_count": 596,
   "id": "f14946b0",
   "metadata": {},
   "outputs": [],
   "source": [
    "df_demand_city['hotel'] = pd.Series([1] * df_demand_city.shape[0]).values\n",
    "df_demand_resort['hotel'] = pd.Series([0] * df_demand_resort.shape[0]).values"
   ]
  },
  {
   "cell_type": "code",
   "execution_count": 609,
   "id": "f69f9294",
   "metadata": {},
   "outputs": [],
   "source": [
    "# df_demand_city = df_demand_city.reset_index()\n",
    "# df_demand_resort = df_demand_resort.reset_index()\n",
    "\n",
    "df_demand = pd.concat([df_demand_city, df_demand_resort], axis=0, ignore_index=True)"
   ]
  },
  {
   "cell_type": "code",
   "execution_count": 610,
   "id": "2fa157b7",
   "metadata": {},
   "outputs": [],
   "source": [
    "df_demand = df_demand.sort_values(by='date').reset_index(drop=True)"
   ]
  },
  {
   "cell_type": "code",
   "execution_count": 857,
   "id": "8ab5b1df",
   "metadata": {},
   "outputs": [
    {
     "data": {
      "text/plain": [
       "Index(['date', 'or_1yrbefore', 'or_2wbefore', 'year', 'month', 'day',\n",
       "       'day_of_week', 'week_of_year', 'book_approved_0dbefore',\n",
       "       'book_approved_1dbefore', 'book_approved_2dbefore',\n",
       "       'book_approved_3dbefore', 'book_approved_4dbefore',\n",
       "       'book_approved_5dbefore', 'book_approved_6dbefore',\n",
       "       'book_approved_7dbefore', 'bookings_0dbefore', 'bookings_1dbefore',\n",
       "       'bookings_2dbefore', 'bookings_3dbefore', 'bookings_4dbefore',\n",
       "       'bookings_5dbefore', 'bookings_6dbefore', 'bookings_7dbefore',\n",
       "       'checkouts_0dbefore', 'checkouts_1dbefore', 'checkouts_2dbefore',\n",
       "       'checkouts_3dbefore', 'checkouts_4dbefore', 'checkouts_5dbefore',\n",
       "       'checkouts_6dbefore', 'checkouts_7dbefore', 'target', 'hotel'],\n",
       "      dtype='object')"
      ]
     },
     "execution_count": 857,
     "metadata": {},
     "output_type": "execute_result"
    }
   ],
   "source": [
    "df_demand.columns"
   ]
  },
  {
   "cell_type": "code",
   "execution_count": null,
   "id": "4c22a0e1",
   "metadata": {},
   "outputs": [],
   "source": []
  },
  {
   "cell_type": "markdown",
   "id": "278badc8",
   "metadata": {},
   "source": [
    "## Анализ полученных данных "
   ]
  },
  {
   "cell_type": "markdown",
   "id": "38632cdf",
   "metadata": {},
   "source": [
    "## Пробное моделирование"
   ]
  },
  {
   "cell_type": "markdown",
   "id": "44a4f3fe",
   "metadata": {},
   "source": [
    "Важно не перемешивать данные, так как предсказания строятся для будущих данных на основании прошлых данных. Это значит, что если более поздняя запись попадет в обучающую выборку, то закономерность нарушится, так как такой ситуации при решении реальной бизнес-задачи возникнуть не может. На таких задачах также не рекомендуется использовать кросс-валидацию"
   ]
  },
  {
   "cell_type": "markdown",
   "id": "f303b8c6",
   "metadata": {},
   "source": [
    "Обучать будем на тренировочной выборке (`X_train1`), а проверять качество работы модели на валидационной выборке (`X_val`). Таким образом мы подберем наилучшую модель и гиперпараметры к ней на валидационной выборке, чтобы потом протестировать результаты на тестовой - так мы полностью исключим тестовую выборку из процесса обучения."
   ]
  },
  {
   "cell_type": "code",
   "execution_count": 778,
   "id": "79e99a23",
   "metadata": {},
   "outputs": [],
   "source": [
    "X_train, X_test, y_train, y_test = train_test_split(df_demand.drop(columns=['target', 'date']),\n",
    "                                                    df_demand['target'],\n",
    "                                                    shuffle=False,\n",
    "                                                    test_size=0.2\n",
    "                                                   )\n",
    "\n",
    "X_train1, X_val, y_train1, y_val = train_test_split(X_train,\n",
    "                                                    y_train,\n",
    "                                                    shuffle=False,\n",
    "                                                    test_size=0.2\n",
    "                                                   )"
   ]
  },
  {
   "cell_type": "markdown",
   "id": "ac691d5e",
   "metadata": {},
   "source": [
    "При заполнении пустых значений медианами в тренировочной выборке так же необходимо \"не заглядывать в будущее\" - то есть не использовать тестовую или валидационную выборку. А вот при заполнении пустых значений на валидации или тесте тренировочными данными уже можно пользоваться."
   ]
  },
  {
   "cell_type": "code",
   "execution_count": 779,
   "id": "b4f78c3b",
   "metadata": {},
   "outputs": [],
   "source": [
    "# X_train = np.where(np.isnan(X_train), np.median(X_train, axis=0), X_train)\n",
    "# X_test = np.where(np.isnan(X_test), np.median(X_train, axis=0), X_test)\n",
    "\n",
    "X_train = X_train.fillna(X_train.median())\n",
    "X_test = X_test.fillna(df_demand.drop(columns=['target', 'date']).median())\n",
    "\n",
    "X_train1 = X_train1.fillna(X_train1.median())\n",
    "X_val = X_val.fillna(X_train.median())"
   ]
  },
  {
   "cell_type": "code",
   "execution_count": 780,
   "id": "aeb387b8",
   "metadata": {},
   "outputs": [],
   "source": [
    "scaler = StandardScaler()\n",
    "scaler.fit(X_train)\n",
    "X_train = scaler.transform(X_train)\n",
    "X_test = scaler.transform(X_test)\n",
    "\n",
    "scaler.fit(X_train1)\n",
    "X_train1 = scaler.transform(X_train1)\n",
    "X_val = scaler.transform(X_val)"
   ]
  },
  {
   "cell_type": "code",
   "execution_count": 781,
   "id": "b6cac954",
   "metadata": {},
   "outputs": [],
   "source": [
    "test_fold = np.array([0] * X_train.shape[0])\n",
    "test_fold[:X_train1.shape[0]] = -1\n",
    "ps = PredefinedSplit(test_fold)"
   ]
  },
  {
   "cell_type": "code",
   "execution_count": 782,
   "id": "e8c37787",
   "metadata": {},
   "outputs": [
    {
     "name": "stdout",
     "output_type": "stream",
     "text": [
      "47.99513136559347\n",
      "54.63953216693987\n",
      "0.21481313953129103\n",
      "0.2063356872088786\n"
     ]
    }
   ],
   "source": [
    "lr = LinearRegression()\n",
    "lr.fit(X_train1, y_train1)\n",
    "lr_preds = lr.predict(X_val)\n",
    "\n",
    "print(mean_squared_error(y_train1, lr.predict(X_train1), squared=False))\n",
    "print(mean_squared_error(y_val, lr_preds, squared=False))\n",
    "print(mean_absolute_percentage_error(y_train1, lr.predict(X_train1)))\n",
    "print(mean_absolute_percentage_error(y_val, lr_preds))"
   ]
  },
  {
   "cell_type": "code",
   "execution_count": 783,
   "id": "17b628ae",
   "metadata": {
    "collapsed": true
   },
   "outputs": [
    {
     "data": {
      "text/plain": [
       "GridSearchCV(cv=PredefinedSplit(test_fold=array([-1, -1, ...,  0,  0])),\n",
       "             estimator=Ridge(),\n",
       "             param_grid={'alpha': array([0.01      , 0.02154435, 0.04641589, 0.1       , 0.21544347,\n",
       "       0.46415888, 1.        ])},\n",
       "             scoring='neg_mean_absolute_percentage_error')"
      ]
     },
     "execution_count": 783,
     "metadata": {},
     "output_type": "execute_result"
    }
   ],
   "source": [
    "parameters_lr = {\n",
    "    'alpha': np.logspace(-2, 0, 7)\n",
    "}\n",
    "\n",
    "searcher_lr = GridSearchCV(Ridge(), \n",
    "                           parameters_lr,\n",
    "                           scoring='neg_mean_absolute_percentage_error',\n",
    "                           cv=ps)\n",
    "\n",
    "searcher_lr.fit(X_train, y_train)"
   ]
  },
  {
   "cell_type": "code",
   "execution_count": 784,
   "id": "0febcc27",
   "metadata": {},
   "outputs": [
    {
     "data": {
      "text/plain": [
       "(-0.18926071754743407, {'alpha': 0.01})"
      ]
     },
     "execution_count": 784,
     "metadata": {},
     "output_type": "execute_result"
    }
   ],
   "source": [
    "searcher_lr.best_score_, searcher_lr.best_params_"
   ]
  },
  {
   "cell_type": "code",
   "execution_count": 810,
   "id": "e62f37da",
   "metadata": {},
   "outputs": [
    {
     "name": "stdout",
     "output_type": "stream",
     "text": [
      "RMSE_train = 47.66829275621321\n",
      "RMSE_test = 36.49782284049492\n",
      "\n",
      "MAE_train = 38.558747590626524\n",
      "MAE_test = 30.383513458801776\n",
      "\n",
      "MAPE_train = 0.20191898660852034\n",
      "MAPE_test = 0.0753789691306655\n"
     ]
    }
   ],
   "source": [
    "ridge = Ridge(**searcher_lr.best_params_)\n",
    "ridge.fit(X_train, y_train)\n",
    "ridge_preds = ridge.predict(X_test)\n",
    "\n",
    "print(f'RMSE_train = {mean_squared_error(y_train, ridge.predict(X_train), squared=False)}')\n",
    "print(f'RMSE_test = {mean_squared_error(y_test, ridge_preds, squared=False)}\\n')\n",
    "\n",
    "print(f'MAE_train = {mean_absolute_error(y_train, ridge.predict(X_train))}')\n",
    "print(f'MAE_test = {mean_absolute_error(y_test, ridge_preds)}\\n')\n",
    "\n",
    "print(f'MAPE_train = {mean_absolute_percentage_error(y_train, ridge.predict(X_train))}')\n",
    "print(f'MAPE_test = {mean_absolute_percentage_error(y_test, ridge_preds)}')"
   ]
  },
  {
   "cell_type": "code",
   "execution_count": 788,
   "id": "3e89e23f",
   "metadata": {
    "collapsed": true
   },
   "outputs": [
    {
     "data": {
      "text/plain": [
       "GridSearchCV(cv=PredefinedSplit(test_fold=array([-1, -1, ...,  0,  0])),\n",
       "             estimator=Lasso(),\n",
       "             param_grid={'alpha': array([0.01      , 0.02154435, 0.04641589, 0.1       , 0.21544347,\n",
       "       0.46415888, 1.        ])},\n",
       "             scoring='neg_mean_absolute_percentage_error')"
      ]
     },
     "execution_count": 788,
     "metadata": {},
     "output_type": "execute_result"
    }
   ],
   "source": [
    "parameters_lasso = {\n",
    "    'alpha': np.logspace(-2, 0, 7)\n",
    "}\n",
    "\n",
    "searcher_lasso = GridSearchCV(Lasso(), \n",
    "                           parameters_lasso,\n",
    "                           scoring='neg_mean_absolute_percentage_error',\n",
    "                           cv=ps)\n",
    "\n",
    "searcher_lasso.fit(X_train, y_train)"
   ]
  },
  {
   "cell_type": "code",
   "execution_count": 800,
   "id": "2abeb795",
   "metadata": {},
   "outputs": [
    {
     "data": {
      "text/plain": [
       "(-0.18937811347379108, {'alpha': 0.01})"
      ]
     },
     "execution_count": 800,
     "metadata": {},
     "output_type": "execute_result"
    }
   ],
   "source": [
    "searcher_lasso.best_score_, searcher_lasso.best_params_"
   ]
  },
  {
   "cell_type": "code",
   "execution_count": 791,
   "id": "976cbc3c",
   "metadata": {
    "collapsed": true
   },
   "outputs": [
    {
     "data": {
      "text/plain": [
       "GridSearchCV(cv=PredefinedSplit(test_fold=array([-1, -1, ...,  0,  0])),\n",
       "             estimator=DecisionTreeRegressor(),\n",
       "             param_grid={'criterion': ['squared_error', 'friedman_mse',\n",
       "                                       'absolute_error', 'poisson'],\n",
       "                         'min_samples_leaf': [1, 2, 5, 10],\n",
       "                         'min_samples_split': [2, 5, 10]},\n",
       "             scoring='neg_mean_absolute_percentage_error')"
      ]
     },
     "execution_count": 791,
     "metadata": {},
     "output_type": "execute_result"
    }
   ],
   "source": [
    "parameters_dtr = {\n",
    "    'criterion': ['squared_error', 'friedman_mse', 'absolute_error', 'poisson'],\n",
    "    'min_samples_split': [2, 5, 10],\n",
    "    'min_samples_leaf': [1, 2, 5, 10]\n",
    "}\n",
    "\n",
    "searcher_dtr = GridSearchCV(DecisionTreeRegressor(), \n",
    "                            parameters_dtr,\n",
    "                            scoring='neg_mean_absolute_percentage_error',\n",
    "                            cv=ps)\n",
    "\n",
    "searcher_dtr.fit(X_train, y_train)"
   ]
  },
  {
   "cell_type": "code",
   "execution_count": 792,
   "id": "e34f062c",
   "metadata": {},
   "outputs": [
    {
     "data": {
      "text/plain": [
       "({'criterion': 'squared_error',\n",
       "  'min_samples_leaf': 10,\n",
       "  'min_samples_split': 2},\n",
       " -0.2647131517889223)"
      ]
     },
     "execution_count": 792,
     "metadata": {},
     "output_type": "execute_result"
    }
   ],
   "source": [
    "searcher_dtr.best_params_, searcher_dtr.best_score_"
   ]
  },
  {
   "cell_type": "code",
   "execution_count": 811,
   "id": "50322d9e",
   "metadata": {},
   "outputs": [
    {
     "name": "stdout",
     "output_type": "stream",
     "text": [
      "RMSE_train = 40.897429353238856\n",
      "RMSE_test = 47.98644301160587\n",
      "\n",
      "MAE_train = 29.207166457608132\n",
      "MAE_test = 37.14083938972336\n",
      "\n",
      "MAPE_train = 0.17387701395040273\n",
      "MAPE_test = 0.0938179137415783\n"
     ]
    }
   ],
   "source": [
    "dtr = DecisionTreeRegressor(**searcher_dtr.best_params_)\n",
    "dtr.fit(X_train, y_train)\n",
    "dtr_preds = dtr.predict(X_test)\n",
    "\n",
    "print(f'RMSE_train = {mean_squared_error(y_train, dtr.predict(X_train), squared=False)}')\n",
    "print(f'RMSE_test = {mean_squared_error(y_test, dtr_preds, squared=False)}\\n')\n",
    "\n",
    "print(f'MAE_train = {mean_absolute_error(y_train, dtr.predict(X_train))}')\n",
    "print(f'MAE_test = {mean_absolute_error(y_test, dtr_preds)}\\n')\n",
    "\n",
    "print(f'MAPE_train = {mean_absolute_percentage_error(y_train, dtr.predict(X_train))}')\n",
    "print(f'MAPE_test = {mean_absolute_percentage_error(y_test, dtr_preds)}')"
   ]
  },
  {
   "cell_type": "code",
   "execution_count": 766,
   "id": "1a03413f",
   "metadata": {
    "collapsed": true
   },
   "outputs": [
    {
     "name": "stderr",
     "output_type": "stream",
     "text": [
      "/Users/katyona/Desktop/University/proga/iad/notebooks/lib/python3.8/site-packages/sklearn/model_selection/_validation.py:372: FitFailedWarning: \n",
      "40 fits failed out of a total of 120.\n",
      "The score on these train-test partitions for these parameters will be set to nan.\n",
      "If these failures are not expected, you can try to debug them by setting error_score='raise'.\n",
      "\n",
      "Below are more details about the failures:\n",
      "--------------------------------------------------------------------------------\n",
      "40 fits failed with the following error:\n",
      "Traceback (most recent call last):\n",
      "  File \"/Users/katyona/Desktop/University/proga/iad/notebooks/lib/python3.8/site-packages/sklearn/model_selection/_validation.py\", line 681, in _fit_and_score\n",
      "    estimator.fit(X_train, y_train, **fit_params)\n",
      "  File \"/Users/katyona/Desktop/University/proga/iad/notebooks/lib/python3.8/site-packages/sklearn/ensemble/_forest.py\", line 442, in fit\n",
      "    trees = Parallel(\n",
      "  File \"/Users/katyona/Desktop/University/proga/iad/notebooks/lib/python3.8/site-packages/joblib/parallel.py\", line 1043, in __call__\n",
      "    if self.dispatch_one_batch(iterator):\n",
      "  File \"/Users/katyona/Desktop/University/proga/iad/notebooks/lib/python3.8/site-packages/joblib/parallel.py\", line 861, in dispatch_one_batch\n",
      "    self._dispatch(tasks)\n",
      "  File \"/Users/katyona/Desktop/University/proga/iad/notebooks/lib/python3.8/site-packages/joblib/parallel.py\", line 779, in _dispatch\n",
      "    job = self._backend.apply_async(batch, callback=cb)\n",
      "  File \"/Users/katyona/Desktop/University/proga/iad/notebooks/lib/python3.8/site-packages/joblib/_parallel_backends.py\", line 208, in apply_async\n",
      "    result = ImmediateResult(func)\n",
      "  File \"/Users/katyona/Desktop/University/proga/iad/notebooks/lib/python3.8/site-packages/joblib/_parallel_backends.py\", line 572, in __init__\n",
      "    self.results = batch()\n",
      "  File \"/Users/katyona/Desktop/University/proga/iad/notebooks/lib/python3.8/site-packages/joblib/parallel.py\", line 262, in __call__\n",
      "    return [func(*args, **kwargs)\n",
      "  File \"/Users/katyona/Desktop/University/proga/iad/notebooks/lib/python3.8/site-packages/joblib/parallel.py\", line 262, in <listcomp>\n",
      "    return [func(*args, **kwargs)\n",
      "  File \"/Users/katyona/Desktop/University/proga/iad/notebooks/lib/python3.8/site-packages/sklearn/utils/fixes.py\", line 211, in __call__\n",
      "    return self.function(*args, **kwargs)\n",
      "  File \"/Users/katyona/Desktop/University/proga/iad/notebooks/lib/python3.8/site-packages/sklearn/ensemble/_forest.py\", line 185, in _parallel_build_trees\n",
      "    tree.fit(X, y, sample_weight=curr_sample_weight, check_input=False)\n",
      "  File \"/Users/katyona/Desktop/University/proga/iad/notebooks/lib/python3.8/site-packages/sklearn/tree/_classes.py\", line 1315, in fit\n",
      "    super().fit(\n",
      "  File \"/Users/katyona/Desktop/University/proga/iad/notebooks/lib/python3.8/site-packages/sklearn/tree/_classes.py\", line 250, in fit\n",
      "    raise ValueError(\n",
      "ValueError: min_samples_split must be an integer greater than 1 or a float in (0.0, 1.0]; got the integer 1\n",
      "\n",
      "  warnings.warn(some_fits_failed_message, FitFailedWarning)\n",
      "/Users/katyona/Desktop/University/proga/iad/notebooks/lib/python3.8/site-packages/sklearn/model_selection/_search.py:969: UserWarning: One or more of the test scores are non-finite: [        nan         nan         nan         nan         nan         nan\n",
      "         nan         nan         nan         nan -0.20681968 -0.20115017\n",
      " -0.2009278  -0.20678342 -0.20515963 -0.20382864 -0.20295481 -0.20422655\n",
      " -0.20443799 -0.20397326 -0.203578   -0.20408813 -0.2074455  -0.20557427\n",
      " -0.20467399 -0.20890601 -0.20575771 -0.20807232 -0.20586568 -0.20626488\n",
      "         nan         nan         nan         nan         nan         nan\n",
      "         nan         nan         nan         nan -0.26544257 -0.26783485\n",
      " -0.26630814 -0.26696927 -0.26616353 -0.26514373 -0.2656323  -0.26543351\n",
      " -0.26486747 -0.26596812 -0.26451625 -0.26445473 -0.26762904 -0.26550166\n",
      " -0.26473691 -0.26575611 -0.26680569 -0.26724596 -0.26524792 -0.26276278\n",
      "         nan         nan         nan         nan         nan         nan\n",
      "         nan         nan         nan         nan -0.22845447 -0.22882184\n",
      " -0.23038545 -0.23026469 -0.22943888 -0.23107965 -0.22921199 -0.22863171\n",
      " -0.23008363 -0.22954914 -0.22834353 -0.22678417 -0.23233817 -0.2303053\n",
      " -0.22805246 -0.23022195 -0.23017379 -0.23188549 -0.22786606 -0.22863928\n",
      "         nan         nan         nan         nan         nan         nan\n",
      "         nan         nan         nan         nan -0.21832384 -0.21621755\n",
      " -0.21804768 -0.21473602 -0.21520149 -0.21517215 -0.21484548 -0.21380498\n",
      " -0.21445447 -0.21531394 -0.22145715 -0.21879917 -0.21307871 -0.21547518\n",
      " -0.21458699 -0.21619003 -0.21588335 -0.2157409  -0.2158247  -0.21574589]\n",
      "  warnings.warn(\n"
     ]
    },
    {
     "data": {
      "text/plain": [
       "GridSearchCV(cv=PredefinedSplit(test_fold=array([-1, -1, ...,  0,  0])),\n",
       "             estimator=RandomForestRegressor(),\n",
       "             param_grid={'max_depth': [None, 3, 5, 7],\n",
       "                         'min_samples_split': [1, 3, 10],\n",
       "                         'n_estimators': range(100, 1001, 100)},\n",
       "             scoring='neg_mean_absolute_percentage_error')"
      ]
     },
     "execution_count": 766,
     "metadata": {},
     "output_type": "execute_result"
    }
   ],
   "source": [
    "parameters_rf = {\n",
    "    'n_estimators': range(100, 1001, 100),\n",
    "    'max_depth': [None, 3, 5, 7], \n",
    "    'min_samples_split': [1, 3, 10]\n",
    "}\n",
    "\n",
    "searcher_rf = GridSearchCV(RandomForestRegressor(), \n",
    "                           parameters_rf,\n",
    "                           scoring='neg_mean_absolute_percentage_error',\n",
    "                           cv=ps)\n",
    "\n",
    "searcher_rf.fit(X_train, y_train)"
   ]
  },
  {
   "cell_type": "code",
   "execution_count": 767,
   "id": "650b13bf",
   "metadata": {},
   "outputs": [
    {
     "data": {
      "text/plain": [
       "(-0.20092780282072006,\n",
       " {'max_depth': None, 'min_samples_split': 3, 'n_estimators': 300})"
      ]
     },
     "execution_count": 767,
     "metadata": {},
     "output_type": "execute_result"
    }
   ],
   "source": [
    "searcher_rf.best_score_, searcher_rf.best_params_"
   ]
  },
  {
   "cell_type": "code",
   "execution_count": 812,
   "id": "13c43b49",
   "metadata": {},
   "outputs": [
    {
     "name": "stdout",
     "output_type": "stream",
     "text": [
      "RMSE_train = 17.1004932216896\n",
      "RMSE_test = 33.12820971198449\n",
      "\n",
      "MAE_train = 12.606155744856222\n",
      "MAE_test = 24.939736130007564\n",
      "\n",
      "MAPE_train = 0.07899178122731784\n",
      "MAPE_test = 0.0625762176289907\n"
     ]
    }
   ],
   "source": [
    "rf_full = RandomForestRegressor(**searcher_rf.best_params_)\n",
    "rf_full.fit(X_train, y_train)\n",
    "rf_preds = rf_full.predict(X_test)\n",
    "\n",
    "print(f'RMSE_train = {mean_squared_error(y_train, rf_full.predict(X_train), squared=False)}')\n",
    "print(f'RMSE_test = {mean_squared_error(y_test, rf_preds, squared=False)}\\n')\n",
    "\n",
    "print(f'MAE_train = {mean_absolute_error(y_train, rf_full.predict(X_train))}')\n",
    "print(f'MAE_test = {mean_absolute_error(y_test, rf_preds)}\\n')\n",
    "\n",
    "print(f'MAPE_train = {mean_absolute_percentage_error(y_train, rf_full.predict(X_train))}')\n",
    "print(f'MAPE_test = {mean_absolute_percentage_error(y_test, rf_preds)}')"
   ]
  },
  {
   "cell_type": "code",
   "execution_count": 667,
   "id": "fed31883",
   "metadata": {},
   "outputs": [
    {
     "name": "stdout",
     "output_type": "stream",
     "text": [
      "4.126206654494945\n",
      "47.125778559276974\n",
      "0.01216974563205408\n",
      "0.15771530539179587\n"
     ]
    }
   ],
   "source": [
    "xgb = XGBRegressor(booster='dart', \n",
    "                   learning_rate=0.08,\n",
    "                   n_estimators=1000,\n",
    "                   objective='reg:linear'\n",
    "                  )\n",
    "\n",
    "xgb.fit(X_train1, y_train1)\n",
    "xgb_preds = xgb.predict(X_val)\n",
    "\n",
    "print(mean_squared_error(y_train1, xgb.predict(X_train1), squared=False))\n",
    "print(mean_squared_error(y_val, xgb_preds, squared=False))\n",
    "\n",
    "print(mean_absolute_percentage_error(y_train1, xgb.predict(X_train1)))\n",
    "print(mean_absolute_percentage_error(y_val, xgb_preds))"
   ]
  },
  {
   "cell_type": "code",
   "execution_count": 813,
   "id": "46f037f7",
   "metadata": {},
   "outputs": [
    {
     "name": "stdout",
     "output_type": "stream",
     "text": [
      "[0]\tvalidation_0-rmse:254.642\n",
      "[200]\tvalidation_0-rmse:51.7955\n",
      "[400]\tvalidation_0-rmse:48.2174\n",
      "[600]\tvalidation_0-rmse:47.1354\n",
      "[800]\tvalidation_0-rmse:46.6656\n",
      "[999]\tvalidation_0-rmse:46.4727\n",
      "25.456447468984255\n",
      "32.7235161591769\n",
      "0.0747790555655464\n",
      "0.06686428707929672\n"
     ]
    }
   ],
   "source": [
    "xgb = XGBRegressor(booster='dart', \n",
    "                   learning_rate=0.1,\n",
    "                   n_estimators=1000,\n",
    "                   objective='reg:linear'\n",
    "                  )\n",
    "\n",
    "xgb.fit(X_train1, y_train1, eval_metric='rmse', eval_set=[(X_val, y_val)], verbose=200)\n",
    "xgb_preds = xgb.predict(X_test)\n",
    "\n",
    "print(mean_squared_error(y_train, xgb.predict(X_train), squared=False))\n",
    "print(mean_squared_error(y_test, xgb_preds, squared=False))\n",
    "\n",
    "print(mean_absolute_percentage_error(y_train, xgb.predict(X_train)))\n",
    "print(mean_absolute_percentage_error(y_test, xgb_preds))"
   ]
  },
  {
   "cell_type": "code",
   "execution_count": 796,
   "id": "2ddcbbab",
   "metadata": {},
   "outputs": [
    {
     "data": {
      "text/plain": [
       "GridSearchCV(cv=PredefinedSplit(test_fold=array([-1, -1, ...,  0,  0])),\n",
       "             estimator=XGBRegressor(),\n",
       "             param_grid={'booster': ['gbtree', 'gblinear', 'dart'],\n",
       "                         'learning_rate': [0.01, 0.05, 0.08, 0.1, 0.3, 0.5],\n",
       "                         'n_estimators': [100, 300, 600, 1000],\n",
       "                         'objective': ['reg:linear']},\n",
       "             scoring='neg_mean_absolute_percentage_error')"
      ]
     },
     "execution_count": 796,
     "metadata": {},
     "output_type": "execute_result"
    }
   ],
   "source": [
    "parameters_xgb = {\n",
    "    'booster': ['gbtree', 'gblinear', 'dart'],\n",
    "    'learning_rate': [0.01, 0.05, 0.08, 0.1, 0.3, 0.5],\n",
    "    'n_estimators': [100, 300, 600, 1000],\n",
    "    'objective': ['reg:linear']\n",
    "}\n",
    "\n",
    "searcher_xgb = GridSearchCV(\n",
    "    XGBRegressor(),\n",
    "    parameters_xgb,\n",
    "    scoring='neg_mean_absolute_percentage_error',\n",
    "    cv=ps\n",
    ")\n",
    "\n",
    "searcher_xgb.fit(X_train, y_train)"
   ]
  },
  {
   "cell_type": "code",
   "execution_count": 814,
   "id": "0f4e062b",
   "metadata": {},
   "outputs": [
    {
     "data": {
      "text/plain": [
       "(-0.15925607882579987,\n",
       " {'booster': 'gbtree',\n",
       "  'learning_rate': 0.08,\n",
       "  'n_estimators': 1000,\n",
       "  'objective': 'reg:linear'})"
      ]
     },
     "execution_count": 814,
     "metadata": {},
     "output_type": "execute_result"
    }
   ],
   "source": [
    "searcher_xgb.best_score_, searcher_xgb.best_params_"
   ]
  },
  {
   "cell_type": "code",
   "execution_count": 858,
   "id": "b01feb90",
   "metadata": {},
   "outputs": [
    {
     "name": "stdout",
     "output_type": "stream",
     "text": [
      "RMSE_train = 6.154332811182027\n",
      "RMSE_test = 30.298756909371342\n",
      "\n",
      "MAE_train = 4.6014253620885155\n",
      "MAE_test = 24.173510015578497\n",
      "\n",
      "MAPE_train = 0.01893596955808781\n",
      "MAPE_test = 0.06227161727585863\n"
     ]
    }
   ],
   "source": [
    "xgb = XGBRegressor(**searcher_xgb.best_params_)\n",
    "xgb.fit(X_train, y_train)\n",
    "xgb_preds = xgb.predict(X_test)\n",
    "\n",
    "print(f'RMSE_train = {mean_squared_error(y_train, xgb.predict(X_train), squared=False)}')\n",
    "print(f'RMSE_test = {mean_squared_error(y_test, xgb_preds, squared=False)}\\n')\n",
    "\n",
    "print(f'MAE_train = {mean_absolute_error(y_train, xgb.predict(X_train))}')\n",
    "print(f'MAE_test = {mean_absolute_error(y_test, xgb_preds)}\\n')\n",
    "\n",
    "print(f'MAPE_train = {mean_absolute_percentage_error(y_train, xgb.predict(X_train))}')\n",
    "print(f'MAPE_test = {mean_absolute_percentage_error(y_test, xgb_preds)}')"
   ]
  },
  {
   "cell_type": "code",
   "execution_count": 859,
   "id": "06057e03",
   "metadata": {},
   "outputs": [],
   "source": [
    "pickle.dump(xgb, open('demand_prediction.sav', 'wb'))"
   ]
  },
  {
   "cell_type": "code",
   "execution_count": 730,
   "id": "3b701506",
   "metadata": {},
   "outputs": [],
   "source": [
    "xgb_grid = xgb_grid.append({'n_estimators': 1, \n",
    "                            'learning_rate': 2, \n",
    "                            'mape': 3}, ignore_index=True)"
   ]
  },
  {
   "cell_type": "code",
   "execution_count": 736,
   "id": "3e1d5fd9",
   "metadata": {},
   "outputs": [
    {
     "name": "stdout",
     "output_type": "stream",
     "text": [
      "10 done\n",
      "20 done\n",
      "30 done\n",
      "40 done\n",
      "50 done\n",
      "60 done\n",
      "70 done\n",
      "80 done\n"
     ]
    }
   ],
   "source": [
    "xgb_grid = pd.DataFrame(columns=['n_estimators', 'learning_rate', 'mape'])\n",
    "\n",
    "count = 0\n",
    "for n_est in range(100, 1001, 100):\n",
    "    for lr in [0.01, 0.05, 0.07, 0.09, 0.1, 0.2, 0.3, 0.5]:\n",
    "        count += 1\n",
    "        model = XGBRegressor(booster='dart', \n",
    "                             objective='reg:linear',\n",
    "                             n_estimators=n_est,\n",
    "                             learning_rate=lr\n",
    "                            )\n",
    "        model.fit(X_train1, y_train1)\n",
    "        preds = model.predict(X_val)\n",
    "        mape = mean_absolute_percentage_error(preds, y_val)\n",
    "        xgb_grid = xgb_grid.append({'n_estimators': n_est, \n",
    "                                    'learning_rate': lr, \n",
    "                                    'mape': mape}, ignore_index=True)\n",
    "        if count % 10 == 0:\n",
    "            print(f'{count} done')"
   ]
  },
  {
   "cell_type": "code",
   "execution_count": 794,
   "id": "463acdce",
   "metadata": {},
   "outputs": [
    {
     "data": {
      "text/html": [
       "<div>\n",
       "<style scoped>\n",
       "    .dataframe tbody tr th:only-of-type {\n",
       "        vertical-align: middle;\n",
       "    }\n",
       "\n",
       "    .dataframe tbody tr th {\n",
       "        vertical-align: top;\n",
       "    }\n",
       "\n",
       "    .dataframe thead th {\n",
       "        text-align: right;\n",
       "    }\n",
       "</style>\n",
       "<table border=\"1\" class=\"dataframe\">\n",
       "  <thead>\n",
       "    <tr style=\"text-align: right;\">\n",
       "      <th></th>\n",
       "      <th>n_estimators</th>\n",
       "      <th>learning_rate</th>\n",
       "      <th>mape</th>\n",
       "    </tr>\n",
       "  </thead>\n",
       "  <tbody>\n",
       "    <tr>\n",
       "      <th>76</th>\n",
       "      <td>1000.0</td>\n",
       "      <td>0.1</td>\n",
       "      <td>0.146247</td>\n",
       "    </tr>\n",
       "  </tbody>\n",
       "</table>\n",
       "</div>"
      ],
      "text/plain": [
       "    n_estimators  learning_rate      mape\n",
       "76        1000.0            0.1  0.146247"
      ]
     },
     "execution_count": 794,
     "metadata": {},
     "output_type": "execute_result"
    }
   ],
   "source": [
    "xgb_grid[xgb_grid['mape'] == xgb_grid['mape'].min()]"
   ]
  },
  {
   "cell_type": "code",
   "execution_count": 669,
   "id": "6b246932",
   "metadata": {},
   "outputs": [
    {
     "data": {
      "text/plain": [
       "Index(['date', 'or_1yrbefore', 'or_2wbefore', 'year', 'month', 'day',\n",
       "       'day_of_week', 'week_of_year', 'book_approved_0dbefore',\n",
       "       'book_approved_1dbefore', 'book_approved_2dbefore',\n",
       "       'book_approved_3dbefore', 'book_approved_4dbefore',\n",
       "       'book_approved_5dbefore', 'book_approved_6dbefore',\n",
       "       'book_approved_7dbefore', 'bookings_0dbefore', 'bookings_1dbefore',\n",
       "       'bookings_2dbefore', 'bookings_3dbefore', 'bookings_4dbefore',\n",
       "       'bookings_5dbefore', 'bookings_6dbefore', 'bookings_7dbefore',\n",
       "       'checkouts_0dbefore', 'checkouts_1dbefore', 'checkouts_2dbefore',\n",
       "       'checkouts_3dbefore', 'checkouts_4dbefore', 'checkouts_5dbefore',\n",
       "       'checkouts_6dbefore', 'checkouts_7dbefore', 'target', 'hotel'],\n",
       "      dtype='object')"
      ]
     },
     "execution_count": 669,
     "metadata": {},
     "output_type": "execute_result"
    }
   ],
   "source": [
    "df_demand.columns"
   ]
  },
  {
   "cell_type": "code",
   "execution_count": null,
   "id": "4dc86714",
   "metadata": {},
   "outputs": [],
   "source": []
  }
 ],
 "metadata": {
  "kernelspec": {
   "display_name": "Python 3 (ipykernel)",
   "language": "python",
   "name": "python3"
  },
  "language_info": {
   "codemirror_mode": {
    "name": "ipython",
    "version": 3
   },
   "file_extension": ".py",
   "mimetype": "text/x-python",
   "name": "python",
   "nbconvert_exporter": "python",
   "pygments_lexer": "ipython3",
   "version": "3.8.0"
  }
 },
 "nbformat": 4,
 "nbformat_minor": 5
}
